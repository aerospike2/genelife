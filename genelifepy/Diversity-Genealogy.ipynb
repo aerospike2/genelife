{
 "cells": [
  {
   "cell_type": "markdown",
   "metadata": {},
   "source": [
    "## Initialize python imports, notebook window width,  and graphics window position\n",
    "Executed automatically on start or restart."
   ]
  },
  {
   "cell_type": "code",
   "execution_count": 1,
   "metadata": {},
   "outputs": [
    {
     "name": "stdout",
     "output_type": "stream",
     "text": [
      "Running with SDL version 2.0.9.\n"
     ]
    },
    {
     "data": {
      "text/html": [
       "<style>.container { width:100% !important; }</style>"
      ],
      "text/plain": [
       "<IPython.core.display.HTML object>"
      ]
     },
     "metadata": {},
     "output_type": "display_data"
    }
   ],
   "source": [
    "%gui osx\n",
    "import random as rand\n",
    "import numpy as np\n",
    "import genelife as g\n",
    "\n",
    "%matplotlib inline\n",
    "import matplotlib\n",
    "from matplotlib import pyplot as plt\n",
    "\n",
    "# \n",
    "from IPython.core.display import display, HTML\n",
    "display(HTML(\"<style>.container { width:100% !important; }</style>\"))     # sets input cells to use full window width\n",
    "\n",
    "from os import environ\n",
    "environ['SDL_VIDEO_WINDOW_POS'] = \"%d,%d\" % (1000,32)   # set position of pygame (SDL) video window (x,y) pixel coords, values work well on iMac\n",
    "\n",
    "import time\n",
    "\n",
    "from bayespy.nodes import Categorical, Dirichlet\n",
    "from bayespy.nodes import Beta\n",
    "from bayespy.nodes import Mixture, Bernoulli\n",
    "from bayespy.inference import VB  # variational Bayes inference engine\n",
    "import bayespy.plot as bpplt"
   ]
  },
  {
   "cell_type": "markdown",
   "metadata": {},
   "source": [
    "## Selection 11 Distance distinguishing LUT encoded by gene with variable length encoding"
   ]
  },
  {
   "cell_type": "code",
   "execution_count": 2,
   "metadata": {},
   "outputs": [
    {
     "name": "stderr",
     "output_type": "stream",
     "text": [
      "/Users/n/Projects/genelife/fastgenegol/genelifepy/genelife.py:388: ExperimentalWarning: 'pixels2d' is in an experimental state.\n",
      "  cgrid=sdl2.ext.pixels2d(surface)\n"
     ]
    }
   ],
   "source": [
    "# 11\n",
    "#  selection=11 LUT with appropriate parameters for survival\n",
    "#  this case uses the genes to encode the se (number of live edge-centred sites) and s dept rule tables for birth and survival\n",
    "#  a variable length encoding is used in the gene with 4+4 bits, 4-bits for the survival and birth s value as in 8, and 4 bits for the se value\n",
    "#  there are 1,2,3,4,5,4,3,2,1 configurations of se for s=0-8. Only 19 cases s=2-6 are lut allowed non-zero.\n",
    "#  birth is determined by the and of the live neighbour genes (and 19 bits of overwritemask) ie genecode\n",
    "#  survival is determined the and of the live neighbour genes (and 19 bits of survivalmask) ie genecode\n",
    "#  ncoding not used : only space for 1 bit per lut entry\n",
    "#  this example starts with only allowing GoL configurations : extend by adding more bits to survival and birth masks\n",
    "g.nrun=1; g.ndisp=1000; g.nskip=0; g.niter=1;# simulation time stepping parameters\n",
    "g.nhist = 0                                  # set to n to turn on histogram configurations every nth step\n",
    "g.nstat = 0                                  # set to n to turn on statistics trace every nth step\n",
    "g.rulemod = g.runparams[0] = 1               # 0,1 whether to allow GoL rule modifications\n",
    "                                             # with rulemod 1 2-live-nb birth, 3-live-nb non-birth & non-survival possible\n",
    "g.repscheme = g.runparams[1] = 0x0610        # repscheme bit 3 (val 0x8) determines whether random choice of ancestor amongst live neighbours\n",
    "                                             # repscheme mod 8 i.e. 0-7 determines selection scheme based on gene\n",
    "                                             # 0 minimum gene as value  # 1 maximum gene as value\n",
    "                                             # 2 minimum number of ones # 3 maximum number of ones\n",
    "                                             # 4 neutral selection # 5 neutral but different selection\n",
    "                                             # 6 penalty function -1 for a survival rule -2 for a birth rule  # 7 not allowed \n",
    "g.selection     = g.runparams[2] = 11        # fitness for 2 live neighbor rule : 0-6 see subgenelife.c code\n",
    "g.overwritemask = g.runparams[3] = 0xffff\n",
    "g.overwritemask = g.runparams[3] = 0x00\n",
    "g.birthmask    = g.runparams[7] = 0x000001e0 # for selection=10-13 this is the GoL birth mask\n",
    "g.birthmask    = g.runparams[7] = 0x000001e2 # for selection=10-13 this is the GoL birth mask\n",
    "g.birthmask    = g.runparams[7] = 0x000001e2 # for selection=10-13 this is the GoL birth mask\n",
    "g.birthmask    = g.runparams[4] = 0x0 # for selection=10-11 this is the GoL survival mask\n",
    "g.birthmask    = g.runparams[4] = 0x007fffff # for selection=10-11 this is the GoL survival mask\n",
    "g.survivalmask = g.runparams[4] = 0x000001fc # for selection=10-11 this is the GoL survival mask\n",
    "g.survivalmask = g.runparams[4] = 0x00000 # for selection=10-11 this is the GoL survival mask\n",
    "g.survivalmask = g.runparams[4] = 0x007fffff # for selection=10-11 this is the GoL survival mask\n",
    "\n",
    "\n",
    "\n",
    "g.colorfunction = g.runparams[5] = 0         # color function 0(hash), ≥1(fnal), 2 nongulstate or color gol planes, 3 notgolrul yellow\n",
    "                                             # 4 activities 5 genealogy steps 6 genealogy temporal 7 activity scaled colors\n",
    "g.initfield = g.runparams[6] = 100           # 1 init via 32x32 genepat.dat, n>1 init via nxn rand array\n",
    "g.nlog2pmut = g.simparams[0] = 8             # log2 gene mutation probability (0 or >56 means no mutation)\n",
    "g.initial1density = g.simparams[1] =  16384  # initial 1 density in GOL state\n",
    "                                             # 16384 = nearest to half of guaranteed C rand max value 32767 = 2**15 - 1\n",
    "g.initialrdensity = g.simparams[2] = 0       # initial density of random genes\n",
    "g.ncoding = g.simparams[3] = 1               # for selection 10, non zero value means grow plane community from 0\n",
    "                                             # otherwise (selection<10) no of bits used to encode valid connection functions 1-16\n",
    "                                             # for selection==8, lut, ncoding 1,2,3 bits per lut entry : 0 implies 3.\n",
    "g.startgenechoice = g.simparams[4] = 8       # initialize genes to startgene number 0-8 : 8 is random choice of 0-7\n",
    "\n",
    "g.genelife.initialize_planes(g.npoffsets)\n",
    "g.genelife.set_seed(2)\n",
    "g.genelife.initialize(g.runparams,g.simparams)\n",
    "g.framenr = 0\n",
    "g.cnt=0\n",
    "g.show0()\n",
    "# step()\n",
    "g.run(g.nrun, g.ndisp, g.nskip, g.niter, g.nhist, g.nstat, False)"
   ]
  },
  {
   "cell_type": "markdown",
   "metadata": {},
   "source": [
    "### Old 5.2, scissors paper well rock"
   ]
  },
  {
   "cell_type": "markdown",
   "metadata": {},
   "source": [
    "## get genealogy data"
   ]
  },
  {
   "cell_type": "code",
   "execution_count": 4,
   "metadata": {},
   "outputs": [],
   "source": [
    "gdepth = g.genelife.get_genealogydepth()\n",
    "nspecies = g.genelife.get_nspecies()\n",
    "gdat = np.zeros(gdepth*nspecies,dtype=g.genelife.genedtype)\n",
    "mxdepth = g.genelife.get_genealogies(gdat)"
   ]
  },
  {
   "cell_type": "code",
   "execution_count": 5,
   "metadata": {},
   "outputs": [
    {
     "data": {
      "text/plain": [
       "15968"
      ]
     },
     "execution_count": 5,
     "metadata": {},
     "output_type": "execute_result"
    }
   ],
   "source": [
    "len(gdat)"
   ]
  },
  {
   "cell_type": "code",
   "execution_count": 6,
   "metadata": {},
   "outputs": [],
   "source": [
    "gdat.shape = (nspecies,gdepth)"
   ]
  },
  {
   "cell_type": "code",
   "execution_count": 7,
   "metadata": {},
   "outputs": [
    {
     "data": {
      "text/plain": [
       "998"
      ]
     },
     "execution_count": 7,
     "metadata": {},
     "output_type": "execute_result"
    }
   ],
   "source": [
    "nspecies"
   ]
  },
  {
   "cell_type": "code",
   "execution_count": 14,
   "metadata": {
    "scrolled": true
   },
   "outputs": [
    {
     "data": {
      "text/plain": [
       "array([(  7, 191, 330,  -1,   5686, 0, 10971120536075058983, 10970839061098348327),\n",
       "       (  0, 176, 290, 293,  11761, 2, 10970839061098348327, 10394378308794924839),\n",
       "       (  0,  55, 298, 300,  12754, 3, 10394378308794924839, 10394378308727815975),\n",
       "       (  0,  41,  66,  68,    275, 2, 10394378308727815975, 10376363910218333991),\n",
       "       ( 73,  39, 330,  44,   2402, 2, 10376363910218333991,  1152991873363558183),\n",
       "       (  0,  17,  62,  64,    439, 1,  1152991873363558183,  1152921504619380519),\n",
       "       (  0,   2,  81,  95,   4167, 1,  1152921504619380519,             12533543),\n",
       "       (354,   0, 330,  -1, 104404, 0,             12533543, 18364758544493064720),\n",
       "       (  0,   0,   0,   0,      0, 0, 18364758544493064720,                    0),\n",
       "       (  0,   0,   0,   0,      0, 0, 18364758544493064720,                    0),\n",
       "       (  0,   0,   0,   0,      0, 0, 18364758544493064720,                    0),\n",
       "       (  0,   0,   0,   0,      0, 0, 18364758544493064720,                    0),\n",
       "       (  0,   0,   0,   0,      0, 0, 18364758544493064720,                    0),\n",
       "       (  0,   0,   0,   0,      0, 0, 18364758544493064720,                    0),\n",
       "       (  0,   0,   0,   0,      0, 0, 18364758544493064720,                    0),\n",
       "       (  0,   0,   0,   0,      0, 0, 18364758544493064720,                    0)],\n",
       "      dtype=[('popcount', '<u4'), ('firsttime', '<u4'), ('lasttime', '<u4'), ('lastextinctiontime', '<i4'), ('activity', '<u4'), ('nextinctions', '<u4'), ('gene', '<u8'), ('firstancestor', '<u8')])"
      ]
     },
     "execution_count": 14,
     "metadata": {},
     "output_type": "execute_result"
    }
   ],
   "source": [
    "idx = 50; \n",
    "gdat[idx]"
   ]
  },
  {
   "cell_type": "code",
   "execution_count": 15,
   "metadata": {},
   "outputs": [],
   "source": [
    "gdat = [[x for x in gdat[i] if x['gene']!= 0xfedcba9876543210] for i in range(len(gdat))]"
   ]
  },
  {
   "cell_type": "code",
   "execution_count": 19,
   "metadata": {},
   "outputs": [
    {
     "data": {
      "text/plain": [
       "[(7, 191, 330, -1, 5686, 0, 10971120536075058983, 10970839061098348327),\n",
       " (0, 176, 290, 293, 11761, 2, 10970839061098348327, 10394378308794924839),\n",
       " (0, 55, 298, 300, 12754, 3, 10394378308794924839, 10394378308727815975),\n",
       " (0, 41, 66, 68, 275, 2, 10394378308727815975, 10376363910218333991),\n",
       " (73, 39, 330, 44, 2402, 2, 10376363910218333991, 1152991873363558183),\n",
       " (0, 17, 62, 64, 439, 1, 1152991873363558183, 1152921504619380519),\n",
       " (0, 2, 81, 95, 4167, 1, 1152921504619380519, 12533543),\n",
       " (354, 0, 330, -1, 104404, 0, 12533543, 18364758544493064720)]"
      ]
     },
     "execution_count": 19,
     "metadata": {},
     "output_type": "execute_result"
    }
   ],
   "source": [
    "gdat[50]"
   ]
  },
  {
   "cell_type": "code",
   "execution_count": 18,
   "metadata": {},
   "outputs": [
    {
     "data": {
      "text/plain": [
       "[(354, 0, 330, -1, 104404, 0, 12533543, 18364758544493064720)]"
      ]
     },
     "execution_count": 18,
     "metadata": {},
     "output_type": "execute_result"
    }
   ],
   "source": [
    "gdat[50][-1:]"
   ]
  },
  {
   "cell_type": "code",
   "execution_count": 10,
   "metadata": {},
   "outputs": [
    {
     "data": {
      "text/plain": [
       "Text(0,0.5,'size of subpopulation')"
      ]
     },
     "execution_count": 10,
     "metadata": {},
     "output_type": "execute_result"
    },
    {
     "data": {
      "image/png": "[encoded data removed]",
      "text/plain": [
       "<Figure size 432x288 with 1 Axes>"
      ]
     },
     "metadata": {
      "needs_background": "light"
     },
     "output_type": "display_data"
    }
   ],
   "source": [
    "\n",
    "food = [len([i for i in range(len(gdat)) if len(gdat[i])==j]) for j in range(100)]\n",
    "plt.plot(food);\n",
    "plt.title('size of subpopulation vs. genealogy size')\n",
    "plt.xlabel('genealogy length')\n",
    "plt.ylabel('size of subpopulation')"
   ]
  },
  {
   "cell_type": "code",
   "execution_count": 15,
   "metadata": {},
   "outputs": [
    {
     "data": {
      "image/png": "[encoded data removed]",
      "text/plain": [
       "<Figure size 432x288 with 1 Axes>"
      ]
     },
     "metadata": {
      "needs_background": "light"
     },
     "output_type": "display_data"
    }
   ],
   "source": [
    "plt.plot(food[:50]);"
   ]
  },
  {
   "cell_type": "code",
   "execution_count": 24,
   "metadata": {},
   "outputs": [
    {
     "data": {
      "text/plain": [
       "18.659804983748643"
      ]
     },
     "execution_count": 24,
     "metadata": {},
     "output_type": "execute_result"
    }
   ],
   "source": [
    "foo=food; \n",
    "tot = sum(foo)\n",
    "foo = [x/tot for x in foo]\n",
    "sum([i*foo[i] for i in range(len(foo))])"
   ]
  },
  {
   "cell_type": "code",
   "execution_count": 20,
   "metadata": {},
   "outputs": [
    {
     "data": {
      "text/plain": [
       "1.0"
      ]
     },
     "execution_count": 20,
     "metadata": {},
     "output_type": "execute_result"
    }
   ],
   "source": [
    "sum(foo)"
   ]
  },
  {
   "cell_type": "code",
   "execution_count": 36,
   "metadata": {},
   "outputs": [
    {
     "data": {
      "text/plain": [
       "1922"
      ]
     },
     "execution_count": 36,
     "metadata": {},
     "output_type": "execute_result"
    }
   ],
   "source": [
    "g.genelife.get_curtime()"
   ]
  },
  {
   "cell_type": "code",
   "execution_count": 39,
   "metadata": {},
   "outputs": [],
   "source": [
    "heads = [gdat[i][0] for i in range(len(gdat)) if len(gdat[i])>0]\n",
    "#heads2 = [gdat[i][2] for i in range(1,len(gdat)) if len(gdat[i])>0]\n",
    "tails = [gdat[i][len(gdat[i])-1] for i in range(len(gdat)) if len(gdat[i])>0]"
   ]
  },
  {
   "cell_type": "code",
   "execution_count": 42,
   "metadata": {},
   "outputs": [],
   "source": [
    "uheads = list(set(heads))\n",
    "utails = list(set(tails))"
   ]
  },
  {
   "cell_type": "code",
   "execution_count": 41,
   "metadata": {},
   "outputs": [
    {
     "data": {
      "text/plain": [
       "['0xbf3f27']"
      ]
     },
     "execution_count": 41,
     "metadata": {},
     "output_type": "execute_result"
    }
   ],
   "source": [
    "[hex(x) for x in utails]"
   ]
  },
  {
   "cell_type": "markdown",
   "metadata": {},
   "source": [
    "## Mean genealogy length vs. time"
   ]
  },
  {
   "cell_type": "code",
   "execution_count": null,
   "metadata": {},
   "outputs": [],
   "source": [
    "g.nrun=1; g.ndisp=1000; g.nskip=0; g.niter=1;# simulation time stepping parameters\n",
    "g.nhist = 0                                  # set to n to turn on histogram configurations every nth step\n",
    "g.nstat = 0                                  # set to n to turn on statistics trace every nth step\n",
    "g.genelife.initialize(g.runparams,g.simparams)\n"
   ]
  },
  {
   "cell_type": "code",
   "execution_count": 40,
   "metadata": {},
   "outputs": [
    {
     "name": "stdout",
     "output_type": "stream",
     "text": [
      "0 8.805\n",
      "1 9.202\n",
      "2 8.752\n",
      "3 8.824\n",
      "4 8.905\n",
      "5 9.036\n",
      "6 10.985\n",
      "7 13.257\n",
      "8 11.106\n",
      "9 10.853\n",
      "10 10.211\n",
      "11 10.398\n",
      "12 10.042\n",
      "13 10.289\n",
      "14 9.925\n",
      "15 10.056\n",
      "16 10.308\n",
      "17 10.206\n",
      "18 10.395\n",
      "19 10.665\n",
      "20 10.494\n",
      "21 10.888\n",
      "22 11.109\n",
      "23 10.894\n",
      "24 11.084\n",
      "25 11.134\n",
      "26 11.234\n",
      "27 11.408\n",
      "28 11.369\n",
      "29 11.507\n",
      "30 11.736\n",
      "31 11.894\n",
      "32 11.777\n",
      "33 12.01\n",
      "34 11.895\n",
      "35 12.125\n",
      "36 12.159\n",
      "37 12.632\n",
      "38 12.483\n",
      "39 12.638\n",
      "40 12.6\n",
      "41 12.7\n",
      "42 13.128\n",
      "43 12.765\n",
      "44 13.362\n",
      "45 13.245\n",
      "46 15.033\n",
      "47 13.396\n",
      "48 14.41\n",
      "49 13.444\n"
     ]
    }
   ],
   "source": [
    "gmn = []\n",
    "now=time.time()\n",
    "for i in range(50):\n",
    "    g.genelife.genelife_update(100,0,0)\n",
    "    gdepth = g.genelife.get_genealogydepth()\n",
    "    nspecies = g.genelife.get_nspecies()\n",
    "    gdat = np.zeros(gdepth*nspecies,dtype=g.genelife.c_uint64)\n",
    "    mxdepth = g.genelife.get_genealogies(gdat)\n",
    "    gdat.shape = (nspecies,gdepth)\n",
    "    gdat = [[x for x in gdat[i] if x!= 0xfedcba9876543210] for i in range(len(gdat))]\n",
    "    food = [len([i for i in range(len(gdat)) if len(gdat[i])==j]) for j in range(100)]\n",
    "    tot = sum(food)\n",
    "    food = [x/tot for x in food]\n",
    "    gmn.append(sum([i*food[i] for i in range(len(food))]))    \n",
    "    print(i,round(time.time()-now,3))\n",
    "    now = time.time()\n"
   ]
  },
  {
   "cell_type": "code",
   "execution_count": 43,
   "metadata": {},
   "outputs": [],
   "source": [
    "import seaborn as sb\n",
    "sb.set()"
   ]
  },
  {
   "cell_type": "code",
   "execution_count": 44,
   "metadata": {},
   "outputs": [
    {
     "data": {
      "text/plain": [
       "Text(0,0.5,'mean genealogy length')"
      ]
     },
     "execution_count": 44,
     "metadata": {},
     "output_type": "execute_result"
    },
    {
     "data": {
      "image/png": "[encoded data removed]",
      "text/plain": [
       "<Figure size 432x288 with 1 Axes>"
      ]
     },
     "metadata": {},
     "output_type": "display_data"
    }
   ],
   "source": [
    "plt.plot(range(0,5000,100),gmn);\n",
    "plt.xlabel('time')\n",
    "plt.ylabel('mean genealogy length')"
   ]
  },
  {
   "cell_type": "code",
   "execution_count": null,
   "metadata": {},
   "outputs": [],
   "source": []
  }
 ],
 "metadata": {
  "celltoolbar": "Initialization Cell",
  "hide_input": false,
  "kernelspec": {
   "display_name": "Python 3",
   "language": "python",
   "name": "python3"
  },
  "language_info": {
   "codemirror_mode": {
    "name": "ipython",
    "version": 3
   },
   "file_extension": ".py",
   "mimetype": "text/x-python",
   "name": "python",
   "nbconvert_exporter": "python",
   "pygments_lexer": "ipython3",
   "version": "3.7.4"
  },
  "toc": {
   "base_numbering": 1,
   "nav_menu": {},
   "number_sections": true,
   "sideBar": true,
   "skip_h1_title": false,
   "title_cell": "Table of Contents",
   "title_sidebar": "Contents",
   "toc_cell": false,
   "toc_position": {
    "height": "855.2756958007812px",
    "left": "29.981616973876953px",
    "top": "116.36029052734375px",
    "width": "320.96875px"
   },
   "toc_section_display": true,
   "toc_window_display": true
  }
 },
 "nbformat": 4,
 "nbformat_minor": 2
}
