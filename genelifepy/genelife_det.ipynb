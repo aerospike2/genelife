{
 "cells": [
  {
   "cell_type": "markdown",
   "metadata": {},
   "source": [
    "# 1. Initialize python imports, notebook window width,  and graphics window position\n",
    "Should be executed automatically on start or restart, but isn't reliably. \n",
    "\n",
    "Keyboard shortcuts can be edited to use the sequence \"ESC 0 9 ESC 0 i\" to restart, clear all output and run all initialization cells successively.\n",
    "Using ESC 0 0 instead of ESC 0 9 retains the output."
   ]
  },
  {
   "cell_type": "code",
   "execution_count": 1,
   "metadata": {
    "init_cell": true
   },
   "outputs": [
    {
     "name": "stdout",
     "output_type": "stream",
     "text": [
      "Running with SDL version 2.0.9.\n"
     ]
    },
    {
     "data": {
      "text/html": [
       "<style>.container { width:100% !important; }</style>"
      ],
      "text/plain": [
       "<IPython.core.display.HTML object>"
      ]
     },
     "metadata": {},
     "output_type": "display_data"
    }
   ],
   "source": [
    "## %gui osx\n",
    "import random as rand\n",
    "import numpy as np\n",
    "import genelife as g\n",
    "\n",
    "%matplotlib inline\n",
    "import matplotlib\n",
    "from matplotlib import pyplot as plt\n",
    "\n",
    "# import pygame as pg # already done in genelife\n",
    "from IPython.core.display import display, HTML\n",
    "display(HTML(\"<style>.container { width:100% !important; }</style>\"))     # sets input cells to use full window width\n",
    "\n",
    "from os import environ\n",
    "environ['SDL_VIDEO_WINDOW_POS'] = \"%d,%d\" % (1000,32)   # set position of pygame (SDL) video window (x,y) pixel coords, values work well on iMac"
   ]
  },
  {
   "cell_type": "markdown",
   "metadata": {},
   "source": [
    "# 2. Rebuilding with new array size\n",
    "Execute the following cell with the new size edited in. Note that array sizes must be a power of 2.\n",
    "Then remember to restart the kernel to load the newly compiled library.     You are then ready to execute examples in the new size."
   ]
  },
  {
   "cell_type": "code",
   "execution_count": null,
   "metadata": {},
   "outputs": [],
   "source": [
    "#  e.g. new size is 2^log2N where log2N is entered here      -.-\n",
    "!sed -i -e 's/log2N = [0-9]*[0-9]/log2N = 9/' ../genelifec/genelife_size.h\n",
    "import platform\n",
    "if platform.system() == 'Darwin':\n",
    "    !xcodebuild -project ../genelife.xcodeproj -scheme genelife build\n",
    "elif platform.system() == 'Linux':\n",
    "    ! bash ./make-files.sh\n",
    "else:\n",
    "    print(\"Not compatible with Windows or other operating systems\")\n",
    "    print(\"So you will need to recompile the C library externally\")"
   ]
  },
  {
   "cell_type": "markdown",
   "metadata": {},
   "source": [
    "# 3. Graphics notes"
   ]
  },
  {
   "cell_type": "markdown",
   "metadata": {},
   "source": [
    "This notebook uses the SDL2 interface.\n",
    "\n",
    "It pops up two SDL2 windows (labeled \"Gene Life\"), which must be moved to the side to see the notebook.\n",
    "\n",
    "To stop the simulation mid-stream, you can OPTION click on either SDL2 window, click in the window. \n",
    "\n",
    "Simulations can be restarted using run() and the current timestep can be investigated graphically by calling run with updatesenabled = False. Initial state display with show0() and single stepping with step() are possible. \n",
    "\n",
    "The caption contains information about current state and mode.\n",
    "\n",
    "Clicking on the window will give mouse position dependent information about local state.\n",
    "\n",
    "Color is currently a 32 bit hash of the 64 bit gene value in colorfunction mode 0. There are 12 display modes accessible via left,right,up,down arrow keys:\n",
    "The two windows can be assigned different colorfunction modes: but they start out locked (colorfunction2=-1)until an up/down key is pressed.\n",
    "    0 Randomly hashed colors based on gene value\n",
    "    1 Functional coloring - differs according to selection model : Overlay of non GoL rule cases in yellow\n",
    "    2 Colouring by s value : in increasing shades of green/blue for central 0/1 gol state\n",
    "    3 Colouring by processing state golgstats: (leading bits 7,6,5 determine brightness 7: bright 6: medium 5: dark)\n",
    "         green: bright: mutation                  medium:  birth          dark: parent\n",
    "         blue:  bright: survival or disambig used medium: parent dies     dark: normal death\n",
    "         red:   bright: parentaldeath             medium: non golchange   dark: not gol rule\n",
    "    4 Activity plot scaled as activity/(activity+ymax) with interactive */ 2 for ymax\n",
    "    5 Population plot scaled as popln/(popln+ymax/10) with interactive */ 2 for ymax\n",
    "    6 Genealogies of N most populated genes : 1 pixel/ancestral change (ancestor at top)\n",
    "    7 Genealogies of N most pop'd genes: with vertical time from start, colors as in mode 0 rescaled by activity\n",
    "    8 Glider detect: diff in packed 3-nbhoods with (dx,dy,dt), for (0,0,0) all 1-nbs with dt=-1 \n",
    "    9 Connected component labelling with optimal matching to previous time step, \"n\" toggles novelty filter\n",
    "    10 Activity plot for quadtree patterns of connected components (scaled as in 4) \n",
    "    11 Gene ancestors at chosen genealogical depth genealogycoldepth (under +/- control starting at 0), colored as in 0\n",
    "    12 Glider detection using genetic displacement record\n",
    "\n",
    "To change resolution N: (only powers of 2 are allowed, typically 8,9,10 for N=256,512,1024)\n",
    "* change `subgenelife.c` line 17 (`log2N`) and rebuild c lib [we utilize the efficiency gains of N fixed as power of two at compile time]\n",
    "\n",
    "Quadrant modes (keys Q,q,alt-q) are available for evolving parameters (selection < 8).\n",
    "\n",
    "Horizon mode (toggle with key r) couples with strictly GoL rules in upper (sky) half-plane (selection < 8). Idea is that teeming life in the sea (lower halfplane) may evolve to colonize the sky (upper halfplane)."
   ]
  },
  {
   "cell_type": "markdown",
   "metadata": {},
   "source": [
    "# 4. Initialization"
   ]
  },
  {
   "cell_type": "markdown",
   "metadata": {},
   "source": [
    "See additional discussion in the [genelife wiki](https://github.com/js1200/genelife/wiki/Probability-parameters-in-genelife).\n",
    "\n",
    "Parameter `rulemod` determines if genes are affecting the GOL dynamics at all.\n",
    "* `rulemod == 0` => Genes have no affect; GOL dynamics prevail.  \n",
    "* `rulemod == 1` => Genes alter GOL dynamics.\n",
    "\n",
    "Parameter `repscheme` controls possible replication schemes for birth in the case of 3 live neighbours.  For 3 live neighbours, a unique one may be chosen deterministically in 2 ways:  (i) most different, and (ii) a particular nbr (0th) of a canonical rotation.  \n",
    "\n",
    "Consider two cases, `repscheme bit 0 unset` and `repscheme bit 0 set`, and for each of these consider when `repscheme bit 1` is unset and set:\n",
    "\n",
    "* `repscheme bit 0 unset`\n",
    "    * `repscheme == 0` => use most different of the 3 live nbrs as ancestor\n",
    "    * `repscheme == 2` => use 0th nbr of canonical rotation as ancestor\n",
    "* `repscheme bit 0 set`\n",
    "    * `repscheme == 1` => apply selection to complement pair of most different of the 3 live nbrs.\n",
    "    * `repscheme == 3` => apply selection to complement pair of 0th nbr of canonical rotation\n",
    "\n",
    "The `selection` parameter provides a choice between a variety of deterministic schemes to choose between two possible ancestors, either in the case of birth from 2 live neighbours or the two cases of birth from 3 live neighbours with `repscheme bit 0` set.\n",
    "* `selection == 0` larger integer value determines survival\n",
    "* `selection == 1` larger number of 1's \n",
    "* `selection == 2` paper-scissors-rock-well\n",
    "* `selection == 3` selection based on closeness to one of the two difft targets (ncoding bits apart)\n",
    "* `selection == 4` selection based on closeness of g0 to 0x0 and g1 to all 1's; for birth distances must satisfy `d0<ncoding`, `d1<ncoding`, and `dd=D(g0,g1) < ncoding.`  `ncoding>55` for any exceptions.\n",
    "* `selection == 5` Predator prey: prey goes toward all 0's, predator goes toward all 1's.  N1(g)<32 => prey; birth if different and at least one prey; both prey => prey with less 1's wins, prey-predator => predator wins.\n",
    "\n",
    "Parameter `nlog2pmut` fixes mutation probability.  `nlog2pmut` takes integer values, label them $k$; then  $p_{\\rm mut} = 2^{-k}$"
   ]
  },
  {
   "cell_type": "markdown",
   "metadata": {},
   "source": [
    "The simulation is set up to display for `ndisp` time steps, run without display for `nskip` time steps, and repeat, up to a total of `niter*ndisp` frames displayed (`niter*(ndisp+nskip)` total time steps):\n",
    "\n",
    "|---`ndisp`---|------------------`nskip`---------------| ... repeated for `niter` times\n"
   ]
  },
  {
   "cell_type": "code",
   "execution_count": null,
   "metadata": {},
   "outputs": [],
   "source": [
    "# we avoid text in the graphics window because of resolution issues\n",
    "# if one needs text in Graphics Window proceed as follows: note that with 2x scaling the quality is poor because of pixelation    \n",
    "# font rending for text at position : note result not ideal because of 2x scaling\n",
    "#\n",
    "# from pygame.locals import * \n",
    "# pg.font.init()\n",
    "# default_font = pg.font.get_default_font()\n",
    "# font_renderer = pg.font.Font(default_font, 7)\n",
    "#\n",
    "# example of text for a button   \n",
    "# white = (200,200,200)\n",
    "# labeltext = [font_renderer.render(\"%d\" % (j*2,), 0, white) for j in range(5)]\n",
    "# labeltext.append(font_renderer.render(\"S\", 0, white))\n",
    "# labeltext.append(font_renderer.render(\"O\", 0, white))\n",
    "# ncanon10s=['2s','3s','4s','5s','6s','2b','3b','4b','5b','6b']\n",
    "# labeltext10 = [font_renderer.render(ncanon9s[j], 0, white) for j in range(len(ncanon9))]\n",
    "# scr.blit(labeltext[j], (k*8,Height))           # transfer text to surface"
   ]
  },
  {
   "cell_type": "markdown",
   "metadata": {},
   "source": [
    "# 5. Running"
   ]
  },
  {
   "cell_type": "markdown",
   "metadata": {},
   "source": [
    "## 5.1 Example:  selection=4 cooperative birth"
   ]
  },
  {
   "cell_type": "code",
   "execution_count": null,
   "metadata": {},
   "outputs": [],
   "source": [
    "# 4\n",
    "#  selection=4 cooperative birth between near-0 and near-1 sequences with appropriate parameters for survival\n",
    "#  Note that since two different sequences that cannot mutate directly into oneanother are required, birth is difficult\n",
    "#  The system needs some non selective birth to proliferate : enforce birth with repscheme bits 3,4\n",
    "#  The value of ncoding must be large, 24 or so, or non-specific replication takes over.\n",
    "#  Color scheme: green near 0, read near 1, white neither. Near means within ncoding bits. \n",
    "g.nrun=1; g.ndisp=200; g.nskip=0; g.niter=100; # simulation time stepping parameters : set nskip=800 for faster long time\n",
    "#nrun=1; ndisp=1; nskip=0; niter=1;          # single step\n",
    "g.nhist = 0                                  # set to n to turn on histogram configurations every nth step\n",
    "g.nstat = 0                                  # set to n to turn on statistics trace every nth step\n",
    "g.rulemod = g.runparams[0] = 1               # 0,1 whether to allow GoL rule modifications\n",
    "g.repscheme = g.runparams[1] = 0x03          # 0-1f: bit 0 on allow selection in 3 live nb configs, bit 1 on most difft vs 0 bit of canonical rotation\n",
    "g.selection = g.runparams[2] = 4             # fitness for 2 live neighbor rule : 0-6 see subgenelife.c code\n",
    "g.overwritemask = g.runparams[3] = 3         # mask of 2 bits to overwrite instead of survival for 3(bit0) or 2(bit1) live nbs\n",
    "g.survivalmask = g.runparams[4] = 2          # survive mask for two (bit 1) and three (bit 0) live neighbours : GoL = 3\n",
    "g.colorfunction = g.runparams[5] = 7         # color function 0-8\n",
    "g.initfield = g.runparams[6] = 200           # 1 init via 32x32 genepat.dat, n>1 init via nxn rand array\n",
    "g.nlog2pmut = g.simparams[0] = 7             # log2 gene mutation probability if <32, otherwise prob is val/2^-32 (0->0 prob)\n",
    "g.initial1density = g.simparams[1] = 16384   # initial 1 density in GOL state\n",
    "g.initialrdensity = g.simparams[2] = 0       # initial density of random genes\n",
    "g.ncoding = g.simparams[3] = 12              # no of bits away from targets and each other allowed for match\n",
    "g.startgenechoice = g.simparams[4] = 8       # initialize genes to startgene number 0-8 : 8 is random choice of 0-7\n",
    "\n",
    "g.repscheme=g.packrepscheme(g.repscheme,g.survivalmask,g.overwritemask) # packs bits together for compact display and image names\n",
    "g.genelife.initialize_planes(g.npoffsets)      # genelife is the C interface module genelife_update_module\n",
    "g.genelife.initialize(g.runparams,g.simparams)\n",
    "g.framenr = 0\n",
    "g.cnt=0\n",
    "g.show0(False)\n",
    "# step(False)\n",
    "g.run(g.nrun, g.ndisp, g.nskip, g.niter, g.nhist, g.nstat, True)"
   ]
  },
  {
   "cell_type": "markdown",
   "metadata": {},
   "source": [
    "## 5.2 Example:  selection=2 scissors-stone-well-paper"
   ]
  },
  {
   "cell_type": "code",
   "execution_count": 7,
   "metadata": {},
   "outputs": [
    {
     "name": "stdout",
     "output_type": "stream",
     "text": [
      "step 135 colorfunction changed to 1\n",
      "step 154 colorfunction changed to 2\n",
      "step 180 colorfunction changed to 3\n",
      "step 195 colorfunction changed to 4\n",
      "step 203 colorfunction changed to 5\n",
      "step 220 colorfunction changed to 6\n",
      "step 252 colorfunction changed to 7\n",
      "step 274 colorfunction changed to 8\n"
     ]
    }
   ],
   "source": [
    "# 2\n",
    "#  selection=2 scissors-stone-well-paper\n",
    "#  Note that sequences must differ for replication unless it is forced.\n",
    "#  \n",
    "#  Color scheme: four different classes are red, green, blue and white\n",
    "g.nrun=1; g.ndisp=1000; g.nskip=0; g.niter=100;  # simulation time stepping parameters\n",
    "#nrun=1; ndisp=1; nskip=0; niter=1;         # single step\n",
    "g.nhist = 10                                # set to n to turn on histogram configurations every nth step\n",
    "g.nstat = 10                                # set to n to turn on statistics trace every nth step\n",
    "g.rulemod = g.runparams[0] = 1              # 0,1 whether to allow GoL rule modifications\n",
    "                                            # with rulemod 1 2-live-nb birth, 3-live-nb non-birth & non-survival possible\n",
    "g.repscheme = g.runparams[1] = 0x0002       # bits 0 to 20 code for mostly independent binary options\n",
    "g.selection = g.runparams[2] = 2            # fitness for 2 live neighbor rule : 0-6 see subgenelife.c code\n",
    "g.overwritemask = g.runparams[3] = 3        # mask of 2 bits to overwrite instead of survival for 3(bit0) or 2(bit1) live nbs\n",
    "g.survivalmask = g.runparams[4] = 0         # survive mask for two (bit 1) and three (bit 0) live neighbours : GoL = 3\n",
    "g.colorfunction = g.runparams[5] = 0        # color function 0(hash), ≥1(fnal), 2 nongolchg yellow, 3 notgolrul yellow\n",
    "g.initfield = g.runparams[6] = 100          # 1 init via 32x32 genepat.dat, n>1 init via nxn rand array\n",
    "g.nlog2pmut = g.simparams[0] = 8            # log2 gene mutation probability (0 or >56 means no mutation)\n",
    "g.initial1density = g.simparams[1] = 8192   # initial 1 density in GOL state\n",
    "                                            # 16384 = nearest to half of guaranteed C rand max value 32767 = 2**15 - 1\n",
    "g.initialrdensity = g.simparams[2] = 0          # initial density of random genes\n",
    "g.ncoding = g.simparams[3] = 0                  # no of bits used to encode valid connection functions 1-16\n",
    "g.startgenechoice = g.simparams[4] = 8          # initialize genes to startgene number 0-8 : 8 is random choice of 0-7\n",
    "\n",
    "g.genelife.initialize_planes(g.npoffsets)\n",
    "g.genelife.initialize(g.runparams,g.simparams)\n",
    "g.framenr = 0\n",
    "g.cnt=0\n",
    "g.rescale = True                            # if true, windows rescaled to 2x if possible (<= 512 in size), must restart kernel to change\n",
    "g.show0(False)\n",
    "#g.step()\n",
    "g.run(g.nrun, g.ndisp, g.nskip, g.niter, g.nhist, g.nstat, False)"
   ]
  },
  {
   "cell_type": "markdown",
   "metadata": {},
   "source": [
    "### 5.2.2 Ongoing pattern evolution with no mutation : deterministic evolution"
   ]
  },
  {
   "cell_type": "code",
   "execution_count": 6,
   "metadata": {},
   "outputs": [
    {
     "name": "stdout",
     "output_type": "stream",
     "text": [
      "image saved ./images/genelife_sel02_t508_r00000002_s008_c10.jpeg\n",
      "image saved ./images/genelife_sel02_t508_r00000002_s009_c00.jpeg\n",
      "step 508 colorfunction changed to 12\n",
      "image saved ./images/genelife_sel02_t508_r00000002_s010_c12.jpeg\n",
      "step 508 colorfunction changed to 11\n",
      "step 508 colorfunction changed to 10\n",
      "step 508 colorfunction changed to 11\n",
      "step 508 colorfunction changed to 10\n",
      "step 508 colorfunction changed to 9\n",
      "image saved ./images/genelife_sel02_t508_r00000002_s011_c09.jpeg\n",
      "image saved ./images/genelife_sel02_t1002_r00000002_s012_c09.jpeg\n",
      "image saved ./images/genelife_sel02_t1002_r00000002_s013_c10.jpeg\n",
      "step 1002 colorfunction2 changed to 11\n",
      "step 1002 colorfunction2 changed to 12\n",
      "image saved ./images/genelife_sel02_t1002_r00000002_s014_c12.jpeg\n",
      "step 1002 colorfunction2 changed to 11\n",
      "image saved ./images/genelife_sel02_t1002_r00000002_s015_c11.jpeg\n",
      "step 1002 colorfunction2 changed to 12\n",
      "step 1002 colorfunction2 changed to -1\n",
      "step 1002 colorfunction2 changed to 12\n",
      "step 1002 colorfunction2 changed to -1\n",
      "step 1002 colorfunction2 changed to 0\n",
      "step 1002 colorfunction2 changed to 1\n",
      "step 1002 colorfunction2 changed to 2\n",
      "step 1002 colorfunction2 changed to 3\n",
      "step 1002 colorfunction2 changed to 2\n",
      "image saved ./images/genelife_sel02_t1002_r00000002_s016_c02.jpeg\n",
      "step 1002 colorfunction2 changed to 3\n",
      "step 1002 colorfunction2 changed to 4\n",
      "step 1002 colorfunction2 changed to 5\n",
      "step 1002 colorfunction2 changed to 6\n",
      "step 1002 colorfunction2 changed to 5\n",
      "step 1002 colorfunction2 changed to 6\n",
      "step 1002 colorfunction2 changed to 5\n",
      "step 1002 colorfunction2 changed to 6\n",
      "step 1002 colorfunction2 changed to 7\n",
      "step 1002 colorfunction2 changed to 8\n",
      "image saved ./images/genelife_sel02_t1002_r00000002_s017_c08.jpeg\n",
      "step 1002 colorfunction2 changed to 9\n",
      "step 1002 colorfunction2 changed to 10\n",
      "step 1002 colorfunction2 changed to 11\n",
      "step 1002 colorfunction2 changed to 12\n",
      "step 1002 colorfunction2 changed to -1\n",
      "step 1002 colorfunction2 changed to 0\n",
      "image saved ./images/genelife_sel02_t1002_r00000002_s018_c00.jpeg\n",
      "step 1002 colorfunction2 changed to 1\n",
      "image saved ./images/genelife_sel02_t1002_r00000002_s019_c01.jpeg\n",
      "step 1002 colorfunction2 changed to 2\n",
      "step 1002 colorfunction2 changed to 3\n",
      "step 1002 colorfunction2 changed to 4\n",
      "step 1002 colorfunction2 changed to 5\n",
      "step 1002 colorfunction2 changed to 6\n",
      "step 1002 colorfunction2 changed to 7\n",
      "step 1002 colorfunction2 changed to 8\n",
      "step 1002 colorfunction2 changed to 9\n",
      "step 1002 colorfunction2 changed to 10\n",
      "step 1002 colorfunction2 changed to 11\n",
      "step 1002 colorfunction2 changed to 12\n",
      "step 1002 colorfunction2 changed to -1\n",
      "image saved ./images/genelife_sel02_t10066_r00000002_s020_c09.jpeg\n",
      "step 10066 colorfunction2 changed to 12\n",
      "step 10066 colorfunction2 changed to -1\n",
      "step 10066 colorfunction changed to 8\n",
      "image saved ./images/genelife_sel02_t10066_r00000002_s021_c08.jpeg\n",
      "step 10066 colorfunction changed to 9\n",
      "step 10066 colorfunction changed to 10\n",
      "image saved ./images/genelife_sel02_t10066_r00000002_s022_c10.jpeg\n",
      "step 10066 colorfunction changed to 11\n",
      "step 10066 colorfunction changed to 12\n",
      "image saved ./images/genelife_sel02_t10066_r00000002_s023_c12.jpeg\n",
      "step 10066 colorfunction changed to 0\n",
      "image saved ./images/genelife_sel02_t10066_r00000002_s024_c00.jpeg\n",
      "step 10066 colorfunction changed to 1\n",
      "image saved ./images/genelife_sel02_t10066_r00000002_s025_c01.jpeg\n",
      "step 10066 colorfunction changed to 2\n",
      "image saved ./images/genelife_sel02_t10066_r00000002_s026_c02.jpeg\n",
      "step 10066 colorfunction changed to 3\n",
      "step 10066 colorfunction changed to 4\n",
      "step 10066 colorfunction changed to 5\n",
      "step 10066 colorfunction changed to 4\n",
      "step 10066 colorfunction changed to 5\n",
      "step 10066 colorfunction changed to 6\n",
      "step 10066 colorfunction changed to 7\n",
      "step 10066 colorfunction changed to 8\n",
      "step 10066 colorfunction changed to 9\n",
      "step 10066 colorfunction changed to 8\n",
      "step 10066 colorfunction changed to 7\n",
      "step 10066 colorfunction changed to 6\n",
      "step 10066 colorfunction changed to 5\n",
      "step 10066 colorfunction changed to 4\n",
      "step 10066 colorfunction changed to 3\n",
      "step 10066 colorfunction changed to 4\n",
      "step 10066 colorfunction changed to 5\n",
      "step 10066 colorfunction changed to 6\n",
      "step 10066 colorfunction changed to 7\n",
      "step 10066 colorfunction changed to 8\n",
      "step 10066 colorfunction changed to 9\n",
      "step 10066 colorfunction changed to 10\n",
      "step 10066 colorfunction changed to 11\n",
      "step 10066 colorfunction changed to 12\n",
      "step 10066 colorfunction changed to 0\n",
      "step 10066 colorfunction changed to 1\n",
      "step 10066 colorfunction changed to 2\n",
      "step 10066 colorfunction changed to 3\n",
      "step 10066 colorfunction changed to 4\n",
      "step 10066 colorfunction changed to 5\n",
      "step 10066 colorfunction changed to 6\n",
      "step 10066 colorfunction changed to 7\n",
      "step 10066 pixel data (302,302) gene fedcba9876543210\n"
     ]
    }
   ],
   "source": [
    "# 2\n",
    "#  selection=2 scissors-stone-well-paper\n",
    "#  Note that sequences must differ for replication unless it is forced.\n",
    "#  \n",
    "#  Color scheme: four different classes are red, green, blue and white\n",
    "g.nrun=1; g.ndisp=1000; g.nskip=0; g.niter=100;  # simulation time stepping parameters\n",
    "#nrun=1; ndisp=1; nskip=0; niter=1;         # single step\n",
    "g.nhist = 10                                # set to n to turn on histogram configurations every nth step\n",
    "g.nstat = 10                                # set to n to turn on statistics trace every nth step\n",
    "g.rulemod = g.runparams[0] = 1              # 0,1 whether to allow GoL rule modifications\n",
    "                                            # with rulemod 1 2-live-nb birth, 3-live-nb non-birth & non-survival possible\n",
    "g.repscheme = g.runparams[1] = 0x0002       # bits 0 to 20 code for mostly independent binary options\n",
    "g.selection = g.runparams[2] = 2            # fitness for 2 live neighbor rule : 0-6 see subgenelife.c code\n",
    "g.overwritemask = g.runparams[3] = 3        # mask of 2 bits to overwrite instead of survival for 3(bit0) or 2(bit1) live nbs\n",
    "g.survivalmask = g.runparams[4] = 0         # survive mask for two (bit 1) and three (bit 0) live neighbours : GoL = 3\n",
    "g.colorfunction = g.runparams[5] = 0        # color function 0(hash), ≥1(fnal), 2 nongolchg yellow, 3 notgolrul yellow\n",
    "g.initfield = g.runparams[6] = 100          # 1 init via 32x32 genepat.dat, n>1 init via nxn rand array\n",
    "g.nlog2pmut = g.simparams[0] = 0            # log2 gene mutation probability (0 or >56 means no mutation)\n",
    "g.initial1density = g.simparams[1] = 8192   # initial 1 density in GOL state\n",
    "                                            # 16384 = nearest to half of guaranteed C rand max value 32767 = 2**15 - 1\n",
    "g.initialrdensity = g.simparams[2] = 0          # initial density of random genes\n",
    "g.ncoding = g.simparams[3] = 0                  # no of bits used to encode valid connection functions 1-16\n",
    "g.startgenechoice = g.simparams[4] = 8          # initialize genes to startgene number 0-8 : 8 is random choice of 0-7\n",
    "\n",
    "g.genelife.initialize_planes(g.npoffsets)\n",
    "g.genelife.initialize(g.runparams,g.simparams)\n",
    "g.framenr = 0\n",
    "g.cnt=0\n",
    "g.rescale = True                            # if true, windows rescaled to 2x if possible (<= 512 in size), must restart kernel to change\n",
    "g.show0(False)\n",
    "#g.step()\n",
    "g.run(g.nrun, g.ndisp, g.nskip, g.niter, g.nhist, g.nstat, False)"
   ]
  },
  {
   "cell_type": "code",
   "execution_count": 10,
   "metadata": {},
   "outputs": [
    {
     "name": "stdout",
     "output_type": "stream",
     "text": [
      "step 10010 collected trace of nnovelcells\n"
     ]
    }
   ],
   "source": [
    "# 2\n",
    "#  selection=2 scissors-stone-well-paper\n",
    "#  Note that sequences must differ for replication unless it is forced.\n",
    "#  \n",
    "#  Color scheme: four different classes are red, green, blue and white\n",
    "g.nrun=1; g.ndisp=1000; g.nskip=0; g.niter=100;  # simulation time stepping parameters\n",
    "#nrun=1; ndisp=1; nskip=0; niter=1;         # single step\n",
    "g.nhist = 10                                # set to n to turn on histogram configurations every nth step\n",
    "g.nstat = 10                                # set to n to turn on statistics trace every nth step\n",
    "g.rulemod = g.runparams[0] = 1              # 0,1 whether to allow GoL rule modifications\n",
    "                                            # with rulemod 1 2-live-nb birth, 3-live-nb non-birth & non-survival possible\n",
    "g.repscheme = g.runparams[1] = 0x0002       # bits 0 to 20 code for mostly independent binary options\n",
    "g.selection = g.runparams[2] = 2            # fitness for 2 live neighbor rule : 0-6 see subgenelife.c code\n",
    "g.overwritemask = g.runparams[3] = 3        # mask of 2 bits to overwrite instead of survival for 3(bit0) or 2(bit1) live nbs\n",
    "g.survivalmask = g.runparams[4] = 0         # survive mask for two (bit 1) and three (bit 0) live neighbours : GoL = 3\n",
    "g.colorfunction = g.runparams[5] = 0        # color function 0(hash), ≥1(fnal), 2 nongolchg yellow, 3 notgolrul yellow\n",
    "g.initfield = g.runparams[6] = 100          # 1 init via 32x32 genepat.dat, n>1 init via nxn rand array\n",
    "g.nlog2pmut = g.simparams[0] = 0            # log2 gene mutation probability (0 or >56 means no mutation)\n",
    "g.initial1density = g.simparams[1] = 8192   # initial 1 density in GOL state\n",
    "                                            # 16384 = nearest to half of guaranteed C rand max value 32767 = 2**15 - 1\n",
    "g.initialrdensity = g.simparams[2] = 0          # initial density of random genes\n",
    "g.ncoding = g.simparams[3] = 0                  # no of bits used to encode valid connection functions 1-16\n",
    "g.startgenechoice = g.simparams[4] = 8          # initialize genes to startgene number 0-8 : 8 is random choice of 0-7\n",
    "\n",
    "g.genelife.initialize_planes(g.npoffsets)\n",
    "g.genelife.initialize(g.runparams,g.simparams)\n",
    "g.framenr = 0\n",
    "g.cnt=0\n",
    "g.rescale = True                            # if true, windows rescaled to 2x if possible (<= 512 in size), must restart kernel to change\n",
    "g.show0(False)\n",
    "#g.step()\n",
    "g.run(g.nrun, g.ndisp, g.nskip, g.niter, g.nhist, g.nstat, False)"
   ]
  },
  {
   "cell_type": "code",
   "execution_count": 16,
   "metadata": {},
   "outputs": [
    {
     "data": {
      "text/plain": [
       "Text(0, 0.5, 'novel cells')"
      ]
     },
     "execution_count": 16,
     "metadata": {},
     "output_type": "execute_result"
    },
    {
     "data": {
      "image/png": "[encoded data removed]",
      "text/plain": [
       "<Figure size 432x288 with 1 Axes>"
      ]
     },
     "metadata": {
      "needs_background": "light"
     },
     "output_type": "display_data"
    }
   ],
   "source": [
    "plt.plot(g.nnovelcells[:g.framenr],'black')\n",
    "plt.xlabel('time steps')\n",
    "plt.ylabel('novel cells')"
   ]
  },
  {
   "cell_type": "code",
   "execution_count": null,
   "metadata": {},
   "outputs": [],
   "source": [
    "gliderinfo = np.zeros(408,dtype=np.uint64)\n",
    "g.genelife.get_gliderinfo(gliderinfo)"
   ]
  },
  {
   "cell_type": "code",
   "execution_count": null,
   "metadata": {},
   "outputs": [],
   "source": [
    "#plt.yscale('log', nonposy='clip')\n",
    "f, axarr = plt.subplots(4, 2)\n",
    "for i in range(2):\n",
    "    for j in range(4):\n",
    "        axarr[j,i].plot.yscale('log', nonposy='clip')\n",
    "        axarr[j,i].hist(gliderinfo[range(0,51)]);\n"
   ]
  },
  {
   "cell_type": "markdown",
   "metadata": {},
   "source": [
    "## 5.3 Analysis of gene and connected component pattern data for entire history"
   ]
  },
  {
   "cell_type": "code",
   "execution_count": null,
   "metadata": {},
   "outputs": [],
   "source": [
    "maxngenes = 2000000\n",
    "# genedtype=[('popcount',c_uint32),('firsttime',c_uint32),('lasttime',c_uint32),('lastextinctiontime',c_int32),    #    3 unsigned 1 signed int 32 bits\n",
    "#            ('activity',c_uint32),('nextinctions',c_uint32),('gene',c_uint64),('firstancestor',c_uint64)]         #    2 unsigned 32 bit and 2 unsigned 64 bit int\n",
    "genelist = np.zeros(maxngenes,dtype=g.genelife.genedtype)\n",
    "ngenes=g.genelife.get_genes(genelist)\n",
    "# print(g.genelife.genedtype)\n",
    "print('ngenes',ngenes)\n",
    "print('      gene        firstancestor   popcount  firsttime lasttime lastextinctiontime nextinctions activity')\n",
    "for i in range(ngenes):\n",
    "    foo = \"%16x %16x %8d %8d %8d %14d %12d %14d\" % \\\n",
    "    (genelist[i]['gene'], genelist[i]['firstancestor'], genelist[i]['popcount'],genelist[i]['firsttime'], genelist[i]['lasttime'],\n",
    "     genelist[i]['lastextinctiontime'], genelist[i]['nextinctions'], genelist[i]['activity'] )\n",
    "    print(foo)"
   ]
  },
  {
   "cell_type": "code",
   "execution_count": null,
   "metadata": {},
   "outputs": [],
   "source": [
    "maxncomponents = 1000000\n",
    "#compdtype=[('N',c_uint16),('S',c_uint16),('W',c_uint16),('E',c_uint16),('lastrc',c_uint16),\n",
    "#                ('label',c_uint16),('log2n',c_uint16),('patt',c_uint16),('quad',c_uint64),('pixels',c_uint32),('reserve',c_uint32)]\n",
    "complist = np.zeros(maxncomponents,dtype=g.genelife.compdtype)\n",
    "ncomponents=g.genelife.get_components(complist)\n",
    "print(g.genelife.compdtype)\n",
    "print('ncomponents',ncomponents)\n",
    "print('label    N    S    W    E  pixels log2n    patt       quad')\n",
    "for i in range(ncomponents):\n",
    "    foo= \" %4d %4d %4d %4d %4d %7d %6d %8x %16x\" % \\\n",
    "    (complist[i]['label'], complist[i]['N'], complist[i]['S'], complist[i]['W'], complist[i]['E'], complist[i]['pixels'],\n",
    "     complist[i]['log2n'], complist[i]['patt'], complist[i]['quad'])\n",
    "    print(foo)"
   ]
  },
  {
   "cell_type": "code",
   "execution_count": null,
   "metadata": {
    "code_folding": []
   },
   "outputs": [],
   "source": [
    "maxsmallpatts = 65536\n",
    "# smallpattdtype defined in genelife_update_module.py\n",
    "# smallpattdtype=[('topactivity',c_uint32),('activity',c_uint32),('firsttime',c_uint32),('lasttime',c_uint32)]\n",
    "# print(g.genelife.smallpattdtype)\n",
    "smallpatts = np.zeros(maxsmallpatts,dtype=g.genelife.smallpattdtype)\n",
    "nsmallpatts=g.genelife.get_smallpatts(smallpatts)\n",
    "print('nsmallpatts',nsmallpatts)\n",
    "# output table of first 100 values\n",
    "print('   patt    size  activity  firsttime  lasttime')\n",
    "for i in range(100):\n",
    "    print(\" %8d %8d %10d %10d %10d\" % (i, smallpatts[i]['topactivity'], smallpatts[i]['activity'], smallpatts[i]['firsttime'],smallpatts[i]['lasttime']))\n",
    "histnodes = np.zeros(10)\n",
    "for i in range(len(smallpatts)):\n",
    "    if (smallpatts[i]['activity'] and i):\n",
    "        if i==1: \n",
    "            log2n = 0\n",
    "        else: \n",
    "            log2n = int(1+np.log2(int(np.sqrt(i-1))))\n",
    "        histnodes[log2n]=histnodes[log2n]+1\n",
    "for i in range(10):\n",
    "    print(i,'%7d' % histnodes[i],'out of possible 2^',2**(2*i),'-1')"
   ]
  },
  {
   "cell_type": "code",
   "execution_count": null,
   "metadata": {
    "code_folding": []
   },
   "outputs": [],
   "source": [
    "maxquadnodes = 500000\n",
    "# quaddtype defined in genelife_update_module.py\n",
    "quadnodes = np.zeros(maxquadnodes,dtype=g.genelife.quaddtype)\n",
    "histnodes = np.zeros(10)\n",
    "nallspeciesquad=g.genelife.get_quadnodes(quadnodes)\n",
    "# print(g.genelife.quaddtype)\n",
    "print('nallspeciesquad',nallspeciesquad)\n",
    "print('     nr          hashkey               nw               ne               sw               se  isnode  size   activity  pop1s  firsttime  lasttime')\n",
    "for i in range(100):\n",
    "    foo = \" %6d %16x %16x %16x %16x %16x %5d %6d %6d %8d %10d %10d\" % \\\n",
    "    (i, quadnodes[i]['hashkey'], quadnodes[i]['nw'], quadnodes[i]['ne'], quadnodes[i]['sw'], quadnodes[i]['se'], quadnodes[i]['isnode'],\n",
    "     quadnodes[i]['size'], quadnodes[i]['activity'], quadnodes[i]['pop1s'], quadnodes[i]['firsttime'],quadnodes[i]['lasttime'])\n",
    "    print(foo)\n",
    "                          \n",
    "for i in range(len(quadnodes)):\n",
    "    if (quadnodes[i]['size']):\n",
    "        log2n = int(np.log2(quadnodes[i]['size']))\n",
    "        histnodes[log2n]=histnodes[log2n]+1\n",
    "for i in range(len(smallpatts)):\n",
    "    if (smallpatts[i]['activity'] and i):\n",
    "        if i==1: log2n = 0\n",
    "        else: log2n = int(1+np.log2(int(np.sqrt(i-1)))) \n",
    "for i in range(10):\n",
    "    print(i,'%7d' % histnodes[i],'out of possible 2^',2**(2*i),'-1')\n"
   ]
  },
  {
   "cell_type": "code",
   "execution_count": null,
   "metadata": {},
   "outputs": [],
   "source": [
    "# getting genes, popcounts and activities up to python\n",
    "maxngenes = 100000\n",
    "genes=np.zeros(maxngenes,np.uint64)\n",
    "activities=np.zeros(maxngenes,np.int32)\n",
    "activitiesl=np.zeros(maxngenes,np.int32)\n",
    "maxnquads = 200000\n",
    "quads=np.zeros(maxnquads,np.uint64)\n",
    "activitiesq=np.zeros(maxnquads,np.int32)\n",
    "\n",
    "nlivespecies=g.genelife.get_activities(genes,activitiesl)\n",
    "print('nlivespecies',nlivespecies)\n",
    "if nlivespecies >= 3:\n",
    "    print('first three  ', 0,genes[0],activitiesl[0],'  ',1,genes[1],activitiesl[1], '  ',2,genes[2],activitiesl[2])\n",
    "\n",
    "nspecies=g.genelife.get_all_activities(genes,activities)\n",
    "print('nspecies',nspecies)\n",
    "if nspecies >= 3:\n",
    "    print('first three  ', 0,genes[0],activities[0],'  ',1,genes[1],activities[1], '  ',2,genes[2],activities[2])\n",
    "\n",
    "nquadspecies=g.genelife.get_quad_activities(quads,activitiesq)\n",
    "print('nquadspecies',nquadspecies)\n",
    "if nspecies >= 3:\n",
    "    print('first three  ', 0,quads[0],activitiesq[0],'  ',1,quads[1],activitiesq[1], '  ',2,quads[2],activitiesq[2])\n"
   ]
  },
  {
   "cell_type": "code",
   "execution_count": null,
   "metadata": {},
   "outputs": [],
   "source": [
    "%matplotlib inline\n",
    "import matplotlib\n",
    "from matplotlib import pyplot as plt"
   ]
  },
  {
   "cell_type": "code",
   "execution_count": null,
   "metadata": {},
   "outputs": [],
   "source": [
    "plt.yscale('log', nonposy='clip')\n",
    "#plt.hist(activities,bins=100);\n",
    "#plt.hist(activities,bins=100,range=(2000,4000));\n",
    "plt.hist(activities,bins=100,range=(0,2000));"
   ]
  },
  {
   "cell_type": "code",
   "execution_count": null,
   "metadata": {},
   "outputs": [],
   "source": [
    "np.__version__"
   ]
  },
  {
   "cell_type": "code",
   "execution_count": null,
   "metadata": {},
   "outputs": [],
   "source": [
    "ac = [activities[i] for i in range(len(activities)) if activities[i]>1]\n",
    "qq = [x/10 for x in range(10)]\n",
    "foo = np.quantile(ac,qq)\n",
    "foo"
   ]
  },
  {
   "cell_type": "code",
   "execution_count": null,
   "metadata": {},
   "outputs": [],
   "source": [
    "activity(500)"
   ]
  },
  {
   "cell_type": "code",
   "execution_count": null,
   "metadata": {},
   "outputs": [],
   "source": [
    "from matplotlib import animation, rc\n",
    "from IPython.display import HTML"
   ]
  },
  {
   "cell_type": "code",
   "execution_count": null,
   "metadata": {},
   "outputs": [],
   "source": [
    "def animate(i):\n",
    "    g.genelife.genelife_update(1,0,0)\n",
    "    nspecies=g.genelife.get_all_activities(genes,activities)\n",
    "    foo = plt.hist(activities,bins=100,range=(2000,4000))\n",
    "    return (foo,)"
   ]
  },
  {
   "cell_type": "code",
   "execution_count": null,
   "metadata": {},
   "outputs": [],
   "source": [
    "np.linspace(0, 2*np.pi, 128)"
   ]
  },
  {
   "cell_type": "code",
   "execution_count": null,
   "metadata": {},
   "outputs": [],
   "source": [
    "plt.close()\n",
    "for _ in range(20):\n",
    "    g.genelife.genelife_update(1,0,0)\n",
    "    nspecies=g.genelife.get_all_activities(genes,activities)\n",
    "    plt.cla()\n",
    "    plt.hist(activities,bins=100,range=(2000,4000));\n",
    "    plt.show()\n",
    "    "
   ]
  },
  {
   "cell_type": "code",
   "execution_count": null,
   "metadata": {},
   "outputs": [],
   "source": [
    "# not certain how well this is working : see identical gene indices below , use previous cell in the meantime\n",
    "gindices=np.zeros(10000,np.int32)\n",
    "genes=np.zeros(10000,np.uint64)\n",
    "popln=np.zeros(10000,np.int32)\n",
    "activities=np.zeros(10000,np.int32)\n",
    "\n",
    "nspecies=g.genelife.get_sorted_popln_act(gindices,genes,popln,activities)  #nspecies is only those with popcount nonzero\n",
    "print(\"no of species\",nspecies,len(popln))\n",
    "print(popln[0:nspecies])\n",
    "print(genes[0:nspecies])\n",
    "for i in range(len(activities)):\n",
    "    if activities[i]: imax = i;\n",
    "print(imax)\n"
   ]
  },
  {
   "cell_type": "markdown",
   "metadata": {},
   "source": [
    "## 5.4 Trace of number of live cell statistics"
   ]
  },
  {
   "cell_type": "code",
   "execution_count": null,
   "metadata": {},
   "outputs": [],
   "source": [
    "ntmax = 1024\n",
    "while g.framenr//g.nstat > ntmax: ntmax = ntmax*2   # increase ntmax to next power of 2 to match C memory\n",
    "tpts=np.zeros(ntmax,np.int32)\n",
    "livestats = np.zeros(ntmax,np.int32)\n",
    "genotypes = np.zeros(ntmax*4,np.int32)\n",
    "genotypes4 = np.reshape(genotypes,(ntmax,4)).T\n",
    "stepstats = np.zeros(ntmax*10,np.int32)\n",
    "stepstats10 = np.reshape(stepstats,(ntmax,10)).T\n",
    "configstats = np.zeros(ntmax*4,np.int32)\n",
    "configstats4 = np.reshape(configstats,(ntmax,4)).T"
   ]
  },
  {
   "cell_type": "code",
   "execution_count": null,
   "metadata": {},
   "outputs": [],
   "source": [
    "nt = g.framenr//g.nstat\n",
    "g.genelife.get_stats(livestats,genotypes,stepstats,configstats,nt)\n",
    "tpts = [i*g.nstat for i in range(1,nt)]"
   ]
  },
  {
   "cell_type": "code",
   "execution_count": null,
   "metadata": {},
   "outputs": [],
   "source": [
    "%matplotlib inline\n",
    "# fig, ax = plt.subplots()\n",
    "g.plt.rcParams['figure.figsize'] = [10, 10]\n",
    "f, (ax1, ax2, ax3) = g.plt.subplots(3, sharex=True, sharey=False)\n",
    "ax1.plot(tpts,stepstats10[0][1:nt],'b',label='notgolrul')\n",
    "ax1.plot(tpts,stepstats10[1][1:nt],'g',label='2_live')\n",
    "ax1.plot(tpts,stepstats10[2][1:nt],'r',label='3_live')\n",
    "ax1.plot(tpts,stepstats10[3][1:nt],'c',label='birth')\n",
    "ax1.plot(tpts,stepstats10[4][1:nt],'m',label='mutation')\n",
    "ax1.plot(tpts,stepstats10[5][1:nt],'b--',label='2select')\n",
    "ax1.plot(tpts,stepstats10[6][1:nt],'g--',label='survival')\n",
    "ax1.plot(tpts,stepstats10[7][1:nt],'r--',label='death')\n",
    "ax1.plot(tpts,stepstats10[8][1:nt],'k--',label='golstate')\n",
    "ax1.plot(tpts,stepstats10[9][1:nt],'m--',label='3g_same')\n",
    "ax2.plot(tpts,genotypes4[0][1:nt],'b',label='d=0 class')\n",
    "ax2.plot(tpts,genotypes4[1][1:nt],'g',label='d=1 class')\n",
    "ax2.plot(tpts,genotypes4[2][1:nt],'r',label='d=2 class')\n",
    "ax2.plot(tpts,genotypes4[3][1:nt],'k',label='d=3 class')\n",
    "ax3.plot(tpts,configstats4[0][1:nt],'b',label='offset [-1, 0,-1]')\n",
    "ax3.plot(tpts,configstats4[1][1:nt],'g',label='offset [ 1, 0,-1]')\n",
    "ax3.plot(tpts,configstats4[2][1:nt],'r',label='offset [ 0,-1,-1]')\n",
    "ax3.plot(tpts,configstats4[3][1:nt],'k',label='offset [ 0, 1,-1]')\n",
    "ax1.set_ylabel('number of such cells')\n",
    "ax2.set_ylabel('number of such cells')\n",
    "ax3.set_ylabel('number of such configs')\n",
    "legend1 = ax1.legend(loc=2, bbox_to_anchor=(1,1), shadow=True, fontsize='small')  # or use  loc = 'best'\n",
    "legend2 = ax2.legend(loc=2, bbox_to_anchor=(1,1), shadow=True, fontsize='small')\n",
    "legend3 = ax3.legend(loc=2, bbox_to_anchor=(1,1), shadow=True, fontsize='small')\n",
    "legend1.get_frame().set_facecolor('C0')\n",
    "legend2.get_frame().set_facecolor('C0')\n",
    "legend3.get_frame().set_facecolor('C0')\n",
    "g.plt.show()"
   ]
  },
  {
   "cell_type": "markdown",
   "metadata": {},
   "source": [
    "## 5.5 Space-time of one row"
   ]
  },
  {
   "cell_type": "code",
   "execution_count": null,
   "metadata": {},
   "outputs": [],
   "source": [
    "g.genelife.get_curgol(g.gol)\n",
    "rng = list(range(g.N))\n",
    "cnt = list(range(g.N))\n",
    "for i in rng:\n",
    "    cnt[i] = sum([g.gol[(i*g.N)+j] for j in rng])"
   ]
  },
  {
   "cell_type": "code",
   "execution_count": null,
   "metadata": {},
   "outputs": [],
   "source": [
    "foo = [(i,cnt[i]) for i in range(g.N) if cnt[i] == max(cnt)]\n",
    "\n",
    "myrow = foo[0][0]\n",
    "for i in range(g.N):\n",
    "    g.genelife.get_curgol(g.gol)\n",
    "    for j in range(g.N):\n",
    "        if g.gol[(g.N*myrow)+j]==1:\n",
    "            g.cgrid[i][j] = 1\n",
    "        else:\n",
    "            g.cgrid[i][j] = 0\n",
    "    g.genelife.genelife_update(1,0,0)\n",
    "    "
   ]
  },
  {
   "cell_type": "code",
   "execution_count": null,
   "metadata": {},
   "outputs": [],
   "source": [
    "%matplotlib inline"
   ]
  },
  {
   "cell_type": "code",
   "execution_count": null,
   "metadata": {},
   "outputs": [],
   "source": [
    "my_dpi=96\n",
    "my_cmap = g.rand_cmap(257, type='bright', first_color_black=True, last_color_black=False)\n",
    "\n",
    "fig, ax = g.plt.subplots(figsize=((3*256)/my_dpi, (3*256)/my_dpi), dpi=my_dpi, frameon=False)\n",
    "ax.axis('off')\n",
    "# mat = ax.matshow(cgrid, cmap=my_cmap, vmin=0.01, vmax=257)  # was vmax = LEN+1\n",
    "mat = ax.matshow(g.cgrid, cmap=my_cmap, vmin = 0, vmax = 56)\n",
    "g.plt.show()"
   ]
  },
  {
   "cell_type": "markdown",
   "metadata": {},
   "source": [
    "# 6. Gallery of example simulations\n",
    "use ctrl-return to execute cell and stay on same cell"
   ]
  },
  {
   "cell_type": "markdown",
   "metadata": {},
   "source": [
    "## 0 Selection:  Numerical value of gene determines fitness"
   ]
  },
  {
   "cell_type": "code",
   "execution_count": null,
   "metadata": {},
   "outputs": [],
   "source": [
    "# 0\n",
    "#  selection=0 gene value\n",
    "#  Note that sequences must differ for replication unless it is forced.\n",
    "#   \n",
    "g.nrun=1; g.ndisp=1000; g.nskip=0; g.niter=100;  # simulation time stepping parameters\n",
    "#nrun=1; ndisp=1; nskip=0; niter=1;              # single step\n",
    "g.nhist = 10                                     # set to n to turn on histogram configurations every nth step\n",
    "g.nstat = 10                                     # set to n to turn on statistics trace every nth step\n",
    "g.rulemod = g.runparams[0] = 1                   # 0,1 whether to allow GoL rule modifications\n",
    "                                                 # if 0, gene dynamics consistent with GoL still possible\n",
    "g.repscheme = g.runparams[1] = 0x3               # bits 0 to 13 code for binary options, 14-20 code for quadrant pairs,\n",
    "                                                 # 21-24 for allowed canonical 2-live nb configs \n",
    "                                                 # value 0x11 is simply game of life provided survivalmask is 3\n",
    "g.selection = g.runparams[2] = 0                 # fitness for 2 live neighbor rule : 0-6 see subgenelife.c code\n",
    "g.survivalmask = g.runparams[4] = 2              # survive mask for two (bit 1) and three (bit 0) live neighbours : GoL = 3\n",
    "g.birthmask = 1                                  # birth mask for two (bit 1) and three (bit 0) live neighbours : GoL = 1\n",
    "g.overwritemask = g.runparams[3] = 3             # mask of 2 bits to overwrite instead of survival for 3(bit0) or 2(bit1) live nbs\n",
    "\n",
    "g.colorfunction = g.runparams[5] = 0             # color function 0(hash), ≥1(fnal), 2 nongolchg yellow, 3 notgolrul yellow\n",
    "g.initfield = g.runparams[6] = 200               # 1 init via 32x32 genepat.dat, n>1 init via nxn rand array\n",
    "g.nlog2pmut = g.simparams[0] = 8                 # log2 gene mutation probability (0 or >56 means no mutation)\n",
    "g.initial1density = g.simparams[1] = 16384       # initial 1 density in GOL state\n",
    "                                                 # 16384 = nearest to half of guaranteed C rand max value 32767 = 2**15 - 1\n",
    "g.initialrdensity = g.simparams[2] = 0           # initial density of random genes\n",
    "g.ncoding = g.simparams[3] = 0                   # bits0-7 no of bits used to encode individual gene functions\n",
    "                                                 # bits8-15 no of bits to encode masks for add2ndmask1st functions\n",
    "                                                 # bits 16-23 number of planes used in selection modesl 10-12 \n",
    "g.startgenechoice = g.simparams[4] = 8           # initialize genes to startgene number 0-8 : 8 is random choice of 0-7\n",
    "\n",
    "g.genelife.initialize_planes(g.npoffsets)\n",
    "g.genelife.initialize(g.runparams,g.simparams)\n",
    "g.framenr = 0\n",
    "g.cnt=0\n",
    "g.show0()\n",
    "#step()\n",
    "g.run(g.nrun, g.ndisp, g.nskip, g.niter, g.nhist, g.nstat, True)"
   ]
  },
  {
   "cell_type": "markdown",
   "metadata": {},
   "source": [
    "## 1 Selection: Number of 1s in gene determines fitness"
   ]
  },
  {
   "cell_type": "code",
   "execution_count": null,
   "metadata": {},
   "outputs": [],
   "source": [
    "# 1\n",
    "#  selection=1 number of ones determines fitness\n",
    "#  Note that sequences must differ in number of ones for replication unless it is forced.\n",
    "#  ncoding plays no role, system takes about 4-5000 steps to reach all ones sequence\n",
    "#  Color scheme: color gradient with colors going from black (no 1s) to white (all 1s)\n",
    "g.nrun=1; g.ndisp=1000; g.nskip=0; g.niter=100;  # simulation time stepping parameters\n",
    "g.nhist = 0                                      # set to n to turn on histogram configurations every nth step\n",
    "g.nstat = 0                                      # set to n to turn on statistics trace every nth step\n",
    "g.rulemod = g.runparams[0] = 1                   # 0,1 whether to allow GoL rule modifications\n",
    "g.repscheme = g.runparams[1] = 0x3               # bit 0,1 on allow selection in 3,2 live nb configs\n",
    "g.selection = g.runparams[2] = 1                 # fitness for 2 live neighbor rule : 0-6 see subgenelife.c code\n",
    "g.overwritemask = g.runparams[3] = 0x3           # mask of 2 bits to overwrite instead of survival for 3(bit0) or 2(bit1) live nbs\n",
    "g.survivalmask = g.runparams[4] = 2              # survive mask for two (bit 1) and three (bit 0) live neighbours : GoL = 3\n",
    "g.colorfunction = g.runparams[5] = 1             # color function 0-8\n",
    "g.initfield = g.runparams[6] = 200               # 1 init via 32x32 genepat.dat, n>1 init via nxn rand array\n",
    "g.nlog2pmut = g.simparams[0] = 8                 # log2 gene mutation probability (0 or >56 means no mutation)\n",
    "g.initial1density = g.simparams[1] = 16384       # initial 1 density in GOL state\n",
    "g.initialrdensity = g.simparams[2] = 0           # initial density of random genes\n",
    "g.ncoding = g.simparams[3] = 0                   # no of bits used to encode valid connection functions 1-16\n",
    "g.startgenechoice = g.simparams[4] = 8           # initialize genes to startgene number 0-8 : 8 is random choice of 0-7\n",
    "\n",
    "g.genelife.initialize_planes(g.npoffsets)\n",
    "g.genelife.initialize(g.runparams,g.simparams)\n",
    "g.framenr = 0\n",
    "g.cnt=0\n",
    "g.show0()\n",
    "#step()\n",
    "g.run(g.nrun, g.ndisp, g.nskip, g.niter, g.nhist, g.nstat, False)"
   ]
  },
  {
   "cell_type": "markdown",
   "metadata": {},
   "source": [
    "## 2 Selection: Not well-ordered (tournament) selection - scissors-stone-well-paper model"
   ]
  },
  {
   "cell_type": "code",
   "execution_count": null,
   "metadata": {},
   "outputs": [],
   "source": [
    "# 2\n",
    "#  selection=2 scissors-stone-well-paper\n",
    "#  Note that sequences must differ for replication unless it is forced.\n",
    "#  \n",
    "#  Color scheme: four different classes are red, green, blue and white\n",
    "g.nrun=1; g.ndisp=1000; g.nskip=0; g.niter=100;  # simulation time stepping parameters\n",
    "g.nhist = 10                                # set to n to turn on histogram configurations every nth step\n",
    "g.nstat = 10                                # set to n to turn on statistics trace every nth step\n",
    "g.rulemod = g.runparams[0] = 1              # 0,1 whether to allow GoL rule modifications\n",
    "                                            # with rulemod 1 2-live-nb birth, 3-live-nb non-birth & non-survival possible\n",
    "g.repscheme = g.runparams[1] = 0x3          # bits 0 to 20 code for mostly independent binary options\n",
    "g.selection = g.runparams[2] = 2            # fitness for 2 live neighbor rule : 0-6 see subgenelife.c code\n",
    "g.overwritemask = g.runparams[3] = 3        # mask of 2 bits to overwrite instead of survival for 3(bit0) or 2(bit1) live nbs\n",
    "g.survivalmask = g.runparams[4] = 0         # survive mask for two (bit 1) and three (bit 0) live neighbours : GoL = 3\n",
    "g.colorfunction = g.runparams[5] = 1        # color function 0(hash), ≥1(fnal), 2 nongolchg yellow, 3 notgolrul yellow\n",
    "g.initfield = g.runparams[6] = 200          # 1 init via 32x32 genepat.dat, n>1 init via nxn rand array\n",
    "g.nlog2pmut = g.simparams[0] = 8            # log2 gene mutation probability (0 or >56 means no mutation)\n",
    "g.initial1density = g.simparams[1] = 8192   # initial 1 density in GOL state\n",
    "                                            # 16384 = nearest to half of guaranteed C rand max value 32767 = 2**15 - 1\n",
    "g.initialrdensity = g.simparams[2] = 0      # initial density of random genes\n",
    "g.ncoding = g.simparams[3] = 0              # no of bits used to encode valid connection functions 1-16\n",
    "g.startgenechoice = g.simparams[4] = 8      # initialize genes to startgene number 0-8 : 8 is random choice of 0-7\n",
    "\n",
    "g.genelife.initialize_planes(g.npoffsets)\n",
    "g.genelife.initialize(g.runparams,g.simparams)\n",
    "g.framenr = 0\n",
    "g.cnt=0\n",
    "g.show0(False)\n",
    "#step()\n",
    "g.run(g.nrun, g.ndisp, g.nskip, g.niter, g.nhist, g.nstat, False)"
   ]
  },
  {
   "cell_type": "markdown",
   "metadata": {},
   "source": [
    "## 3 Selection: Cyclic not well-ordered selection for 4 species"
   ]
  },
  {
   "cell_type": "code",
   "execution_count": null,
   "metadata": {},
   "outputs": [],
   "source": [
    "# 3\n",
    "#  selection=3 scissors-stone-well-paper but only next color wins\n",
    "#  Note that sequences must differ for replication unless it is forced.\n",
    "#  \n",
    "#  Color scheme: four different classes are red, green, blue and white\n",
    "nrun=1; ndisp=1000; nskip=0; niter=100;  # simulation time stepping parameters\n",
    "nhist = 0                                # set to n to turn on histogram configurations every nth step\n",
    "nstat = 0                                # set to n to turn on statistics trace every nth step\n",
    "rulemod = runparams[0] = 3               # 0,1 whether to allow GoL rule modifications\n",
    "repscheme = runparams[1] = 0x2ab         # 0-1f: bit 0 on allow selection in 3 live nb configs, bit 1 on most difft vs 0 bit of canonical rotation\n",
    "selection = runparams[2] = 3             # fitness for 2 live neighbor rule : 0-6 see subgenelife.c code\n",
    "overwritemask = runparams[3] = 0         # mask of 2 bits to overwrite instead of survival for 3(bit0) or 2(bit1) live nbs\n",
    "survivalmask = runparams[4] = 0          # survive mask for two (bit 1) and three (bit 0) live neighbours : GoL = 3\n",
    "colorfunction = runparams[5] = 1         # color function 0-8\n",
    "initfield = runparams[6] = 200            # 1 init via 32x32 genepat.dat, n>1 init via nxn rand array\n",
    "nlog2pmut = simparams[0] = 8             # log2 gene mutation probability (0 or >56 means no mutation)\n",
    "initial1density = simparams[1] = 16384   # initial 1 density in GOL state\n",
    "initialrdensity = simparams[2] = 0       # initial density of random genes\n",
    "ncoding = simparams[3] = 0               # not used in selection==2\n",
    "startgenechoice = simparams[4] = 8       # initialize genes to startgene number 0-8 : 8 is random choice of 0-7\n",
    "\n",
    "genelife.initialize_planes(npoffsets)\n",
    "genelife.initialize(runparams,simparams)\n",
    "framenr = 0\n",
    "cnt=0\n",
    "show0()\n",
    "#step()\n",
    "run(g.nrun, g.ndisp, g.nskip, g.niter, g.nhist, g.nstat, False)"
   ]
  },
  {
   "cell_type": "markdown",
   "metadata": {},
   "source": [
    "## 4 Selection: Cooperative birth requiring two individuals with different gene functions"
   ]
  },
  {
   "cell_type": "code",
   "execution_count": null,
   "metadata": {},
   "outputs": [],
   "source": [
    "# 4\n",
    "#  selection=4 cooperative birth between near-0 and near-1 sequences with appropriate parameters for survival\n",
    "#  Note that since two different sequences that cannot mutate directly into oneanother are required, birth is difficult\n",
    "#  The system needs some non selective birth to proliferate : overwritemask 3\n",
    "#  For random start the ncoding value must be large, 28 or so.\n",
    "#  Color scheme: green near 0, read near 1, white neither. Near means within ncoding bits. \n",
    "nrun=1; ndisp=200; nskip=0; niter=100;   # simulation time stepping parameters : set nskip=800 for faster long time\n",
    "nhist = 0                                # set to n to turn on histogram configurations every nth step\n",
    "nstat = 0                                # set to n to turn on statistics trace every nth step\n",
    "rulemod = runparams[0] = 1               # 0,1 whether to allow GoL rule modifications\n",
    "repscheme = runparams[1] = 0x03          # 0-1f: bit 0 on allow selection in 3 live nb configs, bit 1 on most difft vs 0 bit of canonical rotation\n",
    "selection = runparams[2] = 4             # fitness for 2 live neighbor rule : 0-6 see subgenelife.c code\n",
    "overwritemask = runparams[3] = 3         # mask of 2 bits to overwrite instead of survival for 3(bit0) or 2(bit1) live nbs\n",
    "survivalmask = runparams[4] = 2          # survive mask for two (bit 1) and three (bit 0) live neighbours : GoL = 3\n",
    "colorfunction = runparams[5] = 1         # color function 0-8\n",
    "initfield = runparams[6] = 200            # 1 init via 32x32 genepat.dat, n>1 init via nxn rand array\n",
    "nlog2pmut = simparams[0] = 7             # log2 gene mutation probability (0 or >56 means no mutation)\n",
    "initial1density = simparams[1] = 16384   # initial 1 density in GOL state\n",
    "initialrdensity = simparams[2] = 0       # initial density of random genes\n",
    "ncoding = simparams[3] = 12              # no of bits away from targets and each other allowed for match\n",
    "startgenechoice = simparams[4] = 8       # initialize genes to startgene number 0-8 : 8 is random choice of 0-7\n",
    "\n",
    "genelife.initialize_planes(npoffsets)\n",
    "genelife.initialize(runparams,simparams)\n",
    "framenr = 0\n",
    "cnt=0\n",
    "show0()\n",
    "#step()\n",
    "run(g.nrun, g.ndisp, g.nskip, g.niter, g.nhist, g.nstat, False)"
   ]
  },
  {
   "cell_type": "markdown",
   "metadata": {},
   "source": [
    "## 5 Selection: Predator-prey model"
   ]
  },
  {
   "cell_type": "code",
   "execution_count": null,
   "metadata": {},
   "outputs": [],
   "source": [
    "# 5\n",
    "#  selection=5 with appropriate parameters for survival\n",
    "#  Note that since two different sequences that cannot mutate directly into oneanother are required, birth is difficult\n",
    "#  The system needs some non selective birth to proliferate : enforce birth with repscheme bits 3,4\n",
    "#  Predator and prey must be within ncoding bits of one another\n",
    "g.nrun=1; g.ndisp=200; g.nskip=800; g.niter=100; # simulation time stepping parameters\n",
    "g.nhist = 0                                      # set to n to turn on histogram configurations every nth step\n",
    "g.nstat = 0                                      # set to n to turn on statistics trace every nth step\n",
    "g.rulemod = g.runparams[0] = 1                   # 0,1 whether to allow GoL rule modifications\n",
    "g.repscheme = g.runparams[1] = 0x33              # 0-1f: bit 0 on allow selection in 3 live nb configs, bit 1 on most difft vs 0 bit of canonical rotation\n",
    "g.selection = g.runparams[2] = 5                 # fitness for 2 live neighbor rule : 0-6 see subgenelife.c code\n",
    "g.overwritemask = g.runparams[3] = 3             # mask of 2 bits to overwrite instead of survival for 3(bit0) or 2(bit1) live nbs\n",
    "g.survivalmask = g.runparams[4] = 2              # survive mask for two (bit 1) and three (bit 0) live neighbours : GoL = 3\n",
    "g.colorfunction = g.runparams[5] = 1             # color function 0-8\n",
    "g.initfield = g.runparams[6] = 200               # 1 init via 32x32 genepat.dat, n>1 init via nxn rand array\n",
    "g.nlog2pmut = g.simparams[0] = 7                 # log2 gene mutation probability (0 or >56 means no mutation)\n",
    "g.initial1density = g.simparams[1] = 16384       # initial 1 density in GOL state\n",
    "g.initialrdensity = g.simparams[2] = 0           # initial density of random genes\n",
    "g.ncoding = g.simparams[3] = 8                   # no of bits used to encode valid connection functions 1-16\n",
    "g.startgenechoice = g.simparams[4] = 8           # initialize genes to startgene number 0-8 : 8 is random choice of 0-7\n",
    "\n",
    "g.genelife.initialize_planes(g.npoffsets)\n",
    "g.genelife.initialize(g.runparams,g.simparams)\n",
    "g.framenr = 0\n",
    "g.cnt=0\n",
    "g.show0()\n",
    "#step()\n",
    "g.run(g.nrun, g.ndisp, g.nskip, g.niter, g.nhist, g.nstat, False)"
   ]
  },
  {
   "cell_type": "markdown",
   "metadata": {},
   "source": [
    "## 6 Selection: Constrained selection involving two targets and distance constraint"
   ]
  },
  {
   "cell_type": "code",
   "execution_count": null,
   "metadata": {},
   "outputs": [],
   "source": [
    "# 6\n",
    "#  selection=6 with appropriate parameters for survival\n",
    "#  in this model there are two target gene centres at all 0 sequence and the sequence with ncoding leading 1s\n",
    "#  birth occurs if the two sequences have different distances to each target and these are less than their mutual distance\n",
    "# the sequence which is closer to its target in selected as the ancestor for birth\n",
    "# the initial asymmetry was corrected by disallowing equal distances to the targets (a biassed choice was made)\n",
    "# one can enforce birth using repscheme, in which case the canonical rotation is used to maintain symmetry\n",
    "nrun=1; ndisp=200; nskip=0; niter=1;       # simulation time stepping parameters\n",
    "nhist = 0                                # set to n to turn on histogram configurations every nth step\n",
    "nstat = 0                                # set to n to turn on statistics trace every nth step\n",
    "rulemod = runparams[0] = 0               # 0,1 whether to allow GoL rule modifications\n",
    "repscheme = runparams[1] = 7             # for selection 10 or 11, repscheme gives number of planes in simulation (0->16)\n",
    "selection = runparams[2] = 6             # fitness for 2 live neighbor rule : 0-6 see subgenelife.c code\n",
    "overwritemask = runparams[3]= 0x0        # mask of 2 bits to overwrite instead of survival for 3(bit0) or 2(bit1) live nbs\n",
    "survivalmask = runparams[4] = 0x3        # selection 10,11: survival bit 0 determines if current plane used as well for nbs\n",
    "colorfunction = runparams[5] = 0         # color function 0-8\n",
    "initfield = runparams[6] = 150            # 1 init via 32x32 genepat.dat, n>1 init via nxn rand array\n",
    "nlog2pmut = simparams[0] = 8             # log2 gene mutation probability (0 or >56 means no mutation)\n",
    "initial1density = simparams[1] =  16384  # initial 1 density in GOL state\n",
    "initialrdensity = simparams[2] = 0       # initial density of random genes\n",
    "ncoding = simparams[3] = 0               # number of bits coding for functions\n",
    "startgenechoice = simparams[4] = 8       # initialize genes to startgene number 0-8 : 8 is random choice of 0-7\n",
    "\n",
    "genelife.initialize_planes(npoffsets)\n",
    "genelife.initialize(runparams,simparams)\n",
    "framenr = 0\n",
    "cnt=0\n",
    "show0()\n",
    "# step()\n",
    "run(g.nrun, g.ndisp, g.nskip, g.niter, g.nhist, g.nstat, False)"
   ]
  },
  {
   "cell_type": "markdown",
   "metadata": {},
   "source": [
    "## 7 Selection: Neutral but different"
   ]
  },
  {
   "cell_type": "code",
   "execution_count": null,
   "metadata": {},
   "outputs": [],
   "source": [
    "# 7\n",
    "#  selection=7 with appropriate parameters for survival\n",
    "#  in this version selection is neutral, but fails if the sequences are the same\n",
    "g.nrun=1; g.ndisp=200; g.nskip=0; g.niter=1;       # simulation time stepping parameters\n",
    "g.nhist = 0                                # set to n to turn on histogram configurations every nth step\n",
    "g.nstat = 0                                # set to n to turn on statistics trace every nth step\n",
    "g.rulemod = g.runparams[0] = 1               # 0,1 whether to allow GoL rule modifications\n",
    "g.repscheme = g.runparams[1] = 3             # for selection 10 or 11, repscheme gives number of planes in simulation (0->16)\n",
    "g.selection = g.runparams[2] = 7             # fitness for 2 live neighbor rule : 0-6 see subgenelife.c code\n",
    "g.overwritemask = g.runparams[3]= 0x0        # mask of 2 bits to overwrite instead of survival for 3(bit0) or 2(bit1) live nbs\n",
    "g.survivalmask = g.runparams[4] = 0x3        # selection 10,11: survival bit 0 determines if current plane used as well for nbs\n",
    "g.colorfunction = g.runparams[5] = 0         # color function 0-8\n",
    "g.initfield = g.runparams[6] = 150            # 1 init via 32x32 genepat.dat, n>1 init via nxn rand array\n",
    "g.nlog2pmut = g.simparams[0] = 8             # log2 gene mutation probability (0 or >56 means no mutation)\n",
    "g.initial1density = g.simparams[1] =  16384  # initial 1 density in GOL state\n",
    "g.initialrdensity = g.simparams[2] = 0       # initial density of random genes\n",
    "g.ncoding = g.simparams[3] = 0               # number of bits coding for functions\n",
    "g.startgenechoice = g.simparams[4] = 8       # initialize genes to startgene number 0-8 : 8 is random choice of 0-7\n",
    "\n",
    "g.genelife.initialize_planes(g.npoffsets)\n",
    "g.genelife.initialize(g.runparams,g.simparams)\n",
    "g.framenr = 0\n",
    "g.cnt=0\n",
    "g.show0()\n",
    "# step()\n",
    "g.run(g.nrun, g.ndisp, g.nskip, g.niter, g.nhist, g.nstat, False)"
   ]
  },
  {
   "cell_type": "markdown",
   "metadata": {},
   "source": [
    "## 8 Selection: Totalistic LUT encoded by gene (fixed length direct encoding)"
   ]
  },
  {
   "cell_type": "markdown",
   "metadata": {},
   "source": [
    "### 8.1 Game of Life with selection==8"
   ]
  },
  {
   "cell_type": "code",
   "execution_count": 2,
   "metadata": {},
   "outputs": [
    {
     "name": "stderr",
     "output_type": "stream",
     "text": [
      "/Users/john/projects/genelife_private/fastgenegol/genelifepy/genelife.py:450: ExperimentalWarning: 'pixels2d' is in an experimental state.\n",
      "  cgrid=sdl2.ext.pixels2d(surfacex1)\n",
      "/Users/john/projects/genelife_private/fastgenegol/genelifepy/genelife.py:489: ExperimentalWarning: 'pixels2d' is in an experimental state.\n",
      "  cgrid2=sdl2.ext.pixels2d(surface2x1)\n"
     ]
    }
   ],
   "source": [
    "#  8 \n",
    "#  selection=8 sum totalistic LUT with appropriate parameters for survival and genes encoding LUt in fixed length direct encoding\n",
    "#  this case uses the genes to encode the totalistic (s dept) rule tables for birth and survival\n",
    "#  birth is determined by the and of the live neighbour genes (bits 8-15 for ncoding=1) ie genecode\n",
    "#  survival is determined the and of the live neighbour genes (bits 0-8 for ncoding=1) ie genecode\n",
    "#  in an alternative version (see commented line in update_lut_sum) survival is by the central live neighbour gene\n",
    "#  ncoding may be set (1-7) to require more bits of gene be 1 to turn on a rule\n",
    "g.nrun=1; g.ndisp=1000; g.nskip=0; g.niter=1; # simulation time stepping parameters\n",
    "g.nhist = 0                                  # set to n to turn on histogram configurations every nth step\n",
    "g.nstat = 0                                  # set to n to turn on statistics trace every nth step\n",
    "g.rulemod = g.runparams[0] = 1               # 0,1 whether to allow GoL rule modifications\n",
    "g.repscheme = g.runparams[1] = 0x160         # 0 defaults 6 penalizes too many rules 1 trivial disambiguation\n",
    "g.selection = g.runparams[2] = 8             # fitness for 2 live neighbor rule : 0-6 see subgenelife.c code\n",
    "g.overwritemask = g.runparams[3] = 0x00      # mask of bits to overwrite if birth allowed and already occupied for bit position sum s\n",
    "g.survivalmask = g.runparams[4] = 0x06       # GoL constraint if genes stay active\n",
    "g.birthmask = g.runparams[7] = 0x04          # GoL constraint if genes stay active \n",
    "g.ancselectmask = g.runparams[8] = 0xff      # Allow ancestor selection on all s values for which birth is allowed \n",
    "g.colorfunction = g.runparams[5] = 0         # color function: choose 0-12 using arrows\n",
    "g.initfield = g.runparams[6] = 100           # 1 init via 32x32 genepat.dat, n>1 init via nxn rand array\n",
    "g.nlog2pmut = g.simparams[0] = 8             # log2 gene mutation probability (0 or >56 means no mutation)\n",
    "g.initial1density = g.simparams[1] =  8192   # initial 1 density in GOL state: 16384 = nearest to half of  C rand max value 32767 = 2**15 - 1\n",
    "g.initialrdensity = g.simparams[2] = 0       # initial density of random genes\n",
    "g.ncoding = g.simparams[3] = 0x1             # for selection==8, lut, ncoding 1,2,3 bits per lut entry : 0 implies 3.\n",
    "g.startgenechoice = g.simparams[4] = 8       # initialize genes to startgene number 0-8 : 8 is random choice of 0-7\n",
    "\n",
    "g.genelife.initialize_planes(g.npoffsets)\n",
    "g.genelife.initialize(g.runparams,g.simparams)\n",
    "g.framenr = 0\n",
    "g.cnt=0\n",
    "g.show0()\n",
    "#g.step()\n",
    "#g.step()\n",
    "g.run(g.nrun, g.ndisp, g.nskip, g.niter, g.nhist, g.nstat, False)"
   ]
  },
  {
   "cell_type": "markdown",
   "metadata": {},
   "source": [
    "### 8.2 Scissors-paper-stone-well selection with selection==8"
   ]
  },
  {
   "cell_type": "markdown",
   "metadata": {},
   "source": [
    "* standard subselection mode 7 (repscheme 170) \n",
    "* population of gliders with long term cooperation "
   ]
  },
  {
   "cell_type": "code",
   "execution_count": 11,
   "metadata": {},
   "outputs": [],
   "source": [
    "#  8 \n",
    "#  selection=8 sum totalistic LUT with appropriate parameters for survival and genes encoding LUt in fixed length direct encoding\n",
    "#  this case uses the genes to encode the totalistic (s dept) rule tables for birth and survival\n",
    "#  birth is determined by the and of the live neighbour genes (bits 8-15 for ncoding=1) ie genecode\n",
    "#  survival is determined the and of the live neighbour genes (bits 0-8 for ncoding=1) ie genecode\n",
    "#  in an alternative version (see commented line in update_lut_sum) survival is by the central live neighbour gene\n",
    "#  ncoding may be set (1-7) to require more bits of gene be 1 to turn on a rule\n",
    "g.nrun=1; g.ndisp=1000; g.nskip=0; g.niter=1; # simulation time stepping parameters\n",
    "g.nhist = 0                                  # set to n to turn on histogram configurations every nth step\n",
    "g.nstat = 0                                  # set to n to turn on statistics trace every nth step\n",
    "g.rulemod = g.runparams[0] = 1               # 0,1 whether to allow GoL rule modifications\n",
    "                                             # with rulemod 1 2-live-nb birth, 3-live-nb non-birth & non-survival possible\n",
    "g.repscheme = g.runparams[1] = 0x170         # \n",
    "g.selection = g.runparams[2] = 8             # fitness for 2 live neighbor rule : 0-6 see subgenelife.c code\n",
    "g.overwritemask = g.runparams[3] = 0x6       # mask of bits to overwrite if birth allowed and already occupied for bit position sum s\n",
    "g.survivalmask = g.runparams[4] = 0x0        # GoL constraint if genes stay active\n",
    "g.birthmask = g.runparams[7] = 0x6          # GoL constraint if genes stay active \n",
    "g.ancselectmask = g.runparams[8] = 0xff      # Allow ancestor selection on all s values for which birth is allowed \n",
    "g.colorfunction = g.runparams[5] = 9         # color function: use arrow keys to select 0-12\n",
    "g.initfield = g.runparams[6] = 100           # 1 init via 32x32 genepat.dat, n>1 init via nxn rand array\n",
    "g.nlog2pmut = g.simparams[0] = 8             # log2 gene mutation probability (0 or >56 means no mutation)\n",
    "g.initial1density = g.simparams[1] =  8192   # initial 1 density in GOL state\n",
    "                                             # 16384 = nearest to half of guaranteed C rand max value 32767 = 2**15 - 1\n",
    "g.initialrdensity = g.simparams[2] = 0       # initial density of random genes\n",
    "g.ncoding = g.simparams[3] = 0x1             # for selection==8, lut, ncoding 1,2,3 bits per lut entry : 0 implies 3.\n",
    "g.startgenechoice = g.simparams[4] = 8       # initialize genes to startgene number 0-8 : 8 is random choice of 0-7\n",
    "\n",
    "g.genelife.initialize_planes(g.npoffsets)\n",
    "g.genelife.initialize(g.runparams,g.simparams)\n",
    "g.framenr = 0\n",
    "g.cnt=0\n",
    "g.show0()\n",
    "#g.step()\n",
    "#g.step()\n",
    "g.run(g.nrun, g.ndisp, g.nskip, g.niter, g.nhist, g.nstat, False)"
   ]
  },
  {
   "cell_type": "markdown",
   "metadata": {},
   "source": [
    "### 8.3 Or of neighbours for genetic coding of rule"
   ]
  },
  {
   "cell_type": "code",
   "execution_count": null,
   "metadata": {},
   "outputs": [],
   "source": [
    "#  8 \n",
    "#  selection=8 sum totalistic LUT with appropriate parameters for survival and genes encoding LUt in fixed length direct encoding\n",
    "#  this case uses the genes to encode the totalistic (s dept) rule tables for birth and survival\n",
    "#  birth is determined by the and of the live neighbour genes (bits 8-15 for ncoding=1) ie genecode\n",
    "#  survival is determined the and of the live neighbour genes (bits 0-8 for ncoding=1) ie genecode\n",
    "#  in an alternative version (see commented line in update_lut_sum) survival is by the central live neighbour gene\n",
    "#  ncoding may be set (1-7) to require more bits of gene be 1 to turn on a rule\n",
    "g.nrun=1; g.ndisp=1000; g.nskip=0; g.niter=1; # simulation time stepping parameters\n",
    "g.nhist = 0                                  # set to n to turn on histogram configurations every nth step\n",
    "g.nstat = 0                                  # set to n to turn on statistics trace every nth step\n",
    "g.rulemod = g.runparams[0] = 1               # 0,1 whether to allow GoL rule modifications\n",
    "                                             # with rulemod 1 2-live-nb birth, 3-live-nb non-birth & non-survival possible\n",
    "g.repscheme = g.runparams[1] = 0x1b2         # \n",
    "g.selection = g.runparams[2] = 2             # fitness for 2 live neighbor rule : 0-6 see subgenelife.c code\n",
    "g.overwritemask = g.runparams[3] = 0x1e       # mask of bits to overwrite if birth allowed and already occupied for bit position sum s\n",
    "g.survivalmask = g.runparams[4] = 0x0        # GoL constraint if genes stay active\n",
    "g.birthmask = g.runparams[7] = 0x1e          # GoL constraint if genes stay active \n",
    "g.ancselectmask = g.runparams[8] = 0xff      # Allow ancestor selection on all s values for which birth is allowed \n",
    "g.colorfunction = g.runparams[5] = 9         # color function: use arrow keys to select 0-12\n",
    "g.initfield = g.runparams[6] = 0             # 1 init via 32x32 genepat.dat, n>1 init via nxn rand array\n",
    "g.nlog2pmut = g.simparams[0] = 8             # log2 gene mutation probability (0 or >56 means no mutation)\n",
    "g.initial1density = g.simparams[1] =  16384   # initial 1 density in GOL state\n",
    "                                             # 16384 = nearest to half of guaranteed C rand max value 32767 = 2**15 - 1\n",
    "g.initialrdensity = g.simparams[2] = 16384       # initial density of random genes\n",
    "g.ncoding = g.simparams[3] = 0x1             # for selection==8, lut, ncoding 1,2,3 bits per lut entry : 0 implies 3.\n",
    "g.startgenechoice = g.simparams[4] = 8       # initialize genes to startgene number 0-8 : 8 is random choice of 0-7\n",
    "\n",
    "g.genelife.initialize_planes(g.npoffsets)\n",
    "g.genelife.initialize(g.runparams,g.simparams)\n",
    "g.framenr = 0\n",
    "g.cnt=0\n",
    "g.show0()\n",
    "#g.step()\n",
    "#g.step()\n",
    "g.run(g.nrun, g.ndisp, g.nskip, g.niter, g.nhist, g.nstat, False)"
   ]
  },
  {
   "cell_type": "markdown",
   "metadata": {},
   "source": [
    "### 8.4 Test of symmetry breaking expansion of rules : here basal level"
   ]
  },
  {
   "cell_type": "code",
   "execution_count": 26,
   "metadata": {},
   "outputs": [
    {
     "name": "stdout",
     "output_type": "stream",
     "text": [
      "step 1506 birthmask changed to 4\n",
      "step 3019 collected trace of nnovelcells\n"
     ]
    }
   ],
   "source": [
    "#  8 \n",
    "#  selection=8 sum totalistic LUT with appropriate parameters for survival and genes encoding LUt in fixed length direct encoding\n",
    "#  this case uses the genes to encode the totalistic (s dept) rule tables for birth and survival\n",
    "#  birth is determined by the and of the live neighbour genes (bits 8-15 for ncoding=1) ie genecode\n",
    "#  survival is determined the and of the live neighbour genes (bits 0-8 for ncoding=1) ie genecode\n",
    "#  in an alternative version (see commented line in update_lut_sum) survival is by the central live neighbour gene\n",
    "#  ncoding may be set (1-7) to require more bits of gene be 1 to turn on a rule\n",
    "g.nrun=1; g.ndisp=1000; g.nskip=0; g.niter=1; # simulation time stepping parameters\n",
    "g.nhist = 0                                  # set to n to turn on histogram configurations every nth step\n",
    "g.nstat = 0                                  # set to n to turn on statistics trace every nth step\n",
    "g.rulemod = g.runparams[0] = 1               # 0,1 whether to allow GoL rule modifications\n",
    "g.repscheme = g.runparams[1] = 0x150         # 0 defaults 6 penalizes too many rules 1 trivial disambiguation\n",
    "g.selection = g.runparams[2] = 8             # fitness for 2 live neighbor rule : 0-6 see subgenelife.c code\n",
    "g.overwritemask = g.runparams[3] = 0xff      # mask of bits to overwrite if birth allowed and already occupied for bit position sum s\n",
    "g.survivalmask = g.runparams[4] = 0x00       # GoL constraint if genes stay active\n",
    "g.birthmask = g.runparams[7] = 0x06          # GoL constraint if genes stay active \n",
    "g.ancselectmask = g.runparams[8] = 0xff      # Allow ancestor selection on all s values for which birth is allowed \n",
    "g.colorfunction = g.runparams[5] = 0         # color function: choose 0-12 using arrows\n",
    "g.initfield = g.runparams[6] = 0             # 1 init via 32x32 genepat.dat, n>1 init via nxn rand array\n",
    "g.nlog2pmut = g.simparams[0] = 8             # log2 gene mutation probability (0 or >56 means no mutation)\n",
    "g.initial1density = g.simparams[1] =  8192   # initial 1 density in GOL state: 16384 = nearest to half of  C rand max value 32767 = 2**15 - 1\n",
    "g.initialrdensity = g.simparams[2] = 16384       # initial density of random genes\n",
    "g.ncoding = g.simparams[3] = 0x1             # for selection==8, lut, ncoding 1,2,3 bits per lut entry : 0 implies 3.\n",
    "g.startgenechoice = g.simparams[4] = 8       # initialize genes to startgene number 0-8 : 8 is random choice of 0-7\n",
    "\n",
    "g.genelife.initialize_planes(g.npoffsets)\n",
    "g.genelife.initialize(g.runparams,g.simparams)\n",
    "g.framenr = 0\n",
    "g.cnt=0\n",
    "g.show0()\n",
    "#g.step()\n",
    "#g.step()\n",
    "g.run(g.nrun, g.ndisp, g.nskip, g.niter, g.nhist, g.nstat, False)"
   ]
  },
  {
   "cell_type": "code",
   "execution_count": 27,
   "metadata": {},
   "outputs": [
    {
     "data": {
      "text/plain": [
       "Text(0, 0.5, 'novel cells')"
      ]
     },
     "execution_count": 27,
     "metadata": {},
     "output_type": "execute_result"
    },
    {
     "data": {
      "image/png": "[encoded data removed]",
      "text/plain": [
       "<Figure size 432x288 with 1 Axes>"
      ]
     },
     "metadata": {
      "needs_background": "light"
     },
     "output_type": "display_data"
    }
   ],
   "source": [
    "plt.plot(g.nnovelcells[:3000],'black')\n",
    "plt.xlabel('time steps')\n",
    "plt.ylabel('novel cells')"
   ]
  },
  {
   "cell_type": "markdown",
   "metadata": {},
   "source": [
    "### 8.5 Some post processing of run"
   ]
  },
  {
   "cell_type": "code",
   "execution_count": null,
   "metadata": {},
   "outputs": [],
   "source": [
    "# display colors used in colorfunction 10 activities mode size (once \"p\" pressed)\n",
    "i= 0;\n",
    "for colr in [0x800000FF, 0xE40000FF, 0xFF4A00FF, 0xFFAD00FF, 0xECFF13FF, 0x87FF78FF, 0x23FFDCFF, 0x00BDFFFF, 0x005AFFFF, 0x0000F5FF, 0x00008FFF]:\n",
    "    g.pg.draw.rect(g.scr,colr,[i,i,20,20])\n",
    "    i=i+20\n",
    "g.pg.transform.scale2xact(g.scr,g.screen)\n",
    "g.pg.display.update() "
   ]
  },
  {
   "cell_type": "code",
   "execution_count": null,
   "metadata": {
    "code_folding": []
   },
   "outputs": [],
   "source": [
    "maxsmallpatts = 65536\n",
    "# smallpattdtype defined in genelife_update_module.py\n",
    "# smallpattdtype=[('topactivity',c_uint32),('activity',c_uint32),('firsttime',c_uint32),('lasttime',c_uint32)]\n",
    "# print g.genelife.smallpattdtype\n",
    "smallpatts = np.zeros(maxsmallpatts,dtype=g.genelife.smallpattdtype)\n",
    "nsmallpatts=g.genelife.get_smallpatts(smallpatts)\n",
    "print 'nsmallpatts',nsmallpatts\n",
    "# output table of first 100 values\n",
    "print '   patt size topactivity activity  firsttime  lasttime'\n",
    "for i in range(1,100):\n",
    "    if i<=1: log2n = 0\n",
    "    else: log2n = int(1+np.log2(int(np.sqrt(i-1)))) \n",
    "    print \" %6d %4d %8d %8d %10d %10d\" % (i, log2n, smallpatts[i]['topactivity'], smallpatts[i]['activity'], smallpatts[i]['firsttime'],smallpatts[i]['lasttime'])\n",
    "histnodes = np.zeros(10)\n",
    "for i in range(1:len(smallpatts)):\n",
    "    if (smallpatts[i]['activity']):\n",
    "        if i<=1: log2n = 0\n",
    "        else: log2n = int(1+np.log2(int(np.sqrt(i-1))))  \n",
    "        histnodes[log2n]=histnodes[log2n]+1\n",
    "for i in range(10):\n",
    "    print i,'%7d' % histnodes[i],'out of possible 2^',2**(2*i),'-1'"
   ]
  },
  {
   "cell_type": "code",
   "execution_count": null,
   "metadata": {},
   "outputs": [],
   "source": [
    "g.set_params()\n",
    "g.genelife.initialize(g.runparams,g.simparams)\n",
    "g.run(g.nrun, g.ndisp, g.nskip, g.niter, g.nhist, g.nstat, False)"
   ]
  },
  {
   "cell_type": "markdown",
   "metadata": {},
   "source": [
    "## 9 Selection: Totalistic LUT encoded by gene with variable length encoding"
   ]
  },
  {
   "cell_type": "markdown",
   "metadata": {},
   "source": [
    "### 9.1 Game of Life with selection==9"
   ]
  },
  {
   "cell_type": "code",
   "execution_count": 3,
   "metadata": {},
   "outputs": [],
   "source": [
    "#  9 GoL\n",
    "#  selection=9 sum totalistic LUT with appropriate parameters for survival and genes encoding LUT in variable length direct encoding\n",
    "#  this case uses the genes to encode the totalistic (s dept) rule tables for birth and survival\n",
    "#  birth rules are encoded as 1xxx where xxx is sum-1 of live neighbours and survival rules by 0xxx\n",
    "#  birth is determined by the existence of a 4-bit birth rule somewhere  in the live neighbour genes for current s=1-8\n",
    "#  survival is determined by the existence of a 4-bit survival rule somewhere  in the live neighbour genes for current s=1-8\n",
    "#  in an alternative version (see commented line in update_lut_sum) survival is by the central live neighbour gene\n",
    "#  ncoding may be set (1-7) to require more bits of gene be 1 to turn on a rule\n",
    "g.nrun=1; g.ndisp=1000; g.nskip=0; g.niter=1; # simulation time stepping parameters\n",
    "g.nhist = 0                                  # set to n to turn on histogram configurations every nth step\n",
    "g.nstat = 0                                  # set to n to turn on statistics trace every nth step\n",
    "g.rulemod = g.runparams[0] = 1               # 0,1 whether to allow GoL rule modifications\n",
    "g.repscheme = g.runparams[1] = 0x160         # 1 ignore disambiguation, 7 scissors-paper-stone-well, 0 nbs determine survival, AND of nbs for birth and survival, most difft chosen\n",
    "g.selection = g.runparams[2] = 9             # fitness for 2 live neighbor rule : 0-6 see subgenelife.c code\n",
    "g.overwritemask = g.runparams[3] = 0x00      # mask of bits to overwrite if birth allowed and already occupied for bit position sum s\n",
    "g.survivalmask = g.runparams[4] = 0x06       # 8 bit survival mask for allowing genes to modify LUTs\n",
    "g.birthmask = g.runparams[7] = 0x04          # 8 bit birth mask for allowing genes to modify LUTs\n",
    "g.ancselectmask = g.runparams[8] = 0xff      # genetic selection rather than position dependence determines ancestor for all s\n",
    "g.colorfunction = g.runparams[5] = 12        # initial color function : use arrow keys to update\n",
    "g.initfield = g.runparams[6] = 100           # 1 init via 32x32 genepat.dat, n>1 init via nxn rand array\n",
    "g.nlog2pmut = g.simparams[0] = 8             # log2 gene mutation probability (0 or >56 means no mutation)\n",
    "g.initial1density = g.simparams[1] =  8192   # initial 1 density in GOL state, 16384 = nearest to half of C rand max value 32767 = 2**15 - 1\n",
    "g.initialrdensity = g.simparams[2] = 0       # initial density of random genes\n",
    "g.ncoding = g.simparams[3] = 0x1             # for selection==8, lut, ncoding 1,2,3 bits per lut entry : 0 implies 3.\n",
    "g.startgenechoice = g.simparams[4] = 8       # initialize genes to startgene number 0-8 : 8 is random choice of 0-7\n",
    "g.genelife.initialize_planes(g.npoffsets)\n",
    "g.genelife.initialize(g.runparams,g.simparams)\n",
    "g.framenr = 0\n",
    "g.cnt=0\n",
    "g.show0()\n",
    "# step()\n",
    "g.run(g.nrun, g.ndisp, g.nskip, g.niter, g.nhist, g.nstat, False)"
   ]
  },
  {
   "cell_type": "code",
   "execution_count": null,
   "metadata": {},
   "outputs": [],
   "source": []
  },
  {
   "cell_type": "markdown",
   "metadata": {},
   "source": [
    "### 9.2 Scissors-paper-stone-well selection with selection==9"
   ]
  },
  {
   "cell_type": "markdown",
   "metadata": {},
   "source": [
    "* standard subselection mode 7 (repscheme 170) \n",
    "* population of gliders with long term cooperation "
   ]
  },
  {
   "cell_type": "code",
   "execution_count": 12,
   "metadata": {},
   "outputs": [],
   "source": [
    "#  9 \n",
    "#  selection=9 sum totalistic LUT with appropriate parameters for survival and genes encoding LUT in variable length direct encoding\n",
    "#  this case uses the genes to encode the totalistic (s dept) rule tables for birth and survival\n",
    "#  birth rules are encoded as 1xxx where xxx is sum-1 of live neighbours and survival rules by 0xxx\n",
    "#  birth is determined by the existence of a 4-bit birth rule somewhere  in the live neighbour genes for current s=1-8\n",
    "#  survival is determined by the existence of a 4-bit survival rule somewhere  in the live neighbour genes for current s=1-8\n",
    "#  in an alternative version (see commented line in update_lut_sum) survival is by the central live neighbour gene\n",
    "#  ncoding may be set (1-7) to require more bits of gene be 1 to turn on a rule\n",
    "g.nrun=1; g.ndisp=1000; g.nskip=0; g.niter=1; # simulation time stepping parameters\n",
    "g.nhist = 0                                  # set to n to turn on histogram configurations every nth step\n",
    "g.nstat = 0                                  # set to n to turn on statistics trace every nth step\n",
    "g.rulemod = g.runparams[0] = 1               # 0,1 whether to allow GoL rule modifications\n",
    "g.repscheme = g.runparams[1] = 0x173         # 1 ignore disambiguation, 7 scissors-paper-stone-well, 0 nbs determine survival, AND of nbs for birth and survival, most difft chosen\n",
    "g.selection = g.runparams[2] = 9             # fitness for 2 live neighbor rule : 0-6 see subgenelife.c code\n",
    "g.overwritemask = g.runparams[3] = 0x06      # mask of bits to overwrite if birth allowed and already occupied for bit position sum s\n",
    "g.survivalmask = g.runparams[4] = 0x00       # 8 bit survival mask for allowing genes to modify LUTs\n",
    "g.birthmask = g.runparams[7] = 0x06          # 8 bit birth mask for allowing genes to modify LUTs\n",
    "g.ancselectmask = g.runparams[8] = 0xff      # genetic selection rather than position dependence determines ancestor for all s\n",
    "g.colorfunction = g.runparams[5] = 0         # initial color function : use arrow keys to update\n",
    "g.initfield = g.runparams[6] = 100           # 1 init via 32x32 genepat.dat, n>1 init via nxn rand array\n",
    "g.nlog2pmut = g.simparams[0] = 10             # log2 gene mutation probability (0 or >56 means no mutation)\n",
    "g.initial1density = g.simparams[1] =  8192   # initial 1 density in GOL state, 16384 = nearest to half of C rand max value 32767 = 2**15 - 1\n",
    "g.initialrdensity = g.simparams[2] = 0       # initial density of random genes\n",
    "g.ncoding = g.simparams[3] = 0x1             # for selection==8, lut, ncoding 1,2,3 bits per lut entry : 0 implies 3.\n",
    "g.startgenechoice = g.simparams[4] = 8       # initialize genes to startgene number 0-8 : 8 is random choice of 0-7\n",
    "g.genelife.initialize_planes(g.npoffsets)\n",
    "g.genelife.initialize(g.runparams,g.simparams)\n",
    "g.framenr = 0\n",
    "g.cnt=0\n",
    "g.show0()\n",
    "# g.step()\n",
    "g.run(g.nrun, g.ndisp, g.nskip, g.niter, g.nhist, g.nstat, False)"
   ]
  },
  {
   "cell_type": "code",
   "execution_count": null,
   "metadata": {},
   "outputs": [],
   "source": [
    "#  9 \n",
    "#  selection=9 sum totalistic LUT with appropriate parameters for survival and genes encoding LUT in variable length direct encoding\n",
    "#  this case uses the genes to encode the totalistic (s dept) rule tables for birth and survival\n",
    "#  birth rules are encoded as 1xxx where xxx is sum-1 of live neighbours and survival rules by 0xxx\n",
    "#  birth is determined by the existence of a 4-bit birth rule somewhere  in the live neighbour genes for current s=1-8\n",
    "#  survival is determined by the existence of a 4-bit survival rule somewhere  in the live neighbour genes for current s=1-8\n",
    "#  in an alternative version (see commented line in update_lut_sum) survival is by the central live neighbour gene\n",
    "#  ncoding may be set (1-7) to require more bits of gene be 1 to turn on a rule\n",
    "g.nrun=1; g.ndisp=1000; g.nskip=0; g.niter=1; # simulation time stepping parameters\n",
    "g.nhist = 0                                  # set to n to turn on histogram configurations every nth step\n",
    "g.nstat = 0                                  # set to n to turn on statistics trace every nth step\n",
    "g.rulemod = g.runparams[0] = 1               # 0,1 whether to allow GoL rule modifications\n",
    "g.repscheme = g.runparams[1] = 0x208         # 1 ignore disambiguation, 7 scissors-paper-stone-well, 0 nbs determine survival, AND of nbs for birth and survival, most difft chosen\n",
    "g.selection = g.runparams[2] = 9             # fitness for 2 live neighbor rule : 0-6 see subgenelife.c code\n",
    "g.overwritemask = g.runparams[3] = 0x2c      # mask of bits to overwrite if birth allowed and already occupied for bit position sum s\n",
    "g.survivalmask = g.runparams[4] = 0x20       # 8 bit survival mask for allowing genes to modify LUTs\n",
    "g.birthmask = g.runparams[7] = 0x5c          # 8 bit birth mask for allowing genes to modify LUTs\n",
    "g.ancselectmask = g.runparams[8] = 0xff      # genetic selection rather than position dependence determines ancestor for all s\n",
    "g.colorfunction = g.runparams[5] = 0         # initial color function : use arrow keys to update\n",
    "g.initfield = g.runparams[6] = 0           # 1 init via 32x32 genepat.dat, n>1 init via nxn rand array\n",
    "g.nlog2pmut = g.simparams[0] = 8             # log2 gene mutation probability (0 or >56 means no mutation)\n",
    "g.initial1density = g.simparams[1] =  8192   # initial 1 density in GOL state, 16384 = nearest to half of C rand max value 32767 = 2**15 - 1\n",
    "g.initialrdensity = g.simparams[2] = 0       # initial density of random genes\n",
    "g.ncoding = g.simparams[3] = 0x1             # for selection==8, lut, ncoding 1,2,3 bits per lut entry : 0 implies 3.\n",
    "g.startgenechoice = g.simparams[4] = 8       # initialize genes to startgene number 0-8 : 8 is random choice of 0-7\n",
    "g.genelife.initialize_planes(g.npoffsets)\n",
    "g.genelife.initialize(g.runparams,g.simparams)\n",
    "g.framenr = 0\n",
    "g.cnt=0\n",
    "g.show0()\n",
    "# step()\n",
    "g.run(g.nrun, g.ndisp, g.nskip, g.niter, g.nhist, g.nstat, False)"
   ]
  },
  {
   "cell_type": "code",
   "execution_count": null,
   "metadata": {},
   "outputs": [],
   "source": [
    "#  9 \n",
    "#  selection=9 sum totalistic LUT with appropriate parameters for survival and genes encoding LUT in variable length direct encoding\n",
    "#  this case uses the genes to encode the totalistic (s dept) rule tables for birth and survival\n",
    "#  birth rules are encoded as 1xxx where xxx is sum-1 of live neighbours and survival rules by 0xxx\n",
    "#  birth is determined by the existence of a 4-bit birth rule somewhere  in the live neighbour genes for current s=1-8\n",
    "#  survival is determined by the existence of a 4-bit survival rule somewhere  in the live neighbour genes for current s=1-8\n",
    "#  in an alternative version (see commented line in update_lut_sum) survival is by the central live neighbour gene\n",
    "#  ncoding may be set (1-7) to require more bits of gene be 1 to turn on a rule\n",
    "g.nrun=1; g.ndisp=1000; g.nskip=0; g.niter=1; # simulation time stepping parameters\n",
    "g.nhist = 0                                  # set to n to turn on histogram configurations every nth step\n",
    "g.nstat = 0                                  # set to n to turn on statistics trace every nth step\n",
    "g.rulemod = g.runparams[0] = 1               # 0,1 whether to allow GoL rule modifications\n",
    "g.repscheme = g.runparams[1] = 0x208         # 1 ignore disambiguation, 7 scissors-paper-stone-well, 0 nbs determine survival, AND of nbs for birth and survival, most difft chosen\n",
    "g.selection = g.runparams[2] = 9             # fitness for 2 live neighbor rule : 0-6 see subgenelife.c code\n",
    "g.overwritemask = g.runparams[3] = 0x2c      # mask of bits to overwrite if birth allowed and already occupied for bit position sum s\n",
    "g.survivalmask = g.runparams[4] = 0x20       # 8 bit survival mask for allowing genes to modify LUTs\n",
    "g.birthmask = g.runparams[7] = 0x5c          # 8 bit birth mask for allowing genes to modify LUTs\n",
    "g.ancselectmask = g.runparams[8] = 0xff      # genetic selection rather than position dependence determines ancestor for all s\n",
    "g.colorfunction = g.runparams[5] = 0         # initial color function : use arrow keys to update\n",
    "g.initfield = g.runparams[6] = 0           # 1 init via 32x32 genepat.dat, n>1 init via nxn rand array\n",
    "g.nlog2pmut = g.simparams[0] = 8             # log2 gene mutation probability (0 or >56 means no mutation)\n",
    "g.initial1density = g.simparams[1] =  8192   # initial 1 density in GOL state, 16384 = nearest to half of C rand max value 32767 = 2**15 - 1\n",
    "g.initialrdensity = g.simparams[2] = 0       # initial density of random genes\n",
    "g.ncoding = g.simparams[3] = 0x1             # for selection==8, lut, ncoding 1,2,3 bits per lut entry : 0 implies 3.\n",
    "g.startgenechoice = g.simparams[4] = 8       # initialize genes to startgene number 0-8 : 8 is random choice of 0-7\n",
    "g.genelife.initialize_planes(g.npoffsets)\n",
    "g.genelife.initialize(g.runparams,g.simparams)\n",
    "g.framenr = 0\n",
    "g.cnt=0\n",
    "g.show0()\n",
    "# step()\n",
    "g.run(g.nrun, g.ndisp, g.nskip, g.niter, g.nhist, g.nstat, False)"
   ]
  },
  {
   "cell_type": "code",
   "execution_count": null,
   "metadata": {},
   "outputs": [],
   "source": [
    "\n",
    "g.get_shist()"
   ]
  },
  {
   "cell_type": "markdown",
   "metadata": {},
   "source": [
    "### 9.3 Stable population with occasional propagating waves"
   ]
  },
  {
   "cell_type": "markdown",
   "metadata": {},
   "source": [
    "* genetically stable population (high flying waves) with room for lots of lower waves.\n",
    "* propagating fronts look a little like reaction diffusion fronts.  \n",
    "* propagating fronts may diminish after long time (> ~10k steps)"
   ]
  },
  {
   "cell_type": "code",
   "execution_count": null,
   "metadata": {},
   "outputs": [],
   "source": [
    "#  9 \n",
    "#  selection=9 sum totalistic LUT with appropriate parameters for survival and genes encoding LUT in variable length direct encoding\n",
    "#  this case uses the genes to encode the totalistic (s dept) rule tables for birth and survival\n",
    "#  birth rules are encoded as 1xxx where xxx is sum-1 of live neighbours and survival rules by 0xxx\n",
    "#  birth is determined by the existence of a 4-bit birth rule somewhere  in the live neighbour genes for current s=1-8\n",
    "#  survival is determined by the existence of a 4-bit survival rule somewhere  in the live neighbour genes for current s=1-8\n",
    "#  in an alternative version (see commented line in update_lut_sum) survival is by the central live neighbour gene\n",
    "#  ncoding may be set (1-7) to require more bits of gene be 1 to turn on a rule\n",
    "g.nrun=1; g.ndisp=1000; g.nskip=0; g.niter=1; # simulation time stepping parameters\n",
    "g.nhist = 0                                  # set to n to turn on histogram configurations every nth step\n",
    "g.nstat = 0                                  # set to n to turn on statistics trace every nth step\n",
    "g.rulemod = g.runparams[0] = 1               # 0,1 whether to allow GoL rule modifications\n",
    "                                             # with rulemod 1 2-live-nb birth, 3-live-nb non-birth & non-survival possible\n",
    "g.repscheme = g.runparams[1] = 0x660 \n",
    "g.selection = g.runparams[2] = 9             # fitness for 2 live neighbor rule : 0-6 see subgenelife.c code\n",
    "g.overwritemask = g.runparams[3] = 0         # mask of bits to overwrite if birth allowed and already occupied for bit position sum s\n",
    "g.survivalmask = g.runparams[4] = 0x01       # 8 bit survival mask for allowing genes to modify LUTs\n",
    "g.birthmask = g.runparams[7] = 0x0d          # 8 bit birth mask for allowing genes to modify LUTs\n",
    "g.colorfunction = g.runparams[5] = 0         # color function 0(hash), ≥1(fnal), 2 nongulstate or color gol planes, 3 notgolrul yellow\n",
    "                                             # 4 activities 5 genealogy steps 6 genealogy temporal 7 activity scaled colors\n",
    "g.initfield = g.runparams[6] = 150           # 1 init via 32x32 genepat.dat, n>1 init via nxn rand array\n",
    "g.nlog2pmut = g.simparams[0] = 7             # log2 gene mutation probability (0 or >56 means no mutation)\n",
    "g.initial1density = g.simparams[1] =  10000   # initial 1 density in GOL state\n",
    "                                             # 16384 = nearest to half of guaranteed C rand max value 32767 = 2**15 - 1\n",
    "g.initialrdensity = g.simparams[2] = 10000       # initial density of random genes\n",
    "g.ncoding = g.simparams[3] = 0x1             # for selection 10, non zero value means grow plane community from 0\n",
    "                                             # otherwise (selection<10) no of bits used to encode valid connection functions 1-16\n",
    "                                             # for selection==8, lut, ncoding 1,2,3 bits per lut entry : 0 implies 3.\n",
    "g.startgenechoice = g.simparams[4] = 2       # initialize genes to startgene number 0-8 : 8 is random choice of 0-7\n",
    "\n",
    "g.genelife.initialize_planes(g.npoffsets)\n",
    "g.genelife.initialize(g.runparams,g.simparams)\n",
    "g.framenr = 0\n",
    "g.cnt=0\n",
    "g.show0()\n",
    "# step()\n",
    "g.run(g.nrun, g.ndisp, g.nskip, g.niter, g.nhist, g.nstat, False)"
   ]
  },
  {
   "cell_type": "markdown",
   "metadata": {},
   "source": [
    "### 9.4 Asymptotic dynamics with 2 time scales"
   ]
  },
  {
   "cell_type": "markdown",
   "metadata": {},
   "source": [
    "* slow time scale: quasi-static islands\n",
    "* fast time scale: fast dynamics in between the islands, gradually changing island boundaries.\n",
    "* mess with `survivalmask` to change nature of islands (e.g. `0xd`, `0x1d`)\n",
    "* seems to be ongoing evolution on both time scales.\n",
    "* at `t=25000`, hit `Expanding hash table items at table count 262144`"
   ]
  },
  {
   "cell_type": "code",
   "execution_count": null,
   "metadata": {},
   "outputs": [],
   "source": [
    "#  9 \n",
    "#  selection=9 sum totalistic LUT with appropriate parameters for survival and genes encoding LUT in variable length direct encoding\n",
    "#  this case uses the genes to encode the totalistic (s dept) rule tables for birth and survival\n",
    "#  birth rules are encoded as 1xxx where xxx is sum-1 of live neighbours and survival rules by 0xxx\n",
    "#  birth is determined by the existence of a 4-bit birth rule somewhere  in the live neighbour genes for current s=1-8\n",
    "#  survival is determined by the existence of a 4-bit survival rule somewhere  in the live neighbour genes for current s=1-8\n",
    "#  in an alternative version (see commented line in update_lut_sum) survival is by the central live neighbour gene\n",
    "#  ncoding may be set (1-7) to require more bits of gene be 1 to turn on a rule\n",
    "g.nrun=1; g.ndisp=1000; g.nskip=0; g.niter=1; # simulation time stepping parameters\n",
    "g.nhist = 0                                  # set to n to turn on histogram configurations every nth step\n",
    "g.nstat = 0                                  # set to n to turn on statistics trace every nth step\n",
    "g.rulemod = g.runparams[0] = 1               # 0,1 whether to allow GoL rule modifications\n",
    "                                             # with rulemod 1 2-live-nb birth, 3-live-nb non-birth & non-survival possible\n",
    "g.repscheme = g.runparams[1] = 0x660 \n",
    "g.selection = g.runparams[2] = 9             # fitness for 2 live neighbor rule : 0-6 see subgenelife.c code\n",
    "g.overwritemask = g.runparams[3] = 0         # mask of bits to overwrite if birth allowed and already occupied for bit position sum s\n",
    "g.survivalmask = g.runparams[4] = 0x03       # 8 bit survival mask for allowing genes to modify LUTs\n",
    "g.birthmask = g.runparams[7] = 0x0d          # 8 bit birth mask for allowing genes to modify LUTs\n",
    "g.colorfunction = g.runparams[5] = 0         # color function 0(hash), ≥1(fnal), 2 nongulstate or color gol planes, 3 notgolrul yellow\n",
    "                                             # 4 activities 5 genealogy steps 6 genealogy temporal 7 activity scaled colors\n",
    "g.initfield = g.runparams[6] = 150           # 1 init via 32x32 genepat.dat, n>1 init via nxn rand array\n",
    "g.nlog2pmut = g.simparams[0] = 7             # log2 gene mutation probability (0 or >56 means no mutation)\n",
    "g.initial1density = g.simparams[1] =  10000   # initial 1 density in GOL state\n",
    "                                             # 16384 = nearest to half of guaranteed C rand max value 32767 = 2**15 - 1\n",
    "g.initialrdensity = g.simparams[2] = 10000       # initial density of random genes\n",
    "g.ncoding = g.simparams[3] = 0x1             # for selection 10, non zero value means grow plane community from 0\n",
    "                                             # otherwise (selection<10) no of bits used to encode valid connection functions 1-16\n",
    "                                             # for selection==8, lut, ncoding 1,2,3 bits per lut entry : 0 implies 3.\n",
    "g.startgenechoice = g.simparams[4] = 2       # initialize genes to startgene number 0-8 : 8 is random choice of 0-7\n",
    "\n",
    "g.genelife.initialize_planes(g.npoffsets)\n",
    "g.genelife.initialize(g.runparams,g.simparams)\n",
    "g.framenr = 0\n",
    "g.cnt=0\n",
    "g.show0()\n",
    "# step()\n",
    "g.run(g.nrun, g.ndisp, g.nskip, g.niter, g.nhist, g.nstat, False)"
   ]
  },
  {
   "cell_type": "markdown",
   "metadata": {},
   "source": [
    "with `survivalmask = 0x9d`:"
   ]
  },
  {
   "cell_type": "code",
   "execution_count": null,
   "metadata": {},
   "outputs": [],
   "source": [
    "#  9 \n",
    "#  selection=9 sum totalistic LUT with appropriate parameters for survival and genes encoding LUT in variable length direct encoding\n",
    "#  this case uses the genes to encode the totalistic (s dept) rule tables for birth and survival\n",
    "#  birth rules are encoded as 1xxx where xxx is sum-1 of live neighbours and survival rules by 0xxx\n",
    "#  birth is determined by the existence of a 4-bit birth rule somewhere  in the live neighbour genes for current s=1-8\n",
    "#  survival is determined by the existence of a 4-bit survival rule somewhere  in the live neighbour genes for current s=1-8\n",
    "#  in an alternative version (see commented line in update_lut_sum) survival is by the central live neighbour gene\n",
    "#  ncoding may be set (1-7) to require more bits of gene be 1 to turn on a rule\n",
    "g.nrun=1; g.ndisp=1000; g.nskip=0; g.niter=1; # simulation time stepping parameters\n",
    "g.nhist = 0                                  # set to n to turn on histogram configurations every nth step\n",
    "g.nstat = 0                                  # set to n to turn on statistics trace every nth step\n",
    "g.rulemod = g.runparams[0] = 1               # 0,1 whether to allow GoL rule modifications\n",
    "                                             # with rulemod 1 2-live-nb birth, 3-live-nb non-birth & non-survival possible\n",
    "g.repscheme = g.runparams[1] = 0x660 \n",
    "g.selection = g.runparams[2] = 9             # fitness for 2 live neighbor rule : 0-6 see subgenelife.c code\n",
    "g.overwritemask = g.runparams[3] = 0         # mask of bits to overwrite if birth allowed and already occupied for bit position sum s\n",
    "g.survivalmask = g.runparams[4] = 0x1d       # 8 bit survival mask for allowing genes to modify LUTs\n",
    "g.birthmask = g.runparams[7] = 0x0d          # 8 bit birth mask for allowing genes to modify LUTs\n",
    "g.colorfunction = g.runparams[5] = 0         # color function 0(hash), ≥1(fnal), 2 nongulstate or color gol planes, 3 notgolrul yellow\n",
    "                                             # 4 activities 5 genealogy steps 6 genealogy temporal 7 activity scaled colors\n",
    "g.initfield = g.runparams[6] = 150           # 1 init via 32x32 genepat.dat, n>1 init via nxn rand array\n",
    "g.nlog2pmut = g.simparams[0] = 7             # log2 gene mutation probability (0 or >56 means no mutation)\n",
    "g.initial1density = g.simparams[1] =  10000   # initial 1 density in GOL state\n",
    "                                             # 16384 = nearest to half of guaranteed C rand max value 32767 = 2**15 - 1\n",
    "g.initialrdensity = g.simparams[2] = 10000       # initial density of random genes\n",
    "g.ncoding = g.simparams[3] = 0x1             # for selection 10, non zero value means grow plane community from 0\n",
    "                                             # otherwise (selection<10) no of bits used to encode valid connection functions 1-16\n",
    "                                             # for selection==8, lut, ncoding 1,2,3 bits per lut entry : 0 implies 3.\n",
    "g.startgenechoice = g.simparams[4] = 2       # initialize genes to startgene number 0-8 : 8 is random choice of 0-7\n",
    "\n",
    "g.genelife.initialize_planes(g.npoffsets)\n",
    "g.genelife.initialize(g.runparams,g.simparams)\n",
    "g.framenr = 0\n",
    "g.cnt=0\n",
    "g.show0()\n",
    "# step()\n",
    "g.run(g.nrun, g.ndisp, g.nskip, g.niter, g.nhist, g.nstat, False)"
   ]
  },
  {
   "cell_type": "code",
   "execution_count": null,
   "metadata": {},
   "outputs": [],
   "source": []
  },
  {
   "cell_type": "code",
   "execution_count": null,
   "metadata": {},
   "outputs": [],
   "source": [
    "g.run(g.nrun, g.ndisp, g.nskip, g.niter, g.nhist, g.nstat, False)"
   ]
  },
  {
   "cell_type": "markdown",
   "metadata": {},
   "source": [
    "### 9.5 Long interesting transient"
   ]
  },
  {
   "cell_type": "markdown",
   "metadata": {},
   "source": [
    "Ends with interesting variegated static cruft, with evolutionarily stable dynamics between."
   ]
  },
  {
   "cell_type": "code",
   "execution_count": null,
   "metadata": {},
   "outputs": [],
   "source": [
    "#  9 \n",
    "#  selection=9 sum totalistic LUT with appropriate parameters for survival and genes encoding LUT in variable length direct encoding\n",
    "#  this case uses the genes to encode the totalistic (s dept) rule tables for birth and survival\n",
    "#  birth rules are encoded as 1xxx where xxx is sum-1 of live neighbours and survival rules by 0xxx\n",
    "#  birth is determined by the existence of a 4-bit birth rule somewhere  in the live neighbour genes for current s=1-8\n",
    "#  survival is determined by the existence of a 4-bit survival rule somewhere  in the live neighbour genes for current s=1-8\n",
    "#  in an alternative version (see commented line in update_lut_sum) survival is by the central live neighbour gene\n",
    "#  ncoding may be set (1-7) to require more bits of gene be 1 to turn on a rule\n",
    "g.nrun=1; g.ndisp=1000; g.nskip=0; g.niter=1; # simulation time stepping parameters\n",
    "g.nhist = 0                                  # set to n to turn on histogram configurations every nth step\n",
    "g.nstat = 0                                  # set to n to turn on statistics trace every nth step\n",
    "g.rulemod = g.runparams[0] = 1               # 0,1 whether to allow GoL rule modifications\n",
    "                                             # with rulemod 1 2-live-nb birth, 3-live-nb non-birth & non-survival possible\n",
    "g.repscheme = g.runparams[1] = 0x660 \n",
    "g.selection = g.runparams[2] = 9             # fitness for 2 live neighbor rule : 0-6 see subgenelife.c code\n",
    "g.overwritemask = g.runparams[3] = 0         # for selection=9 this is the birth mask\n",
    "g.survivalmask = g.runparams[4] = 0xff       # 8 bit survival mask for allowing genes to modify LUTs\n",
    "g.birthmask = g.runparams[7] = 0x0a          # 8 bit birth mask for allowing genes to modify LUTs\n",
    "g.colorfunction = g.runparams[5] = 0         # color function: can be changed up to 12 with arrow keys\n",
    "g.initfield = g.runparams[6] = 100           # 1 init via 32x32 genepat.dat, n>1 init via nxn rand array\n",
    "g.nlog2pmut = g.simparams[0] = 7             # log2 gene mutation probability (0 or >56 means no mutation)\n",
    "g.initial1density = g.simparams[1] =  10000  # initial 1 density in GOL state: 16384 = nearest to half of C rand max value 32767 = 2**15 - 1\n",
    "g.initialrdensity = g.simparams[2] = 10000   # initial density of random genes\n",
    "g.ncoding = g.simparams[3] = 0x1             # not used for selection 9\n",
    "g.startgenechoice = g.simparams[4] = 2       # initialize genes to startgene number 0-8 : 8 is random choice of 0-7\n",
    "\n",
    "g.genelife.initialize_planes(g.npoffsets)\n",
    "g.genelife.initialize(g.runparams,g.simparams)\n",
    "g.framenr = 0\n",
    "g.cnt=0\n",
    "g.show0()\n",
    "# step()\n",
    "g.run(g.nrun, g.ndisp, g.nskip, g.niter, g.nhist, g.nstat, False)"
   ]
  },
  {
   "cell_type": "code",
   "execution_count": null,
   "metadata": {},
   "outputs": [],
   "source": [
    "g.set_params()\n",
    "g.genelife.initialize(g.runparams,g.simparams)\n",
    "g.run(g.nrun, g.ndisp, g.nskip, g.niter, g.nhist, g.nstat, False)"
   ]
  },
  {
   "cell_type": "markdown",
   "metadata": {},
   "source": [
    "### 9.6 Daptics optimized glider parameters"
   ]
  },
  {
   "cell_type": "markdown",
   "metadata": {},
   "source": [
    "The Daptics run optimizing (glider count) / (nr of live cells)^2 yielded this"
   ]
  },
  {
   "cell_type": "code",
   "execution_count": null,
   "metadata": {},
   "outputs": [],
   "source": [
    "#  9 Daptics optimized parameters for gliders\n",
    "g.nrun=1; g.ndisp=1000; g.nskip=0; g.niter=1; # simulation time stepping parameters\n",
    "g.nhist = 0                                  # set to n to turn on histogram configurations every nth step\n",
    "g.nstat = 0                                  # set to n to turn on statistics trace every nth step\n",
    "g.rulemod = g.runparams[0] = 1               # 0,1 whether to allow GoL rule modifications\n",
    "g.repscheme = g.runparams[1] =    0x1c4      # 1 ignore disambiguation, 7 scissors-paper-stone-well, 0 nbs determine survival, AND of nbs for birth and survival, most difft chosen\n",
    "g.selection = g.runparams[2] = 9             # fitness for 2 live neighbor rule : 0-6 see subgenelife.c code\n",
    "g.survivalmask = g.runparams[4] =  0x84      # 8 bit survival mask for allowing genes to modify LUTs\n",
    "g.birthmask = g.runparams[7] =     0x92      # 8 bit birth mask for allowing genes to modify LUTs\n",
    "g.overwritemask = g.runparams[3] = 0x2c      # mask of bits to overwrite if birth allowed and already occupied for bit position sum s\n",
    "g.ancselectmask = g.runparams[8] = 0xff      # genetic selection rather than position dependence determines ancestor for all s\n",
    "g.colorfunction = g.runparams[5] = 0         # initial color function : use arrow keys to update\n",
    "g.initfield = g.runparams[6] = 0           # 1 init via 32x32 genepat.dat, n>1 init via nxn rand array\n",
    "g.nlog2pmut = g.simparams[0] = 5             # log2 gene mutation probability (0 or >56 means no mutation)\n",
    "g.initial1density = g.simparams[1] =  8192   # initial 1 density in GOL state, 16384 = nearest to half of C rand max value 32767 = 2**15 - 1\n",
    "g.initialrdensity = g.simparams[2] = 0       # initial density of random genes\n",
    "g.ncoding = g.simparams[3] = 0x1             # for selection==8, lut, ncoding 1,2,3 bits per lut entry : 0 implies 3.\n",
    "g.startgenechoice = g.simparams[4] = 8       # initialize genes to startgene number 0-8 : 8 is random choice of 0-7\n",
    "g.genelife.initialize_planes(g.npoffsets)\n",
    "g.genelife.initialize(g.runparams,g.simparams)\n",
    "g.framenr = 0\n",
    "g.cnt=0\n",
    "g.show0()\n",
    "g.run(g.nrun, g.ndisp, g.nskip, g.niter, g.nhist, g.nstat, False)"
   ]
  },
  {
   "cell_type": "markdown",
   "metadata": {},
   "source": [
    "Note that this can be simplifed to the following, withut major eeffect on dynamics, adding s=3 birth is then interesting"
   ]
  },
  {
   "cell_type": "code",
   "execution_count": null,
   "metadata": {},
   "outputs": [],
   "source": [
    "#  9 Daptics optimized parameters for gliders\n",
    "g.nrun=1; g.ndisp=1000; g.nskip=0; g.niter=1; # simulation time stepping parameters\n",
    "g.nhist = 0                                  # set to n to turn on histogram configurations every nth step\n",
    "g.nstat = 0                                  # set to n to turn on statistics trace every nth step\n",
    "g.rulemod = g.runparams[0] = 1               # 0,1 whether to allow GoL rule modifications\n",
    "g.repscheme = g.runparams[1] =    0x1c0      # 1 ignore disambiguation, 7 scissors-paper-stone-well, 0 nbs determine survival, AND of nbs for birth and survival, most difft chosen\n",
    "g.selection = g.runparams[2] = 9             # fitness for 2 live neighbor rule : 0-6 see subgenelife.c code\n",
    "g.survivalmask = g.runparams[4] =  0x00      # 8 bit survival mask for allowing genes to modify LUTs\n",
    "g.birthmask = g.runparams[7] =     0x02      # 8 bit birth mask for allowing genes to modify LUTs\n",
    "g.overwritemask = g.runparams[3] = 0x00      # mask of bits to overwrite if birth allowed and already occupied for bit position sum s\n",
    "g.ancselectmask = g.runparams[8] = 0xff      # genetic selection rather than position dependence determines ancestor for all s\n",
    "g.colorfunction = g.runparams[5] = 0         # initial color function : use arrow keys to update\n",
    "g.initfield = g.runparams[6] = 100           # 1 init via 32x32 genepat.dat, n>1 init via nxn rand array\n",
    "g.nlog2pmut = g.simparams[0] = 5             # log2 gene mutation probability (0 or >56 means no mutation)\n",
    "g.initial1density = g.simparams[1] =  8192   # initial 1 density in GOL state, 16384 = nearest to half of C rand max value 32767 = 2**15 - 1\n",
    "g.initialrdensity = g.simparams[2] = 0       # initial density of random genes\n",
    "g.ncoding = g.simparams[3] = 0x1             # for selection==8, lut, ncoding 1,2,3 bits per lut entry : 0 implies 3.\n",
    "g.startgenechoice = g.simparams[4] = 8       # initialize genes to startgene number 0-8 : 8 is random choice of 0-7\n",
    "g.genelife.initialize_planes(g.npoffsets)\n",
    "g.genelife.initialize(g.runparams,g.simparams)\n",
    "g.framenr = 0\n",
    "g.cnt=0\n",
    "g.show0()\n",
    "g.run(g.nrun, g.ndisp, g.nskip, g.niter, g.nhist, g.nstat, False)"
   ]
  },
  {
   "cell_type": "markdown",
   "metadata": {},
   "source": [
    "### 9.6a Daptics optimized run parameters from 24.9.2019"
   ]
  },
  {
   "cell_type": "code",
   "execution_count": null,
   "metadata": {},
   "outputs": [],
   "source": [
    "g.nrun=1; g.ndisp=1000; g.nskip=0; g.niter=1; # simulation time stepping parameters\n",
    "g.nhist = 0                                  # set to n to turn on histogram configurations every nth step\n",
    "g.nstat = 0                                  # set to n to turn on statistics trace every nth step\n",
    "g.rulemod = g.runparams[0] = 1               # 0,1 whether to allow GoL rule modifications\n",
    "g.selection = g.runparams[2] = 9             # fitness for 2 live neighbor rule : 0-6 see subgenelife.c code\n",
    "\n",
    "#fitness =  190832.0 surv 0xe birth 0xfc over 0xd0 rep 0x1b9\n",
    "#fitness =  63537.9 surv 0x2b birth 0xdd over 0xcd rep 0x1c5\n",
    "#fitness =  12271.6 surv 0x69 birth 0x39 over 0xa2 rep 0x1ec\n",
    "#fitness =  19211.1 surv 0xbb birth 0xae over 0x40 rep 0x1cb\n",
    "#fitness =  118925.8 surv 0x72 birth 0xda over 0x9f rep 0x111\n",
    "\n",
    "g.survivalmask = g.runparams[4] =  0x0e      # 8 bit survival mask for allowing genes to modify LUTs\n",
    "g.birthmask = g.runparams[7] =     0xfc      # 8 bit birth mask for allowing genes to modify LUTs\n",
    "g.overwritemask = g.runparams[3] = 0xd0      # mask of bits to overwrite if birth allowed and already occupied for bit position sum s\n",
    "g.repscheme = g.runparams[1] =    0x1b9      # 1 ignore disambiguation, 11 long glider periods, 0 nbs determine survival, AND of nbs for birth and survival, most difft chosen\n",
    "\n",
    "g.ancselectmask = g.runparams[8] = 0xff      # genetic selection rather than position dependence determines ancestor for all s\n",
    "g.colorfunction = g.runparams[5] = 0         # initial color function : use arrow keys to update\n",
    "g.initfield = g.runparams[6] = 0             # 1 init via 32x32 genepat.dat, n>1 init via nxn rand array\n",
    "g.nlog2pmut = g.simparams[0] = 8             # log2 gene mutation probability (0 or >56 means no mutation)\n",
    "g.initial1density = g.simparams[1] =  8192   # initial 1 density in GOL state, 16384 = nearest to half of C rand max value 32767 = 2**15 - 1\n",
    "g.initialrdensity = g.simparams[2] = 0       # initial density of random genes\n",
    "g.ncoding = g.simparams[3] = 0x1             # for selection==8, lut, ncoding 1,2,3 bits per lut entry : 0 implies 3.\n",
    "g.startgenechoice = g.simparams[4] = 8       # initialize genes to startgene number 0-8 : 8 is random choice of 0-7\n",
    "\n",
    "g.genelife.initialize_planes(g.npoffsets)\n",
    "g.genelife.initialize(g.runparams,g.simparams)\n",
    "g.framenr = 0\n",
    "g.cnt=0\n",
    "g.show0()\n",
    "g.run(g.nrun, g.ndisp, g.nskip, g.niter, g.nhist, g.nstat, False)"
   ]
  },
  {
   "cell_type": "markdown",
   "metadata": {},
   "source": [
    "### 9.7 Test of issue 27"
   ]
  },
  {
   "cell_type": "code",
   "execution_count": null,
   "metadata": {},
   "outputs": [],
   "source": [
    "#  9 Corrected an issue #27 in github : caused by random gene disambiguation not recording ancestor as rootgene\n",
    "#  selection=9 sum totalistic LUT with appropriate parameters for survival and genes encoding LUT in variable length direct encoding\n",
    "#  this case uses the genes to encode the totalistic (s dept) rule tables for birth and survival\n",
    "#  birth rules are encoded as 1xxx where xxx is sum-1 of live neighbours and survival rules by 0xxx\n",
    "#  birth is determined by the existence of a 4-bit birth rule somewhere  in the live neighbour genes for current s=1-8\n",
    "#  survival is determined by the existence of a 4-bit survival rule somewhere  in the live neighbour genes for current s=1-8\n",
    "#  in an alternative version (see commented line in update_lut_sum) survival is by the central live neighbour gene\n",
    "#  ncoding may be set (1-7) to require more bits of gene be 1 to turn on a rule\n",
    "g.nrun=1; g.ndisp=1000; g.nskip=0; g.niter=1; # simulation time stepping parameters\n",
    "g.nhist = 0                                  # set to n to turn on histogram configurations every nth step\n",
    "g.nstat = 0                                  # set to n to turn on statistics trace every nth step\n",
    "g.rulemod = g.runparams[0] = 1               # 0,1 whether to allow GoL rule modifications\n",
    "g.repscheme = g.runparams[1] = 0x770         # 1 ignore disambiguation, 7 scissors-paper-stone-well, 0 nbs determine survival, AND of nbs for birth and survival, most difft chosen\n",
    "g.selection = g.runparams[2] = 9             # fitness for 2 live neighbor rule : 0-6 see subgenelife.c code\n",
    "g.overwritemask = g.runparams[3] = 0x06      # mask of bits to overwrite if birth allowed and already occupied for bit position sum s\n",
    "g.survivalmask = g.runparams[4] = 0x00       # 8 bit survival mask for allowing genes to modify LUTs\n",
    "g.birthmask = g.runparams[7] = 0x06          # 8 bit birth mask for allowing genes to modify LUTs\n",
    "g.ancselectmask = g.runparams[8] = 0xff      # genetic selection rather than position dependence determines ancestor for all s\n",
    "g.colorfunction = g.runparams[5] = 0         # initial color function : use arrow keys to update\n",
    "g.initfield = g.runparams[6] = 100           # 1 init via 32x32 genepat.dat, n>1 init via nxn rand array\n",
    "g.nlog2pmut = g.simparams[0] = 8             # log2 gene mutation probability (0 or >56 means no mutation)\n",
    "g.initial1density = g.simparams[1] =  8192   # initial 1 density in GOL state, 16384 = nearest to half of C rand max value 32767 = 2**15 - 1\n",
    "g.initialrdensity = g.simparams[2] = 0       # initial density of random genes\n",
    "g.ncoding = g.simparams[3] = 0x1             # for selection==8, lut, ncoding 1,2,3 bits per lut entry : 0 implies 3.\n",
    "g.startgenechoice = g.simparams[4] = 8       # initialize genes to startgene number 0-8 : 8 is random choice of 0-7\n",
    "g.genelife.initialize_planes(g.npoffsets)\n",
    "g.genelife.initialize(g.runparams,g.simparams)\n",
    "g.framenr = 0\n",
    "g.cnt=0\n",
    "g.show0()\n",
    "g.step()\n",
    "g.run(g.nrun, g.ndisp, g.nskip, g.niter, g.nhist, g.nstat, False,10)\n",
    "g.repscheme = g.runparams[1] = 0x760\n",
    "g.genelife.set_repscheme(g.repscheme)\n",
    "g.run(g.nrun, g.ndisp, g.nskip, g.niter, g.nhist, g.nstat, False)"
   ]
  },
  {
   "cell_type": "markdown",
   "metadata": {},
   "source": [
    "### 9.8 Issue 31"
   ]
  },
  {
   "cell_type": "code",
   "execution_count": null,
   "metadata": {},
   "outputs": [],
   "source": [
    "#  8  test of Issue 31\n",
    "#  selection=8 sum totalistic LUT with appropriate parameters for survival and genes encoding LUt in fixed length direct encoding\n",
    "#  this case uses the genes to encode the totalistic (s dept) rule tables for birth and survival\n",
    "#  birth is determined by the and of the live neighbour genes (bits 8-15 for ncoding=1) ie genecode\n",
    "#  survival is determined the and of the live neighbour genes (bits 0-8 for ncoding=1) ie genecode\n",
    "#  in an alternative version (see commented line in update_lut_sum) survival is by the central live neighbour gene\n",
    "#  ncoding may be set (1-7) to require more bits of gene be 1 to turn on a rule\n",
    "g.nrun=1; g.ndisp=1000; g.nskip=0; g.niter=1; # simulation time stepping parameters\n",
    "g.nhist = 0                                  # set to n to turn on histogram configurations every nth step\n",
    "g.nstat = 0                                  # set to n to turn on statistics trace every nth step\n",
    "g.rulemod = g.runparams[0] = 1               # 0,1 whether to allow GoL rule modifications\n",
    "                                             # with rulemod 1 2-live-nb birth, 3-live-nb non-birth & non-survival possible\n",
    "g.repscheme = g.runparams[1] = 0x548         # \n",
    "g.selection = g.runparams[2] = 9             # fitness for 2 live neighbor rule : 0-6 see subgenelife.c code\n",
    "g.overwritemask = g.runparams[3] = 0x75     # mask of bits to overwrite if birth allowed and already occupied for bit position sum s\n",
    "g.survivalmask = g.runparams[4] = 0x88        # GoL constraint if genes stay active\n",
    "g.birthmask = g.runparams[7] = 0x45          # GoL constraint if genes stay active \n",
    "g.ancselectmask = g.runparams[8] = 0xff      # Allow ancestor selection on all s values for which birth is allowed \n",
    "g.colorfunction = g.runparams[5] = 0         # color function: use arrow keys to select 0-12\n",
    "g.initfield = g.runparams[6] = 0           # 1 init via 32x32 genepat.dat, n>1 init via nxn rand array\n",
    "g.nlog2pmut = g.simparams[0] = 4             # log2 gene mutation probability (0 or >56 means no mutation)\n",
    "g.initial1density = g.simparams[1] =  8192   # initial 1 density in GOL state\n",
    "                                             # 16384 = nearest to half of guaranteed C rand max value 32767 = 2**15 - 1\n",
    "g.initialrdensity = g.simparams[2] = 0       # initial density of random genes\n",
    "g.ncoding = g.simparams[3] = 0x1             # for selection==8, lut, ncoding 1,2,3 bits per lut entry : 0 implies 3.\n",
    "g.startgenechoice = g.simparams[4] = 8       # initialize genes to startgene number 0-8 : 8 is random choice of 0-7\n",
    "\n",
    "g.genelife.initialize_planes(g.npoffsets)\n",
    "g.genelife.initialize(g.runparams,g.simparams)\n",
    "g.framenr = 0\n",
    "g.cnt=0\n",
    "g.show0()\n",
    "#g.step()\n",
    "#g.step()\n",
    "g.run(g.nrun, g.ndisp, g.nskip, g.niter, g.nhist, g.nstat, False)"
   ]
  },
  {
   "cell_type": "markdown",
   "metadata": {},
   "source": [
    "### 9.9 Genetic displacement selection"
   ]
  },
  {
   "cell_type": "markdown",
   "metadata": {},
   "source": [
    "click button to change repscheme to 0x1f0 after simulation starts"
   ]
  },
  {
   "cell_type": "code",
   "execution_count": null,
   "metadata": {},
   "outputs": [],
   "source": [
    "#  9 \n",
    "#  selection=9 sum totalistic LUT with appropriate parameters for survival and genes encoding LUT in variable length direct encoding\n",
    "#  this case uses the genes to encode the totalistic (s dept) rule tables for birth and survival\n",
    "#  birth rules are encoded as 1xxx where xxx is sum-1 of live neighbours and survival rules by 0xxx\n",
    "#  birth is determined by the existence of a 4-bit birth rule somewhere  in the live neighbour genes for current s=1-8\n",
    "#  survival is determined by the existence of a 4-bit survival rule somewhere  in the live neighbour genes for current s=1-8\n",
    "#  in an alternative version (see commented line in update_lut_sum) survival is by the central live neighbour gene\n",
    "#  ncoding may be set (1-7) to require more bits of gene be 1 to turn on a rule\n",
    "g.nrun=1; g.ndisp=1000; g.nskip=0; g.niter=1; # simulation time stepping parameters\n",
    "g.nhist = 0                                  # set to n to turn on histogram configurations every nth step\n",
    "g.nstat = 0                                  # set to n to turn on statistics trace every nth step\n",
    "g.rulemod = g.runparams[0] = 1               # 0,1 whether to allow GoL rule modifications\n",
    "g.repscheme = g.runparams[1] = 0x170         # 1 ignore disambiguation, 7 scissors-paper-stone-well, 0 nbs determine survival, AND of nbs for birth and survival, most difft chosen\n",
    "g.selection = g.runparams[2] = 9             # fitness for 2 live neighbor rule : 0-6 see subgenelife.c code\n",
    "g.overwritemask = g.runparams[3] = 0x06      # mask of bits to overwrite if birth allowed and already occupied for bit position sum s\n",
    "g.survivalmask = g.runparams[4] = 0x00       # 8 bit survival mask for allowing genes to modify LUTs\n",
    "g.birthmask = g.runparams[7] = 0x06          # 8 bit birth mask for allowing genes to modify LUTs\n",
    "g.ancselectmask = g.runparams[8] = 0xff      # genetic selection rather than position dependence determines ancestor for all s\n",
    "g.colorfunction = g.runparams[5] = 0         # initial color function : use arrow keys to update\n",
    "g.initfield = g.runparams[6] = 100           # 1 init via 32x32 genepat.dat, n>1 init via nxn rand array\n",
    "g.nlog2pmut = g.simparams[0] = 8             # log2 gene mutation probability (0 or >56 means no mutation)\n",
    "g.initial1density = g.simparams[1] =  8192   # initial 1 density in GOL state, 16384 = nearest to half of C rand max value 32767 = 2**15 - 1\n",
    "g.initialrdensity = g.simparams[2] = 0       # initial density of random genes\n",
    "g.ncoding = g.simparams[3] = 0x1             # for selection==8, lut, ncoding 1,2,3 bits per lut entry : 0 implies 3.\n",
    "g.startgenechoice = g.simparams[4] = 8       # initialize genes to startgene number 0-8 : 8 is random choice of 0-7\n",
    "g.genelife.initialize_planes(g.npoffsets)\n",
    "g.genelife.initialize(g.runparams,g.simparams)\n",
    "g.framenr = 0\n",
    "g.cnt=0\n",
    "g.show0()\n",
    "# g.step()\n",
    "g.run(g.nrun, g.ndisp, g.nskip, g.niter, g.nhist, g.nstat, False)"
   ]
  },
  {
   "cell_type": "markdown",
   "metadata": {},
   "source": [
    "### 9.10 Issue raised in connection with Daptics-optimized parameters"
   ]
  },
  {
   "cell_type": "code",
   "execution_count": null,
   "metadata": {},
   "outputs": [],
   "source": [
    "#  9 \n",
    "#  selection=9 sum totalistic LUT with appropriate parameters for survival and genes encoding LUT in variable length direct encoding\n",
    "#  this case uses the genes to encode the totalistic (s dept) rule tables for birth and survival\n",
    "#  birth rules are encoded as 1xxx where xxx is sum-1 of live neighbours and survival rules by 0xxx\n",
    "#  birth is determined by the existence of a 4-bit birth rule somewhere  in the live neighbour genes for current s=1-8\n",
    "#  survival is determined by the existence of a 4-bit survival rule somewhere  in the live neighbour genes for current s=1-8\n",
    "#  in an alternative version (see commented line in update_lut_sum) survival is by the central live neighbour gene\n",
    "#  ncoding may be set (1-7) to require more bits of gene be 1 to turn on a rule\n",
    "\n",
    "g.nrun=1; g.ndisp=1000; g.nskip=0; g.niter=1; # simulation time stepping parameters\n",
    "g.nhist = 0                                  # set to n to turn on histogram configurations every nth step\n",
    "g.nstat = 0                                  # set to n to turn on statistics trace every nth step\n",
    "g.rulemod = g.runparams[0] = 1               # 0,1 whether to allow GoL rule modifications\n",
    "g.selection = g.runparams[2] = 9             # fitness for 2 live neighbor rule : 0-6 see subgenelife.c code\n",
    "\n",
    "#fitness =  190832.0 surv 0xe birth 0xfc over 0xd0 rep 0x1b9\n",
    "\n",
    "g.survivalmask = g.runparams[4] =  0x0e      # 8 bit survival mask for allowing genes to modify LUTs\n",
    "g.birthmask = g.runparams[7] =     0xfc      # 8 bit birth mask for allowing genes to modify LUTs\n",
    "g.overwritemask = g.runparams[3] = 0xd0      # mask of bits to overwrite if birth allowed and already occupied for bit position sum s\n",
    "g.repscheme = g.runparams[1] =    0x1b0      # 1 ignore disambiguation, 11 long glider periods, 0 nbs determine survival, AND of nbs for birth and survival, most difft chosen\n",
    "\n",
    "g.ancselectmask = g.runparams[8] = 0xff      # genetic selection rather than position dependence determines ancestor for all s\n",
    "g.colorfunction = g.runparams[5] = 0         # initial color function : use arrow keys to update\n",
    "g.initfield = g.runparams[6] = 0             # 1 init via 32x32 genepat.dat, n>1 init via nxn rand array\n",
    "g.nlog2pmut = g.simparams[0] = 8             # log2 gene mutation probability (0 or >56 means no mutation)\n",
    "g.initial1density = g.simparams[1] =  16384   # initial 1 density in GOL state, 16384 = nearest to half of C rand max value 32767 = 2**15 - 1\n",
    "g.initialrdensity = g.simparams[2] = 8192       # initial density of random genes\n",
    "g.ncoding = g.simparams[3] = 0x1             # for selection==8, lut, ncoding 1,2,3 bits per lut entry : 0 implies 3.\n",
    "g.startgenechoice = g.simparams[4] = 8       # initialize genes to startgene number 0-8 : 8 is random choice of 0-7\n",
    "\n",
    "g.genelife.initialize_planes(g.npoffsets)\n",
    "g.genelife.initialize(g.runparams,g.simparams)\n",
    "g.framenr = 0\n",
    "g.cnt=0\n",
    "g.show0()\n",
    "# g.step()\n",
    "g.run(g.nrun, g.ndisp, g.nskip, g.niter, g.nhist, g.nstat, False)"
   ]
  },
  {
   "cell_type": "code",
   "execution_count": null,
   "metadata": {},
   "outputs": [],
   "source": []
  },
  {
   "cell_type": "markdown",
   "metadata": {},
   "source": [
    "## 10 Selection: Distance distinguishing LUT encoded by gene with fixed length positional encoding"
   ]
  },
  {
   "cell_type": "markdown",
   "metadata": {},
   "source": [
    "### 10.1 Game of Life with selection==10"
   ]
  },
  {
   "cell_type": "code",
   "execution_count": 4,
   "metadata": {},
   "outputs": [],
   "source": [
    "# 10 GoL\n",
    "#  selection=10 LUT with appropriate parameters for survival\n",
    "#  this case uses the genes to encode the se (number of live edge-centred sites) and s dept rule tables for birth and survival\n",
    "#  a fixed positional encoding is used in the gene with 1 bit per valid s,se combination\n",
    "#  there are 1,2,3,4,5,4,3,2,1 configurations of se for s=0-8. Only 23 cases s=1-7 are lut allowed non-zero.\n",
    "#  birth is determined by the and of the live neighbour genes (and 23 bits of birthmask) ie genecode\n",
    "#  survival is determined the and of the live neighbour genes (and 23 bits of survivalmask) ie genecode\n",
    "#  ncoding not used : only space for 1 bit per lut entry\n",
    "#  this example starts with only allowing GoL configurations : extend by adding more bits to survival and birth masks\n",
    "g.nrun=4; g.ndisp=1000; g.nskip=0; g.niter=1;# simulation time stepping parameters\n",
    "g.nhist = 0                                  # set to n to turn on histogram configurations every nth step\n",
    "g.nstat = 0                                  # set to n to turn on statistics trace every nth step\n",
    "g.rulemod = g.runparams[0] = 0x1             # 0,1 whether to allow GoL rule modifications\n",
    "g.repscheme = g.runparams[1] = 0x610         \n",
    "g.selection     = g.runparams[2] = 10        # fitness for 2 live neighbor rule : 0-6 see subgenelife.c code\n",
    "g.overwritemask = g.runparams[3] = 0x00      # mask of bits to overwrite if birth allowed and already occupied for bit position sum s\n",
    "g.birthmask    = g.runparams[7] = 0x000001e0 # for selection=10-11 this is the GoL birth mask\n",
    "g.survivalmask = g.runparams[4] = 0x000001fc # for selection=10-11 this is the GoL survival mask\n",
    "g.ancselectmask = g.runparams[8] = 0xff      # ancestor mask allowing selection for all s values\n",
    "g.colorfunction = g.runparams[5] = 0         # color function can be cahnged with arrow keys\n",
    "g.initfield = g.runparams[6] = 150           # 1 init via 32x32 genepat.dat, n>1 init via nxn rand array\n",
    "g.nlog2pmut = g.simparams[0] = 8             # log2 gene mutation probability (0 or >56 means no mutation)\n",
    "g.initial1density = g.simparams[1] = 8192    # initial 1 density in GOL state: 16384 = nearest to half of C rand max value 32767 = 2**15 - 1\n",
    "g.initialrdensity = g.simparams[2] = 0       # initial density of random genes\n",
    "g.ncoding = g.simparams[3] = 0               # for selection==8, lut, ncoding 1,2,3 bits per lut entry : 0 implies 3.\n",
    "g.startgenechoice = g.simparams[4] = 8       # initialize genes to startgene number 0-8 : 8 is random choice of 0-7\n",
    "\n",
    "g.genelife.initialize_planes(g.npoffsets)\n",
    "g.genelife.initialize(g.runparams,g.simparams)\n",
    "g.framenr = 0\n",
    "g.cnt=0\n",
    "g.show0()\n",
    "#g.step(True)\n",
    "g.run(g.nrun, g.ndisp, g.nskip, g.niter, g.nhist, g.nstat, False)"
   ]
  },
  {
   "cell_type": "code",
   "execution_count": null,
   "metadata": {},
   "outputs": [],
   "source": []
  },
  {
   "cell_type": "markdown",
   "metadata": {},
   "source": [
    "### 10.2 Scissors-paper-stone-well selection with selection==10"
   ]
  },
  {
   "cell_type": "code",
   "execution_count": 13,
   "metadata": {},
   "outputs": [],
   "source": [
    "## 10\n",
    "#  selection=10 LUT with appropriate parameters for survival\n",
    "#  this case uses the genes to encode the se (number of live edge-centred sites) and s dept rule tables for birth and survival\n",
    "#  a fixed positional encoding is used in the gene with 1 bit per valid s,se combination\n",
    "#  there are 1,2,3,4,5,4,3,2,1 configurations of se for s=0-8. Only 23 cases s=1-7 are lut allowed non-zero.\n",
    "#  birth is determined by the and of the live neighbour genes (and 23 bits of birthmask) ie genecode\n",
    "#  survival is determined the and of the live neighbour genes (and 23 bits of survivalmask) ie genecode\n",
    "#  ncoding not used : only space for 1 bit per lut entry\n",
    "#  this example starts with only allowing GoL configurations : extend by adding more bits to survival and birth masks\n",
    "g.nrun=4; g.ndisp=1000; g.nskip=0; g.niter=1;# simulation time stepping parameters\n",
    "g.nhist = 0                                  # set to n to turn on histogram configurations every nth step\n",
    "g.nstat = 0                                  # set to n to turn on statistics trace every nth step\n",
    "g.rulemod = g.runparams[0] = 0x1             # 0,1 whether to allow GoL rule modifications\n",
    "g.repscheme = g.runparams[1] = 0x170         \n",
    "g.selection     = g.runparams[2] = 10        # fitness for 2 live neighbor rule : 0-6 see subgenelife.c code\n",
    "g.overwritemask = g.runparams[3] = 0x06      # mask of bits to overwrite if birth allowed and already occupied for bit position sum s\n",
    "g.birthmask    = g.runparams[7] = 0x000001fc # for selection=10-11 this is the GoL birth mask with birth for s=2 added\n",
    "g.survivalmask = g.runparams[4] = 0x0        # for selection=10-11 this is the GoL survival mask\n",
    "g.ancselectmask = g.runparams[8] = 0xff      # ancestor mask allowing selection for all s values\n",
    "g.colorfunction = g.runparams[5] = 0         # color function can be cahnged with arrow keys\n",
    "g.initfield = g.runparams[6] = 100           # 1 init via 32x32 genepat.dat, n>1 init via nxn rand array\n",
    "g.nlog2pmut = g.simparams[0] = 8             # log2 gene mutation probability (0 or >56 means no mutation)\n",
    "g.initial1density = g.simparams[1] = 8192    # initial 1 density in GOL state: 16384 = nearest to half of C rand max value 32767 = 2**15 - 1\n",
    "g.initialrdensity = g.simparams[2] = 0       # initial density of random genes\n",
    "g.ncoding = g.simparams[3] = 0               # for selection==8, lut, ncoding 1,2,3 bits per lut entry : 0 implies 3.\n",
    "g.startgenechoice = g.simparams[4] = 8       # initialize genes to startgene number 0-8 : 8 is random choice of 0-7\n",
    "\n",
    "g.genelife.initialize_planes(g.npoffsets)\n",
    "g.genelife.initialize(g.runparams,g.simparams)\n",
    "g.framenr = 0\n",
    "g.cnt=0\n",
    "g.show0()\n",
    "#g.step(True)\n",
    "g.run(g.nrun, g.ndisp, g.nskip, g.niter, g.nhist, g.nstat, False)"
   ]
  },
  {
   "cell_type": "code",
   "execution_count": null,
   "metadata": {},
   "outputs": [],
   "source": [
    "# g.set_params()\n",
    "g.genelife.initialize(g.runparams,g.simparams)\n",
    "g.run(g.nrun, g.ndisp, g.nskip, g.niter, g.nhist, g.nstat, False)"
   ]
  },
  {
   "cell_type": "markdown",
   "metadata": {},
   "source": [
    "### 10.3 Test of symmetry breaking expansion of rules"
   ]
  },
  {
   "cell_type": "code",
   "execution_count": 12,
   "metadata": {},
   "outputs": [
    {
     "name": "stdout",
     "output_type": "stream",
     "text": [
      "step 0 pixel data (218,418) gol 0 gene 0000000000000000 status 0000000000000000\n",
      "step 1506 birthmask changed to 1ec\n",
      "step 2003 birthmask changed to 1fc\n",
      "step 2506 birthmask changed to 1f8\n",
      "step 3006 birthmask changed to 1fc\n",
      "step 3528 birthmask changed to 1f8\n",
      "step 3542 birthmask changed to 1e8\n",
      "step 3685 birthmask changed to 1f8\n",
      "step 3705 birthmask changed to 1fc\n",
      "step 4005 birthmask changed to 1f4\n",
      "step 5016 collected trace of nnovelcells\n"
     ]
    }
   ],
   "source": [
    "#  10 \n",
    "g.nrun=1; g.ndisp=1000; g.nskip=0; g.niter=1; # simulation time stepping parameters\n",
    "g.nhist = 0                                  # set to n to turn on histogram configurations every nth step\n",
    "g.nstat = 0                                  # set to n to turn on statistics trace every nth step\n",
    "g.rulemod = g.runparams[0] = 1               # 0,1 whether to allow GoL rule modifications\n",
    "g.repscheme = g.runparams[1] = 0x150         # 0 defaults 6 penalizes too many rules 1 trivial disambiguation\n",
    "g.selection = g.runparams[2] = 10             # fitness for 2 live neighbor rule : 0-6 see subgenelife.c code\n",
    "g.overwritemask = g.runparams[3] = 0xff      # mask of bits to overwrite if birth allowed and already occupied for bit position sum s\n",
    "g.survivalmask = g.runparams[4] = 0x00       # GoL constraint if genes stay active\n",
    "g.birthmask = g.runparams[7] = 0x1fc          # GoL constraint if genes stay active \n",
    "g.ancselectmask = g.runparams[8] = 0xff      # Allow ancestor selection on all s values for which birth is allowed \n",
    "g.colorfunction = g.runparams[5] = 0         # color function: choose 0-12 using arrows\n",
    "g.initfield = g.runparams[6] = 0             # 1 init via 32x32 genepat.dat, n>1 init via nxn rand array\n",
    "g.nlog2pmut = g.simparams[0] = 8             # log2 gene mutation probability (0 or >56 means no mutation)\n",
    "g.initial1density = g.simparams[1] =  8192   # initial 1 density in GOL state: 16384 = nearest to half of  C rand max value 32767 = 2**15 - 1\n",
    "g.initialrdensity = g.simparams[2] = 16384       # initial density of random genes\n",
    "g.ncoding = g.simparams[3] = 0x1             # for selection==8, lut, ncoding 1,2,3 bits per lut entry : 0 implies 3.\n",
    "g.startgenechoice = g.simparams[4] = 8       # initialize genes to startgene number 0-8 : 8 is random choice of 0-7\n",
    "\n",
    "g.genelife.initialize_planes(g.npoffsets)\n",
    "g.genelife.initialize(g.runparams,g.simparams)\n",
    "g.framenr = 0\n",
    "g.cnt=0\n",
    "g.show0()\n",
    "#g.step()\n",
    "#g.step()\n",
    "g.run(g.nrun, g.ndisp, g.nskip, g.niter, g.nhist, g.nstat, False)"
   ]
  },
  {
   "cell_type": "code",
   "execution_count": 13,
   "metadata": {},
   "outputs": [
    {
     "data": {
      "text/plain": [
       "Text(0, 0.5, 'novel cells')"
      ]
     },
     "execution_count": 13,
     "metadata": {},
     "output_type": "execute_result"
    },
    {
     "data": {
      "image/png": "[encoded data removed]",
      "text/plain": [
       "<Figure size 432x288 with 1 Axes>"
      ]
     },
     "metadata": {
      "needs_background": "light"
     },
     "output_type": "display_data"
    }
   ],
   "source": [
    "plt.plot(g.nnovelcells[:5000],'black')\n",
    "plt.xlabel('time steps')\n",
    "plt.ylabel('novel cells')"
   ]
  },
  {
   "cell_type": "markdown",
   "metadata": {},
   "source": [
    "## 11 Selection: Distance distinguishing LUT encoded by gene with variable length encoding"
   ]
  },
  {
   "cell_type": "markdown",
   "metadata": {},
   "source": [
    "### 11.1 Game of Life with selection==11"
   ]
  },
  {
   "cell_type": "code",
   "execution_count": null,
   "metadata": {},
   "outputs": [],
   "source": [
    "(s,se)\n",
    "s=4 5 states (0 to 4 edge states)\n",
    "s=3 4 states (0 to 3 edge states)\n",
    "s=2 3 states (both corner, both edge, corner+edge)\n",
    "s=1 2 status (corner nbr)"
   ]
  },
  {
   "cell_type": "code",
   "execution_count": 5,
   "metadata": {},
   "outputs": [],
   "source": [
    "# 11\n",
    "#  selection=11 LUT with appropriate parameters for survival\n",
    "#  this case uses the genes to encode the se (number of live edge-centred sites) and s dept rule tables for birth and survival\n",
    "#  a variable length encoding is used in the gene with 4+4 bits, 4-bits for the survival and birth s value as in 8, and 4 bits for the se value\n",
    "#  there are 1,2,3,4,5,4,3,2,1 configurations of se for s=0-8. Only 19 cases s=2-6 are lut allowed non-zero.\n",
    "#  birth is determined by the and of the live neighbour genes (and 19 bits of overwritemask) ie genecode\n",
    "#  survival is determined the and of the live neighbour genes (and 19 bits of survivalmask) ie genecode\n",
    "#  ncoding not used : only space for 1 bit per lut entry\n",
    "#  this example starts with only allowing GoL configurations : extend by adding more bits to survival and birth masks\n",
    "g.nrun=1; g.ndisp=1000; g.nskip=0; g.niter=1;# simulation time stepping parameters\n",
    "g.nhist = 0                                  # set to n to turn on histogram configurations every nth step\n",
    "g.nstat = 0                                  # set to n to turn on statistics trace every nth step\n",
    "g.rulemod = g.runparams[0] = 1               # 0,1 whether to allow GoL rule modifications\n",
    "                                             # with rulemod 1 2-live-nb birth, 3-live-nb non-birth & non-survival possible\n",
    "g.repscheme = g.runparams[1] = 0x0610        # \n",
    "g.selection     = g.runparams[2] = 11        # fitness for 2 live neighbor rule : 0-6 see subgenelife.c code\n",
    "g.overwritemask = g.runparams[3] = 0x00      # no overwrite allowed in this version, alternatively set to 0x04 for overwrite on s=3 birth\n",
    "g.survivalmask = g.runparams[4] = 0x000001fc # for selection=10-11 this is the GoL survival mask\n",
    "g.birthmask    = g.runparams[7] = 0x000001e0 # for selection=10-11 this is the GoL birth mask\n",
    "g.ancselectmask = g.runparams[8] = 0xff       # ancestor mask allowing selection for all s values\n",
    "g.colorfunction = g.runparams[5] = 0         # color function 0(hash), ≥1(fnal), 2 nongulstate or color gol planes, 3 notgolrul yellow\n",
    "                                             # 4 activities 5 genealogy steps 6 genealogy temporal 7 activity scaled colors\n",
    "g.initfield = g.runparams[6] = 100           # 1 init via 32x32 genepat.dat, n>1 init via nxn rand array\n",
    "g.nlog2pmut = g.simparams[0] = 8             # log2 gene mutation probability (0 or >56 means no mutation)\n",
    "g.initial1density = g.simparams[1] =  16384  # initial 1 density in GOL state\n",
    "                                             # 16384 = nearest to half of guaranteed C rand max value 32767 = 2**15 - 1\n",
    "g.initialrdensity = g.simparams[2] = 0       # initial density of random genes\n",
    "g.ncoding = g.simparams[3] = 0               # for selection 10, non zero value means grow plane community from 0\n",
    "                                             # otherwise (selection<10) no of bits used to encode valid connection functions 1-16\n",
    "                                             # for selection==8, lut, ncoding 1,2,3 bits per lut entry : 0 implies 3.\n",
    "g.startgenechoice = g.simparams[4] = 8       # initialize genes to startgene number 0-8 : 8 is random choice of 0-7\n",
    "\n",
    "g.genelife.initialize_planes(g.npoffsets)\n",
    "g.genelife.initialize(g.runparams,g.simparams)\n",
    "g.framenr = 0\n",
    "g.cnt=0\n",
    "g.show0()\n",
    "# step()\n",
    "g.run(g.nrun, g.ndisp, g.nskip, g.niter, g.nhist, g.nstat, False)"
   ]
  },
  {
   "cell_type": "code",
   "execution_count": null,
   "metadata": {},
   "outputs": [],
   "source": []
  },
  {
   "cell_type": "markdown",
   "metadata": {},
   "source": [
    "### 11.2 Scissors-paper-stone-well selection with selection==11"
   ]
  },
  {
   "cell_type": "code",
   "execution_count": 14,
   "metadata": {},
   "outputs": [],
   "source": [
    "## 11 Scissor-Paper-Stone-Well\n",
    "#  selection=11 LUT with appropriate parameters for survival\n",
    "#  this case uses the genes to encode the se (number of live edge-centred sites) and s dept rule tables for birth and survival\n",
    "#  a fixed positional encoding is used in the gene with 1 bit per valid s,se combination\n",
    "#  there are 1,2,3,4,5,4,3,2,1 configurations of se for s=0-8. Only 23 cases s=1-7 are lut allowed non-zero.\n",
    "#  birth is determined by the and of the live neighbour genes (and 23 bits of birthmask) ie genecode\n",
    "#  survival is determined the and of the live neighbour genes (and 23 bits of survivalmask) ie genecode\n",
    "#  ncoding not used : only space for 1 bit per lut entry\n",
    "#  this example starts with only allowing GoL configurations : extend by adding more bits to survival and birth masks\n",
    "g.nrun=4; g.ndisp=1000; g.nskip=0; g.niter=1;# simulation time stepping parameters\n",
    "g.nhist = 0                                  # set to n to turn on histogram configurations every nth step\n",
    "g.nstat = 0                                  # set to n to turn on statistics trace every nth step\n",
    "g.rulemod = g.runparams[0] = 0x1             # 0,1 whether to allow GoL rule modifications\n",
    "g.repscheme = g.runparams[1] = 0x170         \n",
    "g.selection     = g.runparams[2] = 11        # fitness for 2 live neighbor rule : 0-6 see subgenelife.c code\n",
    "g.overwritemask = g.runparams[3] = 0x06      # mask of bits to overwrite if birth allowed and already occupied for bit position sum s\n",
    "g.birthmask    = g.runparams[7] = 0x01fc     # for selection=10-11 this is the GoL birth mask with birth for s=2 added\n",
    "g.survivalmask = g.runparams[4] = 0x0        # for selection=10-11 this is the GoL survival mask\n",
    "g.ancestormask = g.runparams[8] = 0xff       # ancestor mask allowing selection for all cases\n",
    "g.colorfunction = g.runparams[5] = 0         # color function can be cahnged with arrow keys\n",
    "g.initfield = g.runparams[6] = 150           # 1 init via 32x32 genepat.dat, n>1 init via nxn rand array\n",
    "g.nlog2pmut = g.simparams[0] = 8             # log2 gene mutation probability (0 or >56 means no mutation)\n",
    "g.initial1density = g.simparams[1] = 8192    # initial 1 density in GOL state: 16384 = nearest to half of C rand max value 32767 = 2**15 - 1\n",
    "g.initialrdensity = g.simparams[2] = 0       # initial density of random genes\n",
    "g.ncoding = g.simparams[3] = 0               # for selection==8, lut, ncoding 1,2,3 bits per lut entry : 0 implies 3.\n",
    "g.startgenechoice = g.simparams[4] = 8       # initialize genes to startgene number 0-8 : 8 is random choice of 0-7\n",
    "\n",
    "g.genelife.initialize_planes(g.npoffsets)\n",
    "g.genelife.initialize(g.runparams,g.simparams)\n",
    "g.framenr = 0\n",
    "g.cnt=0\n",
    "g.show0()\n",
    "#g.step(True)\n",
    "g.run(g.nrun, g.ndisp, g.nskip, g.niter, g.nhist, g.nstat, False)"
   ]
  },
  {
   "cell_type": "markdown",
   "metadata": {},
   "source": [
    "### Deterministic simulation with 0 mutation"
   ]
  },
  {
   "cell_type": "code",
   "execution_count": 4,
   "metadata": {},
   "outputs": [
    {
     "name": "stdout",
     "output_type": "stream",
     "text": [
      "step 0 pixel data (0,0) gol 0 gene 0000000000000000 status 0000000000000000\n",
      "step 372 colorfunction2 changed to 0\n",
      "step 624 colorfunction2 changed to 1\n",
      "step 636 colorfunction2 changed to 2\n",
      "step 676 colorfunction2 changed to 1\n",
      "step 684 colorfunction2 changed to 0\n",
      "step 696 colorfunction2 changed to -1\n",
      "step 708 colorfunction2 changed to 12\n",
      "step 720 colorfunction2 changed to 11\n",
      "step 744 colorfunction2 changed to 10\n",
      "step 752 colorfunction2 changed to 9\n",
      "step 1016 noveltyfilter changed to  1\n",
      "step 1016 noveltyfilter changed to  0\n",
      "image saved ./images/genelife_sel11_t1016_r00000170_s000_c09.jpeg\n",
      "step 1016 noveltyfilter changed to  1\n",
      "image saved ./images/genelife_sel11_t1016_r00000170_s001_c09.jpeg\n",
      "image saved ./images/genelife_sel11_t1016_r00000170_s002_c00.jpeg\n",
      "step 1016 colorfunction changed to 1\n",
      "step 1016 colorfunction changed to 2\n",
      "image saved ./images/genelife_sel11_t1016_r00000170_s003_c02.jpeg\n",
      "step 1016 colorfunction changed to 3\n",
      "step 1016 colorfunction changed to 4\n",
      "step 1016 colorfunction changed to 5\n",
      "step 1016 colorfunction changed to 6\n",
      "step 1016 colorfunction changed to 5\n",
      "step 1016 colorfunction changed to 4\n",
      "step 1016 colorfunction changed to 5\n",
      "step 1016 colorfunction changed to 4\n",
      "step 1016 colorfunction changed to 5\n",
      "step 1016 colorfunction changed to 6\n",
      "step 1016 colorfunction changed to 7\n",
      "step 1016 colorfunction changed to 8\n",
      "image saved ./images/genelife_sel11_t1016_r00000170_s004_c08.jpeg\n",
      "step 1016 colorfunction changed to 9\n",
      "step 1016 colorfunction changed to 10\n",
      "step 1016 colorfunction changed to 11\n",
      "step 1016 colorfunction changed to 12\n",
      "image saved ./images/genelife_sel11_t1016_r00000170_s005_c12.jpeg\n",
      "step 1016 colorfunction changed to 0\n",
      "step 1016 colorfunction changed to 1\n",
      "step 1016 colorfunction changed to 0\n",
      "step 1016 colorfunction changed to 12\n",
      "step 1016 colorfunction changed to 11\n",
      "step 1016 colorfunction changed to 12\n",
      "step 1016 colorfunction changed to 11\n",
      "step 1016 colorfunction changed to 10\n",
      "image saved ./images/genelife_sel11_t1016_r00000170_s006_c10.jpeg\n",
      "step 1260 colorfunction2 changed to 10\n",
      "step 1272 colorfunction2 changed to 11\n",
      "step 1292 colorfunction2 changed to 12\n",
      "step 1312 colorfunction2 changed to -1\n",
      "step 2748 colorfunction changed to 9\n",
      "step 2900 birthmask changed to 17c\n",
      "step 2964 birthmask changed to 1fc\n",
      "step 3220 birthmask changed to 17c\n",
      "step 3296 birthmask changed to 1fc\n",
      "step 3468 birthmask changed to 1bc\n",
      "step 3512 birthmask changed to 1fc\n",
      "step 3904 birthmask changed to fc\n",
      "step 3944 birthmask changed to 1fc\n",
      "step 4096 birthmask changed to 1f8\n",
      "step 4148 birthmask changed to 1fc\n",
      "step 4452 randominflux changed to  2\n",
      "step 4780 randominflux changed to  1\n",
      "step 4780 randominflux changed to  2\n",
      "step 5016 randominflux changed to  0\n",
      "step 5096 randominflux changed to  1\n",
      "image saved ./images/genelife_sel11_t5492_r00000170_s007_c09.jpeg\n"
     ]
    }
   ],
   "source": [
    "## 11 Scissor-Paper-Stone-Well\n",
    "#  selection=11 LUT with appropriate parameters for survival\n",
    "#  this case uses the genes to encode the se (number of live edge-centred sites) and s dept rule tables for birth and survival\n",
    "#  a fixed positional encoding is used in the gene with 1 bit per valid s,se combination\n",
    "#  there are 1,2,3,4,5,4,3,2,1 configurations of se for s=0-8. Only 23 cases s=1-7 are lut allowed non-zero.\n",
    "#  birth is determined by the and of the live neighbour genes (and 23 bits of birthmask) ie genecode\n",
    "#  survival is determined the and of the live neighbour genes (and 23 bits of survivalmask) ie genecode\n",
    "#  ncoding not used : only space for 1 bit per lut entry\n",
    "#  this example starts with only allowing GoL configurations : extend by adding more bits to survival and birth masks\n",
    "g.nrun=4; g.ndisp=1000; g.nskip=0; g.niter=1;# simulation time stepping parameters\n",
    "g.nhist = 0                                  # set to n to turn on histogram configurations every nth step\n",
    "g.nstat = 0                                  # set to n to turn on statistics trace every nth step\n",
    "g.rulemod = g.runparams[0] = 0x1             # 0,1 whether to allow GoL rule modifications\n",
    "g.repscheme = g.runparams[1] = 0x170         \n",
    "g.selection     = g.runparams[2] = 11        # fitness for 2 live neighbor rule : 0-6 see subgenelife.c code\n",
    "g.overwritemask = g.runparams[3] = 0x06      # mask of bits to overwrite if birth allowed and already occupied for bit position sum s\n",
    "g.birthmask    = g.runparams[7] = 0x01fc     # for selection=10-11 this is the GoL birth mask with birth for s=2 added\n",
    "g.survivalmask = g.runparams[4] = 0x0        # for selection=10-11 this is the GoL survival mask\n",
    "g.ancestormask = g.runparams[8] = 0xff       # ancestor mask allowing selection for all cases\n",
    "g.colorfunction = g.runparams[5] = 0         # color function can be cahnged with arrow keys\n",
    "g.initfield = g.runparams[6] = 150           # 1 init via 32x32 genepat.dat, n>1 init via nxn rand array\n",
    "g.nlog2pmut = g.simparams[0] = 0             # log2 gene mutation probability (0 or >56 means no mutation)\n",
    "g.initial1density = g.simparams[1] = 8192    # initial 1 density in GOL state: 16384 = nearest to half of C rand max value 32767 = 2**15 - 1\n",
    "g.initialrdensity = g.simparams[2] = 0       # initial density of random genes\n",
    "g.ncoding = g.simparams[3] = 0               # for selection==8, lut, ncoding 1,2,3 bits per lut entry : 0 implies 3.\n",
    "g.startgenechoice = g.simparams[4] = 8       # initialize genes to startgene number 0-8 : 8 is random choice of 0-7\n",
    "\n",
    "g.genelife.initialize_planes(g.npoffsets)\n",
    "g.genelife.initialize(g.runparams,g.simparams)\n",
    "g.framenr = 0\n",
    "g.cnt=0\n",
    "g.show0()\n",
    "#g.step(True)\n",
    "g.run(g.nrun, g.ndisp, g.nskip, g.niter, g.nhist, g.nstat, False)"
   ]
  },
  {
   "cell_type": "code",
   "execution_count": null,
   "metadata": {},
   "outputs": [],
   "source": [
    "## g.set_params()\n",
    "g.genelife.initialize(g.runparams,g.simparams)\n",
    "g.run(g.nrun, g.ndisp, g.nskip, g.niter, g.nhist, g.nstat, False)"
   ]
  },
  {
   "cell_type": "markdown",
   "metadata": {},
   "source": [
    "### 11.3 Test of issue 24"
   ]
  },
  {
   "cell_type": "code",
   "execution_count": null,
   "metadata": {},
   "outputs": [],
   "source": [
    "## 11\n",
    "#  selection=11 test of issue 24\n",
    "g.nrun=4; g.ndisp=1000; g.nskip=0; g.niter=1;# simulation time stepping parameters\n",
    "g.nhist = 0                                  # set to n to turn on histogram configurations every nth step\n",
    "g.nstat = 0                                  # set to n to turn on statistics trace every nth step\n",
    "g.rulemod = g.runparams[0] = 0x1             # 0,1 whether to allow GoL rule modifications\n",
    "g.repscheme = g.runparams[1] = 0x400         \n",
    "g.selection     = g.runparams[2] = 11        # \n",
    "g.overwritemask = g.runparams[3] = 0x00      # \n",
    "g.birthmask    = g.runparams[7] = 0x00000da  # \n",
    "g.survivalmask = g.runparams[4] = 0x0        # \n",
    "g.ancselectmask = g.runparams[8] = 0xff      # ancestor mask allowing selection for all s values\n",
    "g.colorfunction = g.runparams[5] = 0         # color function can be cahnged with arrow keys\n",
    "g.initfield = g.runparams[6] = 150           # 1 init via 32x32 genepat.dat, n>1 init via nxn rand array\n",
    "g.nlog2pmut = g.simparams[0] = 8             # log2 gene mutation probability (0 or >56 means no mutation)\n",
    "g.initial1density = g.simparams[1] = 10000   # initial 1 density in GOL state: 16384 = nearest to half of C rand max value 32767 = 2**15 - 1\n",
    "g.initialrdensity = g.simparams[2] = 10000       # initial density of random genes\n",
    "g.ncoding = g.simparams[3] = 0               # for selection==8, lut, ncoding 1,2,3 bits per lut entry : 0 implies 3.\n",
    "g.startgenechoice = g.simparams[4] = 8       # initialize genes to startgene number 0-8 : 8 is random choice of 0-7\n",
    "\n",
    "g.genelife.initialize_planes(g.npoffsets)\n",
    "g.genelife.initialize(g.runparams,g.simparams)\n",
    "g.framenr = 0\n",
    "g.cnt=0\n",
    "g.show0()\n",
    "#g.step(True)\n",
    "g.run(g.nrun, g.ndisp, g.nskip, g.niter, g.nhist, g.nstat, False)"
   ]
  },
  {
   "cell_type": "markdown",
   "metadata": {},
   "source": [
    "### 11.4 Simple interesting case : 2/3 of the 3 birth sum 2 LUT entries allowed, nothing else\n",
    "Initiate with GOL masks B 0x1e0 and S 0x1fc and then add top two sum=2 birth LUT entries \n",
    "Then take away all survival entries and then all sum=3 birth entries from masks, leaving a short time for the correct genes to be found.\n",
    "Alternatively, start straight with final masks and do random gene initialization not GoL genes.\n",
    "The colorfunction 1 detects whole rule entries, and partial GoL rules, and bunches related functions more than colorfunction 0.\n",
    "Include new example 12.1 to illustrate the power of distinctions : in this case suppressing the all corner case of birth with sum=2.\n",
    "This is a world of gliders close to that observed in selection 1,2."
   ]
  },
  {
   "cell_type": "code",
   "execution_count": null,
   "metadata": {},
   "outputs": [],
   "source": [
    "# 11\n",
    "#  selection=11 LUT with appropriate parameters for survival\n",
    "#  this case uses the genes to encode the se (number of live edge-centred sites) and s dept rule tables for birth and survival\n",
    "#  a variable length encoding is used in the gene with 4+4 bits, 4-bits for the survival and birth s value as in 8, and 4 bits for the se value\n",
    "#  there are 1,2,3,4,5,4,3,2,1 configurations of se for s=0-8. Only 19 cases s=2-6 are lut allowed non-zero.\n",
    "#  birth is determined by the and of the live neighbour genes (and 19 bits of overwritemask) ie genecode\n",
    "#  survival is determined the and of the live neighbour genes (and 19 bits of survivalmask) ie genecode\n",
    "#  ncoding not used : only space for 1 bit per lut entry\n",
    "#  this example starts with only allowing GoL configurations : extend by adding more bits to survival and birth masks\n",
    "g.nrun=1; g.ndisp=1000; g.nskip=0; g.niter=1;# simulation time stepping parameters\n",
    "g.nhist = 0                                  # set to n to turn on histogram configurations every nth step\n",
    "g.nstat = 0                                  # set to n to turn on statistics trace every nth step\n",
    "g.rulemod = g.runparams[0] = 1               # 0,1 whether to allow GoL rule modifications\n",
    "                                             # with rulemod 1 2-live-nb birth, 3-live-nb non-birth & non-survival possible\n",
    "g.repscheme = g.runparams[1] = 0x080         # repscheme bit 3 (val 0x8) determines whether random choice of ancestor amongst live neighbours\n",
    "                                             # repscheme mod 8 i.e. 0-7 determines selection scheme based on gene\n",
    "                                             # 0 minimum gene as value  # 1 maximum gene as value\n",
    "                                             # 2 minimum number of ones # 3 maximum number of ones\n",
    "                                             # 4 neutral selection # 5 neutral but different selection\n",
    "                                             # 6 penalty function -1 for a survival rule -2 for a birth rule  # 7 not allowed \n",
    "g.selection     = g.runparams[2] = 11        # fitness for 2 live neighbor rule : 0-6 see subgenelife.c code\n",
    "g.overwritemask = g.runparams[3] = 0x00\n",
    "g.birthmask    = g.runparams[7] = 0x00000018 # for selection=10-13 this is the GoL birth mask\n",
    "g.survivalmask = g.runparams[4] = 0x00000000 # for selection=10-11 this is the GoL survival mask\n",
    "g.colorfunction = g.runparams[5] = 1         # color function 0(hash), ≥1(fnal), 2 nongulstate or color gol planes, 3 notgolrul yellow\n",
    "                                             # 4 activities 5 genealogy steps 6 genealogy temporal 7 activity scaled colors\n",
    "g.initfield = g.runparams[6] = 100           # 1 init via 32x32 genepat.dat, n>1 init via nxn rand array\n",
    "g.nlog2pmut = g.simparams[0] = 8             # log2 gene mutation probability (0 or >56 means no mutation)\n",
    "g.initial1density = g.simparams[1] =  16384  # initial 1 density in GOL state\n",
    "                                             # 16384 = nearest to half of guaranteed C rand max value 32767 = 2**15 - 1\n",
    "g.initialrdensity = g.simparams[2] = 32768       # initial density of random genes\n",
    "g.ncoding = g.simparams[3] = 0               # for selection 10, non zero value means grow plane community from 0\n",
    "                                             # otherwise (selection<10) no of bits used to encode valid connection functions 1-16\n",
    "                                             # for selection==8, lut, ncoding 1,2,3 bits per lut entry : 0 implies 3.\n",
    "g.startgenechoice = g.simparams[4] = 8       # initialize genes to startgene number 0-8 : 8 is random choice of 0-7\n",
    "\n",
    "g.genelife.initialize_planes(g.npoffsets)\n",
    "g.genelife.initialize(g.runparams,g.simparams)\n",
    "g.framenr = 0\n",
    "g.cnt=0\n",
    "g.show0()\n",
    "# step()\n",
    "g.run(g.nrun, g.ndisp, g.nskip, g.niter, g.nhist, g.nstat, False)"
   ]
  },
  {
   "cell_type": "markdown",
   "metadata": {},
   "source": [
    "### 11.5 Long evolving transient to sea of simple gliders"
   ]
  },
  {
   "cell_type": "markdown",
   "metadata": {},
   "source": [
    "* Initial condition density critical to get a seed that doesn't die.\n",
    "* Final state seems evolutionarily stable (invasions of mutations are very rare, new waves die out).\n",
    "* Even \"R\" periodic perturbation does not perturb final state, genetically.  In \n",
    "fact, it seems to stabilize it.\n",
    "* Final state has 1-d fractal triangle space time cross section (see below).\n",
    "\n",
    "**Could the interacting gliders be \"performing a computation\"?  If yes, we have a case of evolution to computation.**"
   ]
  },
  {
   "cell_type": "code",
   "execution_count": null,
   "metadata": {},
   "outputs": [],
   "source": [
    "# 11\n",
    "#  selection=11 LUT with appropriate parameters for survival\n",
    "#  this case uses the genes to encode the se (number of live edge-centred sites) and s dept rule tables for birth and survival\n",
    "#  a variable length encoding is used in the gene with 4+4 bits, 4-bits for the survival and birth s value as in 8, and 4 bits for the se value\n",
    "#  there are 1,2,3,4,5,4,3,2,1 configurations of se for s=0-8. Only 23 cases s=1-7 are lut allowed non-zero.\n",
    "#  birth is determined by the and of the live neighbour genes (and 23 bits of birthmask) ie genecode\n",
    "#  survival is determined the and of the live neighbour genes (and 19 bits of survivalmask) ie genecode\n",
    "#  ncoding not used : only space for 1 bit per lut entry\n",
    "#  this example starts with only allowing GoL configurations : extend by adding more bits to survival and birth masks\n",
    "g.nrun=1; g.ndisp=1000; g.nskip=0; g.niter=1;# simulation time stepping parameters\n",
    "g.nhist = 0                                  # set to n to turn on histogram configurations every nth step\n",
    "g.nstat = 0                                  # set to n to turn on statistics trace every nth step\n",
    "g.rulemod = g.runparams[0] = 1               # 0,1 whether to allow GoL rule modifications\n",
    "                                             # with rulemod 1 2-live-nb birth, 3-live-nb non-birth & non-survival possible\n",
    "g.repscheme = g.runparams[1] = 0x110         # repscheme bit 3 (val 0x8) determines whether random choice of ancestor amongst live neighbours\n",
    "                                             # repscheme mod 8 i.e. 0-7 determines selection scheme based on gene\n",
    "                                             # 0 minimum gene as value  # 1 maximum gene as value\n",
    "                                             # 2 minimum number of ones # 3 maximum number of ones\n",
    "                                             # 4 neutral selection # 5 neutral but different selection\n",
    "                                             # 6 penalty function -1 for a survival rule -2 for a birth rule  # 7 not allowed \n",
    "g.selection     = g.runparams[2] = 11        # fitness for 2 live neighbor rule : 0-6 see subgenelife.c code\n",
    "g.overwritemask = g.runparams[3] = 0x00\n",
    "g.birthmask    = g.runparams[7] = 0x000000f8 # \n",
    "g.survivalmask = g.runparams[4] = 0x0000003f # \n",
    "g.colorfunction = g.runparams[5] = 0         # color function 0(hash), ≥1(fnal), 2 nongulstate or color gol planes, 3 notgolrul yellow\n",
    "                                             # 4 activities 5 genealogy steps 6 genealogy temporal 7 activity scaled colors\n",
    "g.initfield = g.runparams[6] = 256           # 1 init via 32x32 genepat.dat, n>1 init via nxn rand array\n",
    "g.nlog2pmut = g.simparams[0] = 8             # log2 gene mutation probability (0 or >56 means no mutation)\n",
    "g.initial1density = g.simparams[1] =  10000  # initial 1 density in GOL state\n",
    "                                             # 16384 = nearest to half of guaranteed C rand max value 32767 = 2**15 - 1\n",
    "g.initialrdensity = g.simparams[2] = 10000       # initial density of random genes\n",
    "g.ncoding = g.simparams[3] = 0               # for selection 10, non zero value means grow plane community from 0\n",
    "                                             # otherwise (selection<10) no of bits used to encode valid connection functions 1-16\n",
    "                                             # for selection==8, lut, ncoding 1,2,3 bits per lut entry : 0 implies 3.\n",
    "g.startgenechoice = g.simparams[4] = 7       # initialize genes to startgene number 0-8 : 8 is random choice of 0-7\n",
    "\n",
    "g.genelife.initialize_planes(g.npoffsets)\n",
    "g.genelife.initialize(g.runparams,g.simparams)\n",
    "g.framenr = 0\n",
    "g.cnt=0\n",
    "g.show0()\n",
    "# step()\n",
    "g.run(g.nrun, g.ndisp, g.nskip, g.niter, g.nhist, g.nstat, False)"
   ]
  },
  {
   "cell_type": "code",
   "execution_count": null,
   "metadata": {},
   "outputs": [],
   "source": [
    "# 11\n",
    "#  selection=11 LUT with appropriate parameters for survival\n",
    "#  this case uses the genes to encode the se (number of live edge-centred sites) and s dept rule tables for birth and survival\n",
    "#  a variable length encoding is used in the gene with 4+4 bits, 4-bits for the survival and birth s value as in 8, and 4 bits for the se value\n",
    "#  there are 1,2,3,4,5,4,3,2,1 configurations of se for s=0-8. Only 23 cases s=1-7 are lut allowed non-zero.\n",
    "#  birth is determined by the and of the live neighbour genes (and 23 bits of birthmask) ie genecode\n",
    "#  survival is determined the and of the live neighbour genes (and 19 bits of survivalmask) ie genecode\n",
    "#  ncoding not used : only space for 1 bit per lut entry\n",
    "#  this example starts with only allowing GoL configurations : extend by adding more bits to survival and birth masks\n",
    "g.nrun=1; g.ndisp=1000; g.nskip=0; g.niter=1;# simulation time stepping parameters\n",
    "g.nhist = 0                                  # set to n to turn on histogram configurations every nth step\n",
    "g.nstat = 0                                  # set to n to turn on statistics trace every nth step\n",
    "g.rulemod = g.runparams[0] = 1               # 0,1 whether to allow GoL rule modifications\n",
    "                                             # with rulemod 1 2-live-nb birth, 3-live-nb non-birth & non-survival possible\n",
    "g.repscheme = g.runparams[1] = 0x110         # repscheme bit 3 (val 0x8) determines whether random choice of ancestor amongst live neighbours\n",
    "                                             # repscheme mod 8 i.e. 0-7 determines selection scheme based on gene\n",
    "                                             # 0 minimum gene as value  # 1 maximum gene as value\n",
    "                                             # 2 minimum number of ones # 3 maximum number of ones\n",
    "                                             # 4 neutral selection # 5 neutral but different selection\n",
    "                                             # 6 penalty function -1 for a survival rule -2 for a birth rule  # 7 not allowed \n",
    "g.selection     = g.runparams[2] = 11        # fitness for 2 live neighbor rule : 0-6 see subgenelife.c code\n",
    "g.overwritemask = g.runparams[3] = 0x00\n",
    "g.birthmask    = g.runparams[7] = 0x000000f8 # \n",
    "g.survivalmask = g.runparams[4] = 0x0000003f # \n",
    "g.colorfunction = g.runparams[5] = 0         # color function 0(hash), ≥1(fnal), 2 nongulstate or color gol planes, 3 notgolrul yellow\n",
    "                                             # 4 activities 5 genealogy steps 6 genealogy temporal 7 activity scaled colors\n",
    "g.initfield = g.runparams[6] = 256           # 1 init via 32x32 genepat.dat, n>1 init via nxn rand array\n",
    "g.nlog2pmut = g.simparams[0] = 8             # log2 gene mutation probability (0 or >56 means no mutation)\n",
    "g.initial1density = g.simparams[1] =  10000  # initial 1 density in GOL state\n",
    "                                             # 16384 = nearest to half of guaranteed C rand max value 32767 = 2**15 - 1\n",
    "g.initialrdensity = g.simparams[2] = 10000       # initial density of random genes\n",
    "g.ncoding = g.simparams[3] = 0               # for selection 10, non zero value means grow plane community from 0\n",
    "                                             # otherwise (selection<10) no of bits used to encode valid connection functions 1-16\n",
    "                                             # for selection==8, lut, ncoding 1,2,3 bits per lut entry : 0 implies 3.\n",
    "g.startgenechoice = g.simparams[4] = 7       # initialize genes to startgene number 0-8 : 8 is random choice of 0-7\n",
    "\n",
    "g.genelife.initialize_planes(g.npoffsets)\n",
    "g.genelife.initialize(g.runparams,g.simparams)\n",
    "g.framenr = 0\n",
    "g.cnt=0\n",
    "g.show0()\n",
    "\n",
    "##################################################\n",
    "# activity stuff:\n",
    "g.activity(1000,acttype=\"all\")"
   ]
  },
  {
   "cell_type": "code",
   "execution_count": null,
   "metadata": {},
   "outputs": [],
   "source": [
    "# 11\n",
    "#  selection=11 LUT with appropriate parameters for survival\n",
    "#  this case uses the genes to encode the se (number of live edge-centred sites) and s dept rule tables for birth and survival\n",
    "#  a variable length encoding is used in the gene with 4+4 bits, 4-bits for the survival and birth s value as in 8, and 4 bits for the se value\n",
    "#  there are 1,2,3,4,5,4,3,2,1 configurations of se for s=0-8. Only 23 cases s=1-7 are lut allowed non-zero.\n",
    "#  birth is determined by the and of the live neighbour genes (and 23 bits of birthmask) ie genecode\n",
    "#  survival is determined the and of the live neighbour genes (and 19 bits of survivalmask) ie genecode\n",
    "#  ncoding not used : only space for 1 bit per lut entry\n",
    "#  this example starts with only allowing GoL configurations : extend by adding more bits to survival and birth masks\n",
    "g.nrun=1; g.ndisp=1000; g.nskip=0; g.niter=1;# simulation time stepping parameters\n",
    "g.nhist = 0                                  # set to n to turn on histogram configurations every nth step\n",
    "g.nstat = 0                                  # set to n to turn on statistics trace every nth step\n",
    "g.rulemod = g.runparams[0] = 1               # 0,1 whether to allow GoL rule modifications\n",
    "                                             # with rulemod 1 2-live-nb birth, 3-live-nb non-birth & non-survival possible\n",
    "g.repscheme = g.runparams[1] = 0x110         # repscheme bit 3 (val 0x8) determines whether random choice of ancestor amongst live neighbours\n",
    "                                             # repscheme mod 8 i.e. 0-7 determines selection scheme based on gene\n",
    "                                             # 0 minimum gene as value  # 1 maximum gene as value\n",
    "                                             # 2 minimum number of ones # 3 maximum number of ones\n",
    "                                             # 4 neutral selection # 5 neutral but different selection\n",
    "                                             # 6 penalty function -1 for a survival rule -2 for a birth rule  # 7 not allowed \n",
    "g.selection     = g.runparams[2] = 11        # fitness for 2 live neighbor rule : 0-6 see subgenelife.c code\n",
    "g.overwritemask = g.runparams[3] = 0x00\n",
    "g.birthmask    = g.runparams[7] = 0x000000f8 # \n",
    "g.survivalmask = g.runparams[4] = 0x0000003f # \n",
    "g.colorfunction = g.runparams[5] = 0         # color function 0(hash), ≥1(fnal), 2 nongulstate or color gol planes, 3 notgolrul yellow\n",
    "                                             # 4 activities 5 genealogy steps 6 genealogy temporal 7 activity scaled colors\n",
    "g.initfield = g.runparams[6] = 256           # 1 init via 32x32 genepat.dat, n>1 init via nxn rand array\n",
    "g.nlog2pmut = g.simparams[0] = 8             # log2 gene mutation probability (0 or >56 means no mutation)\n",
    "g.initial1density = g.simparams[1] =  10000  # initial 1 density in GOL state\n",
    "                                             # 16384 = nearest to half of guaranteed C rand max value 32767 = 2**15 - 1\n",
    "g.initialrdensity = g.simparams[2] = 10000       # initial density of random genes\n",
    "g.ncoding = g.simparams[3] = 0               # for selection 10, non zero value means grow plane community from 0\n",
    "                                             # otherwise (selection<10) no of bits used to encode valid connection functions 1-16\n",
    "                                             # for selection==8, lut, ncoding 1,2,3 bits per lut entry : 0 implies 3.\n",
    "g.startgenechoice = g.simparams[4] = 7       # initialize genes to startgene number 0-8 : 8 is random choice of 0-7\n",
    "\n",
    "g.genelife.initialize_planes(g.npoffsets)\n",
    "g.genelife.initialize(g.runparams,g.simparams)\n",
    "g.framenr = 0\n",
    "g.cnt=0\n",
    "g.show0()\n",
    "#\n",
    "\n",
    "#################################################\n",
    "# activity stuff:\n",
    "\n",
    "g.activity(100,maxnum=100000)  # takes a while..."
   ]
  },
  {
   "cell_type": "code",
   "execution_count": null,
   "metadata": {},
   "outputs": [],
   "source": [
    "# 11\n",
    "#  selection=11 LUT with appropriate parameters for survival\n",
    "#  this case uses the genes to encode the se (number of live edge-centred sites) and s dept rule tables for birth and survival\n",
    "#  a variable length encoding is used in the gene with 4+4 bits, 4-bits for the survival and birth s value as in 8, and 4 bits for the se value\n",
    "#  there are 1,2,3,4,5,4,3,2,1 configurations of se for s=0-8. Only 23 cases s=1-7 are lut allowed non-zero.\n",
    "#  birth is determined by the and of the live neighbour genes (and 23 bits of birthmask) ie genecode\n",
    "#  survival is determined the and of the live neighbour genes (and 19 bits of survivalmask) ie genecode\n",
    "#  ncoding not used : only space for 1 bit per lut entry\n",
    "#  this example starts with only allowing GoL configurations : extend by adding more bits to survival and birth masks\n",
    "g.nrun=1; g.ndisp=1000; g.nskip=0; g.niter=1;# simulation time stepping parameters\n",
    "g.nhist = 0                                  # set to n to turn on histogram configurations every nth step\n",
    "g.nstat = 0                                  # set to n to turn on statistics trace every nth step\n",
    "g.rulemod = g.runparams[0] = 1               # 0,1 whether to allow GoL rule modifications\n",
    "                                             # with rulemod 1 2-live-nb birth, 3-live-nb non-birth & non-survival possible\n",
    "g.repscheme = g.runparams[1] = 0x110         # repscheme bit 3 (val 0x8) determines whether random choice of ancestor amongst live neighbours\n",
    "                                             # repscheme mod 8 i.e. 0-7 determines selection scheme based on gene\n",
    "                                             # 0 minimum gene as value  # 1 maximum gene as value\n",
    "                                             # 2 minimum number of ones # 3 maximum number of ones\n",
    "                                             # 4 neutral selection # 5 neutral but different selection\n",
    "                                             # 6 penalty function -1 for a survival rule -2 for a birth rule  # 7 not allowed \n",
    "g.selection     = g.runparams[2] = 11        # fitness for 2 live neighbor rule : 0-6 see subgenelife.c code\n",
    "g.overwritemask = g.runparams[3] = 0x00\n",
    "g.birthmask    = g.runparams[7] = 0x000000f8 # \n",
    "g.survivalmask = g.runparams[4] = 0x0000003f # \n",
    "g.colorfunction = g.runparams[5] = 0         # color function 0(hash), ≥1(fnal), 2 nongulstate or color gol planes, 3 notgolrul yellow\n",
    "                                             # 4 activities 5 genealogy steps 6 genealogy temporal 7 activity scaled colors\n",
    "g.initfield = g.runparams[6] = 256           # 1 init via 32x32 genepat.dat, n>1 init via nxn rand array\n",
    "g.nlog2pmut = g.simparams[0] = 8             # log2 gene mutation probability (0 or >56 means no mutation)\n",
    "g.initial1density = g.simparams[1] =  10000  # initial 1 density in GOL state\n",
    "                                             # 16384 = nearest to half of guaranteed C rand max value 32767 = 2**15 - 1\n",
    "g.initialrdensity = g.simparams[2] = 10000       # initial density of random genes\n",
    "g.ncoding = g.simparams[3] = 0               # for selection 10, non zero value means grow plane community from 0\n",
    "                                             # otherwise (selection<10) no of bits used to encode valid connection functions 1-16\n",
    "                                             # for selection==8, lut, ncoding 1,2,3 bits per lut entry : 0 implies 3.\n",
    "g.startgenechoice = g.simparams[4] = 7       # initialize genes to startgene number 0-8 : 8 is random choice of 0-7\n",
    "\n",
    "g.genelife.initialize_planes(g.npoffsets)\n",
    "g.genelife.initialize(g.runparams,g.simparams)\n",
    "g.framenr = 0\n",
    "g.cnt=0\n",
    "g.show0()\n",
    "#\n",
    "\n",
    "#################################################\n",
    "# activity stuff:\n",
    "g.activity(500,maxnum=2000000)  # takes a while..."
   ]
  },
  {
   "cell_type": "markdown",
   "metadata": {},
   "source": [
    "### 11.6 Competing blooms -> stationary competition"
   ]
  },
  {
   "cell_type": "code",
   "execution_count": null,
   "metadata": {},
   "outputs": [],
   "source": [
    "# 11\n",
    "#  selection=11 LUT with appropriate parameters for survival\n",
    "#  this case uses the genes to encode the se (number of live edge-centred sites) and s dept rule tables for birth and survival\n",
    "#  a variable length encoding is used in the gene with 4+4 bits, 4-bits for the survival and birth s value as in 8, and 4 bits for the se value\n",
    "#  there are 1,2,3,4,5,4,3,2,1 configurations of se for s=0-8. Only 23 cases s=1-7 are lut allowed non-zero.\n",
    "#  birth is determined by the and of the live neighbour genes (and 23 bits of birthmask) ie genecode\n",
    "#  survival is determined the and of the live neighbour genes (and 19 bits of survivalmask) ie genecode\n",
    "#  ncoding not used : only space for 1 bit per lut entry\n",
    "#  this example starts with only allowing GoL configurations : extend by adding more bits to survival and birth masks\n",
    "g.nrun=1; g.ndisp=1000; g.nskip=0; g.niter=1;# simulation time stepping parameters\n",
    "g.nhist = 0                                  # set to n to turn on histogram configurations every nth step\n",
    "g.nstat = 0                                  # set to n to turn on statistics trace every nth step\n",
    "g.rulemod = g.runparams[0] = 1               # 0,1 whether to allow GoL rule modifications\n",
    "                                             # with rulemod 1 2-live-nb birth, 3-live-nb non-birth & non-survival possible\n",
    "g.repscheme = g.runparams[1] = 0x110         # repscheme bit 3 (val 0x8) determines whether random choice of ancestor amongst live neighbours\n",
    "                                             # repscheme mod 8 i.e. 0-7 determines selection scheme based on gene\n",
    "                                             # 0 minimum gene as value  # 1 maximum gene as value\n",
    "                                             # 2 minimum number of ones # 3 maximum number of ones\n",
    "                                             # 4 neutral selection # 5 neutral but different selection\n",
    "                                             # 6 penalty function -1 for a survival rule -2 for a birth rule  # 7 not allowed \n",
    "g.selection     = g.runparams[2] = 11        # fitness for 2 live neighbor rule : 0-6 see subgenelife.c code\n",
    "g.overwritemask = g.runparams[3] = 0x00\n",
    "g.birthmask    = g.runparams[7] = 0x000000fe # \n",
    "g.survivalmask = g.runparams[4] = 0x0000003f # \n",
    "g.colorfunction = g.runparams[5] = 0         # color function 0(hash), ≥1(fnal), 2 nongulstate or color gol planes, 3 notgolrul yellow\n",
    "                                             # 4 activities 5 genealogy steps 6 genealogy temporal 7 activity scaled colors\n",
    "g.initfield = g.runparams[6] = 256           # 1 init via 32x32 genepat.dat, n>1 init via nxn rand array\n",
    "g.nlog2pmut = g.simparams[0] = 8             # log2 gene mutation probability (0 or >56 means no mutation)\n",
    "g.initial1density = g.simparams[1] =  10000  # initial 1 density in GOL state\n",
    "                                             # 16384 = nearest to half of guaranteed C rand max value 32767 = 2**15 - 1\n",
    "g.initialrdensity = g.simparams[2] = 10000       # initial density of random genes\n",
    "g.ncoding = g.simparams[3] = 0               # for selection 10, non zero value means grow plane community from 0\n",
    "                                             # otherwise (selection<10) no of bits used to encode valid connection functions 1-16\n",
    "                                             # for selection==8, lut, ncoding 1,2,3 bits per lut entry : 0 implies 3.\n",
    "g.startgenechoice = g.simparams[4] = 7       # initialize genes to startgene number 0-8 : 8 is random choice of 0-7\n",
    "\n",
    "g.genelife.initialize_planes(g.npoffsets)\n",
    "g.genelife.initialize(g.runparams,g.simparams)\n",
    "g.framenr = 0\n",
    "g.cnt=0\n",
    "g.show0()\n",
    "# step()\n",
    "g.run(g.nrun, g.ndisp, g.nskip, g.niter, g.nhist, g.nstat, False)"
   ]
  },
  {
   "cell_type": "markdown",
   "metadata": {},
   "source": [
    "### 11.6 Another long transient, to more complex competitive mix"
   ]
  },
  {
   "cell_type": "code",
   "execution_count": null,
   "metadata": {},
   "outputs": [],
   "source": []
  },
  {
   "cell_type": "code",
   "execution_count": null,
   "metadata": {},
   "outputs": [],
   "source": [
    "# 11\n",
    "#  selection=11 LUT with appropriate parameters for survival\n",
    "#  this case uses the genes to encode the se (number of live edge-centred sites) and s dept rule tables for birth and survival\n",
    "#  a variable length encoding is used in the gene with 4+4 bits, 4-bits for the survival and birth s value as in 8, and 4 bits for the se value\n",
    "#  there are 1,2,3,4,5,4,3,2,1 configurations of se for s=0-8. Only 23 cases s=1-7 are lut allowed non-zero.\n",
    "#  birth is determined by the and of the live neighbour genes (and 23 bits of birthmask) ie genecode\n",
    "#  survival is determined the and of the live neighbour genes (and 19 bits of survivalmask) ie genecode\n",
    "#  ncoding not used : only space for 1 bit per lut entry\n",
    "#  this example starts with only allowing GoL configurations : extend by adding more bits to survival and birth masks\n",
    "g.nrun=1; g.ndisp=1000; g.nskip=0; g.niter=1;# simulation time stepping parameters\n",
    "g.nhist = 0                                  # set to n to turn on histogram configurations every nth step\n",
    "g.nstat = 0                                  # set to n to turn on statistics trace every nth step\n",
    "g.rulemod = g.runparams[0] = 1               # 0,1 whether to allow GoL rule modifications\n",
    "                                             # with rulemod 1 2-live-nb birth, 3-live-nb non-birth & non-survival possible\n",
    "g.repscheme = g.runparams[1] = 0x311         # repscheme bit 3 (val 0x8) determines whether random choice of ancestor amongst live neighbours\n",
    "                                             # repscheme mod 8 i.e. 0-7 determines selection scheme based on gene\n",
    "                                             # 0 minimum gene as value  # 1 maximum gene as value\n",
    "                                             # 2 minimum number of ones # 3 maximum number of ones\n",
    "                                             # 4 neutral selection # 5 neutral but different selection\n",
    "                                             # 6 penalty function -1 for a survival rule -2 for a birth rule  # 7 not allowed \n",
    "g.selection     = g.runparams[2] = 11        # fitness for 2 live neighbor rule : 0-6 see subgenelife.c code\n",
    "g.overwritemask = g.runparams[3] = 0x00\n",
    "g.birthmask    = g.runparams[7] = 0x000000da # \n",
    "g.survivalmask = g.runparams[4] = 0x0000003f # \n",
    "g.colorfunction = g.runparams[5] = 0         # color function 0(hash), ≥1(fnal), 2 nongulstate or color gol planes, 3 notgolrul yellow\n",
    "                                             # 4 activities 5 genealogy steps 6 genealogy temporal 7 activity scaled colors\n",
    "g.initfield = g.runparams[6] = 256           # 1 init via 32x32 genepat.dat, n>1 init via nxn rand array\n",
    "g.nlog2pmut = g.simparams[0] = 8             # log2 gene mutation probability (0 or >56 means no mutation)\n",
    "g.initial1density = g.simparams[1] =  10000  # initial 1 density in GOL state\n",
    "                                             # 16384 = nearest to half of guaranteed C rand max value 32767 = 2**15 - 1\n",
    "g.initialrdensity = g.simparams[2] = 10000       # initial density of random genes\n",
    "g.ncoding = g.simparams[3] = 0               # for selection 10, non zero value means grow plane community from 0\n",
    "                                             # otherwise (selection<10) no of bits used to encode valid connection functions 1-16\n",
    "                                             # for selection==8, lut, ncoding 1,2,3 bits per lut entry : 0 implies 3.\n",
    "g.startgenechoice = g.simparams[4] = 7       # initialize genes to startgene number 0-8 : 8 is random choice of 0-7\n",
    "\n",
    "g.genelife.initialize_planes(g.npoffsets)\n",
    "g.genelife.initialize(g.runparams,g.simparams)\n",
    "g.framenr = 0\n",
    "g.cnt=0\n",
    "g.show0()\n",
    "# step()\n",
    "g.run(g.nrun, g.ndisp, g.nskip, g.niter, g.nhist, g.nstat, False)"
   ]
  },
  {
   "cell_type": "code",
   "execution_count": null,
   "metadata": {},
   "outputs": [],
   "source": [
    "# 11\n",
    "#  selection=11 LUT with appropriate parameters for survival\n",
    "#  this case uses the genes to encode the se (number of live edge-centred sites) and s dept rule tables for birth and survival\n",
    "#  a variable length encoding is used in the gene with 4+4 bits, 4-bits for the survival and birth s value as in 8, and 4 bits for the se value\n",
    "#  there are 1,2,3,4,5,4,3,2,1 configurations of se for s=0-8. Only 23 cases s=1-7 are lut allowed non-zero.\n",
    "#  birth is determined by the and of the live neighbour genes (and 23 bits of birthmask) ie genecode\n",
    "#  survival is determined the and of the live neighbour genes (and 19 bits of survivalmask) ie genecode\n",
    "#  ncoding not used : only space for 1 bit per lut entry\n",
    "#  this example starts with only allowing GoL configurations : extend by adding more bits to survival and birth masks\n",
    "g.nrun=1; g.ndisp=1000; g.nskip=0; g.niter=1;# simulation time stepping parameters\n",
    "g.nhist = 0                                  # set to n to turn on histogram configurations every nth step\n",
    "g.nstat = 0                                  # set to n to turn on statistics trace every nth step\n",
    "g.rulemod = g.runparams[0] = 1               # 0,1 whether to allow GoL rule modifications\n",
    "                                             # with rulemod 1 2-live-nb birth, 3-live-nb non-birth & non-survival possible\n",
    "g.repscheme = g.runparams[1] = 0x311         # repscheme bit 3 (val 0x8) determines whether random choice of ancestor amongst live neighbours\n",
    "                                             # repscheme mod 8 i.e. 0-7 determines selection scheme based on gene\n",
    "                                             # 0 minimum gene as value  # 1 maximum gene as value\n",
    "                                             # 2 minimum number of ones # 3 maximum number of ones\n",
    "                                             # 4 neutral selection # 5 neutral but different selection\n",
    "                                             # 6 penalty function -1 for a survival rule -2 for a birth rule  # 7 not allowed \n",
    "g.selection     = g.runparams[2] = 11        # fitness for 2 live neighbor rule : 0-6 see subgenelife.c code\n",
    "g.overwritemask = g.runparams[3] = 0x00\n",
    "g.birthmask    = g.runparams[7] = 0x000000da # \n",
    "g.survivalmask = g.runparams[4] = 0x0000003f # \n",
    "g.colorfunction = g.runparams[5] = 0         # color function 0(hash), ≥1(fnal), 2 nongulstate or color gol planes, 3 notgolrul yellow\n",
    "                                             # 4 activities 5 genealogy steps 6 genealogy temporal 7 activity scaled colors\n",
    "g.initfield = g.runparams[6] = 256           # 1 init via 32x32 genepat.dat, n>1 init via nxn rand array\n",
    "g.nlog2pmut = g.simparams[0] = 8             # log2 gene mutation probability (0 or >56 means no mutation)\n",
    "g.initial1density = g.simparams[1] =  10000  # initial 1 density in GOL state\n",
    "                                             # 16384 = nearest to half of guaranteed C rand max value 32767 = 2**15 - 1\n",
    "g.initialrdensity = g.simparams[2] = 10000       # initial density of random genes\n",
    "g.ncoding = g.simparams[3] = 0               # for selection 10, non zero value means grow plane community from 0\n",
    "                                             # otherwise (selection<10) no of bits used to encode valid connection functions 1-16\n",
    "                                             # for selection==8, lut, ncoding 1,2,3 bits per lut entry : 0 implies 3.\n",
    "g.startgenechoice = g.simparams[4] = 7       # initialize genes to startgene number 0-8 : 8 is random choice of 0-7\n",
    "\n",
    "g.genelife.initialize_planes(g.npoffsets)\n",
    "g.genelife.initialize(g.runparams,g.simparams)\n",
    "g.framenr = 0\n",
    "g.cnt=0\n",
    "g.show0()\n",
    "# step()\n",
    "g.run(g.nrun, g.ndisp, g.nskip, g.niter, g.nhist, g.nstat, False)"
   ]
  },
  {
   "cell_type": "code",
   "execution_count": null,
   "metadata": {},
   "outputs": [],
   "source": [
    "g.activity(500,maxnum=100000)"
   ]
  },
  {
   "cell_type": "code",
   "execution_count": null,
   "metadata": {},
   "outputs": [],
   "source": [
    "maxngenes = 100000\n",
    "genes=np.zeros(maxngenes,np.uint64)\n",
    "activitiesl=np.zeros(maxngenes,np.int32)\n",
    "\n",
    "\n",
    "N = 100\n",
    "qqq = [[None]*10 for _ in range(N)]\n",
    "nsp = [None]*N\n",
    "g.genelife.genelife_update(1,0,0)\n",
    "nspecies=g.genelife.get_activities(genes,activitiesl) # live only\n",
    "\n",
    "for i in range(N):\n",
    "    ac = [activitiesl[i] for i in range(len(activitiesl)) if activitiesl[i]>1]\n",
    "    qqq[i] = np.quantile(ac,qq)\n",
    "    g.genelife.genelife_update(1,0,0)\n",
    "    nsp[i]=g.genelife.get_activities(genes,activitiesl)\n",
    "\n",
    "for j in range(10):\n",
    "    foo = [qqq[i][j] for i in range(N)]\n",
    "    plt.semilogy(foo)\n",
    "plt.show()\n",
    "plt.plot(nsp);"
   ]
  },
  {
   "cell_type": "code",
   "execution_count": null,
   "metadata": {},
   "outputs": [],
   "source": [
    "N=100\n",
    "nquant=10\n",
    "acttype=\"live\" # all = all genes, live = live genes only,  quad = quad patterns, small = small patterns\n",
    "maxnum=100000\n",
    "init=False\n",
    "if acttype==\"live\":\n",
    "    doact = g.genelife.get_activities\n",
    "elif acttype==\"all\":\n",
    "    doact = g.genelife.get_all_activities\n",
    "elif acttype==\"quad\":\n",
    "    doact = g.genelife.get_quad_activities\n",
    "else:\n",
    "    printf(\"unknown acttype:  \",acttype)\n",
    "\n",
    "activities = np.zeros(maxnum,np.int32)\n",
    "\n",
    "data=np.zeros(maxnum,np.uint64)\n",
    "qqq = [[None]*nquant for _ in range(N)]\n",
    "qq = [x/nquant for x in range(nquant)]\n",
    "nspecies = [None]*N\n",
    "\n",
    "if init:\n",
    "    g.genelife.initialize_planes(g.npoffsets)\n",
    "    g.genelife.initialize(g.runparams,g.simparams)\n",
    "g.genelife.genelife_update(1,0,0)\n",
    "nspecies[0]=doact(data,activities)\n",
    "\n",
    "for j in range(1,N):\n",
    "    ac = [activities[i] for i in range(len(activities)) if activities[i]>1]\n",
    "    qqq[j] = np.quantile(ac,qq)\n",
    "    g.genelife.genelife_update(1,0,0)\n",
    "    nspecies[j]=doact(data,activities)\n",
    "\n",
    "for j in range(10):\n",
    "    foo = [qqq[i][j] for i in range(N)]\n",
    "    plt.semilogy(foo)\n",
    "plt.show()\n",
    "plt.plot(nsp);\n"
   ]
  },
  {
   "cell_type": "code",
   "execution_count": null,
   "metadata": {},
   "outputs": [],
   "source": [
    "g.genelife.get_curgol(g.gol)\n",
    "cnt = range(g.N)\n",
    "for i in range(g.N):\n",
    "    cnt[i] = sum([g.gol[(i*g.N)+j] for j in range(g.N)])"
   ]
  },
  {
   "cell_type": "code",
   "execution_count": null,
   "metadata": {},
   "outputs": [],
   "source": [
    "foo = [(i,cnt[i]) for i in range(g.N) if cnt[i] == max(cnt)]\n",
    "\n",
    "myrow = foo[0][0]\n",
    "for i in range(g.N):\n",
    "    g.genelife.get_curgol(g.gol)\n",
    "    for j in range(g.N):\n",
    "        if g.gol[(g.N*myrow)+j]==1:\n",
    "            g.cgrid[i][j] = 1\n",
    "        else:\n",
    "            g.cgrid[i][j] = 0\n",
    "    g.genelife.genelife_update(1,0,0)\n",
    "    "
   ]
  },
  {
   "cell_type": "code",
   "execution_count": null,
   "metadata": {},
   "outputs": [],
   "source": [
    "%matplotlib inline\n",
    "\n",
    "my_dpi=96\n",
    "my_cmap = g.rand_cmap(257, type='bright', first_color_black=True, last_color_black=False)\n",
    "\n",
    "fig, ax = g.plt.subplots(figsize=((3*256)/my_dpi, (3*256)/my_dpi), dpi=my_dpi, frameon=False)\n",
    "ax.axis('off')\n",
    "# mat = ax.matshow(cgrid, cmap=my_cmap, vmin=0.01, vmax=257)  # was vmax = LEN+1\n",
    "mat = ax.matshow(g.cgrid, cmap=my_cmap, vmin = 0, vmax = 56)\n",
    "g.plt.show()"
   ]
  },
  {
   "cell_type": "code",
   "execution_count": null,
   "metadata": {},
   "outputs": [],
   "source": [
    "dir(g)"
   ]
  },
  {
   "cell_type": "code",
   "execution_count": null,
   "metadata": {},
   "outputs": [],
   "source": [
    "g.run(g.nrun, g.ndisp, g.nskip, g.niter, g.nhist, g.nstat, False)"
   ]
  },
  {
   "cell_type": "markdown",
   "metadata": {},
   "source": [
    "## 12 Selection: Canonical rotation LUT encoded by gene with fixed length positional encoding"
   ]
  },
  {
   "cell_type": "markdown",
   "metadata": {},
   "source": [
    "### 12.1 Game of Life with selection==12"
   ]
  },
  {
   "cell_type": "code",
   "execution_count": 6,
   "metadata": {},
   "outputs": [],
   "source": [
    "# 12 GoL\n",
    "#  selection=12 LUT with appropriate parameters for survival\n",
    "#  this case uses the genes to encode the canonical rotation and s dept rule tables for birth and survival\n",
    "#  a fixed positional encoding is used in the gene with 1-bit for each canonical rotation in the 32 bit survival and birth masks\n",
    "#  there are 1,1,4,7,10,7,4,1,1 canonical rotation mask bits for s=0-8. Only 32 cases s=2-6 in LUT are allowed non-zero.\n",
    "#  birth is determined by the and of the live neighbour genes (and 32 bits of overwritemask) ie genecode\n",
    "#  survival is determined the and of the live neighbour genes (and 32 bits of survivalmask) ie genecode\n",
    "#  ncoding not used : only space for 1 bit per lut entry\n",
    "#  this example allows only one of the 4 canonical rotations for s=2 to be gene activated for birth, otherwise <=GoL\n",
    "g.nrun=1; g.ndisp=1000; g.nskip=0; g.niter=1;# simulation time stepping parameters\n",
    "g.nhist = 0                                  # set to n to turn on histogram configurations every nth step\n",
    "g.nstat = 0                                  # set to n to turn on statistics trace every nth step\n",
    "g.rulemod = g.runparams[0] = 0x1             # 0,1 whether to allow GoL rule modifications\n",
    "g.repscheme = g.runparams[1] = 0x610         \n",
    "g.selection     = g.runparams[2] = 12        # fitness for 2 live neighbor rule : 0-6 see subgenelife.c code\n",
    "g.overwritemask = g.runparams[3] = 0x00      # mask of bits to overwrite if birth allowed and already occupied for bit position sum s\n",
    "g.birthmask    = g.runparams[7] = 0x000007f0 # for selection=12-13 this is the GoL birth mask\n",
    "g.survivalmask = g.runparams[4] = 0x000007ff # for selection=12-13 this is the GoL survival mask\n",
    "g.ancselectmask = g.runparams[8] = 0xff      # ancestor mask allowing selection for all s values\n",
    "g.colorfunction = g.runparams[5] = 0         # color function can be cahnged with arrow keys\n",
    "g.initfield = g.runparams[6] = 150           # 1 init via 32x32 genepat.dat, n>1 init via nxn rand array\n",
    "g.nlog2pmut = g.simparams[0] = 8             # log2 gene mutation probability (0 or >56 means no mutation)\n",
    "g.initial1density = g.simparams[1] = 8192    # initial 1 density in GOL state: 16384 = nearest to half of C rand max value 32767 = 2**15 - 1\n",
    "g.initialrdensity = g.simparams[2] = 0       # initial density of random genes\n",
    "g.ncoding = g.simparams[3] = 0               # for selection==12 no meaning\n",
    "g.startgenechoice = g.simparams[4] = 8       # initialize genes to startgene number 0-8 : 8 is random choice of 0-7\n",
    "\n",
    "g.genelife.initialize_planes(g.npoffsets)\n",
    "g.genelife.initialize(g.runparams,g.simparams)\n",
    "g.framenr = 0\n",
    "g.cnt=0\n",
    "g.show0()\n",
    "#g.step(True)\n",
    "g.run(g.nrun, g.ndisp, g.nskip, g.niter, g.nhist, g.nstat, False)"
   ]
  },
  {
   "cell_type": "code",
   "execution_count": null,
   "metadata": {},
   "outputs": [],
   "source": []
  },
  {
   "cell_type": "markdown",
   "metadata": {},
   "source": [
    "### 12.2 Scissors-paper-stone-well selection with selection==12"
   ]
  },
  {
   "cell_type": "code",
   "execution_count": 15,
   "metadata": {},
   "outputs": [],
   "source": [
    "# 12\n",
    "#  selection=12 LUT with appropriate parameters for scissors-paper-stone-well selection\n",
    "#  this case uses the genes to encode the canonical rotation and s dept rule tables for birth and survival\n",
    "#  a fixed positional encoding is used in the gene with 1-bit for each canonical rotation in the 32 bit survival and birth masks\n",
    "#  there are 1,1,4,7,10,7,4,1,1 canonical rotation mask bits for s=0-8. Only 32 cases s=2-6 in LUT are allowed non-zero.\n",
    "#  birth is determined by the and of the live neighbour genes (and 32 bits of overwritemask) ie genecode\n",
    "#  survival is determined the and of the live neighbour genes (and 32 bits of survivalmask) ie genecode\n",
    "#  ncoding not used : only space for 1 bit per lut entry\n",
    "#  this example allows only one of the 4 canonical rotations for s=2 to be gene activated for birth, otherwise <=GoL\n",
    "g.nrun=4; g.ndisp=1000; g.nskip=0; g.niter=1;# simulation time stepping parameters\n",
    "g.nhist = 0                                  # set to n to turn on histogram configurations every nth step\n",
    "g.nstat = 0                                  # set to n to turn on statistics trace every nth step\n",
    "g.rulemod = g.runparams[0] = 0x1             # 0,1 whether to allow GoL rule modifications\n",
    "g.repscheme = g.runparams[1] = 0x170         \n",
    "g.selection     = g.runparams[2] = 12        # fitness for 2 live neighbor rule : 0-6 see subgenelife.c code\n",
    "g.overwritemask = g.runparams[3] = 0x06      # mask of bits to overwrite if birth allowed and already occupied for bit position sum s\n",
    "g.birthmask    = g.runparams[7] = 0x000007ff # for selection=10-11 this is the GoL birth mask with birth for s=2 added\n",
    "g.survivalmask = g.runparams[4] = 0x0        # for selection=10-11 this is the GoL survival mask\n",
    "g.ancselectmask = g.runparams[8] = 0xff      # ancestor mask allowing selection for all s values\n",
    "g.colorfunction = g.runparams[5] = 0         # color function can be cahnged with arrow keys\n",
    "g.initfield = g.runparams[6] = 100           # 1 init via 32x32 genepat.dat, n>1 init via nxn rand array\n",
    "g.nlog2pmut = g.simparams[0] = 8             # log2 gene mutation probability (0 or >56 means no mutation)\n",
    "g.initial1density = g.simparams[1] = 8192    # initial 1 density in GOL state: 16384 = nearest to half of C rand max value 32767 = 2**15 - 1\n",
    "g.initialrdensity = g.simparams[2] = 0       # initial density of random genes\n",
    "g.ncoding = g.simparams[3] = 0               # for selection==8, lut, ncoding 1,2,3 bits per lut entry : 0 implies 3.\n",
    "g.startgenechoice = g.simparams[4] = 8       # initialize genes to startgene number 0-8 : 8 is random choice of 0-7\n",
    "\n",
    "g.genelife.initialize_planes(g.npoffsets)\n",
    "g.genelife.initialize(g.runparams,g.simparams)\n",
    "g.framenr = 0\n",
    "g.cnt=0\n",
    "g.show0()\n",
    "#g.step(True)\n",
    "g.run(g.nrun, g.ndisp, g.nskip, g.niter, g.nhist, g.nstat, False)"
   ]
  },
  {
   "cell_type": "markdown",
   "metadata": {},
   "source": [
    "### 12.3 Test of symmetry breaking expansion of rules"
   ]
  },
  {
   "cell_type": "code",
   "execution_count": 9,
   "metadata": {},
   "outputs": [
    {
     "name": "stdout",
     "output_type": "stream",
     "text": [
      "step 1504 birthmask changed to 7f7\n",
      "step 2001 birthmask changed to 7f3\n",
      "step 2507 birthmask changed to 7f7\n",
      "step 2515 birthmask changed to 7f3\n",
      "step 2525 birthmask changed to 7fb\n",
      "step 2531 birthmask changed to 7ff\n",
      "step 3003 birthmask changed to 7fd\n",
      "step 3511 collected trace of nnovelcells\n",
      "step 4509 birthmask changed to 7fc\n",
      "step 4526 birthmask changed to 7fd\n",
      "step 4731 birthmask changed to 7fc\n"
     ]
    }
   ],
   "source": [
    "# 12 Test of critical edge of proliferation\n",
    "#  selection=12 LUT with appropriate parameters for survival\n",
    "#  this case uses the genes to encode the canonical rotation and s dept rule tables for birth and survival\n",
    "#  a fixed positional encoding is used in the gene with 1-bit for each canonical rotation in the 32 bit survival and birth masks\n",
    "#  there are 1,1,4,7,10,7,4,1,1 canonical rotation mask bits for s=0-8. Only 32 cases s=2-6 in LUT are allowed non-zero.\n",
    "#  birth is determined by the and of the live neighbour genes (and 32 bits of overwritemask) ie genecode\n",
    "#  survival is determined the and of the live neighbour genes (and 32 bits of survivalmask) ie genecode\n",
    "#  ncoding not used : only space for 1 bit per lut entry\n",
    "#  this example allows only one of the 4 canonical rotations for s=2 to be gene activated for birth, otherwise <=GoL\n",
    "g.nrun=1; g.ndisp=1000; g.nskip=0; g.niter=1;# simulation time stepping parameters\n",
    "g.nhist = 0                                  # set to n to turn on histogram configurations every nth step\n",
    "g.nstat = 0                                  # set to n to turn on statistics trace every nth step\n",
    "g.rulemod = g.runparams[0] = 0x1             # 0,1 whether to allow GoL rule modifications\n",
    "g.repscheme = g.runparams[1] = 0x150         \n",
    "g.selection     = g.runparams[2] = 12        # fitness for 2 live neighbor rule : 0-6 see subgenelife.c code\n",
    "g.overwritemask = g.runparams[3] = 0xff      # mask of bits to overwrite if birth allowed and already occupied for bit position sum s\n",
    "g.birthmask    = g.runparams[7] = 0x000007ff # for selection=12-13 this is the GoL birth mask\n",
    "g.survivalmask = g.runparams[4] = 0x00000000 # for selection=12-13 this is the GoL survival mask\n",
    "g.ancselectmask = g.runparams[8] = 0xff      # ancestor mask allowing selection for all s values\n",
    "g.colorfunction = g.runparams[5] = 0         # color function can be cahnged with arrow keys\n",
    "g.initfield = g.runparams[6] = 0             # 1 init via 32x32 genepat.dat, n>1 init via nxn rand array\n",
    "g.nlog2pmut = g.simparams[0] = 8             # log2 gene mutation probability (0 or >56 means no mutation)\n",
    "g.initial1density = g.simparams[1] = 8192    # initial 1 density in GOL state: 16384 = nearest to half of C rand max value 32767 = 2**15 - 1\n",
    "g.initialrdensity = g.simparams[2] = 16384   # initial density of random genes\n",
    "g.ncoding = g.simparams[3] = 0               # for selection==12 no meaning\n",
    "g.startgenechoice = g.simparams[4] = 8       # initialize genes to startgene number 0-8 : 8 is random choice of 0-7\n",
    "\n",
    "g.genelife.initialize_planes(g.npoffsets)\n",
    "g.genelife.initialize(g.runparams,g.simparams)\n",
    "g.framenr = 0\n",
    "g.cnt=0\n",
    "g.show0()\n",
    "#g.step(True)\n",
    "g.run(g.nrun, g.ndisp, g.nskip, g.niter, g.nhist, g.nstat, False)"
   ]
  },
  {
   "cell_type": "code",
   "execution_count": 10,
   "metadata": {},
   "outputs": [
    {
     "data": {
      "text/plain": [
       "Text(0, 0.5, 'novel cells')"
      ]
     },
     "execution_count": 10,
     "metadata": {},
     "output_type": "execute_result"
    },
    {
     "data": {
      "image/png": "[encoded data removed]",
      "text/plain": [
       "<Figure size 432x288 with 1 Axes>"
      ]
     },
     "metadata": {
      "needs_background": "light"
     },
     "output_type": "display_data"
    }
   ],
   "source": [
    "plt.plot(g.nnovelcells[:3500],'black')\n",
    "plt.xlabel('time steps')\n",
    "plt.ylabel('novel cells')"
   ]
  },
  {
   "cell_type": "code",
   "execution_count": 15,
   "metadata": {},
   "outputs": [
    {
     "name": "stdout",
     "output_type": "stream",
     "text": [
      "step 1503 birthmask changed to 7f7\n",
      "step 2006 birthmask changed to 7ff\n",
      "step 2014 birthmask changed to 7fb\n",
      "step 2506 birthmask changed to 7ff\n",
      "step 3002 birthmask changed to 7f7\n",
      "step 3013 birthmask changed to 7f3\n",
      "step 3512 birthmask changed to 7f7\n",
      "step 3522 birthmask changed to 7ff\n",
      "step 4004 birthmask changed to 7fd\n",
      "step 4513 birthmask changed to 7f9\n",
      "step 5132 collected trace of nnovelcells\n"
     ]
    }
   ],
   "source": [
    "# 12 Test of critical edge of proliferation\n",
    "#  selection=12 LUT with appropriate parameters for survival\n",
    "#  this case uses the genes to encode the canonical rotation and s dept rule tables for birth and survival\n",
    "#  a fixed positional encoding is used in the gene with 1-bit for each canonical rotation in the 32 bit survival and birth masks\n",
    "#  there are 1,1,4,7,10,7,4,1,1 canonical rotation mask bits for s=0-8. Only 32 cases s=2-6 in LUT are allowed non-zero.\n",
    "#  birth is determined by the and of the live neighbour genes (and 32 bits of overwritemask) ie genecode\n",
    "#  survival is determined the and of the live neighbour genes (and 32 bits of survivalmask) ie genecode\n",
    "#  ncoding not used : only space for 1 bit per lut entry\n",
    "#  this example allows only one of the 4 canonical rotations for s=2 to be gene activated for birth, otherwise <=GoL\n",
    "g.nrun=1; g.ndisp=1000; g.nskip=0; g.niter=1;# simulation time stepping parameters\n",
    "g.nhist = 0                                  # set to n to turn on histogram configurations every nth step\n",
    "g.nstat = 0                                  # set to n to turn on statistics trace every nth step\n",
    "g.rulemod = g.runparams[0] = 0x1             # 0,1 whether to allow GoL rule modifications\n",
    "g.repscheme = g.runparams[1] = 0x150         \n",
    "g.selection     = g.runparams[2] = 12        # fitness for 2 live neighbor rule : 0-6 see subgenelife.c code\n",
    "g.overwritemask = g.runparams[3] = 0xff      # mask of bits to overwrite if birth allowed and already occupied for bit position sum s\n",
    "g.birthmask    = g.runparams[7] = 0x000007ff # for selection=12-13 this is the GoL birth mask\n",
    "g.survivalmask = g.runparams[4] = 0x00000000 # for selection=12-13 this is the GoL survival mask\n",
    "g.ancselectmask = g.runparams[8] = 0xff      # ancestor mask allowing selection for all s values\n",
    "g.colorfunction = g.runparams[5] = 0         # color function can be cahnged with arrow keys\n",
    "g.initfield = g.runparams[6] = 0             # 1 init via 32x32 genepat.dat, n>1 init via nxn rand array\n",
    "g.nlog2pmut = g.simparams[0] = 8             # log2 gene mutation probability (0 or >56 means no mutation)\n",
    "g.initial1density = g.simparams[1] = 8192    # initial 1 density in GOL state: 16384 = nearest to half of C rand max value 32767 = 2**15 - 1\n",
    "g.initialrdensity = g.simparams[2] = 16384   # initial density of random genes\n",
    "g.ncoding = g.simparams[3] = 0               # for selection==12 no meaning\n",
    "g.startgenechoice = g.simparams[4] = 8       # initialize genes to startgene number 0-8 : 8 is random choice of 0-7\n",
    "\n",
    "g.genelife.initialize_planes(g.npoffsets)\n",
    "g.genelife.initialize(g.runparams,g.simparams)\n",
    "g.framenr = 0\n",
    "g.cnt=0\n",
    "g.show0()\n",
    "#g.step(True)\n",
    "g.run(g.nrun, g.ndisp, g.nskip, g.niter, g.nhist, g.nstat, False)"
   ]
  },
  {
   "cell_type": "code",
   "execution_count": 19,
   "metadata": {},
   "outputs": [
    {
     "data": {
      "text/plain": [
       "Text(0, 0.5, 'novel cells')"
      ]
     },
     "execution_count": 19,
     "metadata": {},
     "output_type": "execute_result"
    },
    {
     "data": {
      "image/png": "[encoded data removed]",
      "text/plain": [
       "<Figure size 432x288 with 1 Axes>"
      ]
     },
     "metadata": {
      "needs_background": "light"
     },
     "output_type": "display_data"
    }
   ],
   "source": [
    "plt.plot(g.nnovelcells[:5000],'black')\n",
    "plt.xlabel('time steps')\n",
    "plt.ylabel('novel cells')"
   ]
  },
  {
   "cell_type": "markdown",
   "metadata": {},
   "source": [
    "### 12.4 Example with selection==12"
   ]
  },
  {
   "cell_type": "code",
   "execution_count": null,
   "metadata": {},
   "outputs": [],
   "source": [
    "# 12\n",
    "#  selection=12 LUT with appropriate parameters for survival\n",
    "#  this case uses the genes to encode the canonical rotation and s dept rule tables for birth and survival\n",
    "#  a fixed positional encoding is used in the gene with 1-bit for each canonical rotation in the 32 bit survival and birth masks\n",
    "#  there are 1,1,4,7,10,7,4,1,1 canonical rotation mask bits for s=0-8. Only 32 cases s=2-6 in LUT are allowed non-zero.\n",
    "#  birth is determined by the and of the live neighbour genes (and 32 bits of overwritemask) ie genecode\n",
    "#  survival is determined the and of the live neighbour genes (and 32 bits of survivalmask) ie genecode\n",
    "#  ncoding not used : only space for 1 bit per lut entry\n",
    "#  this example allows only one of the 4 canonical rotations for s=2 to be gene activated for birth, otherwise <=GoL\n",
    "g.nrun=1; g.ndisp=100; g.nskip=0; g.niter=1;# simulation time stepping parameters\n",
    "g.nhist = 0                                  # set to n to turn on histogram configurations every nth step\n",
    "g.nstat = 0                                  # set to n to turn on statistics trace every nth step\n",
    "g.rulemod = g.runparams[0] = 1               # 0,1 whether to allow GoL rule modifications\n",
    "                                             # with rulemod 1 2-live-nb birth, 3-live-nb non-birth & non-survival possible\n",
    "g.repscheme = g.runparams[1] = 0x641         # \n",
    "g.selection = g.runparams[2] = 12            # fitness for 2 live neighbor rule : 0-6 see subgenelife.c code\n",
    "g.overwritemask = g.runparams[3]= 0x0        # \n",
    "g.birthmask = g.runparams[7]= 0x000007f0     # for selection=8-13 this is the GoL birth mask\n",
    "g.survivalmask = g.runparams[4] = 0x000007ff # for selection=8-13 this is the GoL survival mask\n",
    "g.colorfunction = g.runparams[5] = 0         # color function 0(hash), ≥1(fnal), 2 nongulstate or color gol planes, 3 notgolrul yellow\n",
    "                                             # 4 activities 5 genealogy steps 6 genealogy temporal 7 activity scaled colors\n",
    "g.initfield = g.runparams[6] = 100           # 1 init via 32x32 genepat.dat, n>1 init via nxn rand array\n",
    "g.nlog2pmut = g.simparams[0] = 8             # log2 gene mutation probability (0 or >56 means no mutation)\n",
    "g.initial1density = g.simparams[1] =  16384  # initial 1 density in GOL state\n",
    "                                             # 16384 = nearest to half of guaranteed C rand max value 32767 = 2**15 - 1\n",
    "g.initialrdensity = g.simparams[2] = 0       # initial density of random genes\n",
    "g.ncoding = g.simparams[3] = 0               # for selection 10, non zero value means grow plane community from 0\n",
    "                                             # otherwise (selection<10) no of bits used to encode valid connection functions 1-16\n",
    "                                             # for selection==8, lut, ncoding 1,2,3 bits per lut entry : 0 implies 3.\n",
    "g.startgenechoice = g.simparams[4] = 8       # initialize genes to startgene number 0-8 : 8 is random choice of 0-7\n",
    "\n",
    "g.genelife.initialize_planes(g.npoffsets)\n",
    "g.genelife.initialize(g.runparams,g.simparams)\n",
    "g.framenr = 0\n",
    "g.cnt=0\n",
    "g.show0(False)\n",
    "# step()\n",
    "g.run(g.nrun, g.ndisp, g.nskip, g.niter, g.nhist, g.nstat, True)"
   ]
  },
  {
   "cell_type": "markdown",
   "metadata": {},
   "source": [
    "## 13 Selection: Canonical rotation LUT encoded by gene with variable length encoding"
   ]
  },
  {
   "cell_type": "markdown",
   "metadata": {},
   "source": [
    "### 13.1 Game of Life with selection==13"
   ]
  },
  {
   "cell_type": "code",
   "execution_count": 7,
   "metadata": {},
   "outputs": [],
   "source": [
    "# 13 GoL\n",
    "#  selection=13 LUT with appropriate parameters for survival\n",
    "#  this case uses the genes to encode the canonical rotation and s dept rule tables for birth and survival\n",
    "#  a variable length encoding is used in the gene with 4+1+5 bits, 4-bits for the survival and birth s value as in 8,\n",
    "#  and 5 bits for subset of canonical rotations (1/2) determined by 1 further bit.\n",
    "#  there are 1,1,4,7,10,7,4,1,1 canonical rotation masks for s=0-8. Only 32 cases s=2-6 are lut allowed non-zero.\n",
    "#  birth is determined by existence of an entry from any of the live neighbour genes (and 32 bits of overwritemask) ie genecode\n",
    "#  survival determined by existence of an entry from any of the live neighbour genes (and 32 bits of survivalmask) ie genecode\n",
    "#  ncoding not used : only space for 1 bit per lut entry\n",
    "g.nrun=1; g.ndisp=1000; g.nskip=0; g.niter=1;# simulation time stepping parameters\n",
    "g.nhist = 0                                  # set to n to turn on histogram configurations every nth step\n",
    "g.nstat = 0                                  # set to n to turn on statistics trace every nth step\n",
    "g.rulemod = g.runparams[0] = 1               # 0,1 whether to allow GoL rule modifications\n",
    "                                             # with rulemod 1 2-live-nb birth, 3-live-nb non-birth & non-survival possible\n",
    "g.repscheme = g.runparams[1] = 0x0610        # \n",
    "g.selection     = g.runparams[2] = 13        # fitness for 2 live neighbor rule : 0-6 see subgenelife.c code\n",
    "g.overwritemask = g.runparams[3] = 0x00      # no overwrite allowed in this version, alternatively set to 0x04 for overwrite on s=3 birth\n",
    "g.survivalmask = g.runparams[4] = 0x000007ff # for selection=12-13 this is the GoL survival mask\n",
    "g.birthmask    = g.runparams[7] = 0x000007f0 # for selection=12-13 this is the GoL birth mask\n",
    "g.ancselectmask = g.runparams[8] = 0xff      # ancestor mask allowing selection for all s values\n",
    "g.colorfunction = g.runparams[5] = 0         # color function 0(hash), ≥1(fnal), 2 nongulstate or color gol planes, 3 notgolrul yellow\n",
    "                                             # 4 activities 5 genealogy steps 6 genealogy temporal 7 activity scaled colors\n",
    "g.initfield = g.runparams[6] = 100           # 1 init via 32x32 genepat.dat, n>1 init via nxn rand array\n",
    "g.nlog2pmut = g.simparams[0] = 8             # log2 gene mutation probability (0 or >56 means no mutation)\n",
    "g.initial1density = g.simparams[1] =  16384  # initial 1 density in GOL state\n",
    "                                             # 16384 = nearest to half of guaranteed C rand max value 32767 = 2**15 - 1\n",
    "g.initialrdensity = g.simparams[2] = 0       # initial density of random genes\n",
    "g.ncoding = g.simparams[3] = 0               # for selection 10, non zero value means grow plane community from 0\n",
    "                                             # otherwise (selection<10) no of bits used to encode valid connection functions 1-16\n",
    "                                             # for selection==8, lut, ncoding 1,2,3 bits per lut entry : 0 implies 3.\n",
    "g.startgenechoice = g.simparams[4] = 8       # initialize genes to startgene number 0-8 : 8 is random choice of 0-7\n",
    "\n",
    "g.genelife.initialize_planes(g.npoffsets)\n",
    "g.genelife.initialize(g.runparams,g.simparams)\n",
    "g.framenr = 0\n",
    "g.cnt=0\n",
    "g.show0()\n",
    "# step()\n",
    "g.run(g.nrun, g.ndisp, g.nskip, g.niter, g.nhist, g.nstat, False)"
   ]
  },
  {
   "cell_type": "code",
   "execution_count": null,
   "metadata": {},
   "outputs": [],
   "source": []
  },
  {
   "cell_type": "markdown",
   "metadata": {},
   "source": [
    "### 13.2 Scissors-paper-stone-well selection with selection==13"
   ]
  },
  {
   "cell_type": "code",
   "execution_count": 16,
   "metadata": {},
   "outputs": [],
   "source": [
    "# 13 Scissor-paper-stone-well selection \n",
    "#  selection=13 LUT with appropriate parameters for survival\n",
    "#  this case uses the genes to encode the canonical rotation and s dept rule tables for birth and survival\n",
    "#  a variable length encoding is used in the gene with 4+1+5 bits, 4-bits for the survival and birth s value as in 8,\n",
    "#  and 5 bits for subset of canonical rotations (1/2) determined by 1 further bit.\n",
    "#  there are 1,1,4,7,10,7,4,1,1 canonical rotation masks for s=0-8. Only 32 cases s=2-6 are lut allowed non-zero.\n",
    "#  birth is determined by existence of an entry from any of the live neighbour genes (and 32 bits of overwritemask) ie genecode\n",
    "#  survival determined by existence of an entry from any of the live neighbour genes (and 32 bits of survivalmask) ie genecode\n",
    "#  ncoding not used : only space for 1 bit per lut entry\n",
    "g.nrun=4; g.ndisp=1000; g.nskip=0; g.niter=1;# simulation time stepping parameters\n",
    "g.nhist = 0                                  # set to n to turn on histogram configurations every nth step\n",
    "g.nstat = 0                                  # set to n to turn on statistics trace every nth step\n",
    "g.rulemod = g.runparams[0] = 0x1             # 0,1 whether to allow GoL rule modifications\n",
    "g.repscheme = g.runparams[1] = 0x170         \n",
    "g.selection     = g.runparams[2] = 13        # fitness for 2 live neighbor rule : 0-6 see subgenelife.c code\n",
    "g.overwritemask = g.runparams[3] = 0x06      # mask of bits to overwrite if birth allowed and already occupied for bit position sum s\n",
    "g.birthmask    = g.runparams[7] = 0x07ff     # for selection=12-13 this is the GoL birth mask with birth for s=2 added\n",
    "g.survivalmask = g.runparams[4] = 0x0        # this is the no survival mask\n",
    "g.ancestormask = g.runparams[8] = 0xff       # ancestor mask allowing selection for all cases\n",
    "g.colorfunction = g.runparams[5] = 0         # color function can be cahnged with arrow keys\n",
    "g.initfield = g.runparams[6] = 150           # 1 init via 32x32 genepat.dat, n>1 init via nxn rand array\n",
    "g.nlog2pmut = g.simparams[0] = 8             # log2 gene mutation probability (0 or >56 means no mutation)\n",
    "g.initial1density = g.simparams[1] = 8192    # initial 1 density in GOL state: 16384 = nearest to half of C rand max value 32767 = 2**15 - 1\n",
    "g.initialrdensity = g.simparams[2] = 0       # initial density of random genes\n",
    "g.ncoding = g.simparams[3] = 0               # for selection==8, lut, ncoding 1,2,3 bits per lut entry : 0 implies 3.\n",
    "g.startgenechoice = g.simparams[4] = 8       # initialize genes to startgene number 0-8 : 8 is random choice of 0-7\n",
    "\n",
    "g.genelife.initialize_planes(g.npoffsets)\n",
    "g.genelife.initialize(g.runparams,g.simparams)\n",
    "g.framenr = 0\n",
    "g.cnt=0\n",
    "g.show0()\n",
    "#g.step(True)\n",
    "g.run(g.nrun, g.ndisp, g.nskip, g.niter, g.nhist, g.nstat, False)"
   ]
  },
  {
   "cell_type": "markdown",
   "metadata": {},
   "source": [
    "### 13.3 Golr based selection"
   ]
  },
  {
   "cell_type": "code",
   "execution_count": 4,
   "metadata": {},
   "outputs": [
    {
     "name": "stdout",
     "output_type": "stream",
     "text": [
      "step 80 birthmask changed to 7fe\n",
      "step 352 birthmask changed to 7be\n",
      "step 384 birthmask changed to 79e\n",
      "step 452 birthmask changed to 7be\n",
      "step 624 birthmask changed to 3be\n",
      "step 672 birthmask changed to 1be\n",
      "step 740 birthmask changed to be\n",
      "step 816 birthmask changed to 3e\n",
      "step 884 birthmask changed to be\n",
      "step 1544 birthmask changed to b6\n",
      "step 1616 birthmask changed to be\n",
      "step 1708 birthmask changed to fe\n",
      "step 1916 birthmask changed to f6\n",
      "step 2008 birthmask changed to 1f6\n",
      "step 2024 birthmask changed to 3f6\n",
      "step 2040 birthmask changed to 7f6\n",
      "step 2072 birthmask changed to 7f2\n",
      "step 2108 birthmask changed to 7f6\n",
      "step 2148 birthmask changed to 7f4\n",
      "step 2172 birthmask changed to 7f6\n",
      "step 2360 birthmask changed to 7fe\n",
      "step 2440 birthmask changed to 7fc\n",
      "step 2472 birthmask changed to 7fe\n",
      "step 2524 birthmask changed to 7fa\n",
      "step 2696 birthmask changed to 7ba\n",
      "step 2732 birthmask changed to 7fa\n",
      "step 2904 birthmask changed to 7fb\n",
      "step 2980 birthmask changed to 7ff\n",
      "step 3048 birthmask changed to 5ff\n",
      "step 3056 birthmask changed to 1ff\n",
      "step 3072 birthmask changed to ff\n",
      "step 3080 birthmask changed to 7f\n",
      "step 3096 birthmask changed to 3f\n",
      "step 3112 birthmask changed to 1f\n",
      "step 3140 birthmask changed to f\n",
      "step 3208 birthmask changed to 7\n",
      "step 3252 birthmask changed to 3\n",
      "step 3476 birthmask changed to 7\n",
      "step 3524 birthmask changed to 6\n",
      "step 3536 birthmask changed to 7\n",
      "step 3672 birthmask changed to 3\n",
      "step 4236 birthmask changed to 13\n",
      "step 4268 birthmask changed to 3\n",
      "step 4296 birthmask changed to 23\n",
      "step 4344 birthmask changed to 3\n",
      "step 4372 birthmask changed to 43\n",
      "step 4412 birthmask changed to 3\n",
      "step 4432 birthmask changed to 83\n",
      "step 4472 birthmask changed to 3\n",
      "step 4496 birthmask changed to 103\n",
      "step 4540 birthmask changed to 3\n",
      "step 4584 birthmask changed to 203\n",
      "step 4624 birthmask changed to 3\n",
      "step 4652 birthmask changed to 403\n",
      "step 4680 birthmask changed to 3\n",
      "step 4696 birthmask changed to 403\n",
      "step 4784 birthmask changed to 3\n",
      "step 4796 birthmask changed to 203\n",
      "step 4920 overwritemask changed to fe\n",
      "step 4952 overwritemask changed to fc\n",
      "step 5060 birthmask changed to 303\n",
      "step 5096 birthmask changed to 323\n",
      "step 5200 birthmask changed to 303\n",
      "step 5216 birthmask changed to 103\n",
      "step 5232 birthmask changed to 3\n",
      "step 5552 birthmask changed to 7\n",
      "step 5592 birthmask changed to 3\n",
      "step 5624 birthmask changed to b\n",
      "step 5756 repscheme changed to 7b2\n",
      "step 5772 repscheme changed to 5b2\n",
      "step 5792 repscheme changed to 1b2\n",
      "step 5880 repscheme changed to 1f2\n",
      "step 6604 birthmask changed to f\n",
      "step 6956 birthmask changed to 1f\n",
      "step 7808 colorfunction changed to 1\n",
      "step 7836 colorfunction changed to 0\n",
      "step 7844 colorfunction changed to 12\n",
      "step 9216 colorfunction changed to 11\n",
      "step 10040 birthmask changed to 3f\n",
      "step 10436 colorfunction changed to 12\n",
      "step 11000 colorfunction changed to 11\n",
      "step 11012 colorfunction changed to 10\n",
      "step 11028 colorfunction changed to 9\n",
      "step 11072 noveltyfilter changed to  1\n",
      "step 12528 noveltyfilter changed to  0\n",
      "step 12576 colorfunction changed to 10\n",
      "step 12592 colorfunction changed to 11\n",
      "step 12600 colorfunction changed to 12\n",
      "image saved ./images/genelife_sel13_t12772_r000001f2_s000_c12.jpeg\n",
      "step 12772 colorfunction changed to 11\n",
      "step 12772 new ancestor choice clonal\n",
      "step 12772 new ancestor choice clonal for win 2 first for win 1\n",
      "step 12772 new ancestor choice first\n",
      "step 12772 new ancestor choice clonal\n",
      "step 12772 new ancestor choice clonal for win 2 first for win 1\n",
      "step 12772 new ancestor choice first\n",
      "step 12772 new ancestor choice clonal\n",
      "step 12772 new ancestor choice clonal for win 2 first for win 1\n",
      "step 12772 new ancestor choice first\n",
      "step 12772 new ancestor choice clonal\n",
      "step 12772 new ancestor choice clonal for win 2 first for win 1\n",
      "step 12772 colorfunction changed to 10\n",
      "step 12772 colorfunction changed to 9\n",
      "image saved ./images/genelife_sel13_t12772_r000001f2_s001_c09.jpeg\n",
      "step 12772 colorfunction changed to 8\n",
      "step 12772 colorfunction changed to 7\n",
      "step 12772 colorfunction changed to 6\n",
      "step 12772 colorfunction changed to 5\n",
      "step 12772 colorfunction changed to 6\n",
      "step 12772 colorfunction changed to 7\n",
      "step 12772 colorfunction changed to 6\n",
      "step 12772 colorfunction changed to 5\n",
      "step 12772 colorfunction changed to 6\n",
      "step 12772 new ancestor choice first\n",
      "step 12772 new ancestor choice clonal\n",
      "step 12772 colorfunction changed to 5\n",
      "step 12772 colorfunction changed to 4\n",
      "image saved ./images/genelife_sel13_t12772_r000001f2_s002_c04.jpeg\n",
      "step 12772 colorfunction changed to 3\n",
      "step 12772 colorfunction changed to 2\n",
      "image saved ./images/genelife_sel13_t12772_r000001f2_s003_c02.jpeg\n",
      "step 12772 colorfunction changed to 1\n",
      "step 12772 colorfunction changed to 0\n",
      "image saved ./images/genelife_sel13_t12772_r000001f2_s004_c00.jpeg\n",
      "step 12772 colorfunction changed to 1\n",
      "image saved ./images/genelife_sel13_t12772_r000001f2_s005_c01.jpeg\n",
      "step 12772 colorfunction changed to 2\n",
      "step 12772 colorfunction changed to 3\n",
      "step 12772 colorfunction changed to 4\n",
      "step 12772 colorfunction changed to 5\n",
      "step 12772 colorfunction changed to 6\n",
      "step 12772 colorfunction changed to 5\n",
      "step 12772 colorfunction changed to 6\n",
      "step 12772 colorfunction changed to 7\n",
      "step 12772 colorfunction changed to 8\n",
      "step 12772 colorfunction changed to 9\n",
      "step 12772 noveltyfilter changed to  1\n",
      "image saved ./images/genelife_sel13_t12772_r000001f2_s006_c09.jpeg\n",
      "step 12772 colorfunction changed to 10\n",
      "image saved ./images/genelife_sel13_t12772_r000001f2_s007_c10.jpeg\n",
      "step 12772 colorfunction changed to 11\n",
      "step 12772 colorfunction changed to 12\n",
      "step 12912 colorfunction changed to 11\n",
      "step 12920 colorfunction changed to 10\n",
      "step 12940 colorfunction changed to 11\n",
      "step 12948 colorfunction changed to 12\n",
      "step 12964 colorfunction changed to 11\n",
      "step 12972 colorfunction changed to 10\n",
      "step 12984 colorfunction changed to 11\n",
      "step 13052 colorfunction changed to 10\n",
      "step 13060 colorfunction changed to 9\n",
      "step 13080 colorfunction changed to 10\n",
      "step 13088 colorfunction changed to 11\n",
      "step 13592 birthmask changed to 7f\n",
      "step 13800 birthmask changed to 77\n",
      "step 14188 colorfunction changed to 10\n",
      "step 14200 colorfunction changed to 9\n",
      "step 14260 noveltyfilter changed to  0\n",
      "step 14288 noveltyfilter changed to  1\n",
      "step 14348 noveltyfilter changed to  0\n",
      "step 14848 colorfunction changed to 10\n",
      "step 14848 colorfunction changed to 11\n",
      "step 14848 colorfunction changed to 12\n",
      "image saved ./images/genelife_sel13_t14848_r000001f2_s008_c12.jpeg\n",
      "step 14848 colorfunction changed to 11\n",
      "image saved ./images/genelife_sel13_t14848_r000001f2_s009_c11.jpeg\n",
      "step 14848 colorfunction changed to 10\n",
      "image saved ./images/genelife_sel13_t14848_r000001f2_s010_c10.jpeg\n",
      "step 14848 colorfunction changed to 9\n",
      "image saved ./images/genelife_sel13_t14848_r000001f2_s011_c09.jpeg\n",
      "step 14848 colorfunction changed to 8\n",
      "step 14848 colorfunction changed to 9\n",
      "step 14848 noveltyfilter changed to  1\n",
      "image saved ./images/genelife_sel13_t14848_r000001f2_s012_c09.jpeg\n",
      "step 14848 colorfunction changed to 8\n",
      "step 14848 colorfunction changed to 7\n",
      "step 14848 colorfunction changed to 6\n",
      "step 14848 colorfunction changed to 5\n",
      "step 14848 colorfunction changed to 4\n",
      "image saved ./images/genelife_sel13_t14848_r000001f2_s013_c04.jpeg\n",
      "step 14848 colorfunction changed to 3\n",
      "step 14848 colorfunction changed to 2\n",
      "image saved ./images/genelife_sel13_t14848_r000001f2_s014_c02.jpeg\n",
      "step 14848 colorfunction changed to 1\n",
      "step 14848 colorfunction changed to 0\n",
      "step 14848 colorfunction changed to 1\n",
      "image saved ./images/genelife_sel13_t14848_r000001f2_s015_c01.jpeg\n",
      "step 14848 colorfunction changed to 0\n",
      "image saved ./images/genelife_sel13_t14848_r000001f2_s016_c00.jpeg\n",
      "step 14848 colorfunction changed to 1\n",
      "step 14848 colorfunction changed to 2\n",
      "step 14848 colorfunction changed to 3\n",
      "step 14848 colorfunction changed to 4\n",
      "step 14848 colorfunction changed to 5\n",
      "step 14848 colorfunction changed to 6\n",
      "step 14848 colorfunction changed to 7\n",
      "step 14848 colorfunction changed to 8\n",
      "step 14848 colorfunction changed to 9\n",
      "step 14848 colorfunction changed to 10\n",
      "step 14848 colorfunction changed to 11\n",
      "step 14848 colorfunction changed to 12\n",
      "step 14952 repscheme changed to 1b2\n",
      "step 15076 colorfunction changed to 11\n",
      "step 15112 repscheme changed to 1f2\n",
      "step 15176 repscheme changed to 1b2\n",
      "step 15216 repscheme changed to 1f2\n",
      "step 15284 repscheme changed to 1d2\n"
     ]
    },
    {
     "name": "stdout",
     "output_type": "stream",
     "text": [
      "step 15328 repscheme changed to 192\n",
      "step 15352 repscheme changed to 1b2\n",
      "step 15368 repscheme changed to 1f2\n"
     ]
    }
   ],
   "source": [
    "# 13 Scissor-paper-stone-well selection \n",
    "#  selection=13 LUT with appropriate parameters for survival\n",
    "#  this case uses the genes to encode the canonical rotation and s dept rule tables for birth and survival\n",
    "#  a variable length encoding is used in the gene with 4+1+5 bits, 4-bits for the survival and birth s value as in 8,\n",
    "#  and 5 bits for subset of canonical rotations (1/2) determined by 1 further bit.\n",
    "#  there are 1,1,4,7,10,7,4,1,1 canonical rotation masks for s=0-8. Only 32 cases s=2-6 are lut allowed non-zero.\n",
    "#  birth is determined by existence of an entry from any of the live neighbour genes (and 32 bits of overwritemask) ie genecode\n",
    "#  survival determined by existence of an entry from any of the live neighbour genes (and 32 bits of survivalmask) ie genecode\n",
    "#  ncoding not used : only space for 1 bit per lut entry\n",
    "g.nrun=4; g.ndisp=1000; g.nskip=0; g.niter=1;# simulation time stepping parameters\n",
    "g.nhist = 0                                  # set to n to turn on histogram configurations every nth step\n",
    "g.nstat = 0                                  # set to n to turn on statistics trace every nth step\n",
    "\n",
    "g.rulemod = g.runparams[0] = 0x1             \n",
    "g.repscheme = g.runparams[1] = 0x6b2         \n",
    "g.selection     = g.runparams[2] = 13        \n",
    "g.overwritemask = g.runparams[3] = 0xff      \n",
    "g.birthmask    = g.runparams[7] = 0x07ff     \n",
    "g.survivalmask = g.runparams[4] = 0x0        \n",
    "g.ancestormask = g.runparams[8] = 0xff       \n",
    "g.colorfunction = g.runparams[5] = 0         \n",
    "g.initfield = g.runparams[6] = 0             \n",
    "g.nlog2pmut = g.simparams[0] = 8             \n",
    "g.initial1density = g.simparams[1] = 8192    \n",
    "g.initialrdensity = g.simparams[2] = 16384   \n",
    "g.ncoding = g.simparams[3] = 0              \n",
    "g.startgenechoice = g.simparams[4] = 8      \n",
    "\n",
    "g.genelife.initialize_planes(g.npoffsets)\n",
    "g.genelife.initialize(g.runparams,g.simparams)\n",
    "g.framenr = 0\n",
    "g.cnt=0\n",
    "g.show0()\n",
    "#g.step(True)\n",
    "g.run(g.nrun, g.ndisp, g.nskip, g.niter, g.nhist, g.nstat, False)"
   ]
  },
  {
   "cell_type": "markdown",
   "metadata": {},
   "source": [
    "### 13.4 Example with selection==13"
   ]
  },
  {
   "cell_type": "code",
   "execution_count": null,
   "metadata": {},
   "outputs": [],
   "source": [
    "# 13\n",
    "#  selection=13 LUT with appropriate parameters for survival\n",
    "#  this case uses the genes to encode the canonical rotation and s dept rule tables for birth and survival\n",
    "#  a variable length encoding is used in the gene with 4+1+5 bits, 4-bits for the survival and birth s value as in 8,\n",
    "#  and 5 bits for subset of canonical rotations (1/2) determined by 1 further bit.\n",
    "#  there are 1,1,4,7,10,7,4,1,1 canonical rotation masks for s=0-8. Only 32 cases s=2-6 are lut allowed non-zero.\n",
    "#  birth is determined by existence of an entry from any of the live neighbour genes (and 32 bits of overwritemask) ie genecode\n",
    "#  survival determined by existence of an entry from any of the live neighbour genes (and 32 bits of survivalmask) ie genecode\n",
    "#  ncoding not used : only space for 1 bit per lut entry\n",
    "g.nrun=1; g.ndisp=100; g.nskip=0; g.niter=1; # simulation time stepping parameters\n",
    "g.nhist = 0                                  # set to n to turn on histogram configurations every nth step\n",
    "g.nstat = 0                                  # set to n to turn on statistics trace every nth step\n",
    "g.rulemod = g.runparams[0] = 1               # 0,1 whether to allow GoL rule modifications\n",
    "                                             # with rulemod 1 2-live-nb birth, 3-live-nb non-birth & non-survival possible\n",
    "g.repscheme = g.runparams[1] = 0x80          # repscheme bit 3 (val 0x8) determines whether random choice of ancestor amongst live neighbours\n",
    "                                             # repscheme mod 8 i.e. 0-7 determines selection scheme based on gene\n",
    "                                             # 0 minimum gene as value  # 1 maximum gene as value\n",
    "                                             # 2 minimum number of ones # 3 maximum number of ones\n",
    "                                             # 4 neutral selection # 5 neutral but different selection\n",
    "                                             # 6 penalty function -1 for a survival rule -2 for a birth rule  # 7 not allowed\n",
    "g.selection = g.runparams[2] = 13            # fitness for 2 live neighbor rule : 0-6 see subgenelife.c code\n",
    "g.overwritemask = g.runparams[3]= 0x0        #\n",
    "g.birthmask = g.runparams[7]= 0x000007f0     # for selection=12-13 this is the GoL birth mask\n",
    "g.survivalmask = g.runparams[4] = 0x000007ff # for selection=12-13 this is the GoL survival mask\n",
    "g.colorfunction = g.runparams[5] = 0         # color function 0(hash), ≥1(fnal), 2 nongulstate or color gol planes, 3 notgolrul yellow\n",
    "                                             # 4 activities 5 genealogy steps 6 genealogy temporal 7 activity scaled colors\n",
    "g.initfield = g.runparams[6] = 150           # 1 init via 32x32 genepat.dat, n>1 init via nxn rand array\n",
    "g.nlog2pmut = g.simparams[0] = 7             # log2 gene mutation probability (0 or >56 means no mutation)\n",
    "g.initial1density = g.simparams[1] =  16384  # initial 1 density in GOL state\n",
    "                                             # 16384 = nearest to half of guaranteed C rand max value 32767 = 2**15 - 1\n",
    "g.initialrdensity = g.simparams[2] = 16384       # initial density of random genes\n",
    "g.ncoding = g.simparams[3] = 0               # for selection 10, non zero value means grow plane community from 0\n",
    "                                             # otherwise (selection<10) no of bits used to encode valid connection functions 1-16\n",
    "                                             # for selection==8, lut, ncoding 1,2,3 bits per lut entry : 0 implies 3.\n",
    "g.startgenechoice = g.simparams[4] = 8       # initialize genes to startgene number 0-8 : 8 is random choice of 0-7\n",
    "\n",
    "g.genelife.initialize_planes(g.npoffsets)\n",
    "g.genelife.initialize(g.runparams,g.simparams)\n",
    "g.framenr = 0\n",
    "g.cnt=0\n",
    "g.show0()\n",
    "# g.step()\n",
    "g.run(g.nrun, g.ndisp, g.nskip, g.niter, g.nhist, g.nstat, False)"
   ]
  },
  {
   "cell_type": "code",
   "execution_count": null,
   "metadata": {},
   "outputs": [],
   "source": [
    "g.set_params()\n",
    "g.genelife.initialize(g.runparams,g.simparams)\n",
    "g.run(g.nrun, g.ndisp, g.nskip, g.niter, g.nhist, g.nstat, False)"
   ]
  },
  {
   "cell_type": "markdown",
   "metadata": {},
   "source": [
    "## 14 Selection: Symmetric 2D LUT encoded by gene with fixed length positional encoding"
   ]
  },
  {
   "cell_type": "markdown",
   "metadata": {},
   "source": [
    "### 14.1 Game of Life with selection==14"
   ]
  },
  {
   "cell_type": "code",
   "execution_count": 8,
   "metadata": {},
   "outputs": [],
   "source": [
    "# 14 GoL\n",
    "#  selection=14 LUT with appropriate parameters for survival\n",
    "#  this case uses the genes to encode all possible configuration rule tables (up to spatial symmetry (4-rotations, 4-reflections)) for birth and survival\n",
    "#  a fixed length encoding is used in the gene with 1-bit for each of 64 configurations in the 32 bit survival and 32 bit birth masks\n",
    "#  there are 1,2,6,10,13,10,6,2,1 configuration mask bits for s=0-8. Only 32 cases s=0-4 in LUT are allowed non-zero in this implementation.\n",
    "#  birth and survival are determined by the presence of a bit in the gene at the position of the symmetric live-nb pattern LUT \n",
    "#  ncoding not used : only space for 1 bit per lut entry\n",
    "g.nrun=1; g.ndisp=1000; g.nskip=0; g.niter=1;# simulation time stepping parameters\n",
    "g.nhist = 0                                  # set to n to turn on histogram configurations every nth step\n",
    "g.nstat = 0                                  # set to n to turn on statistics trace every nth step\n",
    "g.rulemod = g.runparams[0] = 0x1             # 0,1 whether to allow GoL rule modifications\n",
    "g.repscheme = g.runparams[1] = 0x610         \n",
    "g.selection     = g.runparams[2] = 14        # fitness for 2 live neighbor rule : 0-6 see subgenelife.c code\n",
    "g.overwritemask = g.runparams[3] = 0x00      # mask of bits to overwrite if birth allowed and already occupied for bit position sum s\n",
    "g.birthmask    = g.runparams[7] = 0x0007fe00 # for selection=14-15 this is the GoL birth mask\n",
    "g.survivalmask = g.runparams[4] = 0x0007fff8 # for selection=14-15 this is the GoL survival mask\n",
    "g.ancselectmask = g.runparams[8] = 0xff      # ancestor mask allowing selection for all s values\n",
    "g.colorfunction = g.runparams[5] = 0         # color function can be cahnged with arrow keys\n",
    "g.initfield = g.runparams[6] = 150           # 1 init via 32x32 genepat.dat, n>1 init via nxn rand array\n",
    "g.nlog2pmut = g.simparams[0] = 8             # log2 gene mutation probability (0 or >56 means no mutation)\n",
    "g.initial1density = g.simparams[1] = 8192    # initial 1 density in GOL state: 16384 = nearest to half of C rand max value 32767 = 2**15 - 1\n",
    "g.initialrdensity = g.simparams[2] = 0       # initial density of random genes\n",
    "g.ncoding = g.simparams[3] = 0               # for selection==14 no meaning\n",
    "g.startgenechoice = g.simparams[4] = 8       # initialize genes to startgene number 0-8 : 8 is random choice of 0-7\n",
    "\n",
    "g.genelife.initialize_planes(g.npoffsets)\n",
    "g.genelife.initialize(g.runparams,g.simparams)\n",
    "g.framenr = 0\n",
    "g.cnt=0\n",
    "g.show0()\n",
    "#g.step(True)\n",
    "g.run(g.nrun, g.ndisp, g.nskip, g.niter, g.nhist, g.nstat, False)"
   ]
  },
  {
   "cell_type": "code",
   "execution_count": null,
   "metadata": {},
   "outputs": [],
   "source": []
  },
  {
   "cell_type": "markdown",
   "metadata": {},
   "source": [
    "### 14.2 Scissors-paper-stone-well selection with selection==14"
   ]
  },
  {
   "cell_type": "code",
   "execution_count": 17,
   "metadata": {},
   "outputs": [],
   "source": [
    "# 14 GoL\n",
    "#  selection=14 LUT with appropriate parameters for survival\n",
    "#  this case uses the genes to encode all possible configuration rule tables (up to spatial symmetry (4-rotations, 4-reflections)) for birth and survival\n",
    "#  a fixed length encoding is used in the gene with 1-bit for each of 64 configurations in the 32 bit survival and 32 bit birth masks\n",
    "#  there are 1,2,6,10,13,10,6,2,1 configuration mask bits for s=0-8. Only 32 cases s=0-4 in LUT are allowed non-zero in this implementation.\n",
    "#  birth and survival are determined by the presence of a bit in the gene at the position of the symmetric live-nb pattern LUT \n",
    "#  ncoding not used : only space for 1 bit per lut entry\n",
    "g.nrun=1; g.ndisp=1000; g.nskip=0; g.niter=1;# simulation time stepping parameters\n",
    "g.nhist = 0                                  # set to n to turn on histogram configurations every nth step\n",
    "g.nstat = 0                                  # set to n to turn on statistics trace every nth step\n",
    "g.rulemod = g.runparams[0] = 0x1             # 0,1 whether to allow GoL rule modifications\n",
    "g.repscheme = g.runparams[1] = 0x170         \n",
    "g.selection     = g.runparams[2] = 14        # fitness for 2 live neighbor rule : 0-6 see subgenelife.c code\n",
    "g.overwritemask = g.runparams[3] = 0x06      # mask of bits to overwrite if birth allowed and already occupied for bit position sum s\n",
    "g.birthmask    = g.runparams[7] = 0x0007fff8 # for selection=14-15 this is the GoL birth mask\n",
    "g.survivalmask = g.runparams[4] = 0x0        # for selection=14-15 this is no survival\n",
    "g.ancselectmask = g.runparams[8] = 0xff      # ancestor mask allowing selection for all s values\n",
    "g.colorfunction = g.runparams[5] = 0         # color function can be cahnged with arrow keys\n",
    "g.initfield = g.runparams[6] = 150           # 1 init via 32x32 genepat.dat, n>1 init via nxn rand array\n",
    "g.nlog2pmut = g.simparams[0] = 8             # log2 gene mutation probability (0 or >56 means no mutation)\n",
    "g.initial1density = g.simparams[1] = 8192    # initial 1 density in GOL state: 16384 = nearest to half of C rand max value 32767 = 2**15 - 1\n",
    "g.initialrdensity = g.simparams[2] = 0       # initial density of random genes\n",
    "g.ncoding = g.simparams[3] = 0               # for selection==14 no meaning\n",
    "g.startgenechoice = g.simparams[4] = 8       # initialize genes to startgene number 0-8 : 8 is random choice of 0-7\n",
    "\n",
    "g.genelife.initialize_planes(g.npoffsets)\n",
    "g.genelife.initialize(g.runparams,g.simparams)\n",
    "g.framenr = 0\n",
    "g.cnt=0\n",
    "g.show0()\n",
    "#g.step(True)\n",
    "g.run(g.nrun, g.ndisp, g.nskip, g.niter, g.nhist, g.nstat, False)"
   ]
  },
  {
   "cell_type": "markdown",
   "metadata": {},
   "source": [
    "### 14.3 Test of symmetry breaking expansion of rules"
   ]
  },
  {
   "cell_type": "code",
   "execution_count": 20,
   "metadata": {},
   "outputs": [
    {
     "name": "stdout",
     "output_type": "stream",
     "text": [
      "step 0 pixel data (236,287) gol 0 gene 0000000000000000 status 0000000000000000\n",
      "step 1009 birthmask changed to 7fef8\n",
      "step 1506 birthmask changed to 7fe78\n",
      "step 2004 birthmask changed to 7fe38\n",
      "step 2547 birthmask changed to 7fe78\n",
      "step 2553 birthmask changed to 7fef8\n",
      "step 2560 birthmask changed to 7fff8\n",
      "step 3003 birthmask changed to 7fff0\n",
      "step 3506 birthmask changed to 7ffe0\n",
      "step 3893 birthmask changed to 7fff0\n",
      "step 4080 birthmask changed to 7fff8\n",
      "step 4510 birthmask changed to 7ffd8\n",
      "step 5005 birthmask changed to 7ff98\n",
      "step 5505 birthmask changed to 7ff18\n",
      "step 5976 birthmask changed to 7fe18\n",
      "step 6527 birthmask changed to 7fe10\n",
      "step 6571 birthmask changed to 7fe18\n",
      "step 6957 birthmask changed to 7fe08\n",
      "step 7671 birthmask changed to 7fe00\n",
      "step 7685 birthmask changed to 7fe08\n",
      "step 8000 birthmask changed to 7fe18\n",
      "step 8506 birthmask changed to 7fe10\n",
      "step 8524 birthmask changed to 7fe18\n",
      "step 8535 birthmask changed to 7fe10\n",
      "step 8547 birthmask changed to 7fe18\n",
      "step 8555 birthmask changed to 7fe10\n",
      "step 8561 birthmask changed to 7fe18\n",
      "step 8575 birthmask changed to 7fe10\n",
      "step 8594 birthmask changed to 7fe18\n",
      "step 8604 birthmask changed to 7fe10\n",
      "step 8619 birthmask changed to 7fe18\n",
      "step 8644 birthmask changed to 7fe10\n",
      "step 8656 birthmask changed to 7fe18\n",
      "step 8677 birthmask changed to 7fe10\n",
      "step 8701 birthmask changed to 7fe18\n",
      "step 8739 birthmask changed to 7fe10\n",
      "step 9017 birthmask changed to 7fe30\n",
      "step 9032 birthmask changed to 7fe70\n",
      "step 9049 birthmask changed to 7fe30\n",
      "step 9069 birthmask changed to 7feb0\n",
      "step 9080 birthmask changed to 7fe90\n",
      "step 9092 birthmask changed to 7fed0\n",
      "step 9103 birthmask changed to 7fef0\n",
      "step 9120 birthmask changed to 7fff0\n",
      "step 9159 birthmask changed to 7fff8\n",
      "step 9505 birthmask changed to 7fff0\n",
      "step 9666 birthmask changed to 7ffd0\n",
      "step 10027 collected trace of nnovelcells\n",
      "step 10212 collected trace of nnovelcells\n"
     ]
    }
   ],
   "source": [
    "# 14 Near proliferation threshold\n",
    "#  selection=14 LUT with appropriate parameters for survival\n",
    "#  this case uses the genes to encode all possible configuration rule tables (up to spatial symmetry (4-rotations, 4-reflections)) for birth and survival\n",
    "#  a fixed length encoding is used in the gene with 1-bit for each of 64 configurations in the 32 bit survival and 32 bit birth masks\n",
    "#  there are 1,2,6,10,13,10,6,2,1 configuration mask bits for s=0-8. Only 32 cases s=0-4 in LUT are allowed non-zero in this implementation.\n",
    "#  birth and survival are determined by the presence of a bit in the gene at the position of the symmetric live-nb pattern LUT \n",
    "#  ncoding not used : only space for 1 bit per lut entry\n",
    "g.nrun=1; g.ndisp=1000; g.nskip=0; g.niter=1;# simulation time stepping parameters\n",
    "g.nhist = 0                                  # set to n to turn on histogram configurations every nth step\n",
    "g.nstat = 0                                  # set to n to turn on statistics trace every nth step\n",
    "g.rulemod = g.runparams[0] = 0x1             # 0,1 whether to allow GoL rule modifications\n",
    "g.repscheme = g.runparams[1] = 0x150         \n",
    "g.selection     = g.runparams[2] = 14        # fitness for 2 live neighbor rule : 0-6 see subgenelife.c code\n",
    "g.overwritemask = g.runparams[3] = 0xff      # mask of bits to overwrite if birth allowed and already occupied for bit position sum s\n",
    "g.birthmask    = g.runparams[7] = 0x0007fff8 # for selection=14-15 this is the GoL birth mask\n",
    "g.survivalmask = g.runparams[4] = 0x0007fff8 # for selection=14-15 this is the GoL survival mask\n",
    "g.ancselectmask = g.runparams[8] = 0xff      # ancestor mask allowing selection for all s values\n",
    "g.colorfunction = g.runparams[5] = 0         # color function can be cahnged with arrow keys\n",
    "g.initfield = g.runparams[6] = 0             # 1 init via 32x32 genepat.dat, n>1 init via nxn rand array\n",
    "g.nlog2pmut = g.simparams[0] = 8             # log2 gene mutation probability (0 or >56 means no mutation)\n",
    "g.initial1density = g.simparams[1] = 8192    # initial 1 density in GOL state: 16384 = nearest to half of C rand max value 32767 = 2**15 - 1\n",
    "g.initialrdensity = g.simparams[2] = 16384   # initial density of random genes\n",
    "g.ncoding = g.simparams[3] = 0               # for selection==14 no meaning\n",
    "g.startgenechoice = g.simparams[4] = 8       # initialize genes to startgene number 0-8 : 8 is random choice of 0-7\n",
    "\n",
    "g.genelife.initialize_planes(g.npoffsets)\n",
    "g.genelife.initialize(g.runparams,g.simparams)\n",
    "g.framenr = 0\n",
    "g.cnt=0\n",
    "g.show0()\n",
    "#g.step(True)\n",
    "g.run(g.nrun, g.ndisp, g.nskip, g.niter, g.nhist, g.nstat, False)"
   ]
  },
  {
   "cell_type": "code",
   "execution_count": 25,
   "metadata": {},
   "outputs": [
    {
     "data": {
      "text/plain": [
       "Text(0, 0.5, 'novel cells')"
      ]
     },
     "execution_count": 25,
     "metadata": {},
     "output_type": "execute_result"
    },
    {
     "data": {
      "image/png": "[encoded data removed]",
      "text/plain": [
       "<Figure size 432x288 with 1 Axes>"
      ]
     },
     "metadata": {
      "needs_background": "light"
     },
     "output_type": "display_data"
    }
   ],
   "source": [
    "plt.plot(g.nnovelcells[:8550],'black')\n",
    "plt.xlabel('time steps')\n",
    "plt.ylabel('novel cells')"
   ]
  },
  {
   "cell_type": "markdown",
   "metadata": {},
   "source": [
    "### 14.4 Example with selection==14"
   ]
  },
  {
   "cell_type": "code",
   "execution_count": null,
   "metadata": {},
   "outputs": [],
   "source": [
    "# 14\n",
    "#  selection=14 LUT with appropriate parameters for survival\n",
    "#  this case uses the genes to encode all possible configuration rule tables (up to spatial symmetry (4-rotations, 4-reflections)) for birth and survival\n",
    "#  a fixed length encoding is used in the gene with 1-bit for each of 64 configurations in the 32 bit survival and 32 bit birth masks\n",
    "#  there are 1,2,6,10,13,10,6,2,1 configuration mask bits for s=0-8. Only 32 cases s=0-4 in LUT are allowed non-zero in this implementation.\n",
    "#  birth and survival are determined by the presence of a bit in the gene at the position of the symmetric live-nb pattern LUT \n",
    "#  ncoding not used : only space for 1 bit per lut entry\n",
    "g.nrun=1; g.ndisp=100; g.nskip=0; g.niter=1;# simulation time stepping parameters\n",
    "g.nhist = 0                                  # set to n to turn on histogram configurations every nth step\n",
    "g.nstat = 0                                  # set to n to turn on statistics trace every nth step\n",
    "g.rulemod = g.runparams[0] = 1               # 0,1 whether to allow GoL rule modifications\n",
    "                                             # with rulemod 1 2-live-nb birth, 3-live-nb non-birth & non-survival possible\n",
    "g.repscheme = g.runparams[1] = 0x660         # repscheme bit 3 (val 0x8) determines whether random choice of ancestor amongst live neighbours\n",
    "                                             # repscheme mod 8 i.e. 0-7 determines selection scheme based on gene\n",
    "                                             # 0 minimum gene as value  # 1 maximum gene as value\n",
    "                                             # 2 minimum number of ones # 3 maximum number of ones\n",
    "                                             # 4 neutral selection # 5 neutral but different selection\n",
    "                                             # 6 penalty function -1 for a survival rule -2 for a birth rule  # 7 not allowed \n",
    "g.selection = g.runparams[2] = 14            # fitness for 2 live neighbor rule : 0-6 see subgenelife.c code\n",
    "g.overwritemask = g.runparams[3]= 0x0        # \n",
    "g.birthmask = g.runparams[7]    = 0x7fe00    # for selection=14-15 this is the GoL birth mask\n",
    "g.survivalmask = g.runparams[4] = 0x7fff8    # for selection=14-15 this is the GoL survival mask\n",
    "g.colorfunction = g.runparams[5] = 0         # color function 0(hash), ≥1(fnal), 2 nongulstate or color gol planes, 3 notgolrul yellow\n",
    "                                             # 4 activities 5 genealogy steps 6 genealogy temporal 7 activity scaled colors\n",
    "g.initfield = g.runparams[6] = 100           # 1 init via 32x32 genepat.dat, n>1 init via nxn rand array\n",
    "g.nlog2pmut = g.simparams[0] = 8             # log2 gene mutation probability (0 or >56 means no mutation)\n",
    "g.initial1density = g.simparams[1] =  16384  # initial 1 density in GOL state\n",
    "                                             # 16384 = nearest to half of guaranteed C rand max value 32767 = 2**15 - 1\n",
    "g.initialrdensity = g.simparams[2] = 16384   # initial density of random genes\n",
    "g.ncoding = g.simparams[3] = 0               # for selection 10, non zero value means grow plane community from 0\n",
    "                                             # otherwise (selection<10) no of bits used to encode valid connection functions 1-16\n",
    "                                             # for selection==8, lut, ncoding 1,2,3 bits per lut entry : 0 implies 3.\n",
    "g.startgenechoice = g.simparams[4] = 8       # initialize genes to startgene number 0-8 : 8 is random choice of 0-7\n",
    "\n",
    "g.genelife.initialize_planes(g.npoffsets)\n",
    "g.genelife.initialize(g.runparams,g.simparams)\n",
    "g.framenr = 0\n",
    "g.cnt=0\n",
    "g.show0(False)\n",
    "# step()\n",
    "g.run(g.nrun, g.ndisp, g.nskip, g.niter, g.nhist, g.nstat, True)"
   ]
  },
  {
   "cell_type": "markdown",
   "metadata": {},
   "source": [
    "## 15 Selection: Symmetric 2D LUT encoded by gene with fixed length positional encoding"
   ]
  },
  {
   "cell_type": "markdown",
   "metadata": {},
   "source": [
    "### 15.1 Game of Life with selection==15"
   ]
  },
  {
   "cell_type": "code",
   "execution_count": 10,
   "metadata": {},
   "outputs": [
    {
     "name": "stdout",
     "output_type": "stream",
     "text": [
      "step 995 pixel data (131,422) gol 0 gene 0000000000000000 status 0000000000000000\n",
      "step 1654 pixel data (202,260) gol 0 gene 0000000000000000 status 0000000000000000\n"
     ]
    }
   ],
   "source": [
    "# 15 GoL\n",
    "#  selection=15 LUT with appropriate parameters for survival\n",
    "#  this case uses the genes to encode all possible configuration rule tables (up to spatial symmetry (4-rotations, 4-reflections)) for birth and survival\n",
    "#  a modular encoding is used in the gene with 12-bit modules for subsets of up to 6 configurations in the 32 bit survival and 32 bit birth masks\n",
    "#  there are 1,2,6,10,13,10,6,2,1 configuration mask bits for s=0-8. Only 32 cases s=0-4 in LUT are allowed non-zero in this implementation.\n",
    "#  birth and survival are determined by the presence of a module with the correct pattern in the gene\n",
    "#  ncoding not used : only space for 1 bit per lut entry\n",
    "g.nrun=1; g.ndisp=1000; g.nskip=0; g.niter=1;# simulation time stepping parameters\n",
    "g.nhist = 0                                  # set to n to turn on histogram configurations every nth step\n",
    "g.nstat = 0                                  # set to n to turn on statistics trace every nth step\n",
    "g.rulemod = g.runparams[0] = 1               # 0,1 whether to allow GoL rule modifications\n",
    "                                             # with rulemod 1 2-live-nb birth, 3-live-nb non-birth & non-survival possible\n",
    "g.repscheme = g.runparams[1] = 0x0610        # \n",
    "g.selection     = g.runparams[2] = 15        # fitness for 2 live neighbor rule : 0-6 see subgenelife.c code\n",
    "g.overwritemask = g.runparams[3] = 0x00      # no overwrite allowed in this version, alternatively set to 0x04 for overwrite on s=3 birth\n",
    "g.birthmask    = g.runparams[7] = 0x0007fe00 # for selection=14-15 this is the GoL birth mask\n",
    "g.survivalmask = g.runparams[4] = 0x0007fff8 # for selection=14-15 this is the GoL survival mask\n",
    "g.ancselectmask = g.runparams[8] = 0xff      # ancestor mask allowing selection for all s values\n",
    "g.colorfunction = g.runparams[5] = 0         # color function 0(hash), ≥1(fnal), 2 nongulstate or color gol planes, 3 notgolrul yellow\n",
    "                                             # 4 activities 5 genealogy steps 6 genealogy temporal 7 activity scaled colors\n",
    "g.initfield = g.runparams[6] = 100           # 1 init via 32x32 genepat.dat, n>1 init via nxn rand array\n",
    "g.nlog2pmut = g.simparams[0] = 8             # log2 gene mutation probability (0 or >56 means no mutation)\n",
    "g.initial1density = g.simparams[1] =  16384  # initial 1 density in GOL state\n",
    "                                             # 16384 = nearest to half of guaranteed C rand max value 32767 = 2**15 - 1\n",
    "g.initialrdensity = g.simparams[2] = 0       # initial density of random genes\n",
    "g.ncoding = g.simparams[3] = 0               # for selection 10, non zero value means grow plane community from 0\n",
    "                                             # otherwise (selection<10) no of bits used to encode valid connection functions 1-16\n",
    "                                             # for selection==8, lut, ncoding 1,2,3 bits per lut entry : 0 implies 3.\n",
    "g.startgenechoice = g.simparams[4] = 8       # initialize genes to startgene number 0-8 : 8 is random choice of 0-7\n",
    "\n",
    "g.genelife.initialize_planes(g.npoffsets)\n",
    "g.genelife.initialize(g.runparams,g.simparams)\n",
    "g.framenr = 0\n",
    "g.cnt=0\n",
    "g.show0()\n",
    "# step()\n",
    "g.run(g.nrun, g.ndisp, g.nskip, g.niter, g.nhist, g.nstat, False)"
   ]
  },
  {
   "cell_type": "code",
   "execution_count": null,
   "metadata": {},
   "outputs": [],
   "source": []
  },
  {
   "cell_type": "markdown",
   "metadata": {},
   "source": [
    "### 15.2 Scissors-paper-stone-well selection with selection==15"
   ]
  },
  {
   "cell_type": "code",
   "execution_count": 18,
   "metadata": {},
   "outputs": [],
   "source": [
    "# 15 Scissors-paper-stone-well selection\n",
    "#  selection=15 LUT with appropriate parameters for survival\n",
    "#  this case uses the genes to encode all possible configuration rule tables (up to spatial symmetry (4-rotations, 4-reflections)) for birth and survival\n",
    "#  a modular encoding is used in the gene with 12-bit modules for subsets of up to 6 configurations in the 32 bit survival and 32 bit birth masks\n",
    "#  there are 1,2,6,10,13,10,6,2,1 configuration mask bits for s=0-8. Only 32 cases s=0-4 in LUT are allowed non-zero in this implementation.\n",
    "#  birth and survival are determined by the presence of a module with the correct pattern in the gene\n",
    "#  ncoding not used : only space for 1 bit per lut entry\n",
    "g.nrun=4; g.ndisp=1000; g.nskip=0; g.niter=1;# simulation time stepping parameters\n",
    "g.nhist = 0                                  # set to n to turn on histogram configurations every nth step\n",
    "g.nstat = 0                                  # set to n to turn on statistics trace every nth step\n",
    "g.rulemod = g.runparams[0] = 0x1             # 0,1 whether to allow GoL rule modifications\n",
    "g.repscheme = g.runparams[1] = 0x170         \n",
    "g.selection     = g.runparams[2] = 15        # fitness for 2 live neighbor rule : 0-6 see subgenelife.c code\n",
    "g.overwritemask = g.runparams[3] = 0x06      # mask of bits to overwrite if birth allowed and already occupied for bit position sum s\n",
    "g.birthmask    = g.runparams[7] = 0x0007fff8 # for selection=14-15 this is the GoL birth mask with s=2 birth added\n",
    "g.survivalmask = g.runparams[4] = 0x0        # this is the no survival mask\n",
    "g.ancestormask = g.runparams[8] = 0xff       # ancestor mask allowing selection for all cases\n",
    "g.colorfunction = g.runparams[5] = 0         # color function can be cahnged with arrow keys\n",
    "g.initfield = g.runparams[6] = 150           # 1 init via 32x32 genepat.dat, n>1 init via nxn rand array\n",
    "g.nlog2pmut = g.simparams[0] = 8             # log2 gene mutation probability (0 or >56 means no mutation)\n",
    "g.initial1density = g.simparams[1] = 8192    # initial 1 density in GOL state: 16384 = nearest to half of C rand max value 32767 = 2**15 - 1\n",
    "g.initialrdensity = g.simparams[2] = 0       # initial density of random genes\n",
    "g.ncoding = g.simparams[3] = 0               # for selection==8, lut, ncoding 1,2,3 bits per lut entry : 0 implies 3.\n",
    "g.startgenechoice = g.simparams[4] = 8       # initialize genes to startgene number 0-8 : 8 is random choice of 0-7\n",
    "\n",
    "g.genelife.initialize_planes(g.npoffsets)\n",
    "g.genelife.initialize(g.runparams,g.simparams)\n",
    "g.framenr = 0\n",
    "g.cnt=0\n",
    "g.show0()\n",
    "#g.step(True)\n",
    "g.run(g.nrun, g.ndisp, g.nskip, g.niter, g.nhist, g.nstat, False)"
   ]
  },
  {
   "cell_type": "markdown",
   "metadata": {},
   "source": [
    "### 15.3 Example with selection==15"
   ]
  },
  {
   "cell_type": "code",
   "execution_count": null,
   "metadata": {},
   "outputs": [],
   "source": [
    "# 15\n",
    "#  selection=15 LUT with appropriate parameters for survival\n",
    "#  this case uses the genes to encode all possible configuration rule tables (up to spatial symmetry (4-rotations, 4-reflections)) for birth and survival\n",
    "#  a modular encoding is used in the gene with 12-bit modules for subsets of up to 6 configurations in the 32 bit survival and 32 bit birth masks\n",
    "#  there are 1,2,6,10,13,10,6,2,1 configuration mask bits for s=0-8. Only 32 cases s=0-4 in LUT are allowed non-zero in this implementation.\n",
    "#  birth and survival are determined by the presence of a module with the correct pattern in the gene\n",
    "#  ncoding not used : only space for 1 bit per lut entry\n",
    "g.nrun=1; g.ndisp=100; g.nskip=0; g.niter=1;# simulation time stepping parameters\n",
    "g.nhist = 0                                  # set to n to turn on histogram configurations every nth step\n",
    "g.nstat = 0                                  # set to n to turn on statistics trace every nth step\n",
    "g.rulemod = g.runparams[0] = 1               # 0,1 whether to allow GoL rule modifications\n",
    "                                             # with rulemod 1 2-live-nb birth, 3-live-nb non-birth & non-survival possible\n",
    "g.repscheme = g.runparams[1] = 0x610         # repscheme bit 3 (val 0x8) determines whether random choice of ancestor amongst live neighbours\n",
    "                                             # repscheme mod 8 i.e. 0-7 determines selection scheme based on gene\n",
    "                                             # 0 minimum gene as value  # 1 maximum gene as value\n",
    "                                             # 2 minimum number of ones # 3 maximum number of ones\n",
    "                                             # 4 neutral selection # 5 neutral but different selection\n",
    "                                             # 6 penalty function -1 for a survival rule -2 for a birth rule  # 7 not allowed \n",
    "g.selection = g.runparams[2] = 15            # fitness for 2 live neighbor rule : 0-6 see subgenelife.c code\n",
    "g.overwritemask = g.runparams[3]= 0x0        # \n",
    "g.birthmask = g.runparams[7]    = 0x7fe00    # for selection=14-15 this is the GoL birth mask\n",
    "g.survivalmask = g.runparams[4] = 0x7fff8    # for selection=14-15 this is the GoL survival mask\n",
    "g.colorfunction = g.runparams[5] = 0         # color function 0(hash), ≥1(fnal), 2 nongulstate or color gol planes, 3 notgolrul yellow\n",
    "                                             # 4 activities 5 genealogy steps 6 genealogy temporal 7 activity scaled colors\n",
    "g.initfield = g.runparams[6] = 100           # 1 init via 32x32 genepat.dat, n>1 init via nxn rand array\n",
    "g.nlog2pmut = g.simparams[0] = 8             # log2 gene mutation probability (0 or >56 means no mutation)\n",
    "g.initial1density = g.simparams[1] =  16384  # initial 1 density in GOL state\n",
    "                                             # 16384 = nearest to half of guaranteed C rand max value 32767 = 2**15 - 1\n",
    "g.initialrdensity = g.simparams[2] = 0       # initial density of random genes\n",
    "g.ncoding = g.simparams[3] = 0               # for selection 10, non zero value means grow plane community from 0\n",
    "                                             # otherwise (selection<10) no of bits used to encode valid connection functions 1-16\n",
    "                                             # for selection==8, lut, ncoding 1,2,3 bits per lut entry : 0 implies 3.\n",
    "g.startgenechoice = g.simparams[4] = 8       # initialize genes to startgene number 0-8 : 8 is random choice of 0-7\n",
    "\n",
    "g.genelife.initialize_planes(g.npoffsets)\n",
    "g.genelife.initialize(g.runparams,g.simparams)\n",
    "g.framenr = 0\n",
    "g.cnt=0\n",
    "g.show0(False)\n",
    "#g.step()\n",
    "g.run(g.nrun, g.ndisp, g.nskip, g.niter, g.nhist, g.nstat, True)"
   ]
  },
  {
   "cell_type": "code",
   "execution_count": null,
   "metadata": {},
   "outputs": [],
   "source": [
    "g.set_params()\n",
    "g.genelife.initialize(g.runparams,g.simparams)\n",
    "g.run(g.nrun, g.ndisp, g.nskip, g.niter, g.nhist, g.nstat, False)"
   ]
  }
 ],
 "metadata": {
  "celltoolbar": "Initialization Cell",
  "hide_input": false,
  "kernelspec": {
   "display_name": "Python 3",
   "language": "python",
   "name": "python3"
  },
  "language_info": {
   "codemirror_mode": {
    "name": "ipython",
    "version": 3
   },
   "file_extension": ".py",
   "mimetype": "text/x-python",
   "name": "python",
   "nbconvert_exporter": "python",
   "pygments_lexer": "ipython3",
   "version": "3.7.4"
  },
  "toc": {
   "base_numbering": 1,
   "nav_menu": {},
   "number_sections": false,
   "sideBar": true,
   "skip_h1_title": false,
   "title_cell": "Table of Contents",
   "title_sidebar": "Contents",
   "toc_cell": false,
   "toc_position": {
    "height": "855.2756958007812px",
    "left": "29.981616973876953px",
    "top": "116.36029052734375px",
    "width": "353.95220947265625px"
   },
   "toc_section_display": true,
   "toc_window_display": true
  }
 },
 "nbformat": 4,
 "nbformat_minor": 2
}
