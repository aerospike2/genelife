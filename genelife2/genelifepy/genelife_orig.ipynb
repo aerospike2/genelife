{
 "cells": [
  {
   "cell_type": "code",
   "execution_count": 1,
   "metadata": {
    "collapsed": false
   },
   "outputs": [],
   "source": [
    "#%gui osx\n",
    "# %matplotlib inline # doesn't work for John\n",
    "import random as rand\n",
    "import pygame as pg\n",
    "\n",
    "from genelife import *"
   ]
  },
  {
   "cell_type": "markdown",
   "metadata": {},
   "source": [
    "## Graphics notes\n",
    "Note that the focus is removed outside this window by previous cell. Click on window before evaluating further."
   ]
  },
  {
   "cell_type": "markdown",
   "metadata": {},
   "source": [
    "This notebook uses the pygame interface.\n",
    "\n",
    "It pops up a pygame window (labeled \"Gene Life\"), which must be moved to the side to see the notebook.\n",
    "\n",
    "To stop the simulation mid-stream, you can click on the pygame window, click in the window. \n",
    "\n",
    "Color is currently a 32 bit hash of the 64 bit gene value.\n",
    "\n",
    "To change resolution: \n",
    "* change `subgenelife.c` line 23 (`log2N`) and rebuild c lib\n",
    "* change `genlife.py` line 10 (also `log2N`)\n",
    "* change `Width` and `Height` below."
   ]
  },
  {
   "cell_type": "markdown",
   "metadata": {},
   "source": [
    "## Initialization"
   ]
  },
  {
   "cell_type": "markdown",
   "metadata": {},
   "source": [
    "See additional discussion in the [genelife wiki](https://github.com/js1200/genelife/wiki/Probability-parameters-in-genelife).\n",
    "\n",
    "The code determining the effect of genes on birth, and the mutation of genomes is currently on lines 229-242 of `subgene.c`.\n",
    "\n",
    "Parameter `rulemod` deterimines if genes are affecting the GOL dynamics at all.\n",
    "* `rulemod == 0` => Genes have no affect; GOL dynamics prevail.  \n",
    "* `rulemod == 1` => Genes alter GOL dynamics.\n",
    "\n",
    "Parameter `repscheme` controls possible replication schemes for birth in the case of 3 live neighbours.  For 3 live neighbours, a unique one may be chosen deterministically in 2 ways:  (i) most different, and (ii) a particular nbr (0th) of a canonical rotation.  \n",
    "\n",
    "Consider two cases, `repscheme bit 0 unset` and `repscheme bit 0 set`, and for each of these consider when `repscheme bit 1` is unset and set:\n",
    "\n",
    "* `repscheme bit 0 unset`\n",
    "    * `repscheme == 0` => use most different of the 3 live nbrs as ancestor\n",
    "    * `repscheme == 2` => use 0th nbr of canonical rotation as ancestor\n",
    "* `repscheme bit 0 set`\n",
    "    * `repscheme == 1` => apply selection to complement pair of most different of the 3 live nbrs.\n",
    "    * `repscheme == 3` => apply selection to complement pair of 0th nbr of canonical rotation\n",
    "\n",
    "The `selection` parameter provides a choice between a variety of deterministic schemes to choose between two possible ancestors, either in the case of birth from 2 live neighbours or the two cases of birth from 3 live neighbours with `repscheme bit 0` set.\n",
    "* `selection == 0` larger integer value determines survival\n",
    "* `selection == 1` larger number of 1's \n",
    "* `selection == 2` paper-scissors-rock-well\n",
    "* `selection == 3` selection based on closeness to one of the two difft targets (ncoding bits apart)\n",
    "* `selection == 4` selection based on closeness of g0 to 0x0 and g1 to all 1's; for birth distances must satisfy `d0<ncoding`, `d1<ncoding`, and `dd=D(g0,g1) < ncoding.`  `ncoding>55` for any exceptions.\n",
    "* `selection == 5` Predator prey: prey goes toward all 0's, predator goes toward all 1's.  N1(g)<32 => prey; birth if different and at least one prey; both prey => prey with less 1's wins, prey-predator => predator wins.\n",
    "\n",
    "Parameter `nlog2pmut` fixes mutation probability.  `nlog2pmut` takes integer values, label them $k$; then  $p_{\\rm mut} = 2^{-k}$"
   ]
  },
  {
   "cell_type": "code",
   "execution_count": 2,
   "metadata": {
    "collapsed": true
   },
   "outputs": [],
   "source": [
    "offsets = [[ 0, 0, 0],\n",
    "           [-1,-1, 0],\n",
    "           [ 0,-1, 0],\n",
    "           [ 1,-1, 0],\n",
    "           [ 1, 0, 0],\n",
    "           [ 1, 1, 0],\n",
    "           [ 0, 1, 0],\n",
    "           [-1, 1, 0],\n",
    "           [-1, 0, 0]]\n",
    "numHis = pow(2,len(offsets))\n",
    "histo=np.zeros(numHis,np.uint64)\n",
    "flatoff =  [x for sublist in offsets for x in sublist]\n",
    "npoffsets = np.array(flatoff,np.int32)\n",
    "\n",
    "runparams = np.zeros(5,np.int32)\n",
    "simparams = np.zeros(5,np.int32)    # 5 parameters passed to C"
   ]
  },
  {
   "cell_type": "markdown",
   "metadata": {},
   "source": [
    "Following animation cell is set up to display for `ndisp` time steps, run without display for `nskip` time steps, and repeat, up to a total of `niter*ndisp` frames displayed (`niter*(ndisp+nskip)` total time steps):\n",
    "\n",
    "|---`ndisp`---|------------------`nskip`---------------| ... repeated for `niter` times\n"
   ]
  },
  {
   "cell_type": "code",
   "execution_count": 3,
   "metadata": {
    "collapsed": true
   },
   "outputs": [],
   "source": [
    "Width = 512\n",
    "Height = 512\n",
    "\n",
    "screen = pg.display.set_mode([Width, Height])\n",
    "scr = pg.surface.Surface([Width,Height], 0)\n",
    "#scr2 = pg.surface.Surface([Width*2,Height*2], 0)\n",
    "#pygame.transform.scale2x(scr,scr2)  # Norman do you know how to do this?\n",
    "cnt = 0\n",
    "caption = \"Gene Life at iteration %d\" % cnt\n",
    "pg.display.set_caption(caption)\n",
    "pg.draw.rect(screen, [10, 10, 10],(0, 0 , Width, Height + 1), 0)\n",
    "pg.display.update()\n",
    "\n",
    "cgrid = pg.surfarray.pixels2d(screen)"
   ]
  },
  {
   "cell_type": "code",
   "execution_count": 4,
   "metadata": {
    "collapsed": true
   },
   "outputs": [],
   "source": [
    "def update():\n",
    "    global gol, cgrid\n",
    "    global golg\n",
    "    global log2N\n",
    "    global runparams\n",
    "    global cnt\n",
    "    global framenr\n",
    "\n",
    "    cnt = cnt+1\n",
    "    if cnt % ndisp == 0:  # insert the non-displayed iterations & count species\n",
    "        genelife.genelife_update(nskip, 0)\n",
    "        genelife.countspecieshash(runparams)\n",
    "        framenr = framenr + nskip\n",
    "    genelife.genelife_update(nrun, 0)\n",
    "    genelife.get_curgol(gol)\n",
    "    genelife.get_curgolg(golg)\n",
    "    framenr = framenr+nrun\n",
    "    colorgrid()  # sets  cgrid\n",
    "    #time_text.set_text('cnt = %.1d' % framenr)\n",
    "    #time_text.set_color('w')\n",
    "    return\n",
    "\n",
    "# this function defined in genelife.py doesn't work in the notebook.\n",
    "# must redefine it here.  Maybe scope of globals?\n",
    "def colorgrid():\n",
    "    \"\"\" colors array according to grid and genegrid using colormethod\"\"\"\n",
    "    global gol,cgrid,golg,cgolg,N\n",
    "    \n",
    "    genelife.colorgenes(gol,golg,cgolg)\n",
    "    for i in xrange(N):\n",
    "        for j in xrange(N):\n",
    "            ij = i+j*N\n",
    "            cgrid[i,j] = cgolg[ij]\n",
    "            # cgrid=np.reshape(cgolg,(N,N))   does not work, why ???????\n",
    "    return\n"
   ]
  },
  {
   "cell_type": "code",
   "execution_count": 5,
   "metadata": {
    "collapsed": false
   },
   "outputs": [],
   "source": [
    "nrun=1; nskip = 0; ndisp=200; niter=100;  # changed from niter 10 just for quicker exploration\n",
    "#nrun=1; nskip = 0; ndisp=1; niter=1;  # changed from niter 10 just for quicker exploration\n",
    "\n",
    "rulemod = runparams[0] = 1               # 0,1 whether to allow GoL rule modifications\n",
    "repscheme = runparams[1] = 1             # 0-3, bit 0 on allow selection in 3 live nb configs, bit 1 on most difft vs 0 bit of canonical rotation\n",
    "selection = runparams[2] = 2             # fitness for 2 live neighbor rule : 0-5 see subgenelife.c code\n",
    "overwritemask = runparams[3] = 3         # mask of 2 bits to overwrite instead of survival for 3(bit0) or 2(bit1) live nbs\n",
    "survival = runparams[4] = 0              # survive mask for two (bit 1) and three (bit 0) live neighbours : GoL = 3\n",
    "\n",
    "nlog2pmut = simparams[0] = 0             # log2 gene mutation probability (0 or >56 means no mutation)\n",
    "initial1density = simparams[1] = 16384   # initial 1 density in GOL state\n",
    "                                         # 16384 = nearest to half of guaranteed C rand max value 32767 = 2**15 - 1\n",
    "initialrdensity = simparams[2] = 0       # initial density of random genes\n",
<<<<<<< HEAD
    "ncoding = simparams[3] = 65              # no of bits used to encode valid connection functions 1-16\n",
=======
    "ncoding = simparams[3] = 16              # no of bits used to encode valid connection functions 1-16\n",
>>>>>>> gene_code_match_ham
    "startgenechoice = simparams[4] = 8       # initialize genes to startgene number 0-8 : 8 is random choice of 0-7\n",
    "\n",
    "genelife.initialize_planes(npoffsets)\n",
    "genelife.initialize(runparams,simparams)\n",
    "framenr = 0\n",
    "cnt=0\n",
    "genelife.get_curgol(gol)\n",
    "genelife.get_curgolg(golg)\n",
    "genelife.countspecieshash(runparams)"
   ]
  },
  {
   "cell_type": "markdown",
   "metadata": {},
   "source": [
    "Single step and display"
   ]
  },
  {
   "cell_type": "code",
   "execution_count": null,
   "metadata": {
    "collapsed": true
   },
   "outputs": [],
   "source": [
    "# count species\n",
    "genelife.get_curgol(gol)\n",
    "genelife.get_curgolg(golg)\n",
    "genelife.countspecies(gol,golg,runparams)"
   ]
  },
  {
   "cell_type": "code",
   "execution_count": null,
   "metadata": {
    "collapsed": true
   },
   "outputs": [],
   "source": [
<<<<<<< HEAD
    "genelife.get_curgol(gol)\n",
    "genelife.get_curgolg(golg)\n",
    "genelife.countspecieshash(runparams)"
   ]
  },
  {
   "cell_type": "markdown",
   "metadata": {},
   "source": [
    "Iterate indefinitely using ndisp and nskip parameters above.\n",
    "Please change this to go for a finite number of times specified by niter."
=======
    "#single step and update display and species counts\n",
    "update()\n",
    "caption = \"Gene Life at iteration %d\" % framenr\n",
    "pg.display.set_caption(caption)\n",
    "pg.display.flip()\n",
    "genelife.get_curgol(gol)\n",
    "genelife.get_curgolg(golg)\n",
    "genelife.countspecies(gol,golg,runparams)"
>>>>>>> gene_code_match_ham
   ]
  },
  {
   "cell_type": "code",
   "execution_count": null,
   "metadata": {
<<<<<<< HEAD
    "collapsed": false
=======
    "collapsed": true
>>>>>>> gene_code_match_ham
   },
   "outputs": [],
   "source": [
    "# genelife.genelife_update(1, 0)"
   ]
  },
  {
   "cell_type": "code",
   "execution_count": 6,
   "metadata": {
    "collapsed": true
   },
   "outputs": [],
   "source": [
    "# infinite loop of display updates (click in graphics window to stop)\n",
    "gogo = True\n",
    "while gogo:\n",
    "    for event in pg.event.get():\n",
    "        if event.type==pg.QUIT:\n",
    "            gogo = False\n",
    "        if event.type==pg.MOUSEBUTTONDOWN:\n",
    "            gogo = False\n",
    "    update()\n",
    "    caption = \"Gene Life at iteration %d\" % framenr\n",
    "    pg.display.set_caption(caption)\n",
    "    pg.display.flip()"
   ]
  },
  {
   "cell_type": "markdown",
   "metadata": {},
   "source": [
    "Test of hash table keys from Gustavsson. Problem with the values below found.\n",
    "I fixed this by chaining with an offset and the multiplicative hash that we used for colorfunction."
   ]
  },
  {
   "cell_type": "code",
   "execution_count": 9,
   "metadata": {
    "collapsed": false
   },
   "outputs": [
    {
     "data": {
      "text/plain": [
       "1005"
      ]
     },
     "execution_count": 9,
     "metadata": {},
     "output_type": "execute_result"
    }
   ],
   "source": [
    "genelife.countspecies(gol,golg,runparams)\n",
    "framenr"
   ]
  },
  {
   "cell_type": "markdown",
   "metadata": {},
   "source": [
    "### Trace of number of live cell statistics"
   ]
  },
  {
   "cell_type": "code",
   "execution_count": 10,
   "metadata": {
    "collapsed": true
   },
   "outputs": [],
   "source": [
    "ntmax = 1024\n",
    "while framenr > ntmax: ntmax = ntmax*2   # increase ntmax to next power of 2 to match C memory\n",
    "tpts=np.zeros(ntmax,np.int32)\n",
    "livestats = np.zeros(ntmax,np.int32)\n",
    "genotypes = np.zeros(ntmax*4,np.int32)\n",
    "genotypes4 = np.reshape(genotypes,(ntmax,4)).T\n",
    "stepstats = np.zeros(ntmax*10,np.int32)\n",
    "stepstats10 = np.reshape(stepstats,(ntmax,10)).T"
   ]
  },
  {
   "cell_type": "code",
   "execution_count": 11,
   "metadata": {
    "collapsed": false
   },
   "outputs": [],
   "source": [
    "nt = framenr\n",
    "genelife.get_stats(livestats,genotypes,stepstats,nt)\n",
    "tpts= range(1,nt)"
   ]
  },
  {
   "cell_type": "code",
   "execution_count": 26,
   "metadata": {
    "collapsed": false
   },
   "outputs": [
    {
     "data": {
      "image/png": "iVBORw0KGgoAAAANSUhEUgAAAsIAAAJCCAYAAADKoqEBAAAABHNCSVQICAgIfAhkiAAAAAlwSFlz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\nRESKJSXCIiIiIlIsKREWERERkWLp/wGgWU00Zbrj/wAAAABJRU5ErkJggg==\n",
      "text/plain": [
       "<matplotlib.figure.Figure at 0x10f978e10>"
      ]
     },
     "metadata": {},
     "output_type": "display_data"
    }
   ],
   "source": [
    "%matplotlib inline\n",
    "# fig, ax = plt.subplots()\n",
    "plt.rcParams['figure.figsize'] = [10, 10]\n",
    "f, (ax1, ax2) = plt.subplots(2, sharex=True, sharey=False)\n",
    "ax1.plot(tpts,stepstats10[0][1:nt],'b',label='notgolrul')\n",
    "ax1.plot(tpts,stepstats10[1][1:nt],'g',label='2_live')\n",
    "ax1.plot(tpts,stepstats10[2][1:nt],'r',label='3_live')\n",
    "ax1.plot(tpts,stepstats10[3][1:nt],'c',label='birth')\n",
    "ax1.plot(tpts,stepstats10[4][1:nt],'m',label='mutation')\n",
    "ax1.plot(tpts,stepstats10[5][1:nt],'b--',label='2select')\n",
    "ax1.plot(tpts,stepstats10[6][1:nt],'g--',label='survival')\n",
    "ax1.plot(tpts,stepstats10[7][1:nt],'r--',label='death')\n",
    "ax1.plot(tpts,stepstats10[8][1:nt],'k--',label='golstate')\n",
    "ax1.plot(tpts,stepstats10[9][1:nt],'m--',label='3g_same')\n",
    "ax2.plot(tpts,genotypes4[0][1:nt],'b',label='d=0 class')\n",
    "ax2.plot(tpts,genotypes4[1][1:nt],'g',label='d=1 class')\n",
    "ax2.plot(tpts,genotypes4[2][1:nt],'r',label='d=2 class')\n",
    "ax2.plot(tpts,genotypes4[3][1:nt],'k',label='d=3 class')\n",
    "ax1.set_ylabel('number of such cells')\n",
    "ax2.set_ylabel('number of such cells')\n",
    "legend1 = ax1.legend(loc=2, bbox_to_anchor=(1,1), shadow=True, fontsize='small')  # or use  loc = 'best'\n",
    "legend2 = ax2.legend(loc=2, bbox_to_anchor=(1,1), shadow=True, fontsize='small')\n",
    "legend1.get_frame().set_facecolor('C0')\n",
    "legend2.get_frame().set_facecolor('C0')\n",
    "plt.show()"
   ]
  },
  {
   "cell_type": "markdown",
   "metadata": {},
   "source": [
    "### Space-time of one row"
   ]
  },
  {
   "cell_type": "code",
   "execution_count": null,
   "metadata": {
    "collapsed": true
   },
   "outputs": [],
   "source": [
<<<<<<< HEAD
    "key = 0xffbfffeffffbffff    # gives 0\n",
    "# key = 0x0                 gives 0\n",
    "# key = 0xffffffffffffffff    OK"
=======
    "genelife.get_curgol(gol)\n",
    "cnt = range(512)\n",
    "for i in range(512):\n",
    "    cnt[i] = sum([gol[(i*512)+j] for j in range(512)])"
   ]
  },
  {
   "cell_type": "code",
   "execution_count": null,
   "metadata": {
    "collapsed": false
   },
   "outputs": [],
   "source": [
    "foo = [(i,cnt[i]) for i in range(512) if cnt[i] == max(cnt)]\n",
    "foo"
   ]
  },
  {
   "cell_type": "code",
   "execution_count": null,
   "metadata": {
    "collapsed": true
   },
   "outputs": [],
   "source": [
    "myrow = foo[0][0]\n",
    "for i in range(512):\n",
    "    genelife.get_curgol(gol)\n",
    "    for j in range(512):\n",
    "        if gol[(512*myrow)+j]==1:\n",
    "            cgrid[i][j] = 1\n",
    "        else:\n",
    "            cgrid[i][j] = 0\n",
    "    genelife.genelife_update(1,0)\n",
    "    "
   ]
  },
  {
   "cell_type": "code",
   "execution_count": null,
   "metadata": {
    "collapsed": true
   },
   "outputs": [],
   "source": [
    "%matplotlib inline"
   ]
  },
  {
   "cell_type": "code",
   "execution_count": null,
   "metadata": {
    "collapsed": false
   },
   "outputs": [],
   "source": [
    "my_dpi=96\n",
    "my_cmap = rand_cmap(257, type='bright', first_color_black=True, last_color_black=False)\n",
    "\n",
    "fig, ax = plt.subplots(figsize=((3*256)/my_dpi, (3*256)/my_dpi), dpi=my_dpi, frameon=False)\n",
    "ax.axis('off')\n",
    "# mat = ax.matshow(cgrid, cmap=my_cmap, vmin=0.01, vmax=257)  # was vmax = LEN+1\n",
    "mat = ax.matshow(cgrid, cmap=my_cmap, vmin = 0, vmax = 56)\n",
    "plt.show()"
>>>>>>> gene_code_match_ham
   ]
  },
  {
   "cell_type": "code",
   "execution_count": null,
   "metadata": {
    "collapsed": false
   },
   "outputs": [],
   "source": [
    "key = ( ~key ) + (( key << 18 )&0xffffffffffffffff);\n",
    "key = key ^ ( key >> 31 );\n",
    "key = (key * 21)&0xffffffffffffffff;\n",
    "key = key ^ ( key >> 11 );\n",
    "key = (key + (( key << 6 )&0xffffffffffffffff))&0xffffffffffffffff;\n",
    "key = key ^ ( key >> 22 );\n",
    "print key"
   ]
  }
 ],
 "metadata": {
  "hide_input": false,
  "kernelspec": {
   "display_name": "Python 2",
   "language": "python",
   "name": "python2"
  },
  "language_info": {
   "codemirror_mode": {
    "name": "ipython",
    "version": 2
   },
   "file_extension": ".py",
   "mimetype": "text/x-python",
   "name": "python",
   "nbconvert_exporter": "python",
   "pygments_lexer": "ipython2",
   "version": "2.7.14"
  }
 },
 "nbformat": 4,
 "nbformat_minor": 2
}
