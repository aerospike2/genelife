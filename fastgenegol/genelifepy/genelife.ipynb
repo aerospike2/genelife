{
 "cells": [
  {
   "cell_type": "markdown",
   "metadata": {},
   "source": [
    "# Initialize python imports, notebook window width,  and graphics window position\n",
    "Executed automatically on start or restart."
   ]
  },
  {
   "cell_type": "code",
   "execution_count": 1,
   "metadata": {
    "init_cell": true
   },
   "outputs": [
    {
     "name": "stdout",
     "output_type": "stream",
     "text": [
      "pygame 1.9.5.dev0\n",
      "Hello from the pygame community. https://www.pygame.org/contribute.html\n"
     ]
    },
    {
     "data": {
      "text/html": [
       "<style>.container { width:100% !important; }</style>"
      ],
      "text/plain": [
       "<IPython.core.display.HTML object>"
      ]
     },
     "metadata": {},
     "output_type": "display_data"
    }
   ],
   "source": [
    "%gui osx\n",
    "import random as rand\n",
    "import numpy as np\n",
    "import genelife as g\n",
    "\n",
    "# import pygame as pg # already done in genelife\n",
    "from IPython.core.display import display, HTML\n",
    "display(HTML(\"<style>.container { width:100% !important; }</style>\"))     # sets input cells to use full window width\n",
    "\n",
    "from os import environ\n",
    "environ['SDL_VIDEO_WINDOW_POS'] = \"%d,%d\" % (1000,32)   # set position of pygame (SDL) video window (x,y) pixel coords, values work well on iMac"
   ]
  },
  {
   "cell_type": "markdown",
   "metadata": {},
   "source": [
    "# Rebuilding with new array size\n",
    "Execute the following cell with the new size edited in. Note that array sizes must be a power of 2.\n",
    "Then remember to restart the kernel to load the newly compiled library.     You are then ready to execute examples in the new size."
   ]
  },
  {
   "cell_type": "code",
   "execution_count": null,
   "metadata": {},
   "outputs": [],
   "source": [
    "#  e.g. new size is 2^8=256                         here     -.-\n",
    "!sed -i -e 's/const int log2N = [0-9]*[0-9]/const int log2N = 9/' ../genelifec/subgenelife.c\n",
    "!xcodebuild -project ../fastgenegol.xcodeproj -scheme genelife build"
   ]
  },
  {
   "cell_type": "markdown",
   "metadata": {},
   "source": [
    "# Graphics notes"
   ]
  },
  {
   "cell_type": "markdown",
   "metadata": {},
   "source": [
    "This notebook uses the pygame interface.\n",
    "\n",
    "It pops up a pygame window (labeled \"Gene Life\"), which must be moved to the side to see the notebook. This window is not hardware acclerated on Mac - [see pg.display.Info()].\n",
    "\n",
    "To stop the simulation mid-stream, you can OPTION click on the pygame window, click in the window. \n",
    "\n",
    "Simulations can be restarted using run() and the current timestep can be investigated graphically by calling run with updatesenabled = False. Initial state display with show0() and single stepping with step() are possible. \n",
    "\n",
    "The caption contains information about current state and mode.\n",
    "\n",
    "Clicking on the window will give mouse position dependent information about local state.\n",
    "\n",
    "Color is currently a 32 bit hash of the 64 bit gene value in colorfunction mode 0. There are 9 display modes accessible via left and right arrow keys:\n",
    "\n",
    "    0 Randomly hashed colors based on gene value\n",
    "    1 Functional coloring - differs according to selection model\n",
    "    2 Overlay of non GoL rule cases in yellow\n",
    "    3 Overlay of active states produced by a non GoL rule in yellow\n",
    "    4 Activity plot scaled as activity/(activity+ymax) with interactive */ 2 for ymax\n",
    "    5 Genealogies of N most populated genes : 1 pixel/ancestral change (ancestor at top)\n",
    "    6 Genealogies of N most pop'd genes: with vertical time from start, colors as in mode 0\n",
    "    7 Genealogies as in 6, but colors brightness rescaled by activities\n",
    "    8 Glider detect: diff in packed 3-nbhoods with (dx,dy,dt), for (0,0,0) all 1-nbs with dt=-1 \n",
    "\n",
    "To change resolution N: (only powers of 2 are allowed, typically 8,9,10 for N=256,512,1024)\n",
    "* change `subgenelife.c` line 17 (`log2N`) and rebuild c lib [we utilize the efficiency gains of N fixed as power of two at compile time]\n",
    "\n",
    "Quadrant modes (keys Q,q,alt-q) are available for evolving parameters (selection < 8).\n",
    "\n",
    "Horizon mode (toggle with key r) couples with strictly GoL rules in upper (sky) half-plane (selection < 8). Idea is that teeming life in the sea (lower halfplane) may evolve to colonize the sky (upper halfplane)."
   ]
  },
  {
   "cell_type": "markdown",
   "metadata": {},
   "source": [
    "# Initialization"
   ]
  },
  {
   "cell_type": "markdown",
   "metadata": {},
   "source": [
    "See additional discussion in the [genelife wiki](https://github.com/js1200/genelife/wiki/Probability-parameters-in-genelife).\n",
    "\n",
    "Parameter `rulemod` determines if genes are affecting the GOL dynamics at all.\n",
    "* `rulemod == 0` => Genes have no affect; GOL dynamics prevail.  \n",
    "* `rulemod == 1` => Genes alter GOL dynamics.\n",
    "\n",
    "Parameter `repscheme` controls possible replication schemes for birth in the case of 3 live neighbours.  For 3 live neighbours, a unique one may be chosen deterministically in 2 ways:  (i) most different, and (ii) a particular nbr (0th) of a canonical rotation.  \n",
    "\n",
    "Consider two cases, `repscheme bit 0 unset` and `repscheme bit 0 set`, and for each of these consider when `repscheme bit 1` is unset and set:\n",
    "\n",
    "* `repscheme bit 0 unset`\n",
    "    * `repscheme == 0` => use most different of the 3 live nbrs as ancestor\n",
    "    * `repscheme == 2` => use 0th nbr of canonical rotation as ancestor\n",
    "* `repscheme bit 0 set`\n",
    "    * `repscheme == 1` => apply selection to complement pair of most different of the 3 live nbrs.\n",
    "    * `repscheme == 3` => apply selection to complement pair of 0th nbr of canonical rotation\n",
    "\n",
    "The `selection` parameter provides a choice between a variety of deterministic schemes to choose between two possible ancestors, either in the case of birth from 2 live neighbours or the two cases of birth from 3 live neighbours with `repscheme bit 0` set.\n",
    "* `selection == 0` larger integer value determines survival\n",
    "* `selection == 1` larger number of 1's \n",
    "* `selection == 2` paper-scissors-rock-well\n",
    "* `selection == 3` selection based on closeness to one of the two difft targets (ncoding bits apart)\n",
    "* `selection == 4` selection based on closeness of g0 to 0x0 and g1 to all 1's; for birth distances must satisfy `d0<ncoding`, `d1<ncoding`, and `dd=D(g0,g1) < ncoding.`  `ncoding>55` for any exceptions.\n",
    "* `selection == 5` Predator prey: prey goes toward all 0's, predator goes toward all 1's.  N1(g)<32 => prey; birth if different and at least one prey; both prey => prey with less 1's wins, prey-predator => predator wins.\n",
    "\n",
    "Parameter `nlog2pmut` fixes mutation probability.  `nlog2pmut` takes integer values, label them $k$; then  $p_{\\rm mut} = 2^{-k}$"
   ]
  },
  {
   "cell_type": "markdown",
   "metadata": {},
   "source": [
    "The simulation is set up to display for `ndisp` time steps, run without display for `nskip` time steps, and repeat, up to a total of `niter*ndisp` frames displayed (`niter*(ndisp+nskip)` total time steps):\n",
    "\n",
    "|---`ndisp`---|------------------`nskip`---------------| ... repeated for `niter` times\n"
   ]
  },
  {
   "cell_type": "code",
   "execution_count": null,
   "metadata": {},
   "outputs": [],
   "source": [
    "# we avoid text in the graphics window because of resolution issues\n",
    "# if one needs text in Graphics Window proceed as follows: note that with 2x scaling the quality is poor because of pixelation    \n",
    "# font rending for text at position : note result not ideal because of 2x scaling\n",
    "#\n",
    "# from pygame.locals import * \n",
    "# pg.font.init()\n",
    "# default_font = pg.font.get_default_font()\n",
    "# font_renderer = pg.font.Font(default_font, 7)\n",
    "#\n",
    "# example of text for a button   \n",
    "# white = (200,200,200)\n",
    "# labeltext = [font_renderer.render(\"%d\" % (j*2,), 0, white) for j in range(5)]\n",
    "# labeltext.append(font_renderer.render(\"S\", 0, white))\n",
    "# labeltext.append(font_renderer.render(\"O\", 0, white))\n",
    "# ncanon10s=['2s','3s','4s','5s','6s','2b','3b','4b','5b','6b']\n",
    "# labeltext10 = [font_renderer.render(ncanon9s[j], 0, white) for j in range(len(ncanon9))]\n",
    "# scr.blit(labeltext[j], (k*8,Height))           # transfer text to surface"
   ]
  },
  {
   "cell_type": "markdown",
   "metadata": {},
   "source": [
    "# Running"
   ]
  },
  {
   "cell_type": "markdown",
   "metadata": {},
   "source": [
    "## Example:  selection=4 cooperative birth"
   ]
  },
  {
   "cell_type": "code",
   "execution_count": null,
   "metadata": {},
   "outputs": [],
   "source": [
    "# 4\n",
    "#  selection=4 cooperative birth between near-0 and near-1 sequences with appropriate parameters for survival\n",
    "#  Note that since two different sequences that cannot mutate directly into oneanother are required, birth is difficult\n",
    "#  The system needs some non selective birth to proliferate : enforce birth with repscheme bits 3,4\n",
    "#  The value of ncoding must be large, 24 or so, or non-specific replication takes over.\n",
    "#  Color scheme: green near 0, read near 1, white neither. Near means within ncoding bits. \n",
    "g.nrun=1; g.ndisp=200; g.nskip=0; g.niter=100; # simulation time stepping parameters : set nskip=800 for faster long time\n",
    "#nrun=1; ndisp=1; nskip=0; niter=1;          # single step\n",
    "g.nhist = 0                                  # set to n to turn on histogram configurations every nth step\n",
    "g.nstat = 0                                  # set to n to turn on statistics trace every nth step\n",
    "g.rulemod = g.runparams[0] = 1               # 0,1 whether to allow GoL rule modifications\n",
    "g.repscheme = g.runparams[1] = 0x03          # 0-1f: bit 0 on allow selection in 3 live nb configs, bit 1 on most difft vs 0 bit of canonical rotation\n",
    "g.selection = g.runparams[2] = 4             # fitness for 2 live neighbor rule : 0-6 see subgenelife.c code\n",
    "g.overwritemask = g.runparams[3] = 3         # mask of 2 bits to overwrite instead of survival for 3(bit0) or 2(bit1) live nbs\n",
    "g.survivalmask = g.runparams[4] = 2          # survive mask for two (bit 1) and three (bit 0) live neighbours : GoL = 3\n",
    "g.colorfunction = g.runparams[5] = 7         # color function 0-8\n",
    "g.initfield = g.runparams[6] = 200           # 1 init via 32x32 genepat.dat, n>1 init via nxn rand array\n",
    "g.nlog2pmut = g.simparams[0] = 7             # log2 gene mutation probability if <32, otherwise prob is val/2^-32 (0->0 prob)\n",
    "g.initial1density = g.simparams[1] = 16384   # initial 1 density in GOL state\n",
    "g.initialrdensity = g.simparams[2] = 0       # initial density of random genes\n",
    "g.ncoding = g.simparams[3] = 12              # no of bits away from targets and each other allowed for match\n",
    "g.startgenechoice = g.simparams[4] = 8       # initialize genes to startgene number 0-8 : 8 is random choice of 0-7\n",
    "\n",
    "g.repscheme=g.packrepscheme(g.repscheme,g.survivalmask,g.overwritemask) # packs bits together for compact display and image names\n",
    "g.genelife.initialize_planes(g.npoffsets)      # genelife is the C interface module genelife_update_module\n",
    "g.genelife.initialize(g.runparams,g.simparams)\n",
    "g.framenr = 0\n",
    "g.cnt=0\n",
    "g.show0(False)\n",
    "# step(False)\n",
    "g.run(g.nrun, g.ndisp, g.nskip, g.niter, g.nhist, g.nstat, True)"
   ]
  },
  {
   "cell_type": "markdown",
   "metadata": {},
   "source": [
    "## Example:  selection=2 scissors-stone-well-paper"
   ]
  },
  {
   "cell_type": "code",
   "execution_count": null,
   "metadata": {},
   "outputs": [],
   "source": [
    "# 2\n",
    "#  selection=2 scissors-stone-well-paper\n",
    "#  Note that sequences must differ for replication unless it is forced.\n",
    "#  \n",
    "#  Color scheme: four different classes are red, green, blue and white\n",
    "g.nrun=1; g.ndisp=1000; g.nskip=0; g.niter=100;  # simulation time stepping parameters\n",
    "#nrun=1; ndisp=1; nskip=0; niter=1;         # single step\n",
    "g.nhist = 10                                # set to n to turn on histogram configurations every nth step\n",
    "g.nstat = 10                                # set to n to turn on statistics trace every nth step\n",
    "g.rulemod = g.runparams[0] = 1              # 0,1 whether to allow GoL rule modifications\n",
    "                                            # with rulemod 1 2-live-nb birth, 3-live-nb non-birth & non-survival possible\n",
    "g.repscheme = g.runparams[1] = 0x0002       # bits 0 to 20 code for mostly independent binary options\n",
    "g.selection = g.runparams[2] = 2            # fitness for 2 live neighbor rule : 0-6 see subgenelife.c code\n",
    "g.overwritemask = g.runparams[3] = 3        # mask of 2 bits to overwrite instead of survival for 3(bit0) or 2(bit1) live nbs\n",
    "g.survivalmask = g.runparams[4] = 0         # survive mask for two (bit 1) and three (bit 0) live neighbours : GoL = 3\n",
    "g.colorfunction = g.runparams[5] = 8        # color function 0(hash), ≥1(fnal), 2 nongolchg yellow, 3 notgolrul yellow\n",
    "g.initfield = g.runparams[6] = 200          # 1 init via 32x32 genepat.dat, n>1 init via nxn rand array\n",
    "g.nlog2pmut = g.simparams[0] = 8            # log2 gene mutation probability (0 or >56 means no mutation)\n",
    "g.initial1density = g.simparams[1] = 16384  # initial 1 density in GOL state\n",
    "                                            # 16384 = nearest to half of guaranteed C rand max value 32767 = 2**15 - 1\n",
    "g.initialrdensity = g.simparams[2] = 0          # initial density of random genes\n",
    "g.ncoding = g.simparams[3] = 0                  # no of bits used to encode valid connection functions 1-16\n",
    "g.startgenechoice = g.simparams[4] = 8          # initialize genes to startgene number 0-8 : 8 is random choice of 0-7\n",
    "\n",
    "g.genelife.initialize_planes(g.npoffsets)\n",
    "g.genelife.initialize(g.runparams,g.simparams)\n",
    "g.framenr = 0\n",
    "g.cnt=0\n",
    "g.show0(False)\n",
    "#step()\n",
    "g.run(g.nrun, g.ndisp, g.nskip, g.niter, g.nhist, g.nstat, False)"
   ]
  },
  {
   "cell_type": "code",
   "execution_count": null,
   "metadata": {},
   "outputs": [],
   "source": [
    "# getting genes, popcounts and activities up to python\n",
    "gindices=np.zeros(10000,np.int32)\n",
    "genes=np.zeros(10000,np.uint64)\n",
    "popln=np.zeros(10000,np.int32)\n",
    "activities=np.zeros(10000,np.int32)\n",
    "\n",
    "nspecies=g.genelife.get_sorted_popln_act(gindices,genes,popln,activities)  #nspecies is only those with popcount nonzero\n",
    "# print \"no of species\",nspecies,len(popln)\n",
    "print popln[0:20]"
   ]
  },
  {
   "cell_type": "markdown",
   "metadata": {},
   "source": [
    "## Trace of number of live cell statistics"
   ]
  },
  {
   "cell_type": "code",
   "execution_count": null,
   "metadata": {},
   "outputs": [],
   "source": [
    "ntmax = 1024\n",
    "while g.framenr//g.nstat > ntmax: ntmax = ntmax*2   # increase ntmax to next power of 2 to match C memory\n",
    "tpts=np.zeros(ntmax,np.int32)\n",
    "livestats = np.zeros(ntmax,np.int32)\n",
    "genotypes = np.zeros(ntmax*4,np.int32)\n",
    "genotypes4 = np.reshape(genotypes,(ntmax,4)).T\n",
    "stepstats = np.zeros(ntmax*10,np.int32)\n",
    "stepstats10 = np.reshape(stepstats,(ntmax,10)).T\n",
    "configstats = np.zeros(ntmax*4,np.int32)\n",
    "configstats4 = np.reshape(configstats,(ntmax,4)).T"
   ]
  },
  {
   "cell_type": "code",
   "execution_count": null,
   "metadata": {},
   "outputs": [],
   "source": [
    "nt = g.framenr//g.nstat\n",
    "g.genelife.get_stats(livestats,genotypes,stepstats,configstats,nt)\n",
    "tpts = [i*g.nstat for i in range(1,nt)]"
   ]
  },
  {
   "cell_type": "code",
   "execution_count": null,
   "metadata": {},
   "outputs": [],
   "source": [
    "%matplotlib inline\n",
    "# fig, ax = plt.subplots()\n",
    "g.plt.rcParams['figure.figsize'] = [10, 10]\n",
    "f, (ax1, ax2, ax3) = g.plt.subplots(3, sharex=True, sharey=False)\n",
    "ax1.plot(tpts,stepstats10[0][1:nt],'b',label='notgolrul')\n",
    "ax1.plot(tpts,stepstats10[1][1:nt],'g',label='2_live')\n",
    "ax1.plot(tpts,stepstats10[2][1:nt],'r',label='3_live')\n",
    "ax1.plot(tpts,stepstats10[3][1:nt],'c',label='birth')\n",
    "ax1.plot(tpts,stepstats10[4][1:nt],'m',label='mutation')\n",
    "ax1.plot(tpts,stepstats10[5][1:nt],'b--',label='2select')\n",
    "ax1.plot(tpts,stepstats10[6][1:nt],'g--',label='survival')\n",
    "ax1.plot(tpts,stepstats10[7][1:nt],'r--',label='death')\n",
    "ax1.plot(tpts,stepstats10[8][1:nt],'k--',label='golstate')\n",
    "ax1.plot(tpts,stepstats10[9][1:nt],'m--',label='3g_same')\n",
    "ax2.plot(tpts,genotypes4[0][1:nt],'b',label='d=0 class')\n",
    "ax2.plot(tpts,genotypes4[1][1:nt],'g',label='d=1 class')\n",
    "ax2.plot(tpts,genotypes4[2][1:nt],'r',label='d=2 class')\n",
    "ax2.plot(tpts,genotypes4[3][1:nt],'k',label='d=3 class')\n",
    "ax3.plot(tpts,configstats4[0][1:nt],'b',label='offset [-1, 0,-1]')\n",
    "ax3.plot(tpts,configstats4[1][1:nt],'g',label='offset [ 1, 0,-1]')\n",
    "ax3.plot(tpts,configstats4[2][1:nt],'r',label='offset [ 0,-1,-1]')\n",
    "ax3.plot(tpts,configstats4[3][1:nt],'k',label='offset [ 0, 1,-1]')\n",
    "ax1.set_ylabel('number of such cells')\n",
    "ax2.set_ylabel('number of such cells')\n",
    "ax3.set_ylabel('number of such configs')\n",
    "legend1 = ax1.legend(loc=2, bbox_to_anchor=(1,1), shadow=True, fontsize='small')  # or use  loc = 'best'\n",
    "legend2 = ax2.legend(loc=2, bbox_to_anchor=(1,1), shadow=True, fontsize='small')\n",
    "legend3 = ax3.legend(loc=2, bbox_to_anchor=(1,1), shadow=True, fontsize='small')\n",
    "legend1.get_frame().set_facecolor('C0')\n",
    "legend2.get_frame().set_facecolor('C0')\n",
    "legend3.get_frame().set_facecolor('C0')\n",
    "g.plt.show()"
   ]
  },
  {
   "cell_type": "markdown",
   "metadata": {},
   "source": [
    "## Space-time of one row"
   ]
  },
  {
   "cell_type": "code",
   "execution_count": null,
   "metadata": {},
   "outputs": [],
   "source": [
    "g.genelife.get_curgol(g.gol)\n",
    "cnt = range(g.N)\n",
    "for i in range(g.N):\n",
    "    cnt[i] = sum([g.gol[(i*g.N)+j] for j in range(g.N)])"
   ]
  },
  {
   "cell_type": "code",
   "execution_count": null,
   "metadata": {},
   "outputs": [],
   "source": [
    "foo = [(i,cnt[i]) for i in range(g.N) if cnt[i] == max(cnt)]\n",
    "\n",
    "myrow = foo[0][0]\n",
    "for i in range(g.N):\n",
    "    g.genelife.get_curgol(g.gol)\n",
    "    for j in range(g.N):\n",
    "        if g.gol[(g.N*myrow)+j]==1:\n",
    "            g.cgrid[i][j] = 1\n",
    "        else:\n",
    "            g.cgrid[i][j] = 0\n",
    "    g.genelife.genelife_update(1,0,0)\n",
    "    "
   ]
  },
  {
   "cell_type": "code",
   "execution_count": null,
   "metadata": {},
   "outputs": [],
   "source": [
    "%matplotlib inline"
   ]
  },
  {
   "cell_type": "code",
   "execution_count": null,
   "metadata": {},
   "outputs": [],
   "source": [
    "my_dpi=96\n",
    "my_cmap = g.rand_cmap(257, type='bright', first_color_black=True, last_color_black=False)\n",
    "\n",
    "fig, ax = g.plt.subplots(figsize=((3*256)/my_dpi, (3*256)/my_dpi), dpi=my_dpi, frameon=False)\n",
    "ax.axis('off')\n",
    "# mat = ax.matshow(cgrid, cmap=my_cmap, vmin=0.01, vmax=257)  # was vmax = LEN+1\n",
    "mat = ax.matshow(g.cgrid, cmap=my_cmap, vmin = 0, vmax = 56)\n",
    "g.plt.show()"
   ]
  },
  {
   "cell_type": "markdown",
   "metadata": {},
   "source": [
    "# Gallery of example simulations\n",
    "use ctrl-return to execute cell and stay on same cell"
   ]
  },
  {
   "cell_type": "markdown",
   "metadata": {},
   "source": [
    "## Selection 0  Numerical value of gene determines fitness"
   ]
  },
  {
   "cell_type": "code",
   "execution_count": null,
   "metadata": {},
   "outputs": [],
   "source": [
    "# 0\n",
    "#  selection=0 gene value\n",
    "#  Note that sequences must differ for replication unless it is forced.\n",
    "#   \n",
    "g.nrun=1; g.ndisp=1000; g.nskip=0; g.niter=100;  # simulation time stepping parameters\n",
    "#nrun=1; ndisp=1; nskip=0; niter=1;              # single step\n",
    "g.nhist = 10                                     # set to n to turn on histogram configurations every nth step\n",
    "g.nstat = 10                                     # set to n to turn on statistics trace every nth step\n",
    "g.rulemod = g.runparams[0] = 1                   # 0,1 whether to allow GoL rule modifications\n",
    "                                                 # if 0, gene dynamics consistent with GoL still possible\n",
    "g.repscheme = g.runparams[1] = 0x3               # bits 0 to 13 code for binary options, 14-20 code for quadrant pairs,\n",
    "                                                 # 21-24 for allowed canonical 2-live nb configs \n",
    "                                                 # value 0x11 is simply game of life provided survivalmask is 3\n",
    "g.selection = g.runparams[2] = 0                 # fitness for 2 live neighbor rule : 0-6 see subgenelife.c code\n",
    "g.survivalmask = g.runparams[4] = 2              # survive mask for two (bit 1) and three (bit 0) live neighbours : GoL = 3\n",
    "g.birthmask = 1                                  # birth mask for two (bit 1) and three (bit 0) live neighbours : GoL = 1\n",
    "g.overwritemask = g.runparams[3] = 3             # mask of 2 bits to overwrite instead of survival for 3(bit0) or 2(bit1) live nbs\n",
    "\n",
    "g.colorfunction = g.runparams[5] = 0             # color function 0(hash), ≥1(fnal), 2 nongolchg yellow, 3 notgolrul yellow\n",
    "g.initfield = g.runparams[6] = 200               # 1 init via 32x32 genepat.dat, n>1 init via nxn rand array\n",
    "g.nlog2pmut = g.simparams[0] = 8                 # log2 gene mutation probability (0 or >56 means no mutation)\n",
    "g.initial1density = g.simparams[1] = 16384       # initial 1 density in GOL state\n",
    "                                                 # 16384 = nearest to half of guaranteed C rand max value 32767 = 2**15 - 1\n",
    "g.initialrdensity = g.simparams[2] = 0           # initial density of random genes\n",
    "g.ncoding = g.simparams[3] = 0                   # bits0-7 no of bits used to encode individual gene functions\n",
    "                                                 # bits8-15 no of bits to encode masks for add2ndmask1st functions\n",
    "                                                 # bits 16-23 number of planes used in selection modesl 10-12 \n",
    "g.startgenechoice = g.simparams[4] = 8           # initialize genes to startgene number 0-8 : 8 is random choice of 0-7\n",
    "\n",
    "g.genelife.initialize_planes(g.npoffsets)\n",
    "g.genelife.initialize(g.runparams,g.simparams)\n",
    "g.framenr = 0\n",
    "g.cnt=0\n",
    "g.show0()\n",
    "#step()\n",
    "g.run(g.nrun, g.ndisp, g.nskip, g.niter, g.nhist, g.nstat, True)"
   ]
  },
  {
   "cell_type": "markdown",
   "metadata": {},
   "source": [
    "## Selection 1 Number of 1s in gene determines fitness"
   ]
  },
  {
   "cell_type": "code",
   "execution_count": null,
   "metadata": {},
   "outputs": [],
   "source": [
    "# 1\n",
    "#  selection=1 number of ones determines fitness\n",
    "#  Note that sequences must differ in number of ones for replication unless it is forced.\n",
    "#  ncoding plays no role, system takes about 4-5000 steps to reach all ones sequence\n",
    "#  Color scheme: color gradient with colors going from black (no 1s) to white (all 1s)\n",
    "g.nrun=1; g.ndisp=1000; g.nskip=0; g.niter=100;  # simulation time stepping parameters\n",
    "g.nhist = 0                                      # set to n to turn on histogram configurations every nth step\n",
    "g.nstat = 0                                      # set to n to turn on statistics trace every nth step\n",
    "g.rulemod = g.runparams[0] = 1                   # 0,1 whether to allow GoL rule modifications\n",
    "g.repscheme = g.runparams[1] = 0x3               # bit 0,1 on allow selection in 3,2 live nb configs\n",
    "g.selection = g.runparams[2] = 1                 # fitness for 2 live neighbor rule : 0-6 see subgenelife.c code\n",
    "g.overwritemask = g.runparams[3] = 3             # mask of 2 bits to overwrite instead of survival for 3(bit0) or 2(bit1) live nbs\n",
    "g.survivalmask = g.runparams[4] = 2              # survive mask for two (bit 1) and three (bit 0) live neighbours : GoL = 3\n",
    "g.colorfunction = g.runparams[5] = 1             # color function 0-8\n",
    "g.initfield = g.runparams[6] = 200               # 1 init via 32x32 genepat.dat, n>1 init via nxn rand array\n",
    "g.nlog2pmut = g.simparams[0] = 8                 # log2 gene mutation probability (0 or >56 means no mutation)\n",
    "g.initial1density = g.simparams[1] = 16384       # initial 1 density in GOL state\n",
    "g.initialrdensity = g.simparams[2] = 0           # initial density of random genes\n",
    "g.ncoding = g.simparams[3] = 0                   # no of bits used to encode valid connection functions 1-16\n",
    "g.startgenechoice = g.simparams[4] = 8           # initialize genes to startgene number 0-8 : 8 is random choice of 0-7\n",
    "\n",
    "g.genelife.initialize_planes(g.npoffsets)\n",
    "g.genelife.initialize(g.runparams,g.simparams)\n",
    "g.framenr = 0\n",
    "g.cnt=0\n",
    "g.show0()\n",
    "#step()\n",
    "g.run(g.nrun, g.ndisp, g.nskip, g.niter, g.nhist, g.nstat, False)"
   ]
  },
  {
   "cell_type": "markdown",
   "metadata": {},
   "source": [
    "## Selection 2 Not well-ordered (tournament) selection - scissors-stone-well-paper model"
   ]
  },
  {
   "cell_type": "code",
   "execution_count": null,
   "metadata": {},
   "outputs": [],
   "source": [
    "# 2\n",
    "#  selection=2 scissors-stone-well-paper\n",
    "#  Note that sequences must differ for replication unless it is forced.\n",
    "#  \n",
    "#  Color scheme: four different classes are red, green, blue and white\n",
    "g.nrun=1; g.ndisp=1000; g.nskip=0; g.niter=100;  # simulation time stepping parameters\n",
    "g.nhist = 10                                # set to n to turn on histogram configurations every nth step\n",
    "g.nstat = 10                                # set to n to turn on statistics trace every nth step\n",
    "g.rulemod = g.runparams[0] = 1              # 0,1 whether to allow GoL rule modifications\n",
    "                                            # with rulemod 1 2-live-nb birth, 3-live-nb non-birth & non-survival possible\n",
    "g.repscheme = g.runparams[1] = 0x3          # bits 0 to 20 code for mostly independent binary options\n",
    "g.selection = g.runparams[2] = 2            # fitness for 2 live neighbor rule : 0-6 see subgenelife.c code\n",
    "g.overwritemask = g.runparams[3] = 3        # mask of 2 bits to overwrite instead of survival for 3(bit0) or 2(bit1) live nbs\n",
    "g.survivalmask = g.runparams[4] = 0         # survive mask for two (bit 1) and three (bit 0) live neighbours : GoL = 3\n",
    "g.colorfunction = g.runparams[5] = 1        # color function 0(hash), ≥1(fnal), 2 nongolchg yellow, 3 notgolrul yellow\n",
    "g.initfield = g.runparams[6] = 150          # 1 init via 32x32 genepat.dat, n>1 init via nxn rand array\n",
    "g.nlog2pmut = g.simparams[0] = 8            # log2 gene mutation probability (0 or >56 means no mutation)\n",
    "g.initial1density = g.simparams[1] = 8192   # initial 1 density in GOL state\n",
    "                                            # 16384 = nearest to half of guaranteed C rand max value 32767 = 2**15 - 1\n",
    "g.initialrdensity = g.simparams[2] = 0      # initial density of random genes\n",
    "g.ncoding = g.simparams[3] = 0              # no of bits used to encode valid connection functions 1-16\n",
    "g.startgenechoice = g.simparams[4] = 8      # initialize genes to startgene number 0-8 : 8 is random choice of 0-7\n",
    "\n",
    "g.genelife.initialize_planes(g.npoffsets)\n",
    "g.genelife.initialize(g.runparams,g.simparams)\n",
    "g.framenr = 0\n",
    "g.cnt=0\n",
    "g.show0(False)\n",
    "#step()\n",
    "g.run(g.nrun, g.ndisp, g.nskip, g.niter, g.nhist, g.nstat, False)"
   ]
  },
  {
   "cell_type": "markdown",
   "metadata": {},
   "source": [
    "## Selection 3 Cyclic not well-ordered selection for 4 species"
   ]
  },
  {
   "cell_type": "code",
   "execution_count": null,
   "metadata": {},
   "outputs": [],
   "source": [
    "# 3\n",
    "#  selection=3 scissors-stone-well-paper but only next color wins\n",
    "#  Note that sequences must differ for replication unless it is forced.\n",
    "#  \n",
    "#  Color scheme: four different classes are red, green, blue and white\n",
    "nrun=1; ndisp=1000; nskip=0; niter=100;  # simulation time stepping parameters\n",
    "nhist = 0                                # set to n to turn on histogram configurations every nth step\n",
    "nstat = 0                                # set to n to turn on statistics trace every nth step\n",
    "rulemod = runparams[0] = 3               # 0,1 whether to allow GoL rule modifications\n",
    "repscheme = runparams[1] = 0x2ab         # 0-1f: bit 0 on allow selection in 3 live nb configs, bit 1 on most difft vs 0 bit of canonical rotation\n",
    "selection = runparams[2] = 3             # fitness for 2 live neighbor rule : 0-6 see subgenelife.c code\n",
    "overwritemask = runparams[3] = 0         # mask of 2 bits to overwrite instead of survival for 3(bit0) or 2(bit1) live nbs\n",
    "survivalmask = runparams[4] = 0          # survive mask for two (bit 1) and three (bit 0) live neighbours : GoL = 3\n",
    "colorfunction = runparams[5] = 1         # color function 0-8\n",
    "initfield = runparams[6] = 200            # 1 init via 32x32 genepat.dat, n>1 init via nxn rand array\n",
    "nlog2pmut = simparams[0] = 8             # log2 gene mutation probability (0 or >56 means no mutation)\n",
    "initial1density = simparams[1] = 16384   # initial 1 density in GOL state\n",
    "initialrdensity = simparams[2] = 0       # initial density of random genes\n",
    "ncoding = simparams[3] = 0               # not used in selection==2\n",
    "startgenechoice = simparams[4] = 8       # initialize genes to startgene number 0-8 : 8 is random choice of 0-7\n",
    "\n",
    "genelife.initialize_planes(npoffsets)\n",
    "genelife.initialize(runparams,simparams)\n",
    "framenr = 0\n",
    "cnt=0\n",
    "show0()\n",
    "#step()\n",
    "run(g.nrun, g.ndisp, g.nskip, g.niter, g.nhist, g.nstat, False)"
   ]
  },
  {
   "cell_type": "markdown",
   "metadata": {},
   "source": [
    "## Selection 4 Cooperative birth requiring two individuals with different gene functions"
   ]
  },
  {
   "cell_type": "code",
   "execution_count": null,
   "metadata": {},
   "outputs": [],
   "source": [
    "# 4\n",
    "#  selection=4 cooperative birth between near-0 and near-1 sequences with appropriate parameters for survival\n",
    "#  Note that since two different sequences that cannot mutate directly into oneanother are required, birth is difficult\n",
    "#  The system needs some non selective birth to proliferate : overwritemask 3\n",
    "#  For random start the ncoding value must be large, 28 or so.\n",
    "#  Color scheme: green near 0, read near 1, white neither. Near means within ncoding bits. \n",
    "nrun=1; ndisp=200; nskip=0; niter=100;   # simulation time stepping parameters : set nskip=800 for faster long time\n",
    "nhist = 0                                # set to n to turn on histogram configurations every nth step\n",
    "nstat = 0                                # set to n to turn on statistics trace every nth step\n",
    "rulemod = runparams[0] = 1               # 0,1 whether to allow GoL rule modifications\n",
    "repscheme = runparams[1] = 0x03          # 0-1f: bit 0 on allow selection in 3 live nb configs, bit 1 on most difft vs 0 bit of canonical rotation\n",
    "selection = runparams[2] = 4             # fitness for 2 live neighbor rule : 0-6 see subgenelife.c code\n",
    "overwritemask = runparams[3] = 3         # mask of 2 bits to overwrite instead of survival for 3(bit0) or 2(bit1) live nbs\n",
    "survivalmask = runparams[4] = 2          # survive mask for two (bit 1) and three (bit 0) live neighbours : GoL = 3\n",
    "colorfunction = runparams[5] = 1         # color function 0-8\n",
    "initfield = runparams[6] = 200            # 1 init via 32x32 genepat.dat, n>1 init via nxn rand array\n",
    "nlog2pmut = simparams[0] = 7             # log2 gene mutation probability (0 or >56 means no mutation)\n",
    "initial1density = simparams[1] = 16384   # initial 1 density in GOL state\n",
    "initialrdensity = simparams[2] = 0       # initial density of random genes\n",
    "ncoding = simparams[3] = 12              # no of bits away from targets and each other allowed for match\n",
    "startgenechoice = simparams[4] = 8       # initialize genes to startgene number 0-8 : 8 is random choice of 0-7\n",
    "\n",
    "genelife.initialize_planes(npoffsets)\n",
    "genelife.initialize(runparams,simparams)\n",
    "framenr = 0\n",
    "cnt=0\n",
    "show0()\n",
    "#step()\n",
    "run(g.nrun, g.ndisp, g.nskip, g.niter, g.nhist, g.nstat, False)"
   ]
  },
  {
   "cell_type": "markdown",
   "metadata": {},
   "source": [
    "## Selection 5 Predator-prey model"
   ]
  },
  {
   "cell_type": "code",
   "execution_count": null,
   "metadata": {},
   "outputs": [],
   "source": [
    "# 5\n",
    "#  selection=5 with appropriate parameters for survival\n",
    "#  Note that since two different sequences that cannot mutate directly into oneanother are required, birth is difficult\n",
    "#  The system needs some non selective birth to proliferate : enforce birth with repscheme bits 3,4\n",
    "#  Predator and prey must be within ncoding bits of one another\n",
    "g.nrun=1; g.ndisp=200; g.nskip=800; g.niter=100; # simulation time stepping parameters\n",
    "g.nhist = 0                                      # set to n to turn on histogram configurations every nth step\n",
    "g.nstat = 0                                      # set to n to turn on statistics trace every nth step\n",
    "g.rulemod = g.runparams[0] = 1                   # 0,1 whether to allow GoL rule modifications\n",
    "g.repscheme = g.runparams[1] = 0x33              # 0-1f: bit 0 on allow selection in 3 live nb configs, bit 1 on most difft vs 0 bit of canonical rotation\n",
    "g.selection = g.runparams[2] = 5                 # fitness for 2 live neighbor rule : 0-6 see subgenelife.c code\n",
    "g.overwritemask = g.runparams[3] = 3             # mask of 2 bits to overwrite instead of survival for 3(bit0) or 2(bit1) live nbs\n",
    "g.survivalmask = g.runparams[4] = 2              # survive mask for two (bit 1) and three (bit 0) live neighbours : GoL = 3\n",
    "g.colorfunction = g.runparams[5] = 1             # color function 0-8\n",
    "g.initfield = g.runparams[6] = 200               # 1 init via 32x32 genepat.dat, n>1 init via nxn rand array\n",
    "g.nlog2pmut = g.simparams[0] = 7                 # log2 gene mutation probability (0 or >56 means no mutation)\n",
    "g.initial1density = g.simparams[1] = 16384       # initial 1 density in GOL state\n",
    "g.initialrdensity = g.simparams[2] = 0           # initial density of random genes\n",
    "g.ncoding = g.simparams[3] = 8                   # no of bits used to encode valid connection functions 1-16\n",
    "g.startgenechoice = g.simparams[4] = 8           # initialize genes to startgene number 0-8 : 8 is random choice of 0-7\n",
    "\n",
    "g.genelife.initialize_planes(g.npoffsets)\n",
    "g.genelife.initialize(g.runparams,g.simparams)\n",
    "g.framenr = 0\n",
    "g.cnt=0\n",
    "g.show0()\n",
    "#step()\n",
    "g.run(g.nrun, g.ndisp, g.nskip, g.niter, g.nhist, g.nstat, False)"
   ]
  },
  {
   "cell_type": "markdown",
   "metadata": {},
   "source": [
    "## Selection 6 Constrained selection involving two targets and distance constraint"
   ]
  },
  {
   "cell_type": "code",
   "execution_count": null,
   "metadata": {},
   "outputs": [],
   "source": [
    "# 6\n",
    "#  selection=6 with appropriate parameters for survival\n",
    "#  in this model there are two target gene centres at all 0 sequence and the sequence with ncoding leading 1s\n",
    "#  birth occurs if the two sequences have different distances to each target and these are less than their mutual distance\n",
    "# the sequence which is closer to its target in selected as the ancestor for birth\n",
    "# the initial asymmetry was corrected by disallowing equal distances to the targets (a biassed choice was made)\n",
    "# one can enforce birth using repscheme, in which case the canonical rotation is used to maintain symmetry\n",
    "nrun=1; ndisp=200; nskip=0; niter=1;       # simulation time stepping parameters\n",
    "nhist = 0                                # set to n to turn on histogram configurations every nth step\n",
    "nstat = 0                                # set to n to turn on statistics trace every nth step\n",
    "rulemod = runparams[0] = 0               # 0,1 whether to allow GoL rule modifications\n",
    "repscheme = runparams[1] = 7             # for selection 10 or 11, repscheme gives number of planes in simulation (0->16)\n",
    "selection = runparams[2] = 6             # fitness for 2 live neighbor rule : 0-6 see subgenelife.c code\n",
    "overwritemask = runparams[3]= 0x0        # mask of 2 bits to overwrite instead of survival for 3(bit0) or 2(bit1) live nbs\n",
    "survivalmask = runparams[4] = 0x3        # selection 10,11: survival bit 0 determines if current plane used as well for nbs\n",
    "colorfunction = runparams[5] = 0         # color function 0-8\n",
    "initfield = runparams[6] = 150            # 1 init via 32x32 genepat.dat, n>1 init via nxn rand array\n",
    "nlog2pmut = simparams[0] = 8             # log2 gene mutation probability (0 or >56 means no mutation)\n",
    "initial1density = simparams[1] =  16384  # initial 1 density in GOL state\n",
    "initialrdensity = simparams[2] = 0       # initial density of random genes\n",
    "ncoding = simparams[3] = 0               # number of bits coding for functions\n",
    "startgenechoice = simparams[4] = 8       # initialize genes to startgene number 0-8 : 8 is random choice of 0-7\n",
    "\n",
    "genelife.initialize_planes(npoffsets)\n",
    "genelife.initialize(runparams,simparams)\n",
    "framenr = 0\n",
    "cnt=0\n",
    "show0()\n",
    "# step()\n",
    "run(g.nrun, g.ndisp, g.nskip, g.niter, g.nhist, g.nstat, False)"
   ]
  },
  {
   "cell_type": "markdown",
   "metadata": {},
   "source": [
    "## Selection 7 Neutral but different"
   ]
  },
  {
   "cell_type": "code",
   "execution_count": null,
   "metadata": {},
   "outputs": [],
   "source": [
    "# 7\n",
    "#  selection=7 with appropriate parameters for survival\n",
    "#  in this version selection is neutral, but fails if the sequences are the same\n",
    "nrun=1; ndisp=200; nskip=0; niter=1;       # simulation time stepping parameters\n",
    "nhist = 0                                # set to n to turn on histogram configurations every nth step\n",
    "nstat = 0                                # set to n to turn on statistics trace every nth step\n",
    "rulemod = runparams[0] = 1               # 0,1 whether to allow GoL rule modifications\n",
    "repscheme = runparams[1] = 3             # for selection 10 or 11, repscheme gives number of planes in simulation (0->16)\n",
    "selection = runparams[2] = 7             # fitness for 2 live neighbor rule : 0-6 see subgenelife.c code\n",
    "overwritemask = runparams[3]= 0x0        # mask of 2 bits to overwrite instead of survival for 3(bit0) or 2(bit1) live nbs\n",
    "survivalmask = runparams[4] = 0x3        # selection 10,11: survival bit 0 determines if current plane used as well for nbs\n",
    "colorfunction = runparams[5] = 0         # color function 0-8\n",
    "initfield = runparams[6] = 150            # 1 init via 32x32 genepat.dat, n>1 init via nxn rand array\n",
    "nlog2pmut = simparams[0] = 8             # log2 gene mutation probability (0 or >56 means no mutation)\n",
    "initial1density = simparams[1] =  16384  # initial 1 density in GOL state\n",
    "initialrdensity = simparams[2] = 0       # initial density of random genes\n",
    "ncoding = simparams[3] = 0               # number of bits coding for functions\n",
    "startgenechoice = simparams[4] = 8       # initialize genes to startgene number 0-8 : 8 is random choice of 0-7\n",
    "\n",
    "genelife.initialize_planes(npoffsets)\n",
    "genelife.initialize(runparams,simparams)\n",
    "framenr = 0\n",
    "cnt=0\n",
    "show0()\n",
    "# step()\n",
    "run(g.nrun, g.ndisp, g.nskip, g.niter, g.nhist, g.nstat, False)"
   ]
  },
  {
   "cell_type": "markdown",
   "metadata": {},
   "source": [
    "## Selection 8 Totalistic LUT encoded by gene (fixed length direct encoding)"
   ]
  },
  {
   "cell_type": "code",
   "execution_count": 6,
   "metadata": {},
   "outputs": [
    {
     "name": "stdout",
     "output_type": "stream",
     "text": [
      "birthmask changed to c\n",
      "birthmask changed to e\n",
      "birthmask changed to 1e\n",
      "birthmask changed to 1f\n",
      "survivalmask changed to 16\n",
      "survivalmask changed to 36\n",
      "survivalmask changed to 26\n",
      "survivalmask changed to 6\n",
      "birthmask changed to 1e\n",
      "birthmask changed to e\n",
      "birthmask changed to 6\n",
      "birthmask changed to 4\n",
      "birthmask changed to 6\n",
      "birthmask changed to 4\n"
     ]
    }
   ],
   "source": [
    "#  8 \n",
    "#  selection=8 sum totalistic LUT with appropriate parameters for survival and genes encoding LUt in fixed length direct encoding\n",
    "#  this case uses the genes to encode the totalistic (s dept) rule tables for birth and survival\n",
    "#  birth is determined by the and of the live neighbour genes (bits 8-15 for ncoding=1) ie genecode\n",
    "#  survival is determined the and of the live neighbour genes (bits 0-8 for ncoding=1) ie genecode\n",
    "#  in an alternative version (see commented line in update_lut_sum) survival is by the central live neighbour gene\n",
    "#  ncoding may be set (1-7) to require more bits of gene be 1 to turn on a rule\n",
    "g.nrun=1; g.ndisp=100; g.nskip=0; g.niter=1; # simulation time stepping parameters\n",
    "g.nhist = 0                                  # set to n to turn on histogram configurations every nth step\n",
    "g.nstat = 0                                  # set to n to turn on statistics trace every nth step\n",
    "g.rulemod = g.runparams[0] = 1               # 0,1 whether to allow GoL rule modifications\n",
    "                                             # with rulemod 1 2-live-nb birth, 3-live-nb non-birth & non-survival possible\n",
    "g.repscheme = g.runparams[1] = 0x660         # repscheme bit 3 (val 0x8) determines whether random choice of ancestor amongst live neighbours\n",
    "                                             # repscheme mod 8 i.e. 0-7 determines selection scheme based on gene\n",
    "                                             # 0 minimum gene as value  # 1 maximum gene as value\n",
    "                                             # 2 minimum number of ones # 3 maximum number of ones\n",
    "                                             # 4 neutral selection # 5 neutral but different selection\n",
    "                                             # 6 penalty function -1 for a survival rule -2 for a birth rule  # 7 not allowed\n",
    "g.selection = g.runparams[2] = 8             # fitness for 2 live neighbor rule : 0-6 see subgenelife.c code\n",
    "g.overwritemask = g.runparams[3] = 0         # mask of 2 bits to overwrite instead of survival for 3(bit0) or 2(bit1) live nbs\n",
    "                                             # for selection=9 this is the birth mask\n",
    "g.survivalmask = g.runparams[4] = 0x6        # GoL constraint if genes stay active\n",
    "g.birthmask = g.runparams[7] = 0x4           # GoL constraint if genes stay active \n",
    "g.colorfunction = g.runparams[5] = 1         # color function 0(hash), ≥1(fnal), 2 nongulstate or color gol planes, 3 notgolrul yellow\n",
    "                                             # 4 activities 5 genealogy steps 6 genealogy temporal 7 activity scaled colors\n",
    "g.initfield = g.runparams[6] = 100           # 1 init via 32x32 genepat.dat, n>1 init via nxn rand array\n",
    "g.nlog2pmut = g.simparams[0] = 7             # log2 gene mutation probability (0 or >56 means no mutation)\n",
    "g.initial1density = g.simparams[1] =  8192   # initial 1 density in GOL state\n",
    "                                             # 16384 = nearest to half of guaranteed C rand max value 32767 = 2**15 - 1\n",
    "g.initialrdensity = g.simparams[2] = 0       # initial density of random genes\n",
    "g.ncoding = g.simparams[3] = 0x2             # for selection 10, non zero value means grow plane community from 0\n",
    "                                             # otherwise (selection<10) no of bits used to encode valid connection functions 1-16\n",
    "                                             # for selection==8, lut, ncoding 1,2,3 bits per lut entry : 0 implies 3.\n",
    "g.startgenechoice = g.simparams[4] = 8       # initialize genes to startgene number 0-8 : 8 is random choice of 0-7\n",
    "\n",
    "g.genelife.initialize_planes(g.npoffsets)\n",
    "g.genelife.initialize(g.runparams,g.simparams)\n",
    "g.framenr = 0\n",
    "g.cnt=0\n",
    "g.show0()\n",
    "# g.step()\n",
    "g.run(g.nrun, g.ndisp, g.nskip, g.niter, g.nhist, g.nstat, False)"
   ]
  },
  {
   "cell_type": "markdown",
   "metadata": {},
   "source": [
    "## Selection 9 Totalistic LUT encoded by gene with variable length encoding"
   ]
  },
  {
   "cell_type": "code",
   "execution_count": null,
   "metadata": {},
   "outputs": [],
   "source": [
    "#  9 \n",
    "#  selection=9 sum totalistic LUT with appropriate parameters for survival and genes encoding LUT in variable length direct encoding\n",
    "#  this case uses the genes to encode the totalistic (s dept) rule tables for birth and survival\n",
    "#  birth rules are encoded as 1xxx where xxx is sum-1 of live neighbours and survival rules by 0xxx\n",
    "#  birth is determined by the existence of a 4-bit birth rule somewhere  in the live neighbour genes for current s=1-8\n",
    "#  survival is determined by the existence of a 4-bit survival rule somewhere  in the live neighbour genes for current s=1-8\n",
    "#  in an alternative version (see commented line in update_lut_sum) survival is by the central live neighbour gene\n",
    "#  ncoding may be set (1-7) to require more bits of gene be 1 to turn on a rule\n",
    "g.nrun=1; g.ndisp=1000; g.nskip=0; g.niter=1; # simulation time stepping parameters\n",
    "g.nhist = 0                                  # set to n to turn on histogram configurations every nth step\n",
    "g.nstat = 0                                  # set to n to turn on statistics trace every nth step\n",
    "g.rulemod = g.runparams[0] = 1               # 0,1 whether to allow GoL rule modifications\n",
    "                                             # with rulemod 1 2-live-nb birth, 3-live-nb non-birth & non-survival possible\n",
    "g.repscheme = g.runparams[1] = 0x660 \n",
    "g.selection = g.runparams[2] = 9             # fitness for 2 live neighbor rule : 0-6 see subgenelife.c code\n",
    "g.overwritemask = g.runparams[3] = 0         # mask of 2 bits to overwrite instead of survival for 3(bit0) or 2(bit1) live nbs\n",
    "                                             # for selection=9 this is the birth mask\n",
    "g.survivalmask = g.runparams[4] = 0x06       # 8 bit survival mask for allowing genes to modify LUTs\n",
    "g.birthmask = g.runparams[7] = 0x04          # 8 bit birth mask for allowing genes to modify LUTs\n",
    "g.colorfunction = g.runparams[5] = 0         # color function 0(hash), ≥1(fnal), 2 nongulstate or color gol planes, 3 notgolrul yellow\n",
    "                                             # 4 activities 5 genealogy steps 6 genealogy temporal 7 activity scaled colors\n",
    "g.initfield = g.runparams[6] = 150           # 1 init via 32x32 genepat.dat, n>1 init via nxn rand array\n",
    "g.nlog2pmut = g.simparams[0] = 7             # log2 gene mutation probability (0 or >56 means no mutation)\n",
    "g.initial1density = g.simparams[1] =  8192   # initial 1 density in GOL state\n",
    "                                             # 16384 = nearest to half of guaranteed C rand max value 32767 = 2**15 - 1\n",
    "g.initialrdensity = g.simparams[2] = 0       # initial density of random genes\n",
    "g.ncoding = g.simparams[3] = 0x1             # for selection 10, non zero value means grow plane community from 0\n",
    "                                             # otherwise (selection<10) no of bits used to encode valid connection functions 1-16\n",
    "                                             # for selection==8, lut, ncoding 1,2,3 bits per lut entry : 0 implies 3.\n",
    "g.startgenechoice = g.simparams[4] = 8       # initialize genes to startgene number 0-8 : 8 is random choice of 0-7\n",
    "\n",
    "g.genelife.initialize_planes(g.npoffsets)\n",
    "g.genelife.initialize(g.runparams,g.simparams)\n",
    "g.framenr = 0\n",
    "g.cnt=0\n",
    "g.show0()\n",
    "# step()\n",
    "g.run(g.nrun, g.ndisp, g.nskip, g.niter, g.nhist, g.nstat, False)"
   ]
  },
  {
   "cell_type": "markdown",
   "metadata": {},
   "source": [
    "### Stable population with occasional propagating waves"
   ]
  },
  {
   "cell_type": "markdown",
   "metadata": {},
   "source": [
    "* genetically stable population (high flying waves) with room for lots of lower waves.\n",
    "* propagating fronts look a little like reaction diffusion fronts.  \n",
    "* propagating fronts may diminish after long time (> ~10k steps)"
   ]
  },
  {
   "cell_type": "code",
   "execution_count": 47,
   "metadata": {},
   "outputs": [
    {
     "name": "stdout",
     "output_type": "stream",
     "text": [
      "survivalmask changed to 3\n"
     ]
    }
   ],
   "source": [
    "#  9 \n",
    "#  selection=9 sum totalistic LUT with appropriate parameters for survival and genes encoding LUT in variable length direct encoding\n",
    "#  this case uses the genes to encode the totalistic (s dept) rule tables for birth and survival\n",
    "#  birth rules are encoded as 1xxx where xxx is sum-1 of live neighbours and survival rules by 0xxx\n",
    "#  birth is determined by the existence of a 4-bit birth rule somewhere  in the live neighbour genes for current s=1-8\n",
    "#  survival is determined by the existence of a 4-bit survival rule somewhere  in the live neighbour genes for current s=1-8\n",
    "#  in an alternative version (see commented line in update_lut_sum) survival is by the central live neighbour gene\n",
    "#  ncoding may be set (1-7) to require more bits of gene be 1 to turn on a rule\n",
    "g.nrun=1; g.ndisp=1000; g.nskip=0; g.niter=1; # simulation time stepping parameters\n",
    "g.nhist = 0                                  # set to n to turn on histogram configurations every nth step\n",
    "g.nstat = 0                                  # set to n to turn on statistics trace every nth step\n",
    "g.rulemod = g.runparams[0] = 1               # 0,1 whether to allow GoL rule modifications\n",
    "                                             # with rulemod 1 2-live-nb birth, 3-live-nb non-birth & non-survival possible\n",
    "g.repscheme = g.runparams[1] = 0x660 \n",
    "g.selection = g.runparams[2] = 9             # fitness for 2 live neighbor rule : 0-6 see subgenelife.c code\n",
    "g.overwritemask = g.runparams[3] = 0         # mask of 2 bits to overwrite instead of survival for 3(bit0) or 2(bit1) live nbs\n",
    "                                             # for selection=9 this is the birth mask\n",
    "g.survivalmask = g.runparams[4] = 0x01       # 8 bit survival mask for allowing genes to modify LUTs\n",
    "g.birthmask = g.runparams[7] = 0x0d          # 8 bit birth mask for allowing genes to modify LUTs\n",
    "g.colorfunction = g.runparams[5] = 0         # color function 0(hash), ≥1(fnal), 2 nongulstate or color gol planes, 3 notgolrul yellow\n",
    "                                             # 4 activities 5 genealogy steps 6 genealogy temporal 7 activity scaled colors\n",
    "g.initfield = g.runparams[6] = 150           # 1 init via 32x32 genepat.dat, n>1 init via nxn rand array\n",
    "g.nlog2pmut = g.simparams[0] = 7             # log2 gene mutation probability (0 or >56 means no mutation)\n",
    "g.initial1density = g.simparams[1] =  10000   # initial 1 density in GOL state\n",
    "                                             # 16384 = nearest to half of guaranteed C rand max value 32767 = 2**15 - 1\n",
    "g.initialrdensity = g.simparams[2] = 10000       # initial density of random genes\n",
    "g.ncoding = g.simparams[3] = 0x1             # for selection 10, non zero value means grow plane community from 0\n",
    "                                             # otherwise (selection<10) no of bits used to encode valid connection functions 1-16\n",
    "                                             # for selection==8, lut, ncoding 1,2,3 bits per lut entry : 0 implies 3.\n",
    "g.startgenechoice = g.simparams[4] = 2       # initialize genes to startgene number 0-8 : 8 is random choice of 0-7\n",
    "\n",
    "g.genelife.initialize_planes(g.npoffsets)\n",
    "g.genelife.initialize(g.runparams,g.simparams)\n",
    "g.framenr = 0\n",
    "g.cnt=0\n",
    "g.show0()\n",
    "# step()\n",
    "g.run(g.nrun, g.ndisp, g.nskip, g.niter, g.nhist, g.nstat, False)"
   ]
  },
  {
   "cell_type": "markdown",
   "metadata": {},
   "source": [
    "### Asymptotic dynamics with 2 time scales"
   ]
  },
  {
   "cell_type": "markdown",
   "metadata": {},
   "source": [
    "* slow time scale: quasi-static islands\n",
    "* fast time scale: fast dynamics in between the islands, gradually changing island boundaries.\n",
    "* mess with `survivalmask` to change nature of islands (e.g. `0xd`, `0x1d`)\n",
    "* seems to be ongoing evolution on both time scales.\n",
    "* at `t=25000`, hit `Expanding hash table items at table count 262144`"
   ]
  },
  {
   "cell_type": "code",
   "execution_count": 48,
   "metadata": {},
   "outputs": [
    {
     "name": "stdout",
     "output_type": "stream",
     "text": [
      "survivalmask changed to 7\n",
      "survivalmask changed to 3\n",
      "survivalmask changed to 7\n",
      "survivalmask changed to 5\n",
      "survivalmask changed to d\n",
      "survivalmask changed to 1d\n"
     ]
    }
   ],
   "source": [
    "#  9 \n",
    "#  selection=9 sum totalistic LUT with appropriate parameters for survival and genes encoding LUT in variable length direct encoding\n",
    "#  this case uses the genes to encode the totalistic (s dept) rule tables for birth and survival\n",
    "#  birth rules are encoded as 1xxx where xxx is sum-1 of live neighbours and survival rules by 0xxx\n",
    "#  birth is determined by the existence of a 4-bit birth rule somewhere  in the live neighbour genes for current s=1-8\n",
    "#  survival is determined by the existence of a 4-bit survival rule somewhere  in the live neighbour genes for current s=1-8\n",
    "#  in an alternative version (see commented line in update_lut_sum) survival is by the central live neighbour gene\n",
    "#  ncoding may be set (1-7) to require more bits of gene be 1 to turn on a rule\n",
    "g.nrun=1; g.ndisp=1000; g.nskip=0; g.niter=1; # simulation time stepping parameters\n",
    "g.nhist = 0                                  # set to n to turn on histogram configurations every nth step\n",
    "g.nstat = 0                                  # set to n to turn on statistics trace every nth step\n",
    "g.rulemod = g.runparams[0] = 1               # 0,1 whether to allow GoL rule modifications\n",
    "                                             # with rulemod 1 2-live-nb birth, 3-live-nb non-birth & non-survival possible\n",
    "g.repscheme = g.runparams[1] = 0x660 \n",
    "g.selection = g.runparams[2] = 9             # fitness for 2 live neighbor rule : 0-6 see subgenelife.c code\n",
    "g.overwritemask = g.runparams[3] = 0         # mask of 2 bits to overwrite instead of survival for 3(bit0) or 2(bit1) live nbs\n",
    "                                             # for selection=9 this is the birth mask\n",
    "g.survivalmask = g.runparams[4] = 0x03       # 8 bit survival mask for allowing genes to modify LUTs\n",
    "g.birthmask = g.runparams[7] = 0x0d          # 8 bit birth mask for allowing genes to modify LUTs\n",
    "g.colorfunction = g.runparams[5] = 0         # color function 0(hash), ≥1(fnal), 2 nongulstate or color gol planes, 3 notgolrul yellow\n",
    "                                             # 4 activities 5 genealogy steps 6 genealogy temporal 7 activity scaled colors\n",
    "g.initfield = g.runparams[6] = 150           # 1 init via 32x32 genepat.dat, n>1 init via nxn rand array\n",
    "g.nlog2pmut = g.simparams[0] = 7             # log2 gene mutation probability (0 or >56 means no mutation)\n",
    "g.initial1density = g.simparams[1] =  10000   # initial 1 density in GOL state\n",
    "                                             # 16384 = nearest to half of guaranteed C rand max value 32767 = 2**15 - 1\n",
    "g.initialrdensity = g.simparams[2] = 10000       # initial density of random genes\n",
    "g.ncoding = g.simparams[3] = 0x1             # for selection 10, non zero value means grow plane community from 0\n",
    "                                             # otherwise (selection<10) no of bits used to encode valid connection functions 1-16\n",
    "                                             # for selection==8, lut, ncoding 1,2,3 bits per lut entry : 0 implies 3.\n",
    "g.startgenechoice = g.simparams[4] = 2       # initialize genes to startgene number 0-8 : 8 is random choice of 0-7\n",
    "\n",
    "g.genelife.initialize_planes(g.npoffsets)\n",
    "g.genelife.initialize(g.runparams,g.simparams)\n",
    "g.framenr = 0\n",
    "g.cnt=0\n",
    "g.show0()\n",
    "# step()\n",
    "g.run(g.nrun, g.ndisp, g.nskip, g.niter, g.nhist, g.nstat, False)"
   ]
  },
  {
   "cell_type": "code",
   "execution_count": 49,
   "metadata": {},
   "outputs": [],
   "source": [
    "g.run(g.nrun, g.ndisp, g.nskip, g.niter, g.nhist, g.nstat, False)"
   ]
  },
  {
   "cell_type": "markdown",
   "metadata": {},
   "source": [
    "### Long interesting transient"
   ]
  },
  {
   "cell_type": "markdown",
   "metadata": {},
   "source": [
    "Ends with interesting variegated static cruft, with evolutionarily stable dynamics between."
   ]
  },
  {
   "cell_type": "code",
   "execution_count": 46,
   "metadata": {},
   "outputs": [],
   "source": [
    "#  9 \n",
    "#  selection=9 sum totalistic LUT with appropriate parameters for survival and genes encoding LUT in variable length direct encoding\n",
    "#  this case uses the genes to encode the totalistic (s dept) rule tables for birth and survival\n",
    "#  birth rules are encoded as 1xxx where xxx is sum-1 of live neighbours and survival rules by 0xxx\n",
    "#  birth is determined by the existence of a 4-bit birth rule somewhere  in the live neighbour genes for current s=1-8\n",
    "#  survival is determined by the existence of a 4-bit survival rule somewhere  in the live neighbour genes for current s=1-8\n",
    "#  in an alternative version (see commented line in update_lut_sum) survival is by the central live neighbour gene\n",
    "#  ncoding may be set (1-7) to require more bits of gene be 1 to turn on a rule\n",
    "g.nrun=1; g.ndisp=1000; g.nskip=0; g.niter=1; # simulation time stepping parameters\n",
    "g.nhist = 0                                  # set to n to turn on histogram configurations every nth step\n",
    "g.nstat = 0                                  # set to n to turn on statistics trace every nth step\n",
    "g.rulemod = g.runparams[0] = 1               # 0,1 whether to allow GoL rule modifications\n",
    "                                             # with rulemod 1 2-live-nb birth, 3-live-nb non-birth & non-survival possible\n",
    "g.repscheme = g.runparams[1] = 0x660 \n",
    "g.selection = g.runparams[2] = 9             # fitness for 2 live neighbor rule : 0-6 see subgenelife.c code\n",
    "g.overwritemask = g.runparams[3] = 0         # mask of 2 bits to overwrite instead of survival for 3(bit0) or 2(bit1) live nbs\n",
    "                                             # for selection=9 this is the birth mask\n",
    "g.survivalmask = g.runparams[4] = 0xff       # 8 bit survival mask for allowing genes to modify LUTs\n",
    "g.birthmask = g.runparams[7] = 0x0a          # 8 bit birth mask for allowing genes to modify LUTs\n",
    "g.colorfunction = g.runparams[5] = 0         # color function 0(hash), ≥1(fnal), 2 nongulstate or color gol planes, 3 notgolrul yellow\n",
    "                                             # 4 activities 5 genealogy steps 6 genealogy temporal 7 activity scaled colors\n",
    "g.initfield = g.runparams[6] = 150           # 1 init via 32x32 genepat.dat, n>1 init via nxn rand array\n",
    "g.nlog2pmut = g.simparams[0] = 7             # log2 gene mutation probability (0 or >56 means no mutation)\n",
    "g.initial1density = g.simparams[1] =  10000   # initial 1 density in GOL state\n",
    "                                             # 16384 = nearest to half of guaranteed C rand max value 32767 = 2**15 - 1\n",
    "g.initialrdensity = g.simparams[2] = 10000       # initial density of random genes\n",
    "g.ncoding = g.simparams[3] = 0x1             # for selection 10, non zero value means grow plane community from 0\n",
    "                                             # otherwise (selection<10) no of bits used to encode valid connection functions 1-16\n",
    "                                             # for selection==8, lut, ncoding 1,2,3 bits per lut entry : 0 implies 3.\n",
    "g.startgenechoice = g.simparams[4] = 2       # initialize genes to startgene number 0-8 : 8 is random choice of 0-7\n",
    "\n",
    "g.genelife.initialize_planes(g.npoffsets)\n",
    "g.genelife.initialize(g.runparams,g.simparams)\n",
    "g.framenr = 0\n",
    "g.cnt=0\n",
    "g.show0()\n",
    "# step()\n",
    "g.run(g.nrun, g.ndisp, g.nskip, g.niter, g.nhist, g.nstat, False)"
   ]
  },
  {
   "cell_type": "code",
   "execution_count": null,
   "metadata": {},
   "outputs": [],
   "source": []
  },
  {
   "cell_type": "markdown",
   "metadata": {},
   "source": [
    "## Selection 10 Distance distinguishing LUT encoded by gene with fixed length positional encoding"
   ]
  },
  {
   "cell_type": "code",
   "execution_count": null,
   "metadata": {},
   "outputs": [],
   "source": [
    "# 10\n",
    "#  selection=10 LUT with appropriate parameters for survival\n",
    "#  this case uses the genes to encode the se (number of live edge-centred sites) and s dept rule tables for birth and survival\n",
    "#  a fixed positional encoding is used in the gene with 1 bit per valid s,se combination\n",
    "#  there are 1,2,3,4,5,4,3,2,1 configurations of se for s=0-8. Only 23 cases s=1-7 are lut allowed non-zero.\n",
    "#  birth is determined by the and of the live neighbour genes (and 23 bits of birthmask) ie genecode\n",
    "#  survival is determined the and of the live neighbour genes (and 23 bits of survivalmask) ie genecode\n",
    "#  ncoding not used : only space for 1 bit per lut entry\n",
    "#  this example starts with only allowing GoL configurations : extend by adding more bits to survival and birth masks\n",
    "g.nrun=1; g.ndisp=1000; g.nskip=0; g.niter=1;# simulation time stepping parameters\n",
    "g.nhist = 0                                  # set to n to turn on histogram configurations every nth step\n",
    "g.nstat = 0                                  # set to n to turn on statistics trace every nth step\n",
    "g.rulemod = g.runparams[0] = 1               # 0,1 whether to allow GoL rule modifications\n",
    "                                             # with rulemod 1 2-live-nb birth, 3-live-nb non-birth & non-survival possible\n",
    "g.repscheme = g.runparams[1] = 0x640         # repscheme bit 3 (val 0x8) determines whether random choice of ancestor amongst live neighbours\n",
    "                                             # repscheme mod 8 i.e. 0-7 determines selection scheme based on gene\n",
    "                                             # 0 minimum gene as value  # 1 maximum gene as value\n",
    "                                             # 2 minimum number of ones # 3 maximum number of ones\n",
    "                                             # 4 neutral selection # 5 neutral but different selection\n",
    "                                             # 6 penalty function -1 for a survival rule -2 for a birth rule  # 7 not allowed \n",
    "g.selection     = g.runparams[2] = 10        # fitness for 2 live neighbor rule : 0-6 see subgenelife.c code\n",
    "g.overwritemask = g.runparams[3] = 0x00\n",
    "g.birthmask    = g.runparams[7] = 0x000001e0 # for selection=8-13 this is the GoL birth mask\n",
    "g.survivalmask = g.runparams[4] = 0x000001fc # for selection=10-11 this is the GoL survival mask\n",
    "g.colorfunction = g.runparams[5] = 0         # color function 0(hash), ≥1(fnal), 2 nongulstate or color gol planes, 3 notgolrul yellow\n",
    "                                             # 4 activities 5 genealogy steps 6 genealogy temporal 7 activity scaled colors\n",
    "g.initfield = g.runparams[6] = 100           # 1 init via 32x32 genepat.dat, n>1 init via nxn rand array\n",
    "g.nlog2pmut = g.simparams[0] = 8             # log2 gene mutation probability (0 or >56 means no mutation)\n",
    "g.initial1density = g.simparams[1] =  16384  # initial 1 density in GOL state\n",
    "                                             # 16384 = nearest to half of guaranteed C rand max value 32767 = 2**15 - 1\n",
    "g.initialrdensity = g.simparams[2] = 0       # initial density of random genes\n",
    "g.ncoding = g.simparams[3] = 0               # for selection 10, non zero value means grow plane community from 0\n",
    "                                             # otherwise (selection<10) no of bits used to encode valid connection functions 1-16\n",
    "                                             # for selection==8, lut, ncoding 1,2,3 bits per lut entry : 0 implies 3.\n",
    "g.startgenechoice = g.simparams[4] = 8       # initialize genes to startgene number 0-8 : 8 is random choice of 0-7\n",
    "\n",
    "g.genelife.initialize_planes(g.npoffsets)\n",
    "g.genelife.initialize(g.runparams,g.simparams)\n",
    "g.framenr = 0\n",
    "g.cnt=0\n",
    "g.show0()\n",
    "#g.step(True)\n",
    "g.run(g.nrun, g.ndisp, g.nskip, g.niter, g.nhist, g.nstat, False)"
   ]
  },
  {
   "cell_type": "markdown",
   "metadata": {},
   "source": [
    "## Selection 11 Distance distinguishing LUT encoded by gene with variable length encoding"
   ]
  },
  {
   "cell_type": "code",
   "execution_count": 2,
   "metadata": {},
   "outputs": [
    {
     "name": "stdout",
     "output_type": "stream",
     "text": [
      "randomsoup changed to  1\n",
      "birthmask changed to 7c\n",
      "birthmask changed to 78\n",
      "randomsoup changed to  0\n",
      "survivalmask changed to 3f\n"
     ]
    }
   ],
   "source": [
    "# 11\n",
    "#  selection=11 LUT with appropriate parameters for survival\n",
    "#  this case uses the genes to encode the se (number of live edge-centred sites) and s dept rule tables for birth and survival\n",
    "#  a variable length encoding is used in the gene with 4+4 bits, 4-bits for the survival and birth s value as in 8, and 4 bits for the se value\n",
    "#  there are 1,2,3,4,5,4,3,2,1 configurations of se for s=0-8. Only 19 cases s=2-6 are lut allowed non-zero.\n",
    "#  birth is determined by the and of the live neighbour genes (and 19 bits of overwritemask) ie genecode\n",
    "#  survival is determined the and of the live neighbour genes (and 19 bits of survivalmask) ie genecode\n",
    "#  ncoding not used : only space for 1 bit per lut entry\n",
    "#  this example starts with only allowing GoL configurations : extend by adding more bits to survival and birth masks\n",
    "g.nrun=1; g.ndisp=1000; g.nskip=0; g.niter=1;# simulation time stepping parameters\n",
    "g.nhist = 0                                  # set to n to turn on histogram configurations every nth step\n",
    "g.nstat = 0                                  # set to n to turn on statistics trace every nth step\n",
    "g.rulemod = g.runparams[0] = 1               # 0,1 whether to allow GoL rule modifications\n",
    "                                             # with rulemod 1 2-live-nb birth, 3-live-nb non-birth & non-survival possible\n",
    "g.repscheme = g.runparams[1] = 0x110         # repscheme bit 3 (val 0x8) determines whether random choice of ancestor amongst live neighbours\n",
    "                                             # repscheme mod 8 i.e. 0-7 determines selection scheme based on gene\n",
    "                                             # 0 minimum gene as value  # 1 maximum gene as value\n",
    "                                             # 2 minimum number of ones # 3 maximum number of ones\n",
    "                                             # 4 neutral selection # 5 neutral but different selection\n",
    "                                             # 6 penalty function -1 for a survival rule -2 for a birth rule  # 7 not allowed \n",
    "g.selection     = g.runparams[2] = 11        # fitness for 2 live neighbor rule : 0-6 see subgenelife.c code\n",
    "g.overwritemask = g.runparams[3] = 0x00\n",
    "g.birthmask    = g.runparams[7] = 0x00000078 # for selection=8-13 this is the GoL birth mask\n",
    "g.survivalmask = g.runparams[4] = 0x0000007f # for selection=10-11 this is the GoL survival mask\n",
    "g.colorfunction = g.runparams[5] = 0         # color function 0(hash), ≥1(fnal), 2 nongulstate or color gol planes, 3 notgolrul yellow\n",
    "                                             # 4 activities 5 genealogy steps 6 genealogy temporal 7 activity scaled colors\n",
    "g.initfield = g.runparams[6] = 100           # 1 init via 32x32 genepat.dat, n>1 init via nxn rand array\n",
    "g.nlog2pmut = g.simparams[0] = 8             # log2 gene mutation probability (0 or >56 means no mutation)\n",
    "g.initial1density = g.simparams[1] =  16384  # initial 1 density in GOL state\n",
    "                                             # 16384 = nearest to half of guaranteed C rand max value 32767 = 2**15 - 1\n",
    "g.initialrdensity = g.simparams[2] = 0       # initial density of random genes\n",
    "g.ncoding = g.simparams[3] = 0               # for selection 10, non zero value means grow plane community from 0\n",
    "                                             # otherwise (selection<10) no of bits used to encode valid connection functions 1-16\n",
    "                                             # for selection==8, lut, ncoding 1,2,3 bits per lut entry : 0 implies 3.\n",
    "g.startgenechoice = g.simparams[4] = 8       # initialize genes to startgene number 0-8 : 8 is random choice of 0-7\n",
    "\n",
    "g.genelife.initialize_planes(g.npoffsets)\n",
    "g.genelife.initialize(g.runparams,g.simparams)\n",
    "g.framenr = 0\n",
    "g.cnt=0\n",
    "g.show0()\n",
    "# step()\n",
    "g.run(g.nrun, g.ndisp, g.nskip, g.niter, g.nhist, g.nstat, False)"
   ]
  },
  {
   "cell_type": "markdown",
   "metadata": {},
   "source": [
    "### Long evolving transient to sea of simple gliders"
   ]
  },
  {
   "cell_type": "markdown",
   "metadata": {},
   "source": [
    "* Initial condition density critical to get a seed that doesn't die.\n",
    "* Final state seems evolutionarily stable (invasions of mutations are very rare, new waves die out).\n",
    "* Even \"R\" periodic perturbation does not perturb final state, genetically.  In \n",
    "fact, it seems to stabilize it.\n",
    "* Final state has 1-d fractal triangle space time cross section (see below).\n",
    "\n",
    "**Could the interacting gliders be \"performing a computation\"?  If yes, we have a case of evolution to computation.**"
   ]
  },
  {
   "cell_type": "code",
   "execution_count": 29,
   "metadata": {},
   "outputs": [
    {
     "name": "stdout",
     "output_type": "stream",
     "text": [
      "new ymax = 5000\n",
      "new ymax = 2500\n",
      "new ymax = 1250\n",
      "new ymax = 625\n",
      "new ymax = 1250\n",
      "new ymax = 2500\n",
      "new ymax = 5000\n",
      "new ymax = 10000\n",
      "birthmask changed to 1f8\n",
      "birthmask changed to 3f8\n",
      "birthmask changed to 7f8\n",
      "birthmask changed to ff8\n",
      "birthmask changed to ffc\n",
      "birthmask changed to ff8\n",
      "birthmask changed to ffa\n",
      "birthmask changed to ff8\n",
      "birthmask changed to 7f8\n",
      "birthmask changed to 3f8\n",
      "birthmask changed to 1f8\n",
      "birthmask changed to f8\n",
      "birthmask changed to f9\n",
      "birthmask changed to f8\n",
      "birthmask changed to fa\n",
      "birthmask changed to f8\n",
      "birthmask changed to fc\n",
      "birthmask changed to f8\n",
      "survivalmask changed to 7f\n",
      "survivalmask changed to ff\n",
      "survivalmask changed to 1ff\n",
      "survivalmask changed to 3ff\n",
      "survivalmask changed to 7ff\n",
      "survivalmask changed to fff\n",
      "survivalmask changed to 1fff\n",
      "survivalmask changed to 3fff\n",
      "survivalmask changed to 7fff\n",
      "survivalmask changed to ffff\n",
      "survivalmask changed to 1ffff\n",
      "survivalmask changed to 3ffff\n",
      "survivalmask changed to 7ffff\n",
      "survivalmask changed to 3ffff\n",
      "survivalmask changed to 7ffff\n",
      "survivalmask changed to fffff\n",
      "survivalmask changed to 1fffff\n",
      "survivalmask changed to fffff\n",
      "randomsoup changed to  1\n",
      "randomsoup changed to  0\n",
      "randomsoup changed to  1\n",
      "randomsoup changed to  0\n",
      "randomsoup changed to  1\n",
      "randomsoup changed to  0\n",
      "randomsoup changed to  1\n",
      "randomsoup changed to  0\n",
      "randomsoup changed to  1\n",
      "randomsoup changed to  0\n",
      "randomsoup changed to  1\n",
      "randomsoup changed to  0\n",
      "randomsoup changed to  1\n",
      "randomsoup changed to  0\n",
      "randomsoup changed to  1\n",
      "randomsoup changed to  0\n",
      "birthmask changed to 1f8\n",
      "birthmask changed to 1fc\n",
      "birthmask changed to 1fe\n",
      "randomsoup changed to  1\n",
      "randomsoup changed to  0\n",
      "birthmask changed to 3fe\n",
      "birthmask changed to 7fe\n",
      "birthmask changed to ffe\n",
      "birthmask changed to 1ffe\n",
      "birthmask changed to 3ffe\n",
      "randomsoup changed to  1\n",
      "randomsoup changed to  0\n",
      "birthmask changed to 7ffe\n",
      "birthmask changed to 3ffe\n",
      "birthmask changed to 7ffe\n",
      "birthmask changed to 7fff\n",
      "survivalmask changed to 4fffff\n",
      "survivalmask changed to 6fffff\n",
      "survivalmask changed to 7fffff\n",
      "randomsoup changed to  1\n",
      "randomsoup changed to  0\n",
      "randomsoup changed to  1\n",
      "randomsoup changed to  0\n",
      "randomsoup changed to  1\n",
      "randomsoup changed to  0\n",
      "survivalmask changed to 3fffff\n",
      "survivalmask changed to 7fffff\n",
      "birthmask changed to 3fff\n",
      "birthmask changed to 7fff\n"
     ]
    }
   ],
   "source": [
    "# 11\n",
    "#  selection=11 LUT with appropriate parameters for survival\n",
    "#  this case uses the genes to encode the se (number of live edge-centred sites) and s dept rule tables for birth and survival\n",
    "#  a variable length encoding is used in the gene with 4+4 bits, 4-bits for the survival and birth s value as in 8, and 4 bits for the se value\n",
    "#  there are 1,2,3,4,5,4,3,2,1 configurations of se for s=0-8. Only 19 cases s=2-6 are lut allowed non-zero.\n",
    "#  birth is determined by the and of the live neighbour genes (and 19 bits of overwritemask) ie genecode\n",
    "#  survival is determined the and of the live neighbour genes (and 19 bits of survivalmask) ie genecode\n",
    "#  ncoding not used : only space for 1 bit per lut entry\n",
    "#  this example starts with only allowing GoL configurations : extend by adding more bits to survival and birth masks\n",
    "g.nrun=1; g.ndisp=1000; g.nskip=0; g.niter=1;# simulation time stepping parameters\n",
    "g.nhist = 0                                  # set to n to turn on histogram configurations every nth step\n",
    "g.nstat = 0                                  # set to n to turn on statistics trace every nth step\n",
    "g.rulemod = g.runparams[0] = 1               # 0,1 whether to allow GoL rule modifications\n",
    "                                             # with rulemod 1 2-live-nb birth, 3-live-nb non-birth & non-survival possible\n",
    "g.repscheme = g.runparams[1] = 0x110         # repscheme bit 3 (val 0x8) determines whether random choice of ancestor amongst live neighbours\n",
    "                                             # repscheme mod 8 i.e. 0-7 determines selection scheme based on gene\n",
    "                                             # 0 minimum gene as value  # 1 maximum gene as value\n",
    "                                             # 2 minimum number of ones # 3 maximum number of ones\n",
    "                                             # 4 neutral selection # 5 neutral but different selection\n",
    "                                             # 6 penalty function -1 for a survival rule -2 for a birth rule  # 7 not allowed \n",
    "g.selection     = g.runparams[2] = 11        # fitness for 2 live neighbor rule : 0-6 see subgenelife.c code\n",
    "g.overwritemask = g.runparams[3] = 0x00\n",
    "g.birthmask    = g.runparams[7] = 0x000000f8 # for selection=8-13 this is the GoL birth mask\n",
    "g.survivalmask = g.runparams[4] = 0x0000003f # for selection=10-11 this is the GoL survival mask\n",
    "g.colorfunction = g.runparams[5] = 0         # color function 0(hash), ≥1(fnal), 2 nongulstate or color gol planes, 3 notgolrul yellow\n",
    "                                             # 4 activities 5 genealogy steps 6 genealogy temporal 7 activity scaled colors\n",
    "g.initfield = g.runparams[6] = 256           # 1 init via 32x32 genepat.dat, n>1 init via nxn rand array\n",
    "g.nlog2pmut = g.simparams[0] = 8             # log2 gene mutation probability (0 or >56 means no mutation)\n",
    "g.initial1density = g.simparams[1] =  10000  # initial 1 density in GOL state\n",
    "                                             # 16384 = nearest to half of guaranteed C rand max value 32767 = 2**15 - 1\n",
    "g.initialrdensity = g.simparams[2] = 10000       # initial density of random genes\n",
    "g.ncoding = g.simparams[3] = 0               # for selection 10, non zero value means grow plane community from 0\n",
    "                                             # otherwise (selection<10) no of bits used to encode valid connection functions 1-16\n",
    "                                             # for selection==8, lut, ncoding 1,2,3 bits per lut entry : 0 implies 3.\n",
    "g.startgenechoice = g.simparams[4] = 7       # initialize genes to startgene number 0-8 : 8 is random choice of 0-7\n",
    "\n",
    "g.genelife.initialize_planes(g.npoffsets)\n",
    "g.genelife.initialize(g.runparams,g.simparams)\n",
    "g.framenr = 0\n",
    "g.cnt=0\n",
    "g.show0()\n",
    "# step()\n",
    "g.run(g.nrun, g.ndisp, g.nskip, g.niter, g.nhist, g.nstat, False)"
   ]
  },
  {
   "cell_type": "code",
   "execution_count": 21,
   "metadata": {},
   "outputs": [],
   "source": [
    "g.genelife.get_curgol(g.gol)\n",
    "cnt = range(g.N)\n",
    "for i in range(g.N):\n",
    "    cnt[i] = sum([g.gol[(i*g.N)+j] for j in range(g.N)])"
   ]
  },
  {
   "cell_type": "code",
   "execution_count": 22,
   "metadata": {},
   "outputs": [],
   "source": [
    "foo = [(i,cnt[i]) for i in range(g.N) if cnt[i] == max(cnt)]\n",
    "\n",
    "myrow = foo[0][0]\n",
    "for i in range(g.N):\n",
    "    g.genelife.get_curgol(g.gol)\n",
    "    for j in range(g.N):\n",
    "        if g.gol[(g.N*myrow)+j]==1:\n",
    "            g.cgrid[i][j] = 1\n",
    "        else:\n",
    "            g.cgrid[i][j] = 0\n",
    "    g.genelife.genelife_update(1,0,0)\n",
    "    "
   ]
  },
  {
   "cell_type": "code",
   "execution_count": 23,
   "metadata": {},
   "outputs": [
    {
     "name": "stdout",
     "output_type": "stream",
     "text": [
      "Number of labels: 257\n"
     ]
    },
    {
     "data": {
      "image/png": "[encoded data removed]",
      "text/plain": [
       "<matplotlib.figure.Figure at 0x1076982d0>"
      ]
     },
     "metadata": {},
     "output_type": "display_data"
    },
    {
     "data": {
      "image/png": "[encoded data removed]",
      "text/plain": [
       "<matplotlib.figure.Figure at 0x107698710>"
      ]
     },
     "metadata": {},
     "output_type": "display_data"
    }
   ],
   "source": [
    "%matplotlib inline\n",
    "\n",
    "my_dpi=96\n",
    "my_cmap = g.rand_cmap(257, type='bright', first_color_black=True, last_color_black=False)\n",
    "\n",
    "fig, ax = g.plt.subplots(figsize=((3*256)/my_dpi, (3*256)/my_dpi), dpi=my_dpi, frameon=False)\n",
    "ax.axis('off')\n",
    "# mat = ax.matshow(cgrid, cmap=my_cmap, vmin=0.01, vmax=257)  # was vmax = LEN+1\n",
    "mat = ax.matshow(g.cgrid, cmap=my_cmap, vmin = 0, vmax = 56)\n",
    "g.plt.show()"
   ]
  },
  {
   "cell_type": "code",
   "execution_count": 27,
   "metadata": {},
   "outputs": [
    {
     "data": {
      "text/plain": [
       "['Height',\n",
       " 'ListedColormap',\n",
       " 'N',\n",
       " 'N2',\n",
       " 'NbP',\n",
       " 'Nmask',\n",
       " 'Width',\n",
       " '__builtins__',\n",
       " '__doc__',\n",
       " '__file__',\n",
       " '__name__',\n",
       " '__package__',\n",
       " 'animation',\n",
       " 'birthmask',\n",
       " 'cancol',\n",
       " 'cancolors',\n",
       " 'caption',\n",
       " 'cgolg',\n",
       " 'cgrid',\n",
       " 'cnt',\n",
       " 'colorfunction',\n",
       " 'colorgrid',\n",
       " 'dispinit',\n",
       " 'display_init',\n",
       " 'displayoneplane',\n",
       " 'displayplanes',\n",
       " 'flatoff',\n",
       " 'framenr',\n",
       " 'genelife',\n",
       " 'gogo',\n",
       " 'gol',\n",
       " 'golg',\n",
       " 'golgstats',\n",
       " 'histo',\n",
       " 'init_button_arrays',\n",
       " 'init_buttons',\n",
       " 'initfield',\n",
       " 'initial1density',\n",
       " 'initialrdensity',\n",
       " 'log2N',\n",
       " 'mat',\n",
       " 'matplotlib',\n",
       " 'maxPlane',\n",
       " 'mouseclicked',\n",
       " 'mouseclicked2',\n",
       " 'mpcolors',\n",
       " 'mytest',\n",
       " 'ncanon',\n",
       " 'ncoding',\n",
       " 'ndisp',\n",
       " 'nhist',\n",
       " 'niter',\n",
       " 'nlog2pmut',\n",
       " 'np',\n",
       " 'npoffsets',\n",
       " 'nrun',\n",
       " 'nskip',\n",
       " 'nstat',\n",
       " 'numHis',\n",
       " 'offdt',\n",
       " 'offdx',\n",
       " 'offdy',\n",
       " 'offsets',\n",
       " 'oldymax',\n",
       " 'overwritemask',\n",
       " 'packrepscheme',\n",
       " 'paramdat',\n",
       " 'parhelp',\n",
       " 'pause',\n",
       " 'pg',\n",
       " 'pixeldat',\n",
       " 'plt',\n",
       " 'quadrants',\n",
       " 'rand_cmap',\n",
       " 'randomsoup',\n",
       " 'repscheme',\n",
       " 'rulemod',\n",
       " 'run',\n",
       " 'runparams',\n",
       " 'savecnt',\n",
       " 'scalex2',\n",
       " 'scr',\n",
       " 'screen',\n",
       " 'selection',\n",
       " 'show0',\n",
       " 'simparams',\n",
       " 'startgenechoice',\n",
       " 'step',\n",
       " 'sublist',\n",
       " 'survivalmask',\n",
       " 'update_sim',\n",
       " 'updatesenabled',\n",
       " 'vscrolling',\n",
       " 'x',\n",
       " 'ymax']"
      ]
     },
     "execution_count": 27,
     "metadata": {},
     "output_type": "execute_result"
    }
   ],
   "source": [
    "dir(g)"
   ]
  },
  {
   "cell_type": "code",
   "execution_count": 5,
   "metadata": {},
   "outputs": [],
   "source": [
    "g.run(g.nrun, g.ndisp, g.nskip, g.niter, g.nhist, g.nstat, False)"
   ]
  },
  {
   "cell_type": "markdown",
   "metadata": {},
   "source": [
    "## Selection 12 Canonical rotation LUT encoded by gene with fixed length positional encoding"
   ]
  },
  {
   "cell_type": "code",
   "execution_count": null,
   "metadata": {},
   "outputs": [],
   "source": [
    "# 12\n",
    "#  selection=12 LUT with appropriate parameters for survival\n",
    "#  this case uses the genes to encode the canonical rotation and s dept rule tables for birth and survival\n",
    "#  a fixed positional encoding is used in the gene with 1-bit for each canonical rotation in the 32 bit survival and birth masks\n",
    "#  there are 1,1,4,7,10,7,4,1,1 canonical rotation mask bits for s=0-8. Only 32 cases s=2-6 in LUT are allowed non-zero.\n",
    "#  birth is determined by the and of the live neighbour genes (and 32 bits of overwritemask) ie genecode\n",
    "#  survival is determined the and of the live neighbour genes (and 32 bits of survivalmask) ie genecode\n",
    "#  ncoding not used : only space for 1 bit per lut entry\n",
    "#  this example allows only one of the 4 canonical rotations for s=2 to be gene activated for birth, otherwise <=GoL\n",
    "g.nrun=1; g.ndisp=100; g.nskip=0; g.niter=1;# simulation time stepping parameters\n",
    "g.nhist = 0                                  # set to n to turn on histogram configurations every nth step\n",
    "g.nstat = 0                                  # set to n to turn on statistics trace every nth step\n",
    "g.rulemod = g.runparams[0] = 1               # 0,1 whether to allow GoL rule modifications\n",
    "                                             # with rulemod 1 2-live-nb birth, 3-live-nb non-birth & non-survival possible\n",
    "g.repscheme = g.runparams[1] = 0x650         # repscheme bit 3 (val 0x8) determines whether random choice of ancestor amongst live neighbours\n",
    "                                             # repscheme mod 8 i.e. 0-7 determines selection scheme based on gene\n",
    "                                             # 0 minimum gene as value  # 1 maximum gene as value\n",
    "                                             # 2 minimum number of ones # 3 maximum number of ones\n",
    "                                             # 4 neutral selection # 5 neutral but different selection\n",
    "                                             # 6 penalty function -1 for a survival rule -2 for a birth rule  # 7 not allowed \n",
    "g.selection = g.runparams[2] = 12            # fitness for 2 live neighbor rule : 0-6 see subgenelife.c code\n",
    "g.overwritemask = g.runparams[3]= 0x0        # \n",
    "g.birthmask = g.runparams[7]= 0x000007f0     # for selection=8-13 this is the GoL birth mask\n",
    "g.survivalmask = g.runparams[4] = 0x000007ff # for selection=8-13 this is the GoL survival mask\n",
    "g.colorfunction = g.runparams[5] = 0         # color function 0(hash), ≥1(fnal), 2 nongulstate or color gol planes, 3 notgolrul yellow\n",
    "                                             # 4 activities 5 genealogy steps 6 genealogy temporal 7 activity scaled colors\n",
    "g.initfield = g.runparams[6] = 100           # 1 init via 32x32 genepat.dat, n>1 init via nxn rand array\n",
    "g.nlog2pmut = g.simparams[0] = 8             # log2 gene mutation probability (0 or >56 means no mutation)\n",
    "g.initial1density = g.simparams[1] =  16384  # initial 1 density in GOL state\n",
    "                                             # 16384 = nearest to half of guaranteed C rand max value 32767 = 2**15 - 1\n",
    "g.initialrdensity = g.simparams[2] = 16384   # initial density of random genes\n",
    "g.ncoding = g.simparams[3] = 0               # for selection 10, non zero value means grow plane community from 0\n",
    "                                             # otherwise (selection<10) no of bits used to encode valid connection functions 1-16\n",
    "                                             # for selection==8, lut, ncoding 1,2,3 bits per lut entry : 0 implies 3.\n",
    "g.startgenechoice = g.simparams[4] = 8       # initialize genes to startgene number 0-8 : 8 is random choice of 0-7\n",
    "\n",
    "g.genelife.initialize_planes(g.npoffsets)\n",
    "g.genelife.initialize(g.runparams,g.simparams)\n",
    "g.framenr = 0\n",
    "g.cnt=0\n",
    "g.show0(False)\n",
    "# step()\n",
    "g.run(g.nrun, g.ndisp, g.nskip, g.niter, g.nhist, g.nstat, True)"
   ]
  },
  {
   "cell_type": "markdown",
   "metadata": {},
   "source": [
    "## Selection 13 Canonical rotation LUT encoded by gene with variable length encoding"
   ]
  },
  {
   "cell_type": "code",
   "execution_count": null,
   "metadata": {},
   "outputs": [],
   "source": [
    "# 13\n",
    "#  selection=13 LUT with appropriate parameters for survival\n",
    "#  this case uses the genes to encode the canonical rotation and s dept rule tables for birth and survival\n",
    "#  a variable length encoding is used in the gene with 4+4 bits, 4-bits for the survival and birth s value as in 8, and 4 bits for canonical rotation\n",
    "#  there are 1,1,4,7,10,7,4,1,1 canonical rotation masks for s=0-8. Only 32 cases s=2-6 are lut allowed non-zero.\n",
    "#  birth is determined by existence of an entry from any of the live neighbour genes (and 32 bits of overwritemask) ie genecode\n",
    "#  survival determined by existence of an entry from any of the live neighbour genes (and 32 bits of survivalmask) ie genecode\n",
    "#  ncoding not used : only space for 1 bit per lut entry\n",
    "#  this example allows only one of the 4 canonical rotations for s=2 to be gene activated for birth, otherwise <=GoL\n",
    "g.nrun=1; g.ndisp=100; g.nskip=0; g.niter=1; # simulation time stepping parameters\n",
    "g.nhist = 0                                  # set to n to turn on histogram configurations every nth step\n",
    "g.nstat = 0                                  # set to n to turn on statistics trace every nth step\n",
    "g.rulemod = g.runparams[0] = 1               # 0,1 whether to allow GoL rule modifications\n",
    "                                             # with rulemod 1 2-live-nb birth, 3-live-nb non-birth & non-survival possible\n",
    "g.repscheme = g.runparams[1] = 5             # repscheme bit 3 (val 0x8) determines whether random choice of ancestor amongst live neighbours\n",
    "                                             # repscheme mod 8 i.e. 0-7 determines selection scheme based on gene\n",
    "                                             # 0 minimum gene as value  # 1 maximum gene as value\n",
    "                                             # 2 minimum number of ones # 3 maximum number of ones\n",
    "                                             # 4 neutral selection # 5 neutral but different selection\n",
    "                                             # 6 penalty function -1 for a survival rule -2 for a birth rule  # 7 not allowed\n",
    "g.selection = g.runparams[2] = 13            # fitness for 2 live neighbor rule : 0-6 see subgenelife.c code\n",
    "g.overwritemask = g.runparams[3]= 0x000007f0 # for selection=12-13 this is the GoL birth mask\n",
    "g.survivalmask = g.runparams[4] = 0x000007ff # for selection=12-13 this is the GoL survival mask\n",
    "g.colorfunction = g.runparams[5] = 0         # color function 0(hash), ≥1(fnal), 2 nongulstate or color gol planes, 3 notgolrul yellow\n",
    "                                             # 4 activities 5 genealogy steps 6 genealogy temporal 7 activity scaled colors\n",
    "g.initfield = g.runparams[6] = 150           # 1 init via 32x32 genepat.dat, n>1 init via nxn rand array\n",
    "g.nlog2pmut = g.simparams[0] = 8             # log2 gene mutation probability (0 or >56 means no mutation)\n",
    "g.initial1density = g.simparams[1] =  16384  # initial 1 density in GOL state\n",
    "                                             # 16384 = nearest to half of guaranteed C rand max value 32767 = 2**15 - 1\n",
    "g.initialrdensity = g.simparams[2] = 0       # initial density of random genes\n",
    "g.ncoding = g.simparams[3] = 0               # for selection 10, non zero value means grow plane community from 0\n",
    "                                             # otherwise (selection<10) no of bits used to encode valid connection functions 1-16\n",
    "                                             # for selection==8, lut, ncoding 1,2,3 bits per lut entry : 0 implies 3.\n",
    "g.startgenechoice = g.simparams[4] = 8       # initialize genes to startgene number 0-8 : 8 is random choice of 0-7\n",
    "\n",
    "g.genelife.initialize_planes(g.npoffsets)\n",
    "g.genelife.initialize(g.runparams,g.simparams)\n",
    "g.framenr = 0\n",
    "g.cnt=0\n",
    "g.show0()\n",
    "# step()\n",
    "g.run(g.nrun, g.ndisp, g.nskip, g.niter, g.nhist, g.nstat, False)"
   ]
  },
  {
   "cell_type": "markdown",
   "metadata": {},
   "source": [
    "## Selection 14 Coupling of two planes of GoL by gene specified matching between configurations"
   ]
  },
  {
   "cell_type": "code",
   "execution_count": null,
   "metadata": {},
   "outputs": [],
   "source": [
    "# 14\n",
    "nrun=1; ndisp=100; nskip=0; niter=1;     # simulation time stepping parameters\n",
    "#nrun=1; ndisp=1; nskip=0; niter=1;      # single step\n",
    "nhist = 0                                # set to n to turn on histogram configurations every nth step\n",
    "nstat = 0                                # set to n to turn on statistics trace every nth step\n",
    "rulemod = runparams[0] = 1               # 0,1 whether to allow GoL rule modifications\n",
    "                                         # with rulemod 1 2-live-nb birth, 3-live-nb non-birth & non-survival possible\n",
    "repscheme = runparams[1] = 0             # for selection 10 or 11, repscheme gives number of planes in simulation (0->16)\n",
    "                                         # 0-1f: bit 0 on allow selection in 3 live nb configs, bit 1 on most difft vs 0 bit of canonical rotation\n",
    "                                         # bit 2 on do 2nd-nb model, bit 3,4 on enforce birth for failed selection with s=3,2\n",
    "                                         # bit 5 on do position dept 2-live-nb birth \n",
    "                                         # bit 6 on for gene encoded 1st neighbour masking\n",
    "                                         # bit 7 on for check last state change not caused by non GoL rule\n",
    "                                         # bit 8 extend previous check to all neighbours of site\n",
    "                                         # bits 9-12 zusammen mit bit 5, chose only 1 of 4 canonical 2nb configs for birth\n",
    "selection = runparams[2] = 14            # fitness for 2 live neighbor rule : 0-6 see subgenelife.c code\n",
    "overwritemask = runparams[3] = 0         # mask of 2 bits to overwrite instead of survival for 3(bit0) or 2(bit1) live nbs\n",
    "survivalmask = runparams[4] = 3          # selection 10,11: survival bit 0 determines if current plane used as well for nbs\n",
    "                                         #                  survival bit 1 determines if gol state 1 survives as in gol\n",
    "                                         # selection<10: survive mask for two (bit 1) and three (bit 0) live neighbours : GoL = 3\n",
    "colorfunction = runparams[5] = 0         # color function 0(hash), ≥1(fnal), 2 nongulstate or color gol planes, 3 notgolrul yellow\n",
    "                                         # 4 activities 5 genealogy steps 6 genealogy temporal 7 activity scaled colors\n",
    "initfield = runparams[6] = 200            # 1 init via 32x32 genepat.dat, n>1 init via nxn rand array\n",
    "nlog2pmut = simparams[0] = 9             # log2 gene mutation probability (0 or >56 means no mutation)\n",
    "initial1density = simparams[1] =  16384  # initial 1 density in GOL state\n",
    "                                         # 16384 = nearest to half of guaranteed C rand max value 32767 = 2**15 - 1\n",
    "initialrdensity = simparams[2] = 32768   # initial density of random genes\n",
    "ncoding = simparams[3] = 0               # for selection 10, non zero value means grow plane community from 0\n",
    "                                         # otherwise (selection<10) no of bits used to encode valid connection functions 1-16\n",
    "startgenechoice = simparams[4] = 8       # initialize genes to startgene number 0-8 : 8 is random choice of 0-7\n",
    "\n",
    "genelife.initialize_planes(npoffsets)\n",
    "genelife.initialize(runparams,simparams)\n",
    "framenr = 0\n",
    "cnt=0\n",
    "show0()\n",
    "# step()\n",
    "g.run(g.nrun, g.ndisp, g.nskip, g.niter, g.nhist, g.nstat, False)"
   ]
  },
  {
   "cell_type": "markdown",
   "metadata": {},
   "source": [
    "## Selection 16 GoL planes (2-16) coupled pairwise as specified by genes"
   ]
  },
  {
   "cell_type": "code",
   "execution_count": null,
   "metadata": {},
   "outputs": [],
   "source": [
    "# 16\n",
    "#  selection=16 with appropriate parameters for survival\n",
    "#  this model involves gene encoded coupling between up to 16 parallel planes of game of life : packed into 64-bit word\n",
    "#  the coupling makes bits on at most one other plane visible to first plane : locally dept on gene\n",
    "nrun=1; ndisp=100; nskip=0; niter=1;     # simulation time stepping parameters\n",
    "#nrun=1; ndisp=1; nskip=0; niter=1;      # single step\n",
    "nhist = 0                                # set to n to turn on histogram configurations every nth step\n",
    "nstat = 0                                # set to n to turn on statistics trace every nth step\n",
    "rulemod = runparams[0] = 1               # 0,1 whether to allow GoL rule modifications\n",
    "                                         # with rulemod 1 2-live-nb birth, 3-live-nb non-birth & non-survival possible\n",
    "repscheme = runparams[1] = 0x1b          # 0-1f: bit 0 on allow selection in 3 live nb configs, bit 1 on most difft vs 0 bit of canonical rotation\n",
    "                                         # bit 2 on do 2nd-nb model, bit 3,4 on enforce birth for failed selection with s=3,2\n",
    "                                         # bit 5 on do position dept 2-live-nb birth \n",
    "                                         # bit 6 on for gene encoded 1st neighbour masking\n",
    "                                         # bit 7 on for check last state change not caused by non GoL rule\n",
    "                                         # bit 8 extend previous check to all neighbours of site\n",
    "selection = runparams[2] = 16            # fitness for 2 live neighbor rule : 0-6 see subgenelife.c code\n",
    "overwritemask = runparams[3] = 0         # mask of 2 bits to overwrite instead of survival for 3(bit0) or 2(bit1) live nbs\n",
    "survivalmask = runparams[4] = 0          # survive mask for two (bit 1) and three (bit 0) live neighbours : GoL = 3\n",
    "colorfunction = runparams[5] = 0         # color function 0(hash), ≥1(fnal), 2 color combined gol states, 3 notgolrul yellow\n",
    "initfield = runparams[6] = 200            # 1 init via 32x32 genepat.dat, n>1 init via nxn rand array\n",
    "nlog2pmut = simparams[0] = 7             # log2 gene mutation probability (0 or >56 means no mutation)\n",
    "initial1density = simparams[1] = 16384   # initial 1 density in GOL state\n",
    "                                         # 16384 = nearest to half of guaranteed C rand max value 32767 = 2**15 - 1\n",
    "initialrdensity = simparams[2] = 32768   # initial density of random genes\n",
    "ncoding = simparams[3] = 0x100004        # no of bits used to encode valid connection functions 1-16\n",
    "startgenechoice = simparams[4] = 16      # initialize genes to startgene number 0-8 : 8 is random choice of 0-7\n",
    "\n",
    "genelife.initialize_planes(npoffsets)\n",
    "genelife.initialize(runparams,simparams)\n",
    "framenr = 0\n",
    "cnt=0\n",
    "show0(False)\n",
    "#step()\n",
    "g.run(g.nrun, g.ndisp, g.nskip, g.niter, g.nhist, g.nstat, False)"
   ]
  },
  {
   "cell_type": "markdown",
   "metadata": {},
   "source": [
    "## Selection 18 GoL planes (2-16) each coupled to 2 or 4 nearby planes as specified by genes"
   ]
  },
  {
   "cell_type": "code",
   "execution_count": null,
   "metadata": {},
   "outputs": [],
   "source": [
    "# 18\n",
    "# up to 16 parallel planes of GoL with coupling with genetically encoded subset of up to 4 nearest planes\n",
    "# in this case all 16 planes used repscheme 0\n",
    "nrun=1; ndisp=100; nskip=0; niter=1;     # simulation time stepping parameters\n",
    "#nrun=1; ndisp=1; nskip=0; niter=1;      # single step\n",
    "nhist = 0                                # set to n to turn on histogram configurations every nth step\n",
    "nstat = 0                                # set to n to turn on statistics trace every nth step\n",
    "rulemod = runparams[0] = 1               # 0,1 whether to allow GoL rule modifications\n",
    "                                         # with rulemod 1 2-live-nb birth, 3-live-nb non-birth & non-survival possible\n",
    "repscheme = runparams[1] = 0x1b          # 0-1f: bit 0 on allow selection in 3 live nb configs, bit 1 on most difft vs 0 bit of canonical rotation\n",
    "                                         # bit 2 on do 2nd-nb model, bit 3,4 on enforce birth for failed selection with s=3,2\n",
    "                                         # bit 5 on do position dept 2-live-nb birth \n",
    "                                         # bit 6 on for gene encoded 1st neighbour masking\n",
    "                                         # bit 7 on for check last state change not caused by non GoL rule\n",
    "                                         # bit 8 extend previous check to all neighbours of site\n",
    "selection = runparams[2] = 18            # fitness for 2 live neighbor rule : 0-6 see subgenelife.c code\n",
    "overwritemask = runparams[3] = 0         # mask of 2 bits to overwrite instead of survival for 3(bit0) or 2(bit1) live nbs\n",
    "survivalmask = runparams[4] = 0          # survive mask for two (bit 1) and three (bit 0) live neighbours : GoL = 3\n",
    "colorfunction = runparams[5] = 1         # color function 0(hash), ≥1(fnal), 2 color gol planes, 3 notgolrul yellow\n",
    "initfield = runparams[6] = 200            # 1 init via 32x32 genepat.dat, n>1 init via nxn rand array\n",
    "nlog2pmut = simparams[0] = 6             # log2 gene mutation probability (0 or >56 means no mutation)\n",
    "initial1density = simparams[1] =  16384  # initial 1 density in GOL state\n",
    "                                         # 16384 = nearest to half of guaranteed C rand max value 32767 = 2**15 - 1\n",
    "initialrdensity = simparams[2] = 0       # initial density of random genes\n",
    "ncoding = simparams[3] = 0x100000        # 16 planes also achieved with value 0\n",
    "startgenechoice = simparams[4] = 16      # initialize genes to startgene number 0-8 : 8 is random choice of 0-7\n",
    "\n",
    "genelife.initialize_planes(npoffsets)\n",
    "genelife.initialize(runparams,simparams)\n",
    "framenr = 0\n",
    "cnt=0\n",
    "show0(False)\n",
    "# step()\n",
    "g.run(g.nrun, g.ndisp, g.nskip, g.niter, g.nhist, g.nstat, True)"
   ]
  },
  {
   "cell_type": "markdown",
   "metadata": {},
   "source": [
    "## Selection 20 64-plane GoL with simple coupling"
   ]
  },
  {
   "cell_type": "code",
   "execution_count": null,
   "metadata": {},
   "outputs": [],
   "source": [
    "# 20\n",
    "# 64 copies of game of life computed in overlay and in parallel\n",
    "# for rulemod=0 uncoupeld copies of gol : need to set density of \n",
    "# first attempts to explore this model with coupling lead to over-proliferation\n",
    "# even when coupling only two specific planes specified by the genes\n",
    "# genes however are not yet proliferating : ie fixed and stationary\n",
    "nrun=1; ndisp=1000; nskip=0; niter=1;     # simulation time stepping parameters\n",
    "#nrun=1; ndisp=1; nskip=0; niter=1;      # single step\n",
    "nhist = 0                                # set to n to turn on histogram configurations every nth step\n",
    "nstat = 0                                # set to n to turn on statistics trace every nth step\n",
    "rulemod = runparams[0] = 1               # 0,1 whether to allow GoL rule modifications\n",
    "repscheme = runparams[1] = 0x11          # bit 0 0: pure 3D 1: gene coupled 2D-3D \n",
    "                                         # bit 1 : only use birth not survival from 2D GoL \n",
    "                                         # [bit 2 used for canonical bit decision as in other models]\n",
    "                                         # bit 4,5,6 specify subsets for 3D survival 56,67,6 instead of 567  \n",
    "selection = runparams[2] = 20            # selects this case with 64 planes\n",
    "overwritemask = runparams[3] = 0         # not used\n",
    "survivalmask = runparams[4] = 0          # not used\n",
    "colorfunction = runparams[5] = 2         # color function 0(hash), ≥1(fnal), 2 color gol planes, 3 notgolrul yellow\n",
    "initfield = runparams[6] = 200            # 1 init via 32x32 genepat.dat, n>1 init via nxn rand array\n",
    "nlog2pmut = simparams[0] = 7             # log2 gene mutation probability (0 or >56 means no mutation) : not yet used\n",
    "initial1density = simparams[1] =  4096   # initial 1 density in GOL state (in 3D initial density should be between 4096 and 8192 not 16384)\n",
    "                                         # 16384 = nearest to half of guaranteed C rand max value 32767 = 2**15 - 1\n",
    "initialrdensity = simparams[2] = 32768   # initial density of random genes\n",
    "ncoding = simparams[3] = 0x400400        # no of bit planes used is 64, ncoding 2 is 16 bits for genes\n",
    "startgenechoice = simparams[4] = 16      # initialize genes to startgene number 0-8 : 8 is random choice of 0-7\n",
    "\n",
    "genelife.initialize_planes(npoffsets)\n",
    "genelife.initialize(runparams,simparams)\n",
    "framenr = 0\n",
    "cnt=0\n",
    "show0(False)\n",
    "# step(None) # no counts printed\n",
    "g.run(g.nrun, g.ndisp, g.nskip, g.niter, g.nhist, g.nstat, True)"
   ]
  },
  {
   "cell_type": "code",
   "execution_count": null,
   "metadata": {},
   "outputs": [],
   "source": []
  }
 ],
 "metadata": {
  "celltoolbar": "Initialization Cell",
  "hide_input": false,
  "kernelspec": {
   "display_name": "Python 2",
   "language": "python",
   "name": "python2"
  },
  "language_info": {
   "codemirror_mode": {
    "name": "ipython",
    "version": 2
   },
   "file_extension": ".py",
   "mimetype": "text/x-python",
   "name": "python",
   "nbconvert_exporter": "python",
   "pygments_lexer": "ipython2",
   "version": "2.7.15"
  },
  "toc": {
   "nav_menu": {},
   "number_sections": true,
   "sideBar": true,
   "skip_h1_title": false,
   "title_cell": "Table of Contents",
   "title_sidebar": "Contents",
   "toc_cell": false,
   "toc_position": {
    "height": "calc(100% - 180px)",
    "left": "10px",
    "top": "150px",
    "width": "245.375px"
   },
   "toc_section_display": true,
   "toc_window_display": true
  }
 },
 "nbformat": 4,
 "nbformat_minor": 2
}
