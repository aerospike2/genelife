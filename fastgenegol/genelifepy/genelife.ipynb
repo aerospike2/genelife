{
 "cells": [
  {
   "cell_type": "code",
   "execution_count": null,
   "metadata": {
    "collapsed": false
   },
   "outputs": [],
   "source": [
    "%gui osx\n",
    "# %matplotlib inline # doesn't work for John\n",
    "import random as rand\n",
    "import pygame as pg\n",
    "\n",
    "from genelife import *"
   ]
  },
  {
   "cell_type": "markdown",
   "metadata": {},
   "source": [
    "## Graphics notes"
   ]
  },
  {
   "cell_type": "markdown",
   "metadata": {},
   "source": [
    "This notebook uses the pygame interface.\n",
    "\n",
    "It pops up a pygame window (labeled \"Gene Life\"), which must be moved to the side to see the notebook.\n",
    "\n",
    "To stop the simulation mid-stream, you can click on the pygame window, click in the window. \n",
    "\n",
    "Color is currently a 32 bit hash of the 64 bit gene value.\n",
    "\n",
    "To change resolution: \n",
    "* change `subgenelife.c` line 23 (`log2N`) and rebuild c lib\n",
    "* change `genlife.py` line 10 (also `log2N`)\n",
    "* change `Width` and `Height` below."
   ]
  },
  {
   "cell_type": "markdown",
   "metadata": {},
   "source": [
    "## Initialization"
   ]
  },
  {
   "cell_type": "markdown",
   "metadata": {},
   "source": [
    "See additional discussion in the [genelife wiki](https://github.com/js1200/genelife/wiki/Probability-parameters-in-genelife).\n",
    "\n",
    "The code determining the effect of genes on birth, and the mutation of genomes is currently on lines 229-242 of `subgene.c`.\n",
    "\n",
    "Parameter `rulemod` deterimines if genes are affecting the GOL dynamics at all.\n",
    "* `rulemod == 0` => Genes have no affect; GOL dynamics prevail.  \n",
    "* `rulemod == 1` => Genes alter GOL dynamics.\n",
    "\n",
    "Parameter `repscheme` controls possible replication schemes for birth in the case of 3 live neighbours.  For 3 live neighbours, a unique one may be chosen deterministically in 2 ways:  (i) most different, and (ii) a particular nbr (0th) of a canonical rotation.  \n",
    "\n",
    "Consider two cases, `repscheme bit 0 unset` and `repscheme bit 0 set`, and for each of these consider when `repscheme bit 1` is unset and set:\n",
    "\n",
    "* `repscheme bit 0 unset`\n",
    "    * `repscheme == 0` => use most different of the 3 live nbrs as ancestor\n",
    "    * `repscheme == 2` => use 0th nbr of canonical rotation as ancestor\n",
    "* `repscheme bit 0 set`\n",
    "    * `repscheme == 1` => apply selection to complement pair of most different of the 3 live nbrs.\n",
    "    * `repscheme == 3` => apply selection to complement pair of 0th nbr of canonical rotation\n",
    "\n",
    "The `selection` parameter provides a choice between a variety of deterministic schemes to choose between two possible ancestors, either in the case of birth from 2 live neighbours or the two cases of birth from 3 live neighbours with `repscheme bit 0` set.\n",
    "* `selection == 0` larger integer value determines survival\n",
    "* `selection == 1` larger number of 1's \n",
    "* `selection == 2` paper-scissors-rock-well\n",
    "* `selection == 3` selection based on closeness to one of the two difft targets (ncoding bits apart)\n",
    "* `selection == 4` selection based on closeness of g0 to 0x0 and g1 to all 1's; for birth distances must satisfy `d0<ncoding`, `d1<ncoding`, and `dd=D(g0,g1) < ncoding.`  `ncoding>55` for any exceptions.\n",
    "* `selection == 5` Predator prey: prey goes toward all 0's, predator goes toward all 1's.  N1(g)<32 => prey; birth if different and at least one prey; both prey => prey with less 1's wins, prey-predator => predator wins.\n",
    "\n",
    "Parameter `nlog2pmut` fixes mutation probability.  `nlog2pmut` takes integer values, label them $k$; then  $p_{\\rm mut} = 2^{-k}$"
   ]
  },
  {
   "cell_type": "code",
   "execution_count": null,
   "metadata": {
    "collapsed": true
   },
   "outputs": [],
   "source": [
    "offsets = [[-1, 0,-1],\n",
    "           [ 1, 0,-1],\n",
    "           [ 0,-1,-1],\n",
    "           [ 0, 1,-1]]\n",
    "numHis = len(offsets)\n",
    "histo=np.zeros(numHis,np.uint64)\n",
    "flatoff =  [x for sublist in offsets for x in sublist]\n",
    "npoffsets = np.array(flatoff,np.int32)\n",
    "\n",
    "runparams = np.zeros(7,np.int32)\n",
    "simparams = np.zeros(5,np.int32)    # 5 parameters passed to C"
   ]
  },
  {
   "cell_type": "markdown",
   "metadata": {},
   "source": [
    "Following animation cell is set up to display for `ndisp` time steps, run without display for `nskip` time steps, and repeat, up to a total of `niter*ndisp` frames displayed (`niter*(ndisp+nskip)` total time steps):\n",
    "\n",
    "|---`ndisp`---|------------------`nskip`---------------| ... repeated for `niter` times\n"
   ]
  },
  {
   "cell_type": "code",
   "execution_count": null,
   "metadata": {
    "collapsed": true
   },
   "outputs": [],
   "source": [
    "Width = 512\n",
    "Height = 512\n",
    "screen = pg.display.set_mode([2*Width, 2*Height])\n",
    "scr = pg.surface.Surface([Width,Height], 0)\n",
    "#scr2 = pg.surface.Surface([Width*2,Height*2], 0)\n",
    "cnt = 0\n",
    "caption = \"Gene Life at iteration %d\" % cnt\n",
    "pg.display.set_caption(caption)\n",
    "pg.draw.rect(screen, [10, 10, 10],(0, 0 , Width, Height + 1), 0)\n",
    "pg.transform.scale2x(scr,screen)\n",
    "pg.display.update()\n",
    "\n",
    "cgrid = pg.surfarray.pixels2d(scr)"
   ]
  },
  {
   "cell_type": "code",
   "execution_count": null,
   "metadata": {
    "collapsed": true
   },
   "outputs": [],
   "source": [
    "def update():\n",
    "    global gol, cgrid\n",
    "    global golg\n",
    "    global log2N\n",
    "    global runparams\n",
    "    global cnt\n",
    "    global framenr\n",
    "\n",
    "    cnt = cnt+1\n",
    "    if cnt % ndisp == 0:  # insert the non-displayed iterations & count species\n",
    "        genelife.genelife_update(nskip, nhist, nstat)\n",
    "        framenr = framenr + nskip\n",
    "        genelife.countspecieshash()\n",
    "\n",
    "    genelife.genelife_update(nrun, nhist, nstat)\n",
    "    framenr = framenr+nrun\n",
    "    # genelife.get_curgol(gol)\n",
    "    # genelife.get_curgolg(golg)\n",
    "    # genelife.get_curgolgstats(golgstats)\n",
    "    colorgrid()  # sets  cgrid     # should do this perhaps straight from C arrays gol,...\n",
    "    #time_text.set_text('cnt = %.1d' % framenr)\n",
    "    #time_text.set_color('w')\n",
    "    return\n",
    "\n",
    "# this function defined in genelife.py doesn't work in the notebook.\n",
    "# must redefine it here.  Maybe scope of globals?\n",
    "def colorgrid():\n",
    "    \"\"\" colors array according to grid and genegrid using colormethod\"\"\"\n",
    "    global cgrid,cgolg,N\n",
    "    # global gol,golg,golgstats\n",
    "    genelife.colorgenes(cgolg)\n",
    "        # genelife.colorgenes1(gol,golg,golgstats,cgolg)   # old call using explicit arrays\n",
    "        # cgrid=np.reshape(cgolg,(N,N))   does not work because cgrid redefined, data not copied\n",
    "    cgrid2=np.reshape(cgolg,(N,N)).T \n",
    "    cgrid[:] = cgrid2               # is there a faster version of this copy that moves the data? \n",
    "    # cgrid = np.copy(cgrid2)       # also does not work, makes a new copy not on graphics surface\n",
    "        #\n",
    "        #      slower line by line code\n",
    "        #\n",
    "        # for j in xrange(N):\n",
    "        #     cgrid[:,j] = cgolg[j*N:j*N+N]\n",
    "        #\n",
    "        #      really slow pixel level code\n",
    "        #\n",
    "        #for i in xrange(N):\n",
    "        #    for j in xrange(N):\n",
    "        #        ij = i+j*N\n",
    "        #        cgrid[i,j] = cgolg[ij]\n",
    "    return"
   ]
  },
  {
   "cell_type": "code",
   "execution_count": null,
   "metadata": {
    "collapsed": true
   },
   "outputs": [],
   "source": [
    "def show0():\n",
    "# display initial population and count species\n",
    "    global framenr\n",
    "    # global gol,golg,golgstats\n",
    "    global scr, screen\n",
    "    caption = \"Gene Life at iteration %d\" % framenr\n",
    "    pg.display.set_caption(caption)\n",
    "    #genelife.get_curgol(gol)\n",
    "    #genelife.get_curgolg(golg)\n",
    "    #genelife.get_curgolgstats(golgstats)\n",
    "    colorgrid()\n",
    "    pg.transform.scale2xact(scr,screen)  # use this for custom pygame no smoother    \n",
    "    pg.display.flip()\n",
    "    genelife.countspecieshash()"
   ]
  },
  {
   "cell_type": "code",
   "execution_count": null,
   "metadata": {
    "collapsed": true
   },
   "outputs": [],
   "source": [
    "def step():\n",
    "#single step and update display and species counts\n",
    "    global framenr\n",
    "    #global gol,golg,golgstats\n",
    "    global scr, screen\n",
    "    update()\n",
    "    caption = \"Gene Life at iteration %d\" % framenr\n",
    "    pg.display.set_caption(caption)\n",
    "    #genelife.get_curgol(gol)\n",
    "    #genelife.get_curgolg(golg)\n",
    "    #genelife.get_curgolgstats(golgstats)\n",
    "    pg.transform.scale2xact(scr,screen)  # use this for custom pygame no smoother    \n",
    "    pg.display.flip()\n",
    "    genelife.countspecieshash()\n",
    "    # ipython.notebook.move_selection_up  # would like to reselect cell after execution"
   ]
  },
  {
   "cell_type": "code",
   "execution_count": null,
   "metadata": {
    "collapsed": false
   },
   "outputs": [],
   "source": [
    "# infinite loop of display updates (ctrl click in graphics window to stop, click for pixel details,alt-click for recolor)\n",
    "def run():\n",
    "    global framenr\n",
    "    global scr, screen\n",
    "    global N\n",
    "    global gol,golg,golgstats\n",
    "    global colorfunction\n",
    "    global ymax\n",
    "    gogo = True\n",
    "    pixeldat = \"\"\n",
    "    mouseclicked = False\n",
    "    pause = 0\n",
    "    ymax = 10000\n",
    "    oldymax = genelife.setget_act_ymax(ymax)\n",
    "    while (gogo):\n",
    "        for event in pg.event.get():\n",
    "            if event.type==pg.QUIT:\n",
    "                mouseclicked = False\n",
    "                gogo = False\n",
    "            if event.type==pg.MOUSEBUTTONDOWN:\n",
    "                if event.button == 1:          # get mouse coords on mouse event\n",
    "                    mouseclicked = True\n",
    "                    mouse_pos = pg.mouse.get_pos() \n",
    "                    x = (int) (mouse_pos[0]//2)\n",
    "                    y = (int) (mouse_pos[1]//2)\n",
    "                    genelife.get_curgol(gol)    # get current gol,golg,golgstats arrays\n",
    "                    genelife.get_curgolg(golg)\n",
    "                    genelife.get_curgolgstats(golgstats)\n",
    "                    pixeldat = \"(%d,%d) gol %016x gene %016x status %016x\" % (x,y,gol[x+y*N],golg[x+y*N],golgstats[x+y*N])\n",
    "                    print framenr,pixeldat\n",
    "                elif event.button == 2:          # next colorfunction middle mouse button (alt-click)\n",
    "                    colorfunction = (colorfunction + 1) % 6\n",
    "                    genelife.set_colorfunction(colorfunction)\n",
    "                    mouseclicked = False\n",
    "                elif event.button == 3:          # quit event loop now on right mouse button (cmd-click)\n",
    "                    gogo = False\n",
    "                    mouseclicked = False\n",
    "            elif event.type==pg.MOUSEBUTTONUP:\n",
    "                mouseclicked = False\n",
    "            elif event.type==pg.MOUSEMOTION and mouseclicked:\n",
    "                    mouse_pos = pg.mouse.get_pos() \n",
    "                    x = mouse_pos[0]//2\n",
    "                    y = mouse_pos[1]//2\n",
    "                    if colorfunction != 4:\n",
    "                        genelife.get_curgol(gol)    # get current gol,golg,golgstats arrays\n",
    "                        genelife.get_curgolg(golg)\n",
    "                        genelife.get_curgolgstats(golgstats)\n",
    "                        pixeldat = \"(%d,%d) gol %016x gene %016x status %016x\" % (x,y,gol[x+y*N],golg[x+y*N],golgstats[x+y*N])     \n",
    "                    else:\n",
    "                        genelife.get_acttrace(golg)\n",
    "                        pixeldat = \"(%d,%d) gene %016x\" % (x,y,golg[x+y*N])\n",
    "            elif event.type == pg.KEYDOWN:\n",
    "                if event.key == pg.K_PLUS or event.key == pg.K_KP_PLUS or event.key == pg.K_EQUALS:\n",
    "                    ymax = ymax * 2\n",
    "                    oldymax = genelife.setget_act_ymax(ymax)\n",
    "                    print 'new ymax =',ymax\n",
    "                elif event.key == pg.K_MINUS:\n",
    "                    ymax = ymax / 2\n",
    "                    oldymax = genelife.setget_act_ymax(ymax)\n",
    "                    print 'new ymax =',ymax\n",
    "                elif event.key == pg.K_SPACE:\n",
    "                    pause = (pause+1)%2 \n",
    "        if (not mouseclicked and not pause): update()\n",
    "        nspecies=genelife.get_nspecies()\n",
    "        caption = \"Gene Life at step %d color %d ymax %d nspecies %d\" % (framenr,colorfunction,ymax,nspecies)\n",
    "        if pixeldat: caption = caption + pixeldat\n",
    "        pg.display.set_caption(caption)\n",
    "        # pg.transform.scale2x(scr,screen)   # use this for pygame scale2x with smoother\n",
    "        pg.transform.scale2xact(scr,screen)  # use this for custom pygame no smoother    \n",
    "        pg.display.flip()                    # copies the screen to the display"
   ]
  },
  {
   "cell_type": "code",
   "execution_count": null,
   "metadata": {
    "collapsed": false
   },
   "outputs": [],
   "source": [
    "nrun=1; ndisp=100; nskip=0; niter=1; # simulation time stepping parameters\n",
    "#nrun=1; ndisp=1; nskip=0; niter=1;      # single step\n",
    "nhist = 0                                # set to n to turn on histogram configurations every nth step\n",
    "nstat = 0                                # set to n to turn on statistics trace every nth step\n",
    "rulemod = runparams[0] = 1               # 0,1 whether to allow GoL rule modifications\n",
    "                                         # with rulemod 1 2-live-nb birth, 3-live-nb non-birth & non-survival possible\n",
    "repscheme = runparams[1] = 4             # for selection 10 or 11, repscheme gives number of planes in simulation (0->16)\n",
    "                                         # 0-1f: bit 0 on allow selection in 3 live nb configs, bit 1 on most difft vs 0 bit of canonical rotation\n",
    "                                         # bit 2 on do 2nd-nb model, bit 3,4 on enforce birth for failed selection with s=3,2\n",
    "                                         # bit 5 on do position dept 2-live-nb birth \n",
    "                                         # bit 6 on for gene encoded 1st neighbour masking\n",
    "                                         # bit 7 on for check last state change not caused by non GoL rule\n",
    "                                         # bit 8 extend previous check to all neighbours of site\n",
    "selection = runparams[2] = 10            # fitness for 2 live neighbor rule : 0-6 see subgenelife.c code\n",
    "overwritemask = runparams[3] = 0         # mask of 2 bits to overwrite instead of survival for 3(bit0) or 2(bit1) live nbs\n",
    "survival = runparams[4] = 2              # selection 10,11: survival bit 0 determines if current plane used as well for nbs\n",
    "                                         #                  survival bit 1 determines if gol state 1 survives as in gol\n",
    "                                         # selection<10: survive mask for two (bit 1) and three (bit 0) live neighbours : GoL = 3\n",
    "colorfunction = runparams[5] = 0         # color function 0(hash), ≥1(fnal), 2 nongulstate or color gol planes, 3 notgolrul yellow\n",
    "                                         # 4 activities\n",
    "inittype = runparams[6] = 200            # 1 init via 32x32 genepat.dat, n>1 init via nxn rand array\n",
    "nlog2pmut = simparams[0] = 8             # log2 gene mutation probability (0 or >56 means no mutation)\n",
    "initial1density = simparams[1] =  16384  # initial 1 density in GOL state\n",
    "                                         # 16384 = nearest to half of guaranteed C rand max value 32767 = 2**15 - 1\n",
    "initialrdensity = simparams[2] = 32768       # initial density of random genes\n",
    "ncoding = simparams[3] = 1               # for selection 10, non zero value means grow plane community from 0\n",
    "                                         # otherwise (selection<10) no of bits used to encode valid connection functions 1-16\n",
    "startgenechoice = simparams[4] = 16      # initialize genes to startgene number 0-8 : 8 is random choice of 0-7\n",
    "\n",
    "genelife.initialize_planes(npoffsets)\n",
    "genelife.initialize(runparams,simparams)\n",
    "framenr = 0\n",
    "cnt=0\n",
    "show0()\n",
    "# step()\n",
    "run()"
   ]
  },
  {
   "cell_type": "code",
   "execution_count": null,
   "metadata": {
    "collapsed": false
   },
   "outputs": [],
   "source": [
    "# getting genes, popcounts and activities up to python\n",
    "gindices=np.zeros(10000,np.int32)\n",
    "genes=np.zeros(10000,np.uint64)\n",
    "popln=np.zeros(10000,np.int32)\n",
    "activities=np.zeros(10000,np.int32)\n",
    "\n",
    "nspecies=genelife.get_sorted_popln_act(gindices,genes,popln,activities)  #nspecies is only those with popcount nonzero\n",
    "# print \"no of species\",nspecies,len(popln)\n",
    "print popln[0:20]"
   ]
  },
  {
   "cell_type": "code",
   "execution_count": null,
   "metadata": {
    "collapsed": true
   },
   "outputs": [],
   "source": [
    "run()"
   ]
  },
  {
   "cell_type": "code",
   "execution_count": null,
   "metadata": {
    "collapsed": false
   },
   "outputs": [],
   "source": [
    "    genelife.get_curgol(gol)\n",
    "    genelife.get_curgolg(golg)\n",
    "    genelife.get_curgolgstats(golgstats)\n",
    "    colorgrid()\n",
    "    caption = \"Gene Life at iteration %d\" % framenr\n",
    "    pg.display.set_caption(caption)\n",
    "    pg.transform.scale2x(scr,screen)  # use this for pygame scale2x with smoother\n",
    "    pg.transform.scale2xact(scr,screen)  # use this for custom pygame no smoother    \n",
    "    pg.display.flip()\n",
    "    genelife.countspecieshash()"
   ]
  },
  {
   "cell_type": "markdown",
   "metadata": {},
   "source": [
    "### Trace of number of live cell statistics"
   ]
  },
  {
   "cell_type": "code",
   "execution_count": null,
   "metadata": {
    "collapsed": false
   },
   "outputs": [],
   "source": [
    "ntmax = 1024\n",
    "while framenr//nstat > ntmax: ntmax = ntmax*2   # increase ntmax to next power of 2 to match C memory\n",
    "tpts=np.zeros(ntmax,np.int32)\n",
    "livestats = np.zeros(ntmax,np.int32)\n",
    "genotypes = np.zeros(ntmax*4,np.int32)\n",
    "genotypes4 = np.reshape(genotypes,(ntmax,4)).T\n",
    "stepstats = np.zeros(ntmax*10,np.int32)\n",
    "stepstats10 = np.reshape(stepstats,(ntmax,10)).T\n",
    "configstats = np.zeros(ntmax*4,np.int32)\n",
    "configstats4 = np.reshape(configstats,(ntmax,4)).T"
   ]
  },
  {
   "cell_type": "code",
   "execution_count": null,
   "metadata": {
    "collapsed": false
   },
   "outputs": [],
   "source": [
    "nt = framenr//nstat\n",
    "genelife.get_stats(livestats,genotypes,stepstats,configstats,nt)\n",
    "tpts = [i*nstat for i in range(1,nt)]"
   ]
  },
  {
   "cell_type": "code",
   "execution_count": null,
   "metadata": {
    "collapsed": false
   },
   "outputs": [],
   "source": [
    "%matplotlib inline\n",
    "# fig, ax = plt.subplots()\n",
    "plt.rcParams['figure.figsize'] = [10, 10]\n",
    "f, (ax1, ax2, ax3) = plt.subplots(3, sharex=True, sharey=False)\n",
    "ax1.plot(tpts,stepstats10[0][1:nt],'b',label='notgolrul')\n",
    "ax1.plot(tpts,stepstats10[1][1:nt],'g',label='2_live')\n",
    "ax1.plot(tpts,stepstats10[2][1:nt],'r',label='3_live')\n",
    "ax1.plot(tpts,stepstats10[3][1:nt],'c',label='birth')\n",
    "ax1.plot(tpts,stepstats10[4][1:nt],'m',label='mutation')\n",
    "ax1.plot(tpts,stepstats10[5][1:nt],'b--',label='2select')\n",
    "ax1.plot(tpts,stepstats10[6][1:nt],'g--',label='survival')\n",
    "ax1.plot(tpts,stepstats10[7][1:nt],'r--',label='death')\n",
    "ax1.plot(tpts,stepstats10[8][1:nt],'k--',label='golstate')\n",
    "ax1.plot(tpts,stepstats10[9][1:nt],'m--',label='3g_same')\n",
    "ax2.plot(tpts,genotypes4[0][1:nt],'b',label='d=0 class')\n",
    "ax2.plot(tpts,genotypes4[1][1:nt],'g',label='d=1 class')\n",
    "ax2.plot(tpts,genotypes4[2][1:nt],'r',label='d=2 class')\n",
    "ax2.plot(tpts,genotypes4[3][1:nt],'k',label='d=3 class')\n",
    "ax3.plot(tpts,configstats4[0][1:nt],'b',label='offset [-1, 0,-1]')\n",
    "ax3.plot(tpts,configstats4[1][1:nt],'g',label='offset [ 1, 0,-1]')\n",
    "ax3.plot(tpts,configstats4[2][1:nt],'r',label='offset [ 0,-1,-1]')\n",
    "ax3.plot(tpts,configstats4[3][1:nt],'k',label='offset [ 0, 1,-1]')\n",
    "ax1.set_ylabel('number of such cells')\n",
    "ax2.set_ylabel('number of such cells')\n",
    "ax3.set_ylabel('number of such configs')\n",
    "legend1 = ax1.legend(loc=2, bbox_to_anchor=(1,1), shadow=True, fontsize='small')  # or use  loc = 'best'\n",
    "legend2 = ax2.legend(loc=2, bbox_to_anchor=(1,1), shadow=True, fontsize='small')\n",
    "legend3 = ax3.legend(loc=2, bbox_to_anchor=(1,1), shadow=True, fontsize='small')\n",
    "legend1.get_frame().set_facecolor('C0')\n",
    "legend2.get_frame().set_facecolor('C0')\n",
    "legend3.get_frame().set_facecolor('C0')\n",
    "plt.show()"
   ]
  },
  {
   "cell_type": "markdown",
   "metadata": {},
   "source": [
    "### Space-time of one row"
   ]
  },
  {
   "cell_type": "code",
   "execution_count": null,
   "metadata": {
    "collapsed": true
   },
   "outputs": [],
   "source": [
    "genelife.get_curgol(gol)\n",
    "cnt = range(512)\n",
    "for i in range(512):\n",
    "    cnt[i] = sum([gol[(i*512)+j] for j in range(512)])"
   ]
  },
  {
   "cell_type": "code",
   "execution_count": null,
   "metadata": {
    "collapsed": false
   },
   "outputs": [],
   "source": [
    "foo = [(i,cnt[i]) for i in range(512) if cnt[i] == max(cnt)]\n",
    "foo"
   ]
  },
  {
   "cell_type": "code",
   "execution_count": null,
   "metadata": {
    "collapsed": true
   },
   "outputs": [],
   "source": [
    "myrow = foo[0][0]\n",
    "for i in range(512):\n",
    "    genelife.get_curgol(gol)\n",
    "    for j in range(512):\n",
    "        if gol[(512*myrow)+j]==1:\n",
    "            cgrid[i][j] = 1\n",
    "        else:\n",
    "            cgrid[i][j] = 0\n",
    "    genelife.genelife_update(1,0,0)\n",
    "    "
   ]
  },
  {
   "cell_type": "code",
   "execution_count": null,
   "metadata": {
    "collapsed": true
   },
   "outputs": [],
   "source": [
    "%matplotlib inline"
   ]
  },
  {
   "cell_type": "code",
   "execution_count": null,
   "metadata": {
    "collapsed": false
   },
   "outputs": [],
   "source": [
    "my_dpi=96\n",
    "my_cmap = rand_cmap(257, type='bright', first_color_black=True, last_color_black=False)\n",
    "\n",
    "fig, ax = plt.subplots(figsize=((3*256)/my_dpi, (3*256)/my_dpi), dpi=my_dpi, frameon=False)\n",
    "ax.axis('off')\n",
    "# mat = ax.matshow(cgrid, cmap=my_cmap, vmin=0.01, vmax=257)  # was vmax = LEN+1\n",
    "mat = ax.matshow(cgrid, cmap=my_cmap, vmin = 0, vmax = 56)\n",
    "plt.show()"
   ]
  },
  {
   "cell_type": "code",
   "execution_count": null,
   "metadata": {
    "collapsed": true
   },
   "outputs": [],
   "source": []
  },
  {
   "cell_type": "markdown",
   "metadata": {},
   "source": [
    "### Collection of example simulations"
   ]
  },
  {
   "cell_type": "code",
   "execution_count": null,
   "metadata": {
    "collapsed": false
   },
   "outputs": [],
   "source": [
    "#  selection=1 number of ones determines fitness\n",
    "#  Note that sequences must differ in number of ones for replication unless it is forced.\n",
    "#  ncoding plays no role, system takes about 4-5000 steps to reach all ones sequence\n",
    "#  Color scheme: color gradient with colors going from black (no 1s) to white (all 1s)\n",
    "nrun=1; ndisp=1000; nskip=0; niter=100; # simulation time stepping parameters\n",
    "#nrun=1; ndisp=1; nskip=0; niter=1;      # single step\n",
    "nhist = 0                                # set to n to turn on histogram configurations every nth step\n",
    "nstat = 0                                # set to n to turn on statistics trace every nth step\n",
    "rulemod = runparams[0] = 3               # 0,1 whether to allow GoL rule modifications\n",
    "                                         # with rulemod 1 2-live-nb birth, 3-live-nb non-birth & non-survival possible\n",
    "repscheme = runparams[1] = 0x1          # 0-1f: bit 0 on allow selection in 3 live nb configs, bit 1 on most difft vs 0 bit of canonical rotation\n",
    "                                         # bit 2 on do 2nd-nb model, bit 3,4 on enforce birth for failed selection with s=3,2\n",
    "                                         # bit 5 on do position dept 2-live-nb birth \n",
    "                                         # bit 6 on for gene encoded 1st neighbour masking\n",
    "                                         # bit 7 on for check last state change not caused by non GoL rule\n",
    "                                         # bit 8 extend previous check to all neighbours of site\n",
    "selection = runparams[2] = 1             # fitness for 2 live neighbor rule : 0-6 see subgenelife.c code\n",
    "overwritemask = runparams[3] = 3         # mask of 2 bits to overwrite instead of survival for 3(bit0) or 2(bit1) live nbs\n",
    "survival = runparams[4] = 2              # survive mask for two (bit 1) and three (bit 0) live neighbours : GoL = 3\n",
    "colorfunction = runparams[5] = 1         # color function 0(hash), ≥1(fnal), 2 nongolchg yellow, 3 notgolrul yellow\n",
    "inittype = runparams[6] = 200            # 1 init via 32x32 genepat.dat, n>1 init via nxn rand array\n",
    "\n",
    "nlog2pmut = simparams[0] = 8             # log2 gene mutation probability (0 or >56 means no mutation)\n",
    "initial1density = simparams[1] = 16384   # initial 1 density in GOL state\n",
    "                                         # 16384 = nearest to half of guaranteed C rand max value 32767 = 2**15 - 1\n",
    "initialrdensity = simparams[2] = 0       # initial density of random genes\n",
    "ncoding = simparams[3] = 24              # no of bits used to encode valid connection functions 1-16\n",
    "startgenechoice = simparams[4] = 8       # initialize genes to startgene number 0-8 : 8 is random choice of 0-7\n",
    "\n",
    "genelife.initialize_planes(npoffsets)\n",
    "genelife.initialize(runparams,simparams)\n",
    "framenr = 0\n",
    "cnt=0\n",
    "show0()\n",
    "#step()\n",
    "run()"
   ]
  },
  {
   "cell_type": "code",
   "execution_count": null,
   "metadata": {
    "collapsed": false
   },
   "outputs": [],
   "source": [
    "#  selection=2 scissors-stone-well-paper\n",
    "#  Note that sequences must differ for replication unless it is forced.\n",
    "#  \n",
    "#  Color scheme: four different classes are red, green, blue and white\n",
    "nrun=1; ndisp=1000; nskip=0; niter=100; # simulation time stepping parameters\n",
    "#nrun=1; ndisp=1; nskip=0; niter=1;      # single step\n",
    "nhist = 0                                # set to n to turn on histogram configurations every nth step\n",
    "nstat = 0                                # set to n to turn on statistics trace every nth step\n",
    "rulemod = runparams[0] = 1               # 0,1 whether to allow GoL rule modifications\n",
    "                                         # with rulemod 1 2-live-nb birth, 3-live-nb non-birth & non-survival possible\n",
    "repscheme = runparams[1] = 0x1          # 0-1f: bit 0 on allow selection in 3 live nb configs, bit 1 on most difft vs 0 bit of canonical rotation\n",
    "                                         # bit 2 on do 2nd-nb model, bit 3,4 on enforce birth for failed selection with s=3,2\n",
    "                                         # bit 5 on do position dept 2-live-nb birth \n",
    "                                         # bit 6 on for gene encoded 1st neighbour masking\n",
    "                                         # bit 7 on for check last state change not caused by non GoL rule\n",
    "                                         # bit 8 extend previous check to all neighbours of site\n",
    "selection = runparams[2] = 2             # fitness for 2 live neighbor rule : 0-6 see subgenelife.c code\n",
    "overwritemask = runparams[3] = 3         # mask of 2 bits to overwrite instead of survival for 3(bit0) or 2(bit1) live nbs\n",
    "survival = runparams[4] = 0              # survive mask for two (bit 1) and three (bit 0) live neighbours : GoL = 3\n",
    "colorfunction = runparams[5] = 1         # color function 0(hash), ≥1(fnal), 2 nongolchg yellow, 3 notgolrul yellow\n",
    "inittype = runparams[6] = 200            # 1 init via 32x32 genepat.dat, n>1 init via nxn rand array\n",
    "\n",
    "nlog2pmut = simparams[0] = 8             # log2 gene mutation probability (0 or >56 means no mutation)\n",
    "initial1density = simparams[1] = 16384   # initial 1 density in GOL state\n",
    "                                         # 16384 = nearest to half of guaranteed C rand max value 32767 = 2**15 - 1\n",
    "initialrdensity = simparams[2] = 0       # initial density of random genes\n",
    "ncoding = simparams[3] = 24              # no of bits used to encode valid connection functions 1-16\n",
    "startgenechoice = simparams[4] = 8       # initialize genes to startgene number 0-8 : 8 is random choice of 0-7\n",
    "\n",
    "genelife.initialize_planes(npoffsets)\n",
    "genelife.initialize(runparams,simparams)\n",
    "framenr = 0\n",
    "cnt=0\n",
    "show0()\n",
    "#step()\n",
    "run()"
   ]
  },
  {
   "cell_type": "code",
   "execution_count": null,
   "metadata": {
    "collapsed": false
   },
   "outputs": [],
   "source": [
    "#  selection=3 scissors-stone-well-paper but only next color wins\n",
    "#  Note that sequences must differ for replication unless it is forced.\n",
    "#  \n",
    "#  Color scheme: four different classes are red, green, blue and white\n",
    "nrun=1; ndisp=1000; nskip=0; niter=100; # simulation time stepping parameters\n",
    "#nrun=1; ndisp=1; nskip=0; niter=1;      # single step\n",
    "nhist = 0                                # set to n to turn on histogram configurations every nth step\n",
    "nstat = 0                                # set to n to turn on statistics trace every nth step\n",
    "rulemod = runparams[0] = 3               # 0,1 whether to allow GoL rule modifications\n",
    "                                         # with rulemod 1 2-live-nb birth, 3-live-nb non-birth & non-survival possible\n",
    "repscheme = runparams[1] = 0x171          # 0-1f: bit 0 on allow selection in 3 live nb configs, bit 1 on most difft vs 0 bit of canonical rotation\n",
    "                                         # bit 2 on do 2nd-nb model, bit 3,4 on enforce birth for failed selection with s=3,2\n",
    "                                         # bit 5 on do position dept 2-live-nb birth \n",
    "                                         # bit 6 on for gene encoded 1st neighbour masking\n",
    "                                         # bit 7 on for check last state change not caused by non GoL rule\n",
    "                                         # bit 8 extend previous check to all neighbours of site\n",
    "selection = runparams[2] = 3             # fitness for 2 live neighbor rule : 0-6 see subgenelife.c code\n",
    "overwritemask = runparams[3] = 0         # mask of 2 bits to overwrite instead of survival for 3(bit0) or 2(bit1) live nbs\n",
    "survival = runparams[4] = 0              # survive mask for two (bit 1) and three (bit 0) live neighbours : GoL = 3\n",
    "colorfunction = runparams[5] = 1         # color function 0(hash), ≥1(fnal), 2 nongolchg yellow, 3 notgolrul yellow\n",
    "inittype = runparams[6] = 200            # 1 init via 32x32 genepat.dat, n>1 init via nxn rand array\n",
    "\n",
    "nlog2pmut = simparams[0] = 8             # log2 gene mutation probability (0 or >56 means no mutation)\n",
    "initial1density = simparams[1] = 16384   # initial 1 density in GOL state\n",
    "                                         # 16384 = nearest to half of guaranteed C rand max value 32767 = 2**15 - 1\n",
    "initialrdensity = simparams[2] = 0       # initial density of random genes\n",
    "ncoding = simparams[3] = 24              # no of bits used to encode valid connection functions 1-16\n",
    "startgenechoice = simparams[4] = 8       # initialize genes to startgene number 0-8 : 8 is random choice of 0-7\n",
    "\n",
    "genelife.initialize_planes(npoffsets)\n",
    "genelife.initialize(runparams,simparams)\n",
    "framenr = 0\n",
    "cnt=0\n",
    "show0()\n",
    "#step()\n",
    "run()"
   ]
  },
  {
   "cell_type": "code",
   "execution_count": null,
   "metadata": {
    "collapsed": false
   },
   "outputs": [],
   "source": [
    "#  selection=4 cooperative birth between near-0 and near-1 sequences with appropriate parameters for survival\n",
    "#  Note that since two different sequences that cannot mutate directly into oneanother are required, birth is difficult\n",
    "#  The system needs some non selective birth to proliferate : enforce birth with repscheme bits 3,4\n",
    "#  The value of ncoding must be large, 24 or so, or non-specific replication takes over.\n",
    "#  Color scheme: green near 0, read near 1, white neither. Near means within ncoding bits. \n",
    "nrun=1; ndisp=200; nskip=800; niter=100; # simulation time stepping parameters\n",
    "#nrun=1; ndisp=1; nskip=0; niter=1;      # single step\n",
    "nhist = 0                                # set to n to turn on histogram configurations every nth step\n",
    "nstat = 0                                # set to n to turn on statistics trace every nth step\n",
    "rulemod = runparams[0] = 3               # 0,1 whether to allow GoL rule modifications\n",
    "                                         # with rulemod 1 2-live-nb birth, 3-live-nb non-birth & non-survival possible\n",
    "repscheme = runparams[1] = 0x19          # 0-1f: bit 0 on allow selection in 3 live nb configs, bit 1 on most difft vs 0 bit of canonical rotation\n",
    "                                         # bit 2 on do 2nd-nb model, bit 3,4 on enforce birth for failed selection with s=3,2\n",
    "                                         # bit 5 on do position dept 2-live-nb birth \n",
    "                                         # bit 6 on for gene encoded 1st neighbour masking\n",
    "                                         # bit 7 on for check last state change not caused by non GoL rule\n",
    "                                         # bit 8 extend previous check to all neighbours of site\n",
    "selection = runparams[2] = 4             # fitness for 2 live neighbor rule : 0-6 see subgenelife.c code\n",
    "overwritemask = runparams[3] = 0         # mask of 2 bits to overwrite instead of survival for 3(bit0) or 2(bit1) live nbs\n",
    "survival = runparams[4] = 3              # survive mask for two (bit 1) and three (bit 0) live neighbours : GoL = 3\n",
    "colorfunction = runparams[5] = 1         # color function 0(hash), ≥1(fnal), 2 nongolchg yellow, 3 notgolrul yellow\n",
    "inittype = runparams[6] = 200            # 1 init via 32x32 genepat.dat, n>1 init via nxn rand array\n",
    "\n",
    "nlog2pmut = simparams[0] = 7             # log2 gene mutation probability (0 or >56 means no mutation)\n",
    "initial1density = simparams[1] = 16384   # initial 1 density in GOL state\n",
    "                                         # 16384 = nearest to half of guaranteed C rand max value 32767 = 2**15 - 1\n",
    "initialrdensity = simparams[2] = 0       # initial density of random genes\n",
    "ncoding = simparams[3] = 24              # no of bits used to encode valid connection functions 1-16\n",
    "startgenechoice = simparams[4] = 8       # initialize genes to startgene number 0-8 : 8 is random choice of 0-7\n",
    "\n",
    "genelife.initialize_planes(npoffsets)\n",
    "genelife.initialize(runparams,simparams)\n",
    "framenr = 0\n",
    "cnt=0\n",
    "show0()\n",
    "#step()\n",
    "run()"
   ]
  },
  {
   "cell_type": "code",
   "execution_count": null,
   "metadata": {
    "collapsed": false
   },
   "outputs": [],
   "source": [
    "#  selection=5 with appropriate parameters for survival\n",
    "#  Note that since two different sequences that cannot mutate directly into oneanother are required, birth is difficult\n",
    "#  The system needs some non selective birth to proliferate : enforce birth with repscheme bits 3,4\n",
    "#  Predator and prey must be within ncoding bits of one another\n",
    "nrun=1; ndisp=200; nskip=800; niter=100; # simulation time stepping parameters\n",
    "#nrun=1; ndisp=1; nskip=0; niter=1;      # single step\n",
    "nhist = 0                                # set to n to turn on histogram configurations every nth step\n",
    "nstat = 0                                # set to n to turn on statistics trace every nth step\n",
    "rulemod = runparams[0] = 1               # 0,1 whether to allow GoL rule modifications\n",
    "                                         # with rulemod 1 2-live-nb birth, 3-live-nb non-birth & non-survival possible\n",
    "repscheme = runparams[1] = 0x9          # 0-1f: bit 0 on allow selection in 3 live nb configs, bit 1 on most difft vs 0 bit of canonical rotation\n",
    "                                         # bit 2 on do 2nd-nb model, bit 3,4 on enforce birth for failed selection with s=3,2\n",
    "                                         # bit 5 on do position dept 2-live-nb birth\n",
    "                                         # bit 6 on for gene encoded 1st neighbour masking\n",
    "                                         # bit 7 on for check last state change not caused by non GoL rule\n",
    "                                         # bit 8 extend previous check to all neighbours of site\n",
    "selection = runparams[2] = 5             # fitness for 2 live neighbor rule : 0-6 see subgenelife.c code\n",
    "overwritemask = runparams[3] = 3         # mask of 2 bits to overwrite instead of survival for 3(bit0) or 2(bit1) live nbs\n",
    "survival = runparams[4] = 3              # survive mask for two (bit 1) and three (bit 0) live neighbours : GoL = 3\n",
    "colorfunction = runparams[5] = 1         # color function 0(hash), ≥1(fnal), 2 nongolchg yellow, 3 notgolrul yellow\n",
    "inittype = runparams[6] = 200            # 1 init via 32x32 genepat.dat, n>1 init via nxn rand array\n",
    "\n",
    "nlog2pmut = simparams[0] = 7             # log2 gene mutation probability (0 or >56 means no mutation)\n",
    "initial1density = simparams[1] = 16384   # initial 1 density in GOL state\n",
    "                                         # 16384 = nearest to half of guaranteed C rand max value 32767 = 2**15 - 1\n",
    "initialrdensity = simparams[2] = 0       # initial density of random genes\n",
    "ncoding = simparams[3] = 8               # no of bits used to encode valid connection functions 1-16\n",
    "startgenechoice = simparams[4] = 8       # initialize genes to startgene number 0-8 : 8 is random choice of 0-7\n",
    "\n",
    "genelife.initialize_planes(npoffsets)\n",
    "genelife.initialize(runparams,simparams)\n",
    "framenr = 0\n",
    "cnt=0\n",
    "show0()\n",
    "#step()\n",
    "run()"
   ]
  },
  {
   "cell_type": "code",
   "execution_count": null,
   "metadata": {
    "collapsed": false
   },
   "outputs": [],
   "source": [
    "#  selection=10 with appropriate parameters for survival\n",
    "#  this model involves gene encoded coupling between 16 parallel planes of game of life : packed into 64-bit word\n",
    "#  the coupling makes bits on at most one other plane visible to first plane : locally dept on gene\n",
    "nrun=1; ndisp=100; nskip=0; niter=1; # simulation time stepping parameters\n",
    "#nrun=1; ndisp=1; nskip=0; niter=1;      # single step\n",
    "nhist = 0                                # set to n to turn on histogram configurations every nth step\n",
    "nstat = 0                                # set to n to turn on statistics trace every nth step\n",
    "rulemod = runparams[0] = 1               # 0,1 whether to allow GoL rule modifications\n",
    "                                         # with rulemod 1 2-live-nb birth, 3-live-nb non-birth & non-survival possible\n",
    "repscheme = runparams[1] = 0x0           # 0-1f: bit 0 on allow selection in 3 live nb configs, bit 1 on most difft vs 0 bit of canonical rotation\n",
    "                                         # bit 2 on do 2nd-nb model, bit 3,4 on enforce birth for failed selection with s=3,2\n",
    "                                         # bit 5 on do position dept 2-live-nb birth \n",
    "                                         # bit 6 on for gene encoded 1st neighbour masking\n",
    "                                         # bit 7 on for check last state change not caused by non GoL rule\n",
    "                                         # bit 8 extend previous check to all neighbours of site\n",
    "selection = runparams[2] = 10             # fitness for 2 live neighbor rule : 0-6 see subgenelife.c code\n",
    "overwritemask = runparams[3] = 0         # mask of 2 bits to overwrite instead of survival for 3(bit0) or 2(bit1) live nbs\n",
    "survival = runparams[4] = 0              # survive mask for two (bit 1) and three (bit 0) live neighbours : GoL = 3\n",
    "colorfunction = runparams[5] = 2         # color function 0(hash), ≥1(fnal), 2 color combined gol states, 3 notgolrul yellow\n",
    "inittype = runparams[6] = 200            # 1 init via 32x32 genepat.dat, n>1 init via nxn rand array\n",
    "\n",
    "nlog2pmut = simparams[0] = 7             # log2 gene mutation probability (0 or >56 means no mutation)\n",
    "initial1density = simparams[1] = 16384   # initial 1 density in GOL state\n",
    "                                         # 16384 = nearest to half of guaranteed C rand max value 32767 = 2**15 - 1\n",
    "initialrdensity = simparams[2] = 0       # initial density of random genes\n",
    "ncoding = simparams[3] = 24              # no of bits used to encode valid connection functions 1-16\n",
    "startgenechoice = simparams[4] = 16       # initialize genes to startgene number 0-8 : 8 is random choice of 0-7\n",
    "\n",
    "genelife.initialize_planes(npoffsets)\n",
    "genelife.initialize(runparams,simparams)\n",
    "framenr = 0\n",
    "cnt=0\n",
    "show0()\n",
    "#step()\n",
    "run()"
   ]
  },
  {
   "cell_type": "code",
   "execution_count": null,
   "metadata": {
    "collapsed": false
   },
   "outputs": [],
   "source": [
    "nrun=1; ndisp=100; nskip=0; niter=1; # simulation time stepping parameters\n",
    "#nrun=1; ndisp=1; nskip=0; niter=1;      # single step\n",
    "nhist = 0                                # set to n to turn on histogram configurations every nth step\n",
    "nstat = 0                                # set to n to turn on statistics trace every nth step\n",
    "rulemod = runparams[0] = 1               # 0,1 whether to allow GoL rule modifications\n",
    "                                         # with rulemod 1 2-live-nb birth, 3-live-nb non-birth & non-survival possible\n",
    "repscheme = runparams[1] = 0x0           # 0-1f: bit 0 on allow selection in 3 live nb configs, bit 1 on most difft vs 0 bit of canonical rotation\n",
    "                                         # bit 2 on do 2nd-nb model, bit 3,4 on enforce birth for failed selection with s=3,2\n",
    "                                         # bit 5 on do position dept 2-live-nb birth \n",
    "                                         # bit 6 on for gene encoded 1st neighbour masking\n",
    "                                         # bit 7 on for check last state change not caused by non GoL rule\n",
    "                                         # bit 8 extend previous check to all neighbours of site\n",
    "selection = runparams[2] = 11            # fitness for 2 live neighbor rule : 0-6 see subgenelife.c code\n",
    "overwritemask = runparams[3] = 0         # mask of 2 bits to overwrite instead of survival for 3(bit0) or 2(bit1) live nbs\n",
    "survival = runparams[4] = 3              # survive mask for two (bit 1) and three (bit 0) live neighbours : GoL = 3\n",
    "colorfunction = runparams[5] = 1         # color function 0(hash), ≥1(fnal), 2 color gol planes, 3 notgolrul yellow\n",
    "inittype = runparams[6] = 200            # 1 init via 32x32 genepat.dat, n>1 init via nxn rand array\n",
    "nlog2pmut = simparams[0] = 6             # log2 gene mutation probability (0 or >56 means no mutation)\n",
    "initial1density = simparams[1] =  16384  # initial 1 density in GOL state\n",
    "                                         # 16384 = nearest to half of guaranteed C rand max value 32767 = 2**15 - 1\n",
    "initialrdensity = simparams[2] = 0       # initial density of random genes\n",
    "ncoding = simparams[3] = 24              # no of bits used to encode valid connection functions 1-16\n",
    "startgenechoice = simparams[4] = 16      # initialize genes to startgene number 0-8 : 8 is random choice of 0-7\n",
    "\n",
    "genelife.initialize_planes(npoffsets)\n",
    "genelife.initialize(runparams,simparams)\n",
    "framenr = 0\n",
    "cnt=0\n",
    "show0()\n",
    "# step()\n",
    "run()"
   ]
  },
  {
   "cell_type": "code",
   "execution_count": null,
   "metadata": {
    "collapsed": false
   },
   "outputs": [],
   "source": [
    "nrun=1; ndisp=100; nskip=0; niter=1; # simulation time stepping parameters\n",
    "#nrun=1; ndisp=1; nskip=0; niter=1;      # single step\n",
    "nhist = 0                                # set to n to turn on histogram configurations every nth step\n",
    "nstat = 0                                # set to n to turn on statistics trace every nth step\n",
    "rulemod = runparams[0] = 1               # 0,1 whether to allow GoL rule modifications\n",
    "                                         # with rulemod 1 2-live-nb birth, 3-live-nb non-birth & non-survival possible\n",
    "repscheme = runparams[1] = 0x0           # 0-1f: bit 0 on allow selection in 3 live nb configs, bit 1 on most difft vs 0 bit of canonical rotation\n",
    "                                         # bit 2 on do 2nd-nb model, bit 3,4 on enforce birth for failed selection with s=3,2\n",
    "                                         # bit 5 on do position dept 2-live-nb birth \n",
    "                                         # bit 6 on for gene encoded 1st neighbour masking\n",
    "                                         # bit 7 on for check last state change not caused by non GoL rule\n",
    "                                         # bit 8 extend previous check to all neighbours of site\n",
    "selection = runparams[2] = 12            # fitness for 2 live neighbor rule : 0-6 see subgenelife.c code\n",
    "overwritemask = runparams[3] = 0         # mask of 2 bits to overwrite instead of survival for 3(bit0) or 2(bit1) live nbs\n",
    "survival = runparams[4] = 3              # survive mask for two (bit 1) and three (bit 0) live neighbours : GoL = 3\n",
    "colorfunction = runparams[5] = 2         # color function 0(hash), ≥1(fnal), 2 color gol planes, 3 notgolrul yellow\n",
    "inittype = runparams[6] = 200            # 1 init via 32x32 genepat.dat, n>1 init via nxn rand array\n",
    "nlog2pmut = simparams[0] = 5             # log2 gene mutation probability (0 or >56 means no mutation)\n",
    "initial1density = simparams[1] =  16384  # initial 1 density in GOL state\n",
    "                                         # 16384 = nearest to half of guaranteed C rand max value 32767 = 2**15 - 1\n",
    "initialrdensity = simparams[2] = 0       # initial density of random genes\n",
    "ncoding = simparams[3] = 24              # no of bits used to encode valid connection functions 1-16\n",
    "startgenechoice = simparams[4] = 16      # initialize genes to startgene number 0-8 : 8 is random choice of 0-7\n",
    "\n",
    "genelife.initialize_planes(npoffsets)\n",
    "genelife.initialize(runparams,simparams)\n",
    "framenr = 0\n",
    "cnt=0\n",
    "show0()\n",
    "# step()\n",
    "run()"
   ]
  },
  {
   "cell_type": "code",
   "execution_count": null,
   "metadata": {
    "collapsed": true
   },
   "outputs": [],
   "source": []
  }
 ],
 "metadata": {
  "hide_input": false,
  "kernelspec": {
   "display_name": "Python 2",
   "language": "python",
   "name": "python2"
  },
  "language_info": {
   "codemirror_mode": {
    "name": "ipython",
    "version": 2
   },
   "file_extension": ".py",
   "mimetype": "text/x-python",
   "name": "python",
   "nbconvert_exporter": "python",
   "pygments_lexer": "ipython2",
   "version": "2.7.14"
  }
 },
 "nbformat": 4,
 "nbformat_minor": 2
}
