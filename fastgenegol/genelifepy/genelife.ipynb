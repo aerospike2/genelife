{
 "cells": [
  {
   "cell_type": "code",
   "execution_count": 1,
   "metadata": {
    "collapsed": true
   },
   "outputs": [],
   "source": [
    "#%gui osx\n",
    "\n",
    "import random as rand\n",
    "import pygame as pg\n",
    "\n",
    "from genelife import *"
   ]
  },
  {
   "cell_type": "markdown",
   "metadata": {},
   "source": [
    "## Graphics notes"
   ]
  },
  {
   "cell_type": "markdown",
   "metadata": {},
   "source": [
    "This notebook uses the pygame interface.\n",
    "\n",
    "It pops up a pygame window (labeled \"Gene Life\"), which must be moved to the side to see the notebook.\n",
    "\n",
    "To stop the simulation mid-stream, you can click on the pygame window, click in the window. \n",
    "\n",
    "Color is currently a 32 bit hash of the 64 bit gene value.\n",
    "\n",
    "To change resolution (size of array, only powers of 2 allowed): \n",
    "* change `subgenelife.c` line 23 (`log2N`) and rebuild c lib\n",
    "* change `genlife.py` line 10 (also `log2N`)\n",
    "* change `Width` and `Height` below."
   ]
  },
  {
   "cell_type": "markdown",
   "metadata": {},
   "source": [
    "## Initialization"
   ]
  },
  {
   "cell_type": "markdown",
   "metadata": {},
   "source": [
    "See additional discussion in the [genelife wiki](https://github.com/js1200/genelife/wiki/Probability-parameters-in-genelife).\n",
    "\n",
    "The code determining the effect of genes on birth, and the mutation of genomes is currently on lines 229-242 of `subgenelife.c`.\n",
    "* param `rulemod   == 1` => genetically alteration of GOL rule kicks in\n",
    "Possible schemes for chosing replication\n",
    "* param `repscheme == 0` => replication ancestor for 3-live nb configs from unique most difft pos indept of seq\n",
    "* param `repscheme == 1` => allow 2-gene selection for 3-live nb configs (two most similar pos's) \n",
    "* param `repscheme == 2` => choose canonical rotation 0-position bit rather than most difft bit \n",
    "* param `repscheme == 3` => combination of 1 and 2 above\n",
    "Possible replication schemes for case of 2 live nbrs and in case of repscheme%2==1 also for 2 of 3-live nbs\n",
    "* param `selection == 0` larger integer value determines survival\n",
    "* param `selection == 1` larger number of ones determines survival\n",
    "* param `selection == 2` scissors-stone-well-paper on bottom 2 bits of nr of ones N1(g0), N1(g1).\n",
    "* param `selection == 3` selection based on closeness to one of the two targets (ncoding bits apart)\n",
    "* param `selection == 4` selection based on closeness of g0 to 0x0 and g1 to all 1's; \n",
    "  for birth distances must satisfy `d0<ncoding`, `d1<ncoding`, and `dd=D(g0,g1)<ncoding.`  `ncoding>55` for any    exceptions.\n",
    "* param `selection == 5` Predator prey: prey goes toward all 0's, predator goes toward all 1's.  N1(g)<32 => prey; birth if different and at least one prey; both prey => prey with less 1's wins, prey-predator => predator wins.\n",
    "* param `ncoding`        Number of coding bits in gene, currently used only for selection cases 3 and 4 \n",
    "* param `survival`       Survival mask for s==2 (bit 1) or 3 (bit 0) live neighbours: GoL survival is value 3\n",
    "* param `overwritemask`  Bit mask to allow gene birth overwrite:  s==2 (bit 1)  s==3 (bit 0).\n",
    "* param `nlog2pmut == x` fixes mutation probability as 2^(-x)"
   ]
  },
  {
   "cell_type": "raw",
   "metadata": {},
   "source": []
  },
  {
   "cell_type": "code",
   "execution_count": 2,
   "metadata": {
    "collapsed": true
   },
   "outputs": [],
   "source": [
    "offsets = [[ 0, 0, 0],\n",
    "           [-1,-1, 0],\n",
    "           [ 0,-1, 0],\n",
    "           [ 1,-1, 0],\n",
    "           [ 1, 0, 0],\n",
    "           [ 1, 1, 0],\n",
    "           [ 0, 1, 0],\n",
    "           [-1, 1, 0],\n",
    "           [-1, 0, 0]]\n",
    "numHis = pow(2,len(offsets))\n",
    "histo=np.zeros(numHis,np.uint64)\n",
    "flatoff =  [x for sublist in offsets for x in sublist]\n",
    "npoffsets = np.array(flatoff,np.int32)\n",
    "\n",
    "runparams = np.zeros(5,np.int32)\n",
    "simparams = np.zeros(5,np.int32)    # 5 parameters passed to C"
   ]
  },
  {
   "cell_type": "markdown",
   "metadata": {},
   "source": [
    "Following animation cell is set up to display for `ndisp` time steps, run without display for `nskip` time steps, and repeat, up to a total of `niter*ndisp` frames displayed (`niter*(ndisp+nskip)` total time steps):\n",
    "\n",
    "|---`ndisp`---|------------------`nskip`---------------| ... repeated for `niter` times\n"
   ]
  },
  {
   "cell_type": "code",
   "execution_count": 3,
   "metadata": {
    "collapsed": true
   },
   "outputs": [],
   "source": [
    "Width = 512\n",
    "Height = 512\n",
    "\n",
    "screen = pg.display.set_mode([Width, Height])\n",
    "scr = pg.surface.Surface([Width,Height], 0)\n",
    "#scr2 = pg.surface.Surface([Width*2,Height*2], 0)\n",
    "#pygame.transform.scale2x(scr,scr2)  # Norman do you know how to do this?\n",
    "cnt = 0\n",
    "caption = \"Gene Life at iteration %d\" % cnt\n",
    "pg.display.set_caption(caption)\n",
    "pg.draw.rect(screen, [10, 10, 10],(0, 0 , Width, Height + 1), 0)\n",
    "pg.display.update()\n",
    "\n",
    "cgrid = pg.surfarray.pixels2d(screen)"
   ]
  },
  {
   "cell_type": "code",
   "execution_count": 4,
   "metadata": {
    "collapsed": true
   },
   "outputs": [],
   "source": [
    "def update():\n",
    "    global gol, cgrid\n",
    "    global golg\n",
    "    global log2N\n",
    "    global runparams\n",
    "    global cnt\n",
    "    global framenr\n",
    "\n",
    "    cnt = cnt+1\n",
    "    if cnt % ndisp == 0:  # insert the non-displayed iterations\n",
    "        genelife.genelife_update(nskip, 0)\n",
    "        genelife.countspecies(gol,golg,runparams)\n",
    "        framenr = framenr + nskip\n",
    "    genelife.genelife_update(nrun, 0)\n",
    "    genelife.get_curgol(gol)\n",
    "    genelife.get_curgolg(golg)\n",
    "    framenr = framenr+nrun\n",
    "    colorgrid()  # sets  cgrid\n",
    "    #time_text.set_text('cnt = %.1d' % framenr)\n",
    "    #time_text.set_color('w')\n",
    "    return\n",
    "\n",
    "# this function defined in genelife.py doesn't work in the notebook.\n",
    "# must redefine it here.  Maybe scope of globals?\n",
    "def colorgrid():\n",
    "    \"\"\" colors array according to grid and genegrid using colormethod\"\"\"\n",
    "    global gol,cgrid,golg,cgolg,N\n",
    "    \n",
    "    genelife.colorgenes(gol,golg,cgolg)\n",
    "    for i in xrange(N):\n",
    "        for j in xrange(N):\n",
    "            ij = i+j*N\n",
    "            cgrid[i,j] = cgolg[ij]\n",
    "            # cgrid=np.reshape(cgolg,(N,N))   does not work, why ???????\n",
    "    return\n"
   ]
  },
  {
   "cell_type": "code",
   "execution_count": 5,
   "metadata": {
    "collapsed": false
   },
   "outputs": [],
   "source": [
    "nrun=1; nskip = 1; ndisp=20; niter=100;  # changed from niter 10 just for quicker exploration\n",
    "#nrun=1; nskip = 0; ndisp=1; niter=1;  # changed from niter 10 just for quicker exploration\n",
    "\n",
    "rulemod = runparams[0] = 1               # 0,1 whether to allow GoL rule modifications\n",
    "repscheme = runparams[1] = 1             # 0-3, bit 0 on allow selection in 3 live nb configs, bit 1 on most difft vs 0 bit of canonical rotation\n",
    "selection = runparams[2] = 3             # fitness for 2 live neighbor rule : 0-5 see subgenelife.c code\n",
    "overwritemask = runparams[3] = 3         # mask of 2 bits to overwrite instead of survival for 3(bit0) or 2(bit1) live nbs\n",
    "survival = runparams[4] = 0              # survive mask for two (bit 1) and three (bit 0) live neighbours : GoL = 3\n",
    "\n",
    "nlog2pmut = simparams[0] = 20             # gene mutation probability\n",
    "initial1density = simparams[1] = 16384   # initial 1 density in GOL state\n",
    "                                         # 16384 = nearest to half of guaranteed C rand max value 32767 = 2**15 - 1\n",
    "initialrdensity = simparams[2] = 32768       # initial density of random genes\n",
    "ncoding = simparams[3] = 16              # no of bits used to encode valid connection functions 1-16\n",
    "startgenechoice = simparams[4] = 8       # initialize genes to startgene number 0-8 : 8 is random choice of 0-7\n",
    "\n",
    "genelife.initialize_planes(npoffsets)\n",
    "genelife.initialize(runparams,simparams)\n",
    "framenr = 0\n",
    "cnt=0"
   ]
  },
  {
   "cell_type": "code",
   "execution_count": 6,
   "metadata": {
    "collapsed": true
   },
   "outputs": [],
   "source": [
    "gogo = True\n",
    "while gogo:\n",
    "    for event in pg.event.get():\n",
    "        if event.type==pg.QUIT:\n",
    "            gogo = False\n",
    "        if event.type==pg.MOUSEBUTTONDOWN:\n",
    "            gogo = False\n",
    "    update()\n",
    "    caption = \"Gene Life at iteration %d\" % framenr\n",
    "    pg.display.set_caption(caption)\n",
    "    pg.display.flip()"
   ]
  },
  {
   "cell_type": "code",
   "execution_count": null,
   "metadata": {
    "collapsed": true
   },
   "outputs": [],
   "source": [
    "genelife.countspecies(gol,golg,runparams)"
   ]
  },
  {
   "cell_type": "markdown",
   "metadata": {},
   "source": [
    "### Space-time of one row"
   ]
  },
  {
   "cell_type": "code",
   "execution_count": 7,
   "metadata": {
    "collapsed": true
   },
   "outputs": [],
   "source": [
    "genelife.get_curgol(gol)\n",
    "cnt = range(512)\n",
    "for i in range(512):\n",
    "    cnt[i] = sum([gol[(i*512)+j] for j in range(512)])"
   ]
  },
  {
   "cell_type": "code",
   "execution_count": 8,
   "metadata": {
    "collapsed": false
   },
   "outputs": [
    {
     "data": {
      "text/plain": [
       "[(211, 191.0)]"
      ]
     },
     "execution_count": 8,
     "metadata": {},
     "output_type": "execute_result"
    }
   ],
   "source": [
    "foo = [(i,cnt[i]) for i in range(512) if cnt[i] == max(cnt)]\n",
    "foo"
   ]
  },
  {
   "cell_type": "code",
   "execution_count": 9,
   "metadata": {
    "collapsed": true
   },
   "outputs": [],
   "source": [
    "myrow = foo[0][0]\n",
    "for i in range(512):\n",
    "    genelife.get_curgol(gol)\n",
    "    for j in range(512):\n",
    "        if gol[(512*myrow)+j]==1:\n",
    "            cgrid[i][j] = 1\n",
    "        else:\n",
    "            cgrid[i][j] = 0\n",
    "    genelife.genelife_update(1,0)\n",
    "    "
   ]
  },
  {
   "cell_type": "code",
   "execution_count": 10,
   "metadata": {
    "collapsed": true
   },
   "outputs": [],
   "source": [
    "%matplotlib inline"
   ]
  },
  {
   "cell_type": "code",
   "execution_count": 11,
   "metadata": {
    "collapsed": false
   },
   "outputs": [
    {
     "name": "stdout",
     "output_type": "stream",
     "text": [
      "Number of labels: 257\n"
     ]
    },
    {
     "data": {
      "image/png": "[encoded data removed]",
      "text/plain": [
       "<matplotlib.figure.Figure at 0x11724cad0>"
      ]
     },
     "metadata": {},
     "output_type": "display_data"
    },
    {
     "data": {
      "image/png": "[encoded data removed]",
      "text/plain": [
       "<matplotlib.figure.Figure at 0x11724c9d0>"
      ]
     },
     "metadata": {},
     "output_type": "display_data"
    }
   ],
   "source": [
    "my_dpi=96\n",
    "my_cmap = rand_cmap(257, type='bright', first_color_black=True, last_color_black=False)\n",
    "\n",
    "fig, ax = plt.subplots(figsize=((3*256)/my_dpi, (3*256)/my_dpi), dpi=my_dpi, frameon=False)\n",
    "ax.axis('off')\n",
    "# mat = ax.matshow(cgrid, cmap=my_cmap, vmin=0.01, vmax=257)  # was vmax = LEN+1\n",
    "mat = ax.matshow(cgrid, cmap=my_cmap, vmin = 0, vmax = 56)\n",
    "plt.show()"
   ]
  },
  {
   "cell_type": "code",
   "execution_count": null,
   "metadata": {
    "collapsed": true
   },
   "outputs": [],
   "source": []
  }
 ],
 "metadata": {
  "hide_input": false,
  "kernelspec": {
   "display_name": "Python 2",
   "language": "python",
   "name": "python2"
  },
  "language_info": {
   "codemirror_mode": {
    "name": "ipython",
    "version": 2
   },
   "file_extension": ".py",
   "mimetype": "text/x-python",
   "name": "python",
   "nbconvert_exporter": "python",
   "pygments_lexer": "ipython2",
   "version": "2.7.14"
  }
 },
 "nbformat": 4,
 "nbformat_minor": 2
}
