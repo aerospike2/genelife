{
 "cells": [
  {
   "cell_type": "code",
   "execution_count": 1,
   "metadata": {
    "collapsed": false
   },
   "outputs": [
    {
     "name": "stdout",
     "output_type": "stream",
     "text": [
      "pygame 1.9.5.dev0\n",
      "Hello from the pygame community. https://www.pygame.org/contribute.html\n"
     ]
    }
   ],
   "source": [
    "#%gui osx\n",
    "# %matplotlib inline # doesn't work for John\n",
    "import random as rand\n",
    "import pygame as pg\n",
    "\n",
    "from genelife import *"
   ]
  },
  {
   "cell_type": "markdown",
   "metadata": {},
   "source": [
    "## Graphics notes"
   ]
  },
  {
   "cell_type": "markdown",
   "metadata": {},
   "source": [
    "This notebook uses the pygame interface.\n",
    "\n",
    "It pops up a pygame window (labeled \"Gene Life\"), which must be moved to the side to see the notebook.\n",
    "\n",
    "To stop the simulation mid-stream, you can click on the pygame window, click in the window. \n",
    "\n",
    "Color is currently a 32 bit hash of the 64 bit gene value.\n",
    "\n",
    "To change resolution: \n",
    "* change `subgenelife.c` line 23 (`log2N`) and rebuild c lib\n",
    "* change `genlife.py` line 10 (also `log2N`)\n",
    "* change `Width` and `Height` below."
   ]
  },
  {
   "cell_type": "markdown",
   "metadata": {},
   "source": [
    "## Initialization"
   ]
  },
  {
   "cell_type": "markdown",
   "metadata": {},
   "source": [
    "See additional discussion in the [genelife wiki](https://github.com/js1200/genelife/wiki/Probability-parameters-in-genelife).\n",
    "\n",
    "The code determining the effect of genes on birth, and the mutation of genomes is currently on lines 229-242 of `subgene.c`.\n",
    "\n",
    "Parameter `rulemod` deterimines if genes are affecting the GOL dynamics at all.\n",
    "* `rulemod == 0` => Genes have no affect; GOL dynamics prevail.  \n",
    "* `rulemod == 1` => Genes alter GOL dynamics.\n",
    "\n",
    "Parameter `repscheme` controls possible replication schemes for birth in the case of 3 live neighbours.  For 3 live neighbours, a unique one may be chosen deterministically in 2 ways:  (i) most different, and (ii) a particular nbr (0th) of a canonical rotation.  \n",
    "\n",
    "Consider two cases, `repscheme bit 0 unset` and `repscheme bit 0 set`, and for each of these consider when `repscheme bit 1` is unset and set:\n",
    "\n",
    "* `repscheme bit 0 unset`\n",
    "    * `repscheme == 0` => use most different of the 3 live nbrs as ancestor\n",
    "    * `repscheme == 2` => use 0th nbr of canonical rotation as ancestor\n",
    "* `repscheme bit 0 set`\n",
    "    * `repscheme == 1` => apply selection to complement pair of most different of the 3 live nbrs.\n",
    "    * `repscheme == 3` => apply selection to complement pair of 0th nbr of canonical rotation\n",
    "\n",
    "The `selection` parameter provides a choice between a variety of deterministic schemes to choose between two possible ancestors, either in the case of birth from 2 live neighbours or the two cases of birth from 3 live neighbours with `repscheme bit 0` set.\n",
    "* `selection == 0` larger integer value determines survival\n",
    "* `selection == 1` larger number of 1's \n",
    "* `selection == 2` paper-scissors-rock-well\n",
    "* `selection == 3` selection based on closeness to one of the two difft targets (ncoding bits apart)\n",
    "* `selection == 4` selection based on closeness of g0 to 0x0 and g1 to all 1's; for birth distances must satisfy `d0<ncoding`, `d1<ncoding`, and `dd=D(g0,g1) < ncoding.`  `ncoding>55` for any exceptions.\n",
    "* `selection == 5` Predator prey: prey goes toward all 0's, predator goes toward all 1's.  N1(g)<32 => prey; birth if different and at least one prey; both prey => prey with less 1's wins, prey-predator => predator wins.\n",
    "\n",
    "Parameter `nlog2pmut` fixes mutation probability.  `nlog2pmut` takes integer values, label them $k$; then  $p_{\\rm mut} = 2^{-k}$"
   ]
  },
  {
   "cell_type": "code",
   "execution_count": 2,
   "metadata": {
    "collapsed": true
   },
   "outputs": [],
   "source": [
    "offsets = [[ 0, 0, 0],\n",
    "           [-1,-1, 0],\n",
    "           [ 0,-1, 0],\n",
    "           [ 1,-1, 0],\n",
    "           [ 1, 0, 0],\n",
    "           [ 1, 1, 0],\n",
    "           [ 0, 1, 0],\n",
    "           [-1, 1, 0],\n",
    "           [-1, 0, 0]]\n",
    "numHis = pow(2,len(offsets))\n",
    "histo=np.zeros(numHis,np.uint64)\n",
    "flatoff =  [x for sublist in offsets for x in sublist]\n",
    "npoffsets = np.array(flatoff,np.int32)\n",
    "\n",
    "runparams = np.zeros(7,np.int32)\n",
    "simparams = np.zeros(5,np.int32)    # 5 parameters passed to C"
   ]
  },
  {
   "cell_type": "markdown",
   "metadata": {},
   "source": [
    "Following animation cell is set up to display for `ndisp` time steps, run without display for `nskip` time steps, and repeat, up to a total of `niter*ndisp` frames displayed (`niter*(ndisp+nskip)` total time steps):\n",
    "\n",
    "|---`ndisp`---|------------------`nskip`---------------| ... repeated for `niter` times\n"
   ]
  },
  {
   "cell_type": "code",
   "execution_count": 3,
   "metadata": {
    "collapsed": true
   },
   "outputs": [],
   "source": [
    "Width = 512\n",
    "Height = 512\n",
    "\n",
    "screen = pg.display.set_mode([2*Width, 2*Height])\n",
    "scr = pg.surface.Surface([Width,Height], 0)\n",
    "#scr2 = pg.surface.Surface([Width*2,Height*2], 0)\n",
    "cnt = 0\n",
    "caption = \"Gene Life at iteration %d\" % cnt\n",
    "pg.display.set_caption(caption)\n",
    "pg.draw.rect(screen, [10, 10, 10],(0, 0 , Width, Height + 1), 0)\n",
    "pg.transform.scale2x(scr,screen)  # Norman do you know how to do this?\n",
    "pg.display.update()\n",
    "\n",
    "cgrid = pg.surfarray.pixels2d(scr)"
   ]
  },
  {
   "cell_type": "code",
   "execution_count": 4,
   "metadata": {
    "collapsed": true
   },
   "outputs": [],
   "source": [
    "def update():\n",
    "    global gol, cgrid\n",
    "    global golg\n",
    "    global log2N\n",
    "    global runparams\n",
    "    global cnt\n",
    "    global framenr\n",
    "\n",
    "    cnt = cnt+1\n",
    "    if cnt % ndisp == 0:  # insert the non-displayed iterations & count species\n",
    "        genelife.genelife_update(nskip, 0)\n",
    "        # genelife.countspecies(gol,golg)\n",
    "        genelife.countspecieshash()\n",
    "        framenr = framenr + nskip\n",
    "    genelife.genelife_update(nrun, 0)\n",
    "    genelife.get_curgol(gol)\n",
    "    genelife.get_curgolg(golg)\n",
    "    framenr = framenr+nrun\n",
    "    colorgrid()  # sets  cgrid\n",
    "    #time_text.set_text('cnt = %.1d' % framenr)\n",
    "    #time_text.set_color('w')\n",
    "    return\n",
    "\n",
    "# this function defined in genelife.py doesn't work in the notebook.\n",
    "# must redefine it here.  Maybe scope of globals?\n",
    "def colorgrid():\n",
    "    \"\"\" colors array according to grid and genegrid using colormethod\"\"\"\n",
    "    global gol,cgrid,golg,cgolg,N\n",
    "    \n",
    "    genelife.colorgenes(gol,golg,cgolg)\n",
    "    for i in xrange(N):\n",
    "        for j in xrange(N):\n",
    "            ij = i+j*N\n",
    "            cgrid[i,j] = cgolg[ij]\n",
    "            # cgrid=np.reshape(cgolg,(N,N))   does not work, why ???????\n",
    "    return\n"
   ]
  },
  {
   "cell_type": "code",
   "execution_count": 17,
   "metadata": {
    "collapsed": false
   },
   "outputs": [],
   "source": [
    "nrun=1; nskip = 0; ndisp=200; niter=100;  # changed from niter 10 just for quicker exploration\n",
    "#nrun=1; nskip = 0; ndisp=1; niter=1;  # changed from niter 10 just for quicker exploration\n",
    "\n",
    "rulemod = runparams[0] = 1               # 0,1 whether to allow GoL rule modifications\n",
    "repscheme = runparams[1] = 1             # 0-3, bit 0 on allow selection in 3 live nb configs, bit 1 on most difft vs 0 bit of canonical rotation\n",
    "selection = runparams[2] = 6             # fitness for 2 live neighbor rule : 0-5 see subgenelife.c code\n",
    "overwritemask = runparams[3] = 3         # mask of 2 bits to overwrite instead of survival for 3(bit0) or 2(bit1) live nbs\n",
    "survival = runparams[4] = 0              # survive mask for two (bit 1) and three (bit 0) live neighbours : GoL = 3\n",
    "colorfunction = runparams[5] = 1         # color function 0(hash)or 1(fnal)\n",
    "fileinit = runparams[6] = 0              # init via 32x32 genepat.dat\n",
    "\n",
    "nlog2pmut = simparams[0] = 3             # log2 gene mutation probability (0 or >56 means no mutation)\n",
    "initial1density = simparams[1] = 16384   # initial 1 density in GOL state\n",
    "                                         # 16384 = nearest to half of guaranteed C rand max value 32767 = 2**15 - 1\n",
    "initialrdensity = simparams[2] = 0       # initial density of random genes\n",
    "ncoding = simparams[3] = 16              # no of bits used to encode valid connection functions 1-16\n",
    "startgenechoice = simparams[4] = 8       # initialize genes to startgene number 0-8 : 8 is random choice of 0-7\n",
    "\n",
    "\n",
    "genelife.initialize_planes(npoffsets)\n",
    "genelife.initialize(runparams,simparams)\n",
    "framenr = 0\n",
    "cnt=0\n"
   ]
  },
  {
   "cell_type": "code",
   "execution_count": null,
   "metadata": {
    "collapsed": true
   },
   "outputs": [],
   "source": [
    "# display initial population and count species\n",
    "caption = \"Gene Life at iteration %d\" % framenr\n",
    "pg.display.set_caption(caption)\n",
    "genelife.get_curgol(gol)\n",
    "genelife.get_curgolg(golg)\n",
    "colorgrid()\n",
    "pg.transform.scale2xact(scr,screen)  # use this for custom pygame no smoother    \n",
    "pg.display.flip()\n",
    "genelife.countspecieshash()"
   ]
  },
  {
   "cell_type": "code",
   "execution_count": null,
   "metadata": {
    "collapsed": false
   },
   "outputs": [],
   "source": [
    "#single step and update display and species counts\n",
    "update()\n",
    "caption = \"Gene Life at iteration %d\" % framenr\n",
    "pg.display.set_caption(caption)\n",
    "genelife.get_curgol(gol)\n",
    "genelife.get_curgolg(golg)\n",
    "pg.transform.scale2xact(scr,screen)  # use this for custom pygame no smoother    \n",
    "pg.display.flip()\n",
    "genelife.countspecieshash()\n",
    "# ipython.notebook.move_selection_up  # would like to reselect cell after execution"
   ]
  },
  {
   "cell_type": "code",
   "execution_count": null,
   "metadata": {
    "collapsed": true
   },
   "outputs": [],
   "source": [
    "# infinite loop of display updates (click in graphics window to stop)\n",
    "gogo = True\n",
    "while gogo:\n",
    "    for event in pg.event.get():\n",
    "        if event.type==pg.QUIT:\n",
    "            gogo = False\n",
    "        if event.type==pg.MOUSEBUTTONDOWN:\n",
    "            gogo = False\n",
    "    update()\n",
    "    caption = \"Gene Life at iteration %d\" % framenr\n",
    "    pg.display.set_caption(caption)\n",
    "    # pg.transform.scale2x(scr,screen)  # use this for pygame scale2x with smoother\n",
    "    pg.transform.scale2xact(scr,screen)  # use this for custom pygame no smoother    \n",
    "    pg.display.flip()"
   ]
  },
  {
   "cell_type": "markdown",
   "metadata": {},
   "source": [
    "### Trace of number of live cell statistics"
   ]
  },
  {
   "cell_type": "code",
   "execution_count": null,
   "metadata": {
    "collapsed": true
   },
   "outputs": [],
   "source": [
    "ntmax = 1024\n",
    "while framenr > ntmax: ntmax = ntmax*2   # increase ntmax to next power of 2 to match C memory\n",
    "tpts=np.zeros(ntmax,np.int32)\n",
    "livestats = np.zeros(ntmax,np.int32)\n",
    "genotypes = np.zeros(ntmax*4,np.int32)\n",
    "genotypes4 = np.reshape(genotypes,(ntmax,4)).T\n",
    "stepstats = np.zeros(ntmax*10,np.int32)\n",
    "stepstats10 = np.reshape(stepstats,(ntmax,10)).T"
   ]
  },
  {
   "cell_type": "code",
   "execution_count": null,
   "metadata": {
    "collapsed": false
   },
   "outputs": [],
   "source": [
    "nt = framenr\n",
    "genelife.get_stats(livestats,genotypes,stepstats,nt)\n",
    "tpts= range(1,nt)"
   ]
  },
  {
   "cell_type": "code",
   "execution_count": null,
   "metadata": {
    "collapsed": false
   },
   "outputs": [],
   "source": [
    "%matplotlib inline\n",
    "# fig, ax = plt.subplots()\n",
    "plt.rcParams['figure.figsize'] = [10, 10]\n",
    "f, (ax1, ax2) = plt.subplots(2, sharex=True, sharey=False)\n",
    "ax1.plot(tpts,stepstats10[0][1:nt],'b',label='notgolrul')\n",
    "ax1.plot(tpts,stepstats10[1][1:nt],'g',label='2_live')\n",
    "ax1.plot(tpts,stepstats10[2][1:nt],'r',label='3_live')\n",
    "ax1.plot(tpts,stepstats10[3][1:nt],'c',label='birth')\n",
    "ax1.plot(tpts,stepstats10[4][1:nt],'m',label='mutation')\n",
    "ax1.plot(tpts,stepstats10[5][1:nt],'b--',label='2select')\n",
    "ax1.plot(tpts,stepstats10[6][1:nt],'g--',label='survival')\n",
    "ax1.plot(tpts,stepstats10[7][1:nt],'r--',label='death')\n",
    "ax1.plot(tpts,stepstats10[8][1:nt],'k--',label='golstate')\n",
    "ax1.plot(tpts,stepstats10[9][1:nt],'m--',label='3g_same')\n",
    "ax2.plot(tpts,genotypes4[0][1:nt],'b',label='d=0 class')\n",
    "ax2.plot(tpts,genotypes4[1][1:nt],'g',label='d=1 class')\n",
    "ax2.plot(tpts,genotypes4[2][1:nt],'r',label='d=2 class')\n",
    "ax2.plot(tpts,genotypes4[3][1:nt],'k',label='d=3 class')\n",
    "ax1.set_ylabel('number of such cells')\n",
    "ax2.set_ylabel('number of such cells')\n",
    "legend1 = ax1.legend(loc=2, bbox_to_anchor=(1,1), shadow=True, fontsize='small')  # or use  loc = 'best'\n",
    "legend2 = ax2.legend(loc=2, bbox_to_anchor=(1,1), shadow=True, fontsize='small')\n",
    "legend1.get_frame().set_facecolor('C0')\n",
    "legend2.get_frame().set_facecolor('C0')\n",
    "plt.show()"
   ]
  },
  {
   "cell_type": "markdown",
   "metadata": {},
   "source": [
    "### Space-time of one row"
   ]
  },
  {
   "cell_type": "code",
   "execution_count": null,
   "metadata": {
    "collapsed": true
   },
   "outputs": [],
   "source": [
    "genelife.get_curgol(gol)\n",
    "cnt = range(512)\n",
    "for i in range(512):\n",
    "    cnt[i] = sum([gol[(i*512)+j] for j in range(512)])"
   ]
  },
  {
   "cell_type": "code",
   "execution_count": null,
   "metadata": {
    "collapsed": false
   },
   "outputs": [],
   "source": [
    "foo = [(i,cnt[i]) for i in range(512) if cnt[i] == max(cnt)]\n",
    "foo"
   ]
  },
  {
   "cell_type": "code",
   "execution_count": null,
   "metadata": {
    "collapsed": true
   },
   "outputs": [],
   "source": [
    "myrow = foo[0][0]\n",
    "for i in range(512):\n",
    "    genelife.get_curgol(gol)\n",
    "    for j in range(512):\n",
    "        if gol[(512*myrow)+j]==1:\n",
    "            cgrid[i][j] = 1\n",
    "        else:\n",
    "            cgrid[i][j] = 0\n",
    "    genelife.genelife_update(1,0)\n",
    "    "
   ]
  },
  {
   "cell_type": "code",
   "execution_count": null,
   "metadata": {
    "collapsed": true
   },
   "outputs": [],
   "source": [
    "%matplotlib inline"
   ]
  },
  {
   "cell_type": "code",
   "execution_count": null,
   "metadata": {
    "collapsed": false
   },
   "outputs": [],
   "source": [
    "my_dpi=96\n",
    "my_cmap = rand_cmap(257, type='bright', first_color_black=True, last_color_black=False)\n",
    "\n",
    "fig, ax = plt.subplots(figsize=((3*256)/my_dpi, (3*256)/my_dpi), dpi=my_dpi, frameon=False)\n",
    "ax.axis('off')\n",
    "# mat = ax.matshow(cgrid, cmap=my_cmap, vmin=0.01, vmax=257)  # was vmax = LEN+1\n",
    "mat = ax.matshow(cgrid, cmap=my_cmap, vmin = 0, vmax = 56)\n",
    "plt.show()"
   ]
  },
  {
   "cell_type": "code",
   "execution_count": null,
   "metadata": {
    "collapsed": true
   },
   "outputs": [],
   "source": []
  }
 ],
 "metadata": {
  "hide_input": false,
  "kernelspec": {
   "display_name": "Python 2",
   "language": "python",
   "name": "python2"
  },
  "language_info": {
   "codemirror_mode": {
    "name": "ipython",
    "version": 2
   },
   "file_extension": ".py",
   "mimetype": "text/x-python",
   "name": "python",
   "nbconvert_exporter": "python",
   "pygments_lexer": "ipython2",
   "version": "2.7.14"
  }
 },
 "nbformat": 4,
 "nbformat_minor": 2
}
