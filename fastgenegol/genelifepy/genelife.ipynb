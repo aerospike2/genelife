{
 "cells": [
  {
   "cell_type": "code",
   "execution_count": null,
   "metadata": {
    "collapsed": true
   },
   "outputs": [],
   "source": [
    "%matplotlib notebook"
   ]
  },
  {
   "cell_type": "code",
   "execution_count": null,
   "metadata": {
    "collapsed": true
   },
   "outputs": [],
   "source": [
    "from genelife import *"
   ]
  },
  {
   "cell_type": "markdown",
   "metadata": {},
   "source": [
    "## Initialization"
   ]
  },
  {
   "cell_type": "markdown",
   "metadata": {},
   "source": [
    "See additional discussion in the [genelife wiki](https://github.com/js1200/genelife/wiki/Probability-parameters-in-genelife).\n",
    "\n",
    "The code determining the effect of genes on birth, and the mutation of genomes is currently on lines 229-242 of `subgene.c`.\n",
    "\n",
    "* param `rulemod=1` => genetically alteration of GOL rule kicks in\n",
    "\n",
    "Possible 2nd shell replication schemes for case of repscheme live nbrs:\n",
    "\n",
    "\n",
    "\n",
    "* `selection == 0` neutral: GoL rule departures depend only on seq diversity\n",
    "* `selection == 1` select based on `nones` = distance of seq to all 1's \n",
    "* `selection == 2` select based on `nones` = min num of 1's in 3 nbr seqs\n",
    "\n",
    "\n",
    "* param `nlog2p0` fixes probability that\n",
    "    * compute `nlog2p = nlog2p0 + nones`\n",
    "    * set `r1=1`  if lowest `nlog2p` bits of `randnr` are 0 (i.e. 1 with probability $1/2^{\\rm nlog2p}$\n",
    "    * birth if empty and ((s==3) or (s==2 and `r1`)) \n",
    "* param `nlog2pmut` fixes mutation probability"
   ]
  },
  {
   "cell_type": "code",
   "execution_count": null,
   "metadata": {
    "collapsed": true
   },
   "outputs": [],
   "source": [
    "offsets = [[0,0,0],\n",
    "       [-1, 0, 0],\n",
    "       [-1, 1, 0],\n",
    "       [0, 1, 0],\n",
    "       [1, 1, 0],\n",
    "       [1, 0, 0],\n",
    "       [1, -1, 0],\n",
    "       [0, -1, 0],\n",
    "       [-1, -1, 0]]\n",
    "numHis = pow(2,len(offsets))\n",
    "histo=np.zeros(numHis,np.uint64)\n",
    "flatoff =  [x for sublist in offsets for x in sublist]\n",
    "npoffsets = np.array(flatoff,np.int32)\n",
    "\n",
    "runparams = np.zeros(3,np.int32)\n",
    "simparams = np.zeros(5,np.int32)    # 5 parameters passed to C"
   ]
  },
  {
   "cell_type": "markdown",
   "metadata": {},
   "source": [
    "Note:  to get the nices possible display, go to the [this site ](http://www.infobyip.com/detectmonitordpi.php) to set `my_dpi` in the next cell properly for your display."
   ]
  },
  {
   "cell_type": "code",
   "execution_count": null,
   "metadata": {
    "collapsed": true
   },
   "outputs": [],
   "source": [
    "# for my_dpi go to http://www.infobyip.com/detectmonitordpi.php\n",
    "my_dpi=102.4"
   ]
  },
  {
   "cell_type": "markdown",
   "metadata": {},
   "source": [
    "Following animation cell is set up to display for `ndisp` time steps, run without display for `nskip` time steps, and repeat, up to a total of `niter*ndisp` frames displayed (`niter*(ndisp+nskip)` total time steps):\n",
    "\n",
    "|---`ndisp`---|------------------`nskip`---------------| ... repeated for `niter` times\n"
   ]
  },
  {
   "cell_type": "code",
   "execution_count": null,
   "metadata": {
    "collapsed": true
   },
   "outputs": [],
   "source": [
    "#def doanimation(nrun=1,ndisp=1000,niter=1):    \n",
    "nrun=1; nskip = 500; ndisp=100; niter=10\n",
    "cnt=0\n",
    "#fig, ax = plt.subplots(figsize=(10,10))\n",
    "#fig, ax = plt.subplots(figsize=((3*256)/my_dpi, (3*256)/my_dpi), dpi=my_dpi, frameon=False)\n",
    "#ax.axis('off')\n",
    "\n",
    "colorgrid(N)\n",
    "def update_anim(data):\n",
    "    global gol, cgrid\n",
    "    global golg\n",
    "    global log2N\n",
    "    global simparams\n",
    "    global cnt\n",
    "    global framenr\n",
    "    global mat\n",
    "    cnt = cnt+1\n",
    "    if cnt % ndisp == 0:  # insert the non-displayed iterations\n",
    "        genelife.genelife_update(nskip, 0)\n",
    "        framenr = framenr + nskip\n",
    "    genelife.genelife_update(nrun, 0)\n",
    "    genelife.get_curgol(gol)\n",
    "    genelife.get_curgolg(golg)\n",
    "    framenr = framenr+nrun\n",
    "    colorgrid(N)\n",
    "    mat.set_data(cgrid)\n",
    "    time_text.set_text('cnt = %.1d' % framenr)\n",
    "    time_text.set_color('w')\n",
    "    return mat\n"
   ]
  },
  {
   "cell_type": "code",
   "execution_count": null,
   "metadata": {
    "collapsed": true
   },
   "outputs": [],
   "source": [
    "nrun=1; nskip = 1; ndisp=1000; niter=10;\n",
    "rulemod = runparams[0] = 1               # 0,1 whether to allow GoL rule modifications\n",
    "repscheme = runparams[1] = 0             # 3 or 4, if 3 then choose bottom bit, if 4 choose most different\n",
    "selection = runparams[2] = 8             # initialize genes to startgene number 0-8 : 8 is random choice of 0-7\n",
    "nlog2pmut = simparams[0] = 10             # gene mutation probability\n",
    "initial1density = simparams[1] = 16384   # initial 1 density in GOL state\n",
    "initialrdensity = simparams[2] = 32768       # initial density of random genes\n",
    "ncoding = simparams[3] = 5               # no of bits used to encode valid connection functions 1-16\n",
    "# 16384 = nearest to half of guaranteed C rand max value 32767 = 2**15 - 1\n",
    "\n",
    "genelife.initialize_planes(npoffsets)\n",
    "genelife.initialize(runparams,simparams)\n",
    "framenr = 0"
   ]
  },
  {
   "cell_type": "code",
   "execution_count": null,
   "metadata": {
    "collapsed": false,
    "scrolled": false
   },
   "outputs": [],
   "source": [
    "fig, ax = plt.subplots(figsize=((3*256)/my_dpi, (3*256)/my_dpi), dpi=my_dpi, frameon=False)\n",
    "time_text = ax.text(0.05, 0.95,'',horizontalalignment='left',verticalalignment='top', transform=ax.transAxes)\n",
    "ax.axis('off')\n",
    "mat = ax.matshow(cgrid, cmap=my_cmap, vmin=0.01, vmax=257)  # was vmax = LEN+1\n",
    "ani = animation.FuncAnimation(fig, update_anim, interval=60, # ~60 ms to see every time step\n",
    "                              save_count=0, frames=niter*ndisp, repeat = False)\n",
    "plt.show()"
   ]
  },
  {
   "cell_type": "code",
   "execution_count": null,
   "metadata": {
    "collapsed": true
   },
   "outputs": [],
   "source": [
    "genelife.countspecies(golg,runparams)"
   ]
  },
  {
   "cell_type": "code",
   "execution_count": null,
   "metadata": {
    "collapsed": true
   },
   "outputs": [],
   "source": []
  }
 ],
 "metadata": {
  "hide_input": false,
  "kernelspec": {
   "display_name": "Python 2",
   "language": "python",
   "name": "python2"
  },
  "language_info": {
   "codemirror_mode": {
    "name": "ipython",
    "version": 2
   },
   "file_extension": ".py",
   "mimetype": "text/x-python",
   "name": "python",
   "nbconvert_exporter": "python",
   "pygments_lexer": "ipython2",
   "version": "2.7.14"
  }
 },
 "nbformat": 4,
 "nbformat_minor": 2
}
