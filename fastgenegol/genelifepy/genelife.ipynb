{
 "cells": [
  {
   "cell_type": "code",
   "execution_count": 1,
   "metadata": {
    "init_cell": true
   },
   "outputs": [
    {
     "name": "stdout",
     "output_type": "stream",
     "text": [
      "pygame 1.9.5.dev0\n",
      "Hello from the pygame community. https://www.pygame.org/contribute.html\n"
     ]
    },
    {
     "data": {
      "text/html": [
       "<style>.container { width:100% !important; }</style>"
      ],
      "text/plain": [
       "<IPython.core.display.HTML object>"
      ]
     },
     "metadata": {},
     "output_type": "display_data"
    }
   ],
   "source": [
    "%gui osx\n",
    "# %matplotlib inline an alternative except on retina macbooks\n",
    "import random as rand\n",
    "import pygame as pg\n",
    "\n",
    "from genelife import *\n",
    "\n",
    "from IPython.core.display import display, HTML\n",
    "display(HTML(\"<style>.container { width:100% !important; }</style>\"))     # sets input cells to use full window width\n",
    "\n",
    "from os import environ\n",
    "environ['SDL_VIDEO_WINDOW_POS'] = \"%d,%d\" % (1000,32)   # set position of pygame (SDL) video window (x,y) pixel coords, values work well on iMac"
   ]
  },
  {
   "cell_type": "markdown",
   "metadata": {},
   "source": [
    "# Graphics notes"
   ]
  },
  {
   "cell_type": "markdown",
   "metadata": {},
   "source": [
    "This notebook uses the pygame interface.\n",
    "\n",
    "It pops up a pygame window (labeled \"Gene Life\"), which must be moved to the side to see the notebook. This window is not hardware acclerated on Mac - [see pg.display.Info()].\n",
    "\n",
    "To stop the simulation mid-stream, you can OPTION click on the pygame window, click in the window. \n",
    "\n",
    "Simulations can be restarted using run() and the current timestep can be investigated graphically by calling run with updatesenabled = False. Initial state display with show0() and single stepping with step() are possible. \n",
    "\n",
    "The caption contains information about current state and mode.\n",
    "\n",
    "Clicking on the window will give mouse position dependent information about local state.\n",
    "\n",
    "Color is currently a 32 bit hash of the 64 bit gene value in colorfunction mode 0. There are 9 display modes accessible via left and right arrow keys:\n",
    "\n",
    "    0 Randomly hashed colors based on gene value\n",
    "    1 Functional coloring - differs according to selection model\n",
    "    2 Overlay of non GoL rule cases in yellow\n",
    "    3 Overlay of active states produced by a non GoL rule in yellow\n",
    "    4 Activity plot scaled as activity/(activity+ymax) with interactive */ 2 for ymax\n",
    "    5 Genealogies of N most populated genes : 1 pixel/ancestral change (ancestor at top)\n",
    "    6 Genealogies of N most pop'd genes: with vertical time from start, colors as in mode 0\n",
    "    7 Genealogies as in 6, but colors brightness rescaled by activities\n",
    "    8 Glider detect: diff in packed 3-nbhoods with (dx,dy,dt), for (0,0,0) all 1-nbs with dt=-1 \n",
    "\n",
    "To change resolution N: (only powers of 2 are allowed, typically 8,9,10 for N=256,512,1024)\n",
    "* change `subgenelife.c` line 17 (`log2N`) and rebuild c lib [we utilize the efficiency gains of N fixed as power of two at compile time]\n",
    "\n",
    "Quadrant modes (keys Q,q,alt-q) are available for evolving parameters (selection < 8).\n",
    "\n",
    "Horizon mode (toggle with key r) couples with strictly GoL rules in upper (sky) half-plane (selection < 8). Idea is that teeming life in the sea (lower halfplane) may evolve to colonize the sky (upper halfplane)."
   ]
  },
  {
   "cell_type": "markdown",
   "metadata": {},
   "source": [
    "# Parameter help"
   ]
  },
  {
   "cell_type": "code",
   "execution_count": 2,
   "metadata": {
    "init_cell": true
   },
   "outputs": [],
   "source": [
    "def parhelp():\n",
    "    if selection < 8:\n",
    "        print \"Control bits (left to right):\"\n",
    "        print \"____________________________\"\n",
    "        print \"Green    \",\"0. selective birth for 3-live-nbs  \",\"1. selective birth for 2-live-nbs\"\n",
    "        print \"Mid Blue \",\"2. canonical 0 position vs difft   \",\"3. bypass selection for 2-live-nbs\"\n",
    "        print \"Teal blue\",\"4. enforce birth for 3-live-nbs    \",\"5. enforce birth for 2-live-nbs\"\n",
    "        print \"Red      \",\"6. 2nd neighbour genetic modulation\",\"7. 1st neighbour genetic masking\"\n",
    "        print \"Yellow   \",\"8. enforce GoL rule if non GoL rule\",\"9. enforce GoL rule last change by non GoL rule */\"\n",
    "        print \"Green    \",\"10-13. allow 2-nb birth only for active subset of 4 canonical configs\"\n",
    "        print \"Blue     \",\"14. Survival for 3-live-nbs        \",\"15. Survival for 2-live-nbs\"\n",
    "        print \"Green    \",\"16. Gene overwrite for 3-live-nbs  \",\"17. Gene overwrite for 2-live-nbs\"\n",
    "    elif selection == 8:\n",
    "        print \"Control bits for masks to enable gene encoded LUTs (left to right):\"\n",
    "        print \"___________________________________________________________________\"\n",
    "        print \"Masks for LUT rules for sums 2-6 for survival /left half) and birth (right half)\"\n",
    "        print \"blue      \",\"survival for sum=1-8 separate buttons for the 8 non-zero sums\"\n",
    "        print \"green     \",\"birth    for sum=1-8 separate buttons for the 8 non-zero sums\"      \n",
    "    elif selection == 9:\n",
    "        print \"Control bits for masks to enable gene encoded LUTs (left to right):\"\n",
    "        print \"___________________________________________________________________\"\n",
    "        print \"A finer division of LUT rules for sums 2-6 for survival /left half) and birth (right half)\"\n",
    "        print \"red      \",\"sum=2,6 separate buttons for the  4 canonical rotations\"\n",
    "        print \"green    \",\"sum=3,5 separate buttons for the  7 canonical rotations\"\n",
    "        print \"blue     \",\"sum=4   separate buttons for the 10 canonical rotations\"\n",
    "    print \"\"\n",
    "    print \"Other controls:\"\n",
    "    print \"_______________\"\n",
    "    print \"middle mouse\",\"stop simulation [data is retained for possible run() for run/analysis with updatesenabled=True/False]\"\n",
    "    print \"left mouse  \",\"extract information about local state inside the array, or control buttons below\"\n",
    "    print \"right mouse \",\"choose single plane for GoL display in colorfunction 2 and for selection 12\"\n",
    "    print \"<- , ->     \",\"decrement or increment the colorfunction analysis type mod 9\"\n",
    "    print \"h           \",\"print this help\"\n",
    "    print \"<space>     \",\"pasue simulation\"\n",
    "    print \"q,Q         \",\"incr or decr quadrant parameter choice : -1 = no quadrants, 0-4 are first 5 bit pairs of repscheme, 5,6 surv and overwrite\" \n",
    "    print \"r           \",\"toggle horizon mode on or off: upper half of array obeys unmodified GoL rule\"\n",
    "    print \"R           \",\"toggle random soup domain on or off\"\n",
    "    print \"s           \",\"save current image to file in image subdriectory\"\n",
    "    print \"x,X y,Y t,T \",\"lower (lc) or raise (uc) the (dx,dy,dt) offsets for glider tracking (colorfn 8) (0,0,0)=(all 8 nnb dt=-1)\"\n",
    "    print \"v           \",\"toggle vertical scroll tracking mode : following top most objects and losing lowest objects in contact with 0 row\"\n",
    "    print \"+,-         \",\"increase or decrease ymax for activity display scaled as act/(ymax+act) by a factor of 2\"             "
   ]
  },
  {
   "cell_type": "markdown",
   "metadata": {},
   "source": [
    "# Initialization"
   ]
  },
  {
   "cell_type": "markdown",
   "metadata": {},
   "source": [
    "See additional discussion in the [genelife wiki](https://github.com/js1200/genelife/wiki/Probability-parameters-in-genelife).\n",
    "\n",
    "Parameter `rulemod` determines if genes are affecting the GOL dynamics at all.\n",
    "* `rulemod == 0` => Genes have no affect; GOL dynamics prevail.  \n",
    "* `rulemod == 1` => Genes alter GOL dynamics.\n",
    "\n",
    "Parameter `repscheme` controls possible replication schemes for birth in the case of 3 live neighbours.  For 3 live neighbours, a unique one may be chosen deterministically in 2 ways:  (i) most different, and (ii) a particular nbr (0th) of a canonical rotation.  \n",
    "\n",
    "Consider two cases, `repscheme bit 0 unset` and `repscheme bit 0 set`, and for each of these consider when `repscheme bit 1` is unset and set:\n",
    "\n",
    "* `repscheme bit 0 unset`\n",
    "    * `repscheme == 0` => use most different of the 3 live nbrs as ancestor\n",
    "    * `repscheme == 2` => use 0th nbr of canonical rotation as ancestor\n",
    "* `repscheme bit 0 set`\n",
    "    * `repscheme == 1` => apply selection to complement pair of most different of the 3 live nbrs.\n",
    "    * `repscheme == 3` => apply selection to complement pair of 0th nbr of canonical rotation\n",
    "\n",
    "The `selection` parameter provides a choice between a variety of deterministic schemes to choose between two possible ancestors, either in the case of birth from 2 live neighbours or the two cases of birth from 3 live neighbours with `repscheme bit 0` set.\n",
    "* `selection == 0` larger integer value determines survival\n",
    "* `selection == 1` larger number of 1's \n",
    "* `selection == 2` paper-scissors-rock-well\n",
    "* `selection == 3` selection based on closeness to one of the two difft targets (ncoding bits apart)\n",
    "* `selection == 4` selection based on closeness of g0 to 0x0 and g1 to all 1's; for birth distances must satisfy `d0<ncoding`, `d1<ncoding`, and `dd=D(g0,g1) < ncoding.`  `ncoding>55` for any exceptions.\n",
    "* `selection == 5` Predator prey: prey goes toward all 0's, predator goes toward all 1's.  N1(g)<32 => prey; birth if different and at least one prey; both prey => prey with less 1's wins, prey-predator => predator wins.\n",
    "\n",
    "Parameter `nlog2pmut` fixes mutation probability.  `nlog2pmut` takes integer values, label them $k$; then  $p_{\\rm mut} = 2^{-k}$"
   ]
  },
  {
   "cell_type": "code",
   "execution_count": 3,
   "metadata": {
    "init_cell": true
   },
   "outputs": [],
   "source": [
    "                            # parameter initialization\n",
    "runparams = np.zeros(7,np.int32)\n",
    "simparams = np.zeros(5,np.int32)    # 5 parameters passed to C\n",
    "NbP = 16\n",
    "displayplanes=0xffff\n",
    "randomsoup = 0\n",
    "vscrolling = 0\n",
    "                            # offset initialization\n",
    "offsets = [[-1, 0,-1],\n",
    "           [ 1, 0,-1],\n",
    "           [ 0,-1,-1],\n",
    "           [ 0, 1,-1]]\n",
    "numHis = len(offsets)\n",
    "histo=np.zeros(numHis,np.uint64)\n",
    "flatoff =  [x for sublist in offsets for x in sublist]\n",
    "npoffsets = np.array(flatoff,np.int32)"
   ]
  },
  {
   "cell_type": "markdown",
   "metadata": {},
   "source": [
    "Following animation cell is set up to display for `ndisp` time steps, run without display for `nskip` time steps, and repeat, up to a total of `niter*ndisp` frames displayed (`niter*(ndisp+nskip)` total time steps):\n",
    "\n",
    "|---`ndisp`---|------------------`nskip`---------------| ... repeated for `niter` times\n"
   ]
  },
  {
   "cell_type": "markdown",
   "metadata": {},
   "source": [
    "## display_init()"
   ]
  },
  {
   "cell_type": "code",
   "execution_count": 4,
   "metadata": {
    "init_cell": true
   },
   "outputs": [],
   "source": [
    "Width = N                     # value specified in imported genelife.py\n",
    "Height = N\n",
    "savecnt = 0                   # counter for saved images\n",
    "dispinit = False\n",
    "def display_init():\n",
    "    global screen,scr,scalex2,Width,Height\n",
    "    global caption,cnt,cgrid,dispinit\n",
    "\n",
    "    dispinit = True\n",
    "    if (Height <=512):\n",
    "        scalex2 = True\n",
    "        screen = pg.display.set_mode([2*Width, 2*Height+32])     # opens the pygame window\n",
    "        scr = pg.surface.Surface([Width,Height+16], 0)\n",
    "    else:\n",
    "        scalex2 = False\n",
    "        screen = pg.display.set_mode([Width, Height])\n",
    "\n",
    "    # font rending for text at position : note result not ideal because of 2x scaling\n",
    "    # from pygame.locals import * \n",
    "    # pg.font.init()\n",
    "    # default_font = pg.font.get_default_font()\n",
    "    # font_renderer = pg.font.Font(default_font, 7)\n",
    "\n",
    "    cnt = 0\n",
    "    caption = \"Gene Life at iteration %d\" % cnt\n",
    "    pg.display.set_caption(caption)\n",
    "      \n",
    "    if scalex2:\n",
    "        pg.transform.scale2x(scr,screen)\n",
    "        pg.display.update()\n",
    "        cgrid = pg.surfarray.pixels2d(scr)\n",
    "    else:\n",
    "        pg.display.update()\n",
    "        cgrid = pg.surfarray.pixels2d(screen) \n",
    "\n",
    "    # !wmctrl -a Safari   # reset focus to notebook. On Mac requires brew install wmctrl, but doesn't work, only for X Windows"
   ]
  },
  {
   "cell_type": "markdown",
   "metadata": {},
   "source": [
    "## button arrays and init_buttons()"
   ]
  },
  {
   "cell_type": "code",
   "execution_count": 5,
   "metadata": {
    "init_cell": true
   },
   "outputs": [],
   "source": [
    "# initialize information for button area at base of display\n",
    "ncanon07=[2,2,2,2,2,4,2,2]\n",
    "ncanon8=[8,8]                                    # no of entries per color region selection=8\n",
    "ncanon9=[4,7,10,7,4,4,7,10,7,4]                  # no of entries per color region selection=9\n",
    "ncanon10=[16,1,1,1,1,1]\n",
    "cancolors07 = [[0,100,0],[0,50,100],[0,80,80],[100,0,0],[100,100,0],[50,100,0],[0,0,127],[0,100,50]] # colorvals must be < 128\n",
    "cancolors8 = [[0,0,127],[0,100,0]]               # colors for different color regions for buttons\n",
    "cancolors9 = [[100,0,0],[0,100,0],[0,0,127],[0,100,0],[100,0,0],[100,0,0],[0,100,0],[0,0,127],[0,100,0],[100,0,0]]\n",
    "cancolors10 = [[100,0,0],[100,100,0],[0,80,80],[0,0,127],[0,100,0],[80,0,80]]\n",
    "cancol07= np.zeros((18,3),np.int32)\n",
    "cancol8 = np.zeros((16,3),np.int32)\n",
    "cancol9 = np.zeros((64,3),np.int32)\n",
    "cancol10 = np.zeros((21,3),np.int32)\n",
    "\n",
    "# white = (200,200,200)\n",
    "# labeltext = [font_renderer.render(\"%d\" % (j*2,), 0, white) for j in range(5)]\n",
    "# labeltext.append(font_renderer.render(\"S\", 0, white))\n",
    "# labeltext.append(font_renderer.render(\"O\", 0, white))\n",
    "# ncanon9s=['2s','3s','4s','5s','6s','2b','3b','4b','5b','6b']\n",
    "# labeltext9 = [font_renderer.render(ncanon9s[j], 0, white) for j in range(len(ncanon9))]\n",
    "# scr.blit(labeltext[j], (k*8,Height))           # transfer text to surface\n",
    "\n",
    "k=0\n",
    "for j in range(len(ncanon07)):                   # buttons for 7x2 bit repscheme and survival-birth selection==0 to 7\n",
    "    for i in range(ncanon07[j]):\n",
    "        cancol07[k]=cancolors07[j]\n",
    "        k = k+1\n",
    "k=0\n",
    "for j in range(len(ncanon8)):                   # buttons for 2x8 bit lut mask selection==8 in survivalmask\n",
    "    for i in range(ncanon8[j]):\n",
    "        cancol8[k]=cancolors8[j]\n",
    "        k = k+1\n",
    "k=0\n",
    "for j in range(len(ncanon9)):                   # buttons for 2x(4,7,10,7,4) bit lut mask selection==9 in survival and overwrite masks \n",
    "    for i in range(ncanon9[j]):\n",
    "        cancol9[k]=cancolors9[j]\n",
    "        k = k+1  \n",
    "k=0\n",
    "for j in range(len(ncanon10)):                   # buttons for 6,1,1,1,1,1 bit ... in selection==10,11\n",
    "    for i in range(ncanon10[j]):\n",
    "        cancol10[k]=cancolors10[j]\n",
    "        k = k+1   \n",
    "        \n",
    "k=0 "
   ]
  },
  {
   "cell_type": "markdown",
   "metadata": {},
   "source": [
    "## packrepscheme(...)"
   ]
  },
  {
   "cell_type": "code",
   "execution_count": 6,
   "metadata": {
    "init_cell": true
   },
   "outputs": [],
   "source": [
    "def init_buttons():    # initialize parameter buttons\n",
    "    global repscheme,survivalmask,overwritemask,selection,ncoding,displayplanes\n",
    "    global cancol07,cancol8,cancol9\n",
    "    global scr,Height,Width,log2N,NbP\n",
    "\n",
    "    pg.draw.rect(scr,[50,50,50],[0,Height+8,Width,5])\n",
    "    if selection<8:\n",
    "        for k in range(18):\n",
    "            if k<14:\n",
    "                bit = (repscheme>>k)&0x1\n",
    "            elif k<16:\n",
    "                bit = (survivalmask>>(k-14))&0x1\n",
    "            elif k<18:\n",
    "                bit = (overwritemask>>(k-16))&0x1\n",
    "            pg.draw.rect(scr,cancol07[k]*(1+bit),[k<<(log2N-6),Height+8,3,5])\n",
    "    elif selection==8:\n",
    "        for k in range(16):\n",
    "            pg.draw.rect(scr,cancol8[k]*(1+((survivalmask>>k)&0x1)),[k<<(log2N-6),Height+8,3,5])\n",
    "    elif selection==9:\n",
    "        for k in range(32):\n",
    "            pg.draw.rect(scr,cancol9[k]*(1+((survivalmask>>k)&0x1)),[k<<(log2N-6),Height+8,3,5])\n",
    "            pg.draw.rect(scr,cancol9[k+32]*(1+((overwritemask>>(k))&0x1)),[(k+32)<<(log2N-6),Height+8,3,5])               \n",
    "    elif selection<12:\n",
    "        NbP = (ncoding>>16)&0xf\n",
    "        displayplanes=(0x1<<NbP)-1\n",
    "        if not NbP:\n",
    "            NbP = 16\n",
    "        for k in range(21):\n",
    "            if k<NbP:\n",
    "                pg.draw.rect(scr,cancol10[k]*2,[k<<(log2N-6),Height+8,3,5])\n",
    "            elif k<16:\n",
    "                pg.draw.rect(scr,[80,80,80],[k<<(log2N-6),Height+8,3,5]) // grey\n",
    "            elif k<21:\n",
    "                bit = (repscheme>>(k-16))&0x1\n",
    "                pg.draw.rect(scr,cancol10[k]*(1+bit),[k<<(log2N-6),Height+8,3,5])\n"
   ]
  },
  {
   "cell_type": "code",
   "execution_count": 7,
   "metadata": {
    "init_cell": true
   },
   "outputs": [],
   "source": [
    "def packrepscheme(repscheme,survivalmask,overwritemask):\n",
    "    if survivalmask<4 and overwritemask<4:\n",
    "        repscheme = repscheme + (survivalmask<<24) + (overwritemask<<26)\n",
    "    else:\n",
    "        print \"Error: can't pack masks, they are too large!\"\n",
    "    return(repscheme)"
   ]
  },
  {
   "cell_type": "markdown",
   "metadata": {},
   "source": [
    "## update()"
   ]
  },
  {
   "cell_type": "code",
   "execution_count": 8,
   "metadata": {
    "init_cell": true
   },
   "outputs": [],
   "source": [
    "updatesenabled = True\n",
    "def update(count):\n",
    "    global gol, cgrid\n",
    "    global golg\n",
    "    global log2N\n",
    "    global runparams\n",
    "    global cnt\n",
    "    global framenr\n",
    "\n",
    "    cnt = cnt+1\n",
    "    if cnt % ndisp == 0:  # insert the non-displayed iterations & count species\n",
    "        genelife.genelife_update(nskip, nhist, nstat)\n",
    "        framenr = framenr + nskip\n",
    "        if(count):\n",
    "            genelife.countspecieshash()\n",
    "    genelife.genelife_update(nrun, nhist, nstat)\n",
    "    framenr = framenr+nrun\n",
    "    colorgrid()  # sets  cgrid \n",
    "    return\n",
    "\n",
    "# this function defined in genelife.py doesn't work in the notebook.\n",
    "# must redefine it here.  Maybe scope of globals?\n",
    "def colorgrid():\n",
    "    \"\"\" colors array according to grid and genegrid using colormethod\"\"\"\n",
    "    global cgrid,cgolg,N\n",
    "    genelife.colorgenes(cgolg)\n",
    "    cgrid2=np.reshape(cgolg,(N,N)).T \n",
    "    cgrid[:,0:N] = cgrid2   # is there a faster version of this copy that moves the data? \n",
    "    return"
   ]
  },
  {
   "cell_type": "markdown",
   "metadata": {},
   "source": [
    "## show0()"
   ]
  },
  {
   "cell_type": "code",
   "execution_count": 9,
   "metadata": {
    "init_cell": true
   },
   "outputs": [],
   "source": [
    "def show0(count):\n",
    "# display initial population and count species\n",
    "    global framenr\n",
    "    global scr, screen, scalex2\n",
    "    global repscheme,survivalmask,overwritemask,selection\n",
    "    global cancol8,cancol9\n",
    "    global dispinit\n",
    "    \n",
    "    if not dispinit:\n",
    "        display_init()\n",
    "    caption = \"Gene Life at iteration %d\" % framenr\n",
    "    pg.display.set_caption(caption)\n",
    "    \n",
    "    init_buttons()                           # initialize parameter buttons\n",
    "       \n",
    "    colorgrid()\n",
    "    # pg.transform.scale2x(scr,screen)       # use this for standard dithered display\n",
    "    if scalex2:\n",
    "        pg.transform.scale2xact(scr,screen)  # use this for custom pygame no smoother such as in scale2x   \n",
    "    pg.display.flip()\n",
    "    if(count):\n",
    "        genelife.countspecieshash()"
   ]
  },
  {
   "cell_type": "markdown",
   "metadata": {},
   "source": [
    "## step()"
   ]
  },
  {
   "cell_type": "code",
   "execution_count": 10,
   "metadata": {
    "init_cell": true
   },
   "outputs": [],
   "source": [
    "def step(count):\n",
    "#single step and update display and species counts\n",
    "    global framenr\n",
    "    #global gol,golg,golgstats\n",
    "    global scr, screen, scalex2\n",
    "    global dispinit\n",
    "    \n",
    "    if not dispinit:\n",
    "        display_init()\n",
    "    \n",
    "    update(count)\n",
    "    caption = \"Gene Life at iteration %d\" % framenr\n",
    "    pg.display.set_caption(caption)\n",
    "    #genelife.get_curgol(gol)\n",
    "    #genelife.get_curgolg(golg)\n",
    "    #genelife.get_curgolgstats(golgstats)\n",
    "    # pg.transform.scale2x(scr,screen)  # use this for standard dithered display  \n",
    "    if scalex2:\n",
    "         pg.transform.scale2xact(scr,screen)  # use this for custom pygame no smoother    \n",
    "    pg.display.flip()\n",
    "    if (count):\n",
    "        genelife.countspecieshash()\n",
    "    # ipython.notebook.move_selection_up  # would like to reselect cell after execution"
   ]
  },
  {
   "cell_type": "markdown",
   "metadata": {},
   "source": [
    "## run()"
   ]
  },
  {
   "cell_type": "code",
   "execution_count": 11,
   "metadata": {
    "init_cell": true
   },
   "outputs": [],
   "source": [
    "# infinite loop of display updates \n",
    "# cmd click in graphics window to stop, click for pixel details or quadrant selection,\n",
    "# alt-click or arrow keys for recolor,\n",
    "# +/- keys reserved for activity ymax : actually the crossover value in N* act/(ymax+act)\n",
    "# keys lower case - decrement, upper case - increment, alt - input value: y,Y ymax q,Q quadrant \n",
    "# misc. keys save image\n",
    "def run(count):\n",
    "    global framenr\n",
    "    global scr, screen, scalex2\n",
    "    global N,NbP\n",
    "    global gol,golg,golgstats\n",
    "    global colorfunction\n",
    "    global ymax\n",
    "    global updatesenabled\n",
    "    global rulemod,repscheme,survivalmask,overwritemask,selection,ncoding,displayplanes\n",
    "    global savecnt\n",
    "    global cancol8,cancol9\n",
    "    global Height,width\n",
    "    global dispinit\n",
    "    global randomsoup,vscrolling\n",
    "    \n",
    "    if not dispinit:\n",
    "        display_init()\n",
    "    init_buttons()\n",
    "    \n",
    "    surviveover = np.array([survivalmask,overwritemask],dtype=np.uint32)\n",
    "    gogo = True\n",
    "    pixeldat = \"\"\n",
    "    paramdat = \"\"\n",
    "    mouseclicked = False\n",
    "    mouseclicked2 = False\n",
    "    pause = 0\n",
    "    ymax = 10000\n",
    "    maxPlane = 4\n",
    "    offdx = offdy=offdt=0\n",
    "    quadrants = -1\n",
    "    oldymax = genelife.setget_act_ymax(ymax)\n",
    "    displayoneplane=64\n",
    "\n",
    "    if selection>=10 & selection<12:\n",
    "        displayplanes = (0x1<<NbP)-1\n",
    "    \n",
    "    while (gogo):\n",
    "        for event in pg.event.get():\n",
    "            if event.type==pg.QUIT:\n",
    "                mouseclicked = False\n",
    "                gogo = False\n",
    "            if event.type==pg.MOUSEBUTTONDOWN:\n",
    "                if event.button == 2:          # quit event loop on middle mouse button (option-click)\n",
    "                    mouseclicked = False\n",
    "                    gogo = False\n",
    "                elif event.button == 1:          # get mouse coords on mouse event\n",
    "                    mouseclicked = True\n",
    "                    mouse_pos = pg.mouse.get_pos() \n",
    "                    x = (int) (mouse_pos[0]//2)\n",
    "                    y = (int) (mouse_pos[1]//2)\n",
    "                    if y >= N:\n",
    "                        k=x>>(log2N-6)\n",
    "                        if selection<8:\n",
    "                            if k<18:\n",
    "                                if k<14:\n",
    "                                    repscheme = repscheme ^ (1<<k)\n",
    "                                    bit = (repscheme>>k)&0x1\n",
    "                                    print (\"repscheme changed to %x\" % (repscheme))\n",
    "                                elif k<16:\n",
    "                                    survivalmask = survivalmask ^ (1<<(k-14))\n",
    "                                    bit = (survivalmask>>(k-14))&0x1\n",
    "                                    print (\"survivalmask changed to %x\" % (survivalmask))\n",
    "                                else:\n",
    "                                    overwritemask = overwritemask ^ (1<<(k-16))\n",
    "                                    bit = (overwritemask>>(k-16))&0x1\n",
    "                                    print (\"overwritemask changed to %x\" % (overwritemask))\n",
    "                                survivalmask\n",
    "                                pg.draw.rect(scr,cancol07[k]*(1+bit),[k<<(log2N-6),Height+8,3,5])\n",
    "                                surviveover[0],surviveover[1]= survivalmask,overwritemask\n",
    "                                genelife.set_surviveover64(surviveover)\n",
    "                                genelife.set_repscheme(repscheme)                          \n",
    "                        elif selection == 8 and x < (N>>2):\n",
    "                            if k<16:\n",
    "                                survivalmask = survivalmask ^ (1<<k)\n",
    "                                print (\"survivalmask changed to %x\" % (survivalmask))\n",
    "                                pg.draw.rect(scr,cancol8[k]*(1+((survivalmask>>k)&0x1)),[k<<(log2N-6),Height+8,3,5])\n",
    "                                surviveover[0],surviveover[1]= survivalmask,overwritemask\n",
    "                                genelife.set_surviveover64(surviveover)\n",
    "                        elif selection==9:\n",
    "                            if k<64:\n",
    "                                if k<32:\n",
    "                                    survivalmask = survivalmask ^ (1<<k)\n",
    "                                    print (\"survivalmask changed to %x\" % (survivalmask))\n",
    "                                    pg.draw.rect(scr,cancol9[k]*(1+((survivalmask>>k)&0x1)),[k<<(log2N-6),Height+8,3,5])\n",
    "                                else:\n",
    "                                    overwritemask = overwritemask ^ (1<<(k-32))\n",
    "                                    print (\"overwritemask changed to %x\" % (overwritemask))\n",
    "                                    pg.draw.rect(scr,cancol9[k]*(1+((overwritemask>>(k-32))&0x1)),[k<<(log2N-6),Height+8,3,5])\n",
    "                                surviveover[0],surviveover[1]= survivalmask,overwritemask\n",
    "                                genelife.set_surviveover64(surviveover)\n",
    "                        elif selection < 12:\n",
    "                            if k<NbP:\n",
    "                                displayplanes = displayplanes ^ (1<<k)\n",
    "                                pg.draw.rect(scr,cancol10[k]*(1+((displayplanes>>k)&0x1)),[k<<(log2N-6),Height+8,3,5])\n",
    "                                genelife.set_displayplanes(displayplanes)\n",
    "                            elif k>=16 and k<21:\n",
    "                                repscheme = repscheme ^ (1<<(k-16))\n",
    "                                print (\"repscheme changed to %x\" % (repscheme))\n",
    "                                pg.draw.rect(scr,cancol10[k]*(1+((repscheme>>(k-16))&0x1)),[k<<(log2N-6),Height+8,3,5])\n",
    "                                genelife.set_repscheme(repscheme)\n",
    "                    else:\n",
    "                        if colorfunction < 4 or colorfunction == 8:\n",
    "                            genelife.get_curgol(gol)    # get current gol,golg,golgstats arrays\n",
    "                            genelife.get_curgolg(golg)\n",
    "                            genelife.get_curgolgstats(golgstats)\n",
    "                            if quadrants >= 0:   # set the two bits in repscheme corresponding to quadrant\n",
    "                                repscheme=genelife.set_repscheme_bits(quadrants,x,y,surviveover)\n",
    "                                survivalmask  = surviveover[0]\n",
    "                                overwritemask = surviveover[1]\n",
    "                                repscheme=packrepscheme(repscheme,survivalmask,overwritemask)\n",
    "                                print (\"repscheme changed to %x\" % (repscheme))\n",
    "                                quadrants = -1\n",
    "                                pixeldat = \"\"\n",
    "                            else:\n",
    "                                pixeldat = \"(%d,%d) gol %016x gene %016x status %016x\" % (x,y,gol[x+y*N],golg[x+y*N],golgstats[x+y*N])                           \n",
    "                        elif colorfunction == 4:\n",
    "                            genelife.get_acttrace(golg)\n",
    "                            pixeldat = \"(%d,%d) gene %016x\" % (x,y,golg[x+y*N])\n",
    "                        elif colorfunction <= 7:\n",
    "                            genelife.get_genealogytrace(golg)\n",
    "                            pixeldat = \"(%d,%d) gene %016x\" % (x,y,golg[x+y*N])\n",
    "                            genelife.set_selectedgene(golg[x+y*N])                    \n",
    "                            print framenr,pixeldat\n",
    "                elif event.button == 3:          # single plane choice right mouse button (-click)\n",
    "                    mouse_pos = pg.mouse.get_pos() \n",
    "                    x = (int) (mouse_pos[0]//2)\n",
    "                    y = (int) (mouse_pos[1]//2)\n",
    "                    if y >= N and selection==12:\n",
    "                        k=x>>(log2N-6)\n",
    "                        if k<64:\n",
    "                            displayoneplane=k\n",
    "                            genelife.set_displayoneplane(displayoneplane) \n",
    "                    mouseclicked2 = True\n",
    "\n",
    "            elif event.type==pg.MOUSEBUTTONUP:\n",
    "                mouseclicked = False\n",
    "                mouseclicked2 = False\n",
    "                if selection==12:\n",
    "                    displayoneplane=64\n",
    "                    genelife.set_displayoneplane(displayoneplane)\n",
    "                    if not updatesenabled:\n",
    "                        updatesenabled=True\n",
    "            elif event.type==pg.MOUSEMOTION:\n",
    "                if mouseclicked:\n",
    "                    mouse_pos = pg.mouse.get_pos() \n",
    "                    x = mouse_pos[0]//2\n",
    "                    y = mouse_pos[1]//2\n",
    "                    if x < N and y < N:\n",
    "                        if colorfunction < 4 or colorfunction == 8:\n",
    "                            genelife.get_curgol(gol)    # get current gol,golg,golgstats arrays\n",
    "                            genelife.get_curgolg(golg)\n",
    "                            genelife.get_curgolgstats(golgstats)\n",
    "                            pixeldat = \"(%d,%d) gol %016x gene %016x status %016x\" % (x,y,gol[x+y*N],golg[x+y*N],golgstats[x+y*N])     \n",
    "                        elif colorfunction == 4:\n",
    "                            genelife.get_acttrace(golg)\n",
    "                            pixeldat = \"(%d,%d) gene %016x\" % (x,y,golg[x+y*N])\n",
    "                        elif colorfunction <= 7:\n",
    "                            genelife.get_genealogytrace(golg)\n",
    "                            pixeldat = \"(%d,%d) gene %016x\" % (x,y,golg[x+y*N])\n",
    "                            genelife.set_selectedgene(golg[x+y*N])\n",
    "                elif mouseclicked2:\n",
    "                    if colorfunction == 2:\n",
    "                        mouse_pos = pg.mouse.get_pos() \n",
    "                        x = (int) (mouse_pos[0]//2)\n",
    "                        y = (int) (mouse_pos[1]//2)\n",
    "                        if y >= N and selection==12:\n",
    "                            k=x>>(log2N-6)\n",
    "                            if k<64:\n",
    "                                displayoneplane=k\n",
    "                                genelife.set_displayoneplane(displayoneplane)\n",
    "                            if updatesenabled:\n",
    "                                updatesenabled=False\n",
    "            elif event.type == pg.KEYDOWN:\n",
    "                if event.key == pg.K_h:\n",
    "                    parhelp()\n",
    "                elif event.key == pg.K_SPACE:\n",
    "                    pause = (pause+1)%2 \n",
    "                elif event.key == pg.K_RIGHT:\n",
    "                    colorfunction = (colorfunction + 1) % 9\n",
    "                    genelife.set_colorfunction(colorfunction)  \n",
    "                elif event.key == pg.K_LEFT:\n",
    "                    colorfunction = (colorfunction - 1) % 9\n",
    "                    genelife.set_colorfunction(colorfunction)\n",
    "                elif event.key == pg.K_PLUS or event.key == pg.K_KP_PLUS or event.key == pg.K_EQUALS:\n",
    "                    ymax = ymax * 2\n",
    "                    oldymax = genelife.setget_act_ymax(ymax)\n",
    "                    print 'new ymax =',ymax\n",
    "                elif event.key == pg.K_MINUS:\n",
    "                    ymax = ymax / 2\n",
    "                    oldymax = genelife.setget_act_ymax(ymax)\n",
    "                    print 'new ymax =',ymax\n",
    "                elif event.key == pg.K_x:\n",
    "                    if pg.key.get_mods() & pg.KMOD_SHIFT: offdx = offdx+1\n",
    "                    else: offdx = offdx-1\n",
    "                    print \"offset dx changed to \",offdx\n",
    "                    genelife.set_offsets(offdx,offdx,offdt)\n",
    "                elif event.key == pg.K_y:\n",
    "                    if pg.key.get_mods() & pg.KMOD_SHIFT: offdy = offdy+1\n",
    "                    else: offdy = offdy-1\n",
    "                    print \"offset dy changed to \",offdy\n",
    "                    genelife.set_offsets(offdx,offdy,offdt)\n",
    "                elif event.key == pg.K_t:\n",
    "                    if pg.key.get_mods() & pg.KMOD_SHIFT: \n",
    "                        if(offdt<0): offdt = offdt+1\n",
    "                    elif offdt>-maxPlane+1: offdt = offdt-1\n",
    "                    print \"offset dt changed to \",offdt\n",
    "                    genelife.set_offsets(offdx,offdy,offdt)\n",
    "                elif event.key == pg.K_q: \n",
    "                    if pg.key.get_mods() & pg.KMOD_ALT: \n",
    "                        quadrants = input(\"Enter an integer between -1 and 6: \")\n",
    "                    elif pg.key.get_mods() & pg.KMOD_SHIFT: \n",
    "                        if quadrants < 7: quadrants = quadrants+1\n",
    "                    else: \n",
    "                        if quadrants > 0: quadrants = quadrants-1\n",
    "                    print \"quadrants changed to \",quadrants\n",
    "                    genelife.set_quadrant(quadrants)\n",
    "                elif event.key == pg.K_r:\n",
    "                    if pg.key.get_mods() & pg.KMOD_SHIFT: \n",
    "                        randomsoup=1-randomsoup\n",
    "                        print \"randomsoup changed to \",randomsoup\n",
    "                        genelife.set_randomsoup()\n",
    "                    else:\n",
    "                        rulemod = rulemod ^ 2\n",
    "                        print \"rulemod changed to \",rulemod\n",
    "                        genelife.set_rulemod(rulemod)\n",
    "                elif event.key == pg.K_s:\n",
    "                    pg.image.save(screen, \"images/genelife_%03d_%08x_%03d.jpeg\" % (framenr,repscheme,savecnt))\n",
    "                    print (\"image saved \"+\"images/genelife_%03d_%08x_%03d.jpeg\" % (framenr,repscheme,savecnt))\n",
    "                    savecnt = savecnt + 1\n",
    "                elif event.key == pg.K_v:  \n",
    "                    vscrolling=1-vscrolling\n",
    "                    print \"vscrolling changed to \",vscrolling\n",
    "                    genelife.set_vscrolling()   \n",
    "        if (not mouseclicked and not pause): \n",
    "            if updatesenabled: \n",
    "                update(count)\n",
    "            else: \n",
    "                colorgrid()\n",
    "        nspecies=genelife.get_nspecies()\n",
    "        caption = \"Gene Life at step %d coloring %d nspecies %d \" % (framenr,colorfunction,nspecies)\n",
    "        if quadrants >= 0: \n",
    "            paramdat = \"repscheme %06x surv. %01x overw. %01x ncoding %06x\" % (repscheme,survivalmask,overwritemask,ncoding)\n",
    "            caption = caption + (\"q%1d \" % quadrants) + paramdat\n",
    "        if colorfunction == 4: caption = caption + (\"ymax %d \" % ymax)\n",
    "        elif colorfunction == 8: caption = caption + (\"offsets (%d,%d,%d) \" % (offdx,offdy,offdt))\n",
    "        if pixeldat: caption = caption + pixeldat\n",
    "        pg.display.set_caption(caption)\n",
    "        # pg.transform.scale2x(scr,screen)   # use this for pygame scale2x with smoother\n",
    "        if scalex2:\n",
    "            pg.transform.scale2xact(scr,screen)  # use this for custom pygame no smoother \n",
    "        pg.display.update()                    # copies the screen to the display (or use .flip())"
   ]
  },
  {
   "cell_type": "markdown",
   "metadata": {},
   "source": [
    "# Running"
   ]
  },
  {
   "cell_type": "markdown",
   "metadata": {},
   "source": [
    "## Example:  selection=4 cooperative birth"
   ]
  },
  {
   "cell_type": "code",
   "execution_count": null,
   "metadata": {},
   "outputs": [],
   "source": [
    "# 4\n",
    "#  selection=4 cooperative birth between near-0 and near-1 sequences with appropriate parameters for survival\n",
    "#  Note that since two different sequences that cannot mutate directly into oneanother are required, birth is difficult\n",
    "#  The system needs some non selective birth to proliferate : enforce birth with repscheme bits 3,4\n",
    "#  The value of ncoding must be large, 24 or so, or non-specific replication takes over.\n",
    "#  Color scheme: green near 0, read near 1, white neither. Near means within ncoding bits. \n",
    "nrun=1; ndisp=200; nskip=0; niter=100;   # simulation time stepping parameters : set nskip=800 for faster long time\n",
    "#nrun=1; ndisp=1; nskip=0; niter=1;      # single step\n",
    "nhist = 0                                # set to n to turn on histogram configurations every nth step\n",
    "nstat = 0                                # set to n to turn on statistics trace every nth step\n",
    "rulemod = runparams[0] = 1               # 0,1 whether to allow GoL rule modifications\n",
    "repscheme = runparams[1] = 0x03          # 0-1f: bit 0 on allow selection in 3 live nb configs, bit 1 on most difft vs 0 bit of canonical rotation\n",
    "selection = runparams[2] = 4             # fitness for 2 live neighbor rule : 0-6 see subgenelife.c code\n",
    "overwritemask = runparams[3] = 3         # mask of 2 bits to overwrite instead of survival for 3(bit0) or 2(bit1) live nbs\n",
    "survivalmask = runparams[4] = 2          # survive mask for two (bit 1) and three (bit 0) live neighbours : GoL = 3\n",
    "colorfunction = runparams[5] = 1         # color function 0-8\n",
    "initfield = runparams[6] = 200            # 1 init via 32x32 genepat.dat, n>1 init via nxn rand array\n",
    "nlog2pmut = simparams[0] = 7             # log2 gene mutation probability if <32, otherwise prob is val/2^-32 (0->0 prob)\n",
    "initial1density = simparams[1] = 16384   # initial 1 density in GOL state\n",
    "initialrdensity = simparams[2] = 0       # initial density of random genes\n",
    "ncoding = simparams[3] = 12              # no of bits away from targets and each other allowed for match\n",
    "startgenechoice = simparams[4] = 8       # initialize genes to startgene number 0-8 : 8 is random choice of 0-7\n",
    "\n",
    "repscheme=packrepscheme(repscheme,survivalmask,overwritemask) # packs bits together for compact display and image names\n",
    "genelife.initialize_planes(npoffsets)\n",
    "genelife.initialize(runparams,simparams)\n",
    "framenr = 0\n",
    "cnt=0\n",
    "show0(True)\n",
    "#step()\n",
    "run(True)"
   ]
  },
  {
   "cell_type": "markdown",
   "metadata": {},
   "source": [
    "## Example:  selection=2 scissors-stone-well-paper"
   ]
  },
  {
   "cell_type": "code",
   "execution_count": 23,
   "metadata": {},
   "outputs": [],
   "source": [
    "# 2\n",
    "#  selection=2 scissors-stone-well-paper\n",
    "#  Note that sequences must differ for replication unless it is forced.\n",
    "#  \n",
    "#  Color scheme: four different classes are red, green, blue and white\n",
    "nrun=1; ndisp=1000; nskip=0; niter=100;  # simulation time stepping parameters\n",
    "#nrun=1; ndisp=1; nskip=0; niter=1;      # single step\n",
    "nhist = 10                                # set to n to turn on histogram configurations every nth step\n",
    "nstat = 10                                # set to n to turn on statistics trace every nth step\n",
    "rulemod = runparams[0] = 1               # 0,1 whether to allow GoL rule modifications\n",
    "                                         # with rulemod 1 2-live-nb birth, 3-live-nb non-birth & non-survival possible\n",
    "repscheme = runparams[1] = 0x0002        # bits 0 to 20 code for mostly independent binary options\n",
    "selection = runparams[2] = 2             # fitness for 2 live neighbor rule : 0-6 see subgenelife.c code\n",
    "overwritemask = runparams[3] = 3         # mask of 2 bits to overwrite instead of survival for 3(bit0) or 2(bit1) live nbs\n",
    "survivalmask = runparams[4] = 0          # survive mask for two (bit 1) and three (bit 0) live neighbours : GoL = 3\n",
    "colorfunction = runparams[5] = 8         # color function 0(hash), ≥1(fnal), 2 nongolchg yellow, 3 notgolrul yellow\n",
    "initfield = runparams[6] = 200            # 1 init via 32x32 genepat.dat, n>1 init via nxn rand array\n",
    "nlog2pmut = simparams[0] = 8             # log2 gene mutation probability (0 or >56 means no mutation)\n",
    "initial1density = simparams[1] = 16384   # initial 1 density in GOL state\n",
    "                                         # 16384 = nearest to half of guaranteed C rand max value 32767 = 2**15 - 1\n",
    "initialrdensity = simparams[2] = 0       # initial density of random genes\n",
    "ncoding = simparams[3] = 0              # no of bits used to encode valid connection functions 1-16\n",
    "startgenechoice = simparams[4] = 8       # initialize genes to startgene number 0-8 : 8 is random choice of 0-7\n",
    "\n",
    "genelife.initialize_planes(npoffsets)\n",
    "genelife.initialize(runparams,simparams)\n",
    "framenr = 0\n",
    "cnt=0\n",
    "show0(True)\n",
    "#step()\n",
    "run(False)"
   ]
  },
  {
   "cell_type": "code",
   "execution_count": 24,
   "metadata": {},
   "outputs": [
    {
     "name": "stdout",
     "output_type": "stream",
     "text": [
      "[86 56 45 45 44 43 43 42 41 39 37 35 33 33 33 33 28 27 27 26]\n"
     ]
    }
   ],
   "source": [
    "# getting genes, popcounts and activities up to python\n",
    "gindices=np.zeros(10000,np.int32)\n",
    "genes=np.zeros(10000,np.uint64)\n",
    "popln=np.zeros(10000,np.int32)\n",
    "activities=np.zeros(10000,np.int32)\n",
    "\n",
    "nspecies=genelife.get_sorted_popln_act(gindices,genes,popln,activities)  #nspecies is only those with popcount nonzero\n",
    "# print \"no of species\",nspecies,len(popln)\n",
    "print popln[0:20]"
   ]
  },
  {
   "cell_type": "code",
   "execution_count": 25,
   "metadata": {},
   "outputs": [
    {
     "data": {
      "text/plain": [
       "2605"
      ]
     },
     "execution_count": 25,
     "metadata": {},
     "output_type": "execute_result"
    }
   ],
   "source": [
    "nspecies"
   ]
  },
  {
   "cell_type": "markdown",
   "metadata": {},
   "source": [
    "## Trace of number of live cell statistics"
   ]
  },
  {
   "cell_type": "code",
   "execution_count": 26,
   "metadata": {},
   "outputs": [],
   "source": [
    "ntmax = 1024\n",
    "while framenr//nstat > ntmax: ntmax = ntmax*2   # increase ntmax to next power of 2 to match C memory\n",
    "tpts=np.zeros(ntmax,np.int32)\n",
    "livestats = np.zeros(ntmax,np.int32)\n",
    "genotypes = np.zeros(ntmax*4,np.int32)\n",
    "genotypes4 = np.reshape(genotypes,(ntmax,4)).T\n",
    "stepstats = np.zeros(ntmax*10,np.int32)\n",
    "stepstats10 = np.reshape(stepstats,(ntmax,10)).T\n",
    "configstats = np.zeros(ntmax*4,np.int32)\n",
    "configstats4 = np.reshape(configstats,(ntmax,4)).T"
   ]
  },
  {
   "cell_type": "code",
   "execution_count": 27,
   "metadata": {},
   "outputs": [],
   "source": [
    "nt = framenr//nstat\n",
    "genelife.get_stats(livestats,genotypes,stepstats,configstats,nt)\n",
    "tpts = [i*nstat for i in range(1,nt)]"
   ]
  },
  {
   "cell_type": "code",
   "execution_count": 28,
   "metadata": {},
   "outputs": [
    {
     "data": {
      "image/png": "[encoded data removed]",
      "text/plain": [
       "<Figure size 720x720 with 3 Axes>"
      ]
     },
     "metadata": {},
     "output_type": "display_data"
    }
   ],
   "source": [
    "%matplotlib inline\n",
    "# fig, ax = plt.subplots()\n",
    "plt.rcParams['figure.figsize'] = [10, 10]\n",
    "f, (ax1, ax2, ax3) = plt.subplots(3, sharex=True, sharey=False)\n",
    "ax1.plot(tpts,stepstats10[0][1:nt],'b',label='notgolrul')\n",
    "ax1.plot(tpts,stepstats10[1][1:nt],'g',label='2_live')\n",
    "ax1.plot(tpts,stepstats10[2][1:nt],'r',label='3_live')\n",
    "ax1.plot(tpts,stepstats10[3][1:nt],'c',label='birth')\n",
    "ax1.plot(tpts,stepstats10[4][1:nt],'m',label='mutation')\n",
    "ax1.plot(tpts,stepstats10[5][1:nt],'b--',label='2select')\n",
    "ax1.plot(tpts,stepstats10[6][1:nt],'g--',label='survival')\n",
    "ax1.plot(tpts,stepstats10[7][1:nt],'r--',label='death')\n",
    "ax1.plot(tpts,stepstats10[8][1:nt],'k--',label='golstate')\n",
    "ax1.plot(tpts,stepstats10[9][1:nt],'m--',label='3g_same')\n",
    "ax2.plot(tpts,genotypes4[0][1:nt],'b',label='d=0 class')\n",
    "ax2.plot(tpts,genotypes4[1][1:nt],'g',label='d=1 class')\n",
    "ax2.plot(tpts,genotypes4[2][1:nt],'r',label='d=2 class')\n",
    "ax2.plot(tpts,genotypes4[3][1:nt],'k',label='d=3 class')\n",
    "ax3.plot(tpts,configstats4[0][1:nt],'b',label='offset [-1, 0,-1]')\n",
    "ax3.plot(tpts,configstats4[1][1:nt],'g',label='offset [ 1, 0,-1]')\n",
    "ax3.plot(tpts,configstats4[2][1:nt],'r',label='offset [ 0,-1,-1]')\n",
    "ax3.plot(tpts,configstats4[3][1:nt],'k',label='offset [ 0, 1,-1]')\n",
    "ax1.set_ylabel('number of such cells')\n",
    "ax2.set_ylabel('number of such cells')\n",
    "ax3.set_ylabel('number of such configs')\n",
    "legend1 = ax1.legend(loc=2, bbox_to_anchor=(1,1), shadow=True, fontsize='small')  # or use  loc = 'best'\n",
    "legend2 = ax2.legend(loc=2, bbox_to_anchor=(1,1), shadow=True, fontsize='small')\n",
    "legend3 = ax3.legend(loc=2, bbox_to_anchor=(1,1), shadow=True, fontsize='small')\n",
    "legend1.get_frame().set_facecolor('C0')\n",
    "legend2.get_frame().set_facecolor('C0')\n",
    "legend3.get_frame().set_facecolor('C0')\n",
    "plt.show()"
   ]
  },
  {
   "cell_type": "markdown",
   "metadata": {},
   "source": [
    "## Space-time of one row"
   ]
  },
  {
   "cell_type": "code",
   "execution_count": 29,
   "metadata": {},
   "outputs": [],
   "source": [
    "genelife.get_curgol(gol)\n",
    "cnt = range(N)\n",
    "for i in range(N):\n",
    "    cnt[i] = sum([gol[(i*N)+j] for j in range(N)])"
   ]
  },
  {
   "cell_type": "code",
   "execution_count": 30,
   "metadata": {},
   "outputs": [
    {
     "data": {
      "text/plain": [
       "[(483, 117.0)]"
      ]
     },
     "execution_count": 30,
     "metadata": {},
     "output_type": "execute_result"
    }
   ],
   "source": [
    "foo = [(i,cnt[i]) for i in range(N) if cnt[i] == max(cnt)]\n",
    "foo"
   ]
  },
  {
   "cell_type": "code",
   "execution_count": 31,
   "metadata": {},
   "outputs": [],
   "source": [
    "myrow = foo[0][0]\n",
    "for i in range(N):\n",
    "    genelife.get_curgol(gol)\n",
    "    for j in range(N):\n",
    "        if gol[(N*myrow)+j]==1:\n",
    "            cgrid[i][j] = 1\n",
    "        else:\n",
    "            cgrid[i][j] = 0\n",
    "    genelife.genelife_update(1,0,0)\n",
    "    "
   ]
  },
  {
   "cell_type": "code",
   "execution_count": 32,
   "metadata": {},
   "outputs": [],
   "source": [
    "%matplotlib inline"
   ]
  },
  {
   "cell_type": "code",
   "execution_count": 33,
   "metadata": {},
   "outputs": [
    {
     "name": "stdout",
     "output_type": "stream",
     "text": [
      "Number of labels: 257\n"
     ]
    },
    {
     "data": {
      "image/png": "[encoded data removed]",
      "text/plain": [
       "<Figure size 1080x36 with 1 Axes>"
      ]
     },
     "metadata": {},
     "output_type": "display_data"
    },
    {
     "data": {
      "image/png": "[encoded data removed]",
      "text/plain": [
       "<Figure size 768x768 with 1 Axes>"
      ]
     },
     "metadata": {},
     "output_type": "display_data"
    }
   ],
   "source": [
    "my_dpi=96\n",
    "my_cmap = rand_cmap(257, type='bright', first_color_black=True, last_color_black=False)\n",
    "\n",
    "fig, ax = plt.subplots(figsize=((3*256)/my_dpi, (3*256)/my_dpi), dpi=my_dpi, frameon=False)\n",
    "ax.axis('off')\n",
    "# mat = ax.matshow(cgrid, cmap=my_cmap, vmin=0.01, vmax=257)  # was vmax = LEN+1\n",
    "mat = ax.matshow(cgrid, cmap=my_cmap, vmin = 0, vmax = 56)\n",
    "plt.show()"
   ]
  },
  {
   "cell_type": "markdown",
   "metadata": {},
   "source": [
    "# Gallery of example simulations\n",
    "use ctrl-return to execute cell and stay on same cell"
   ]
  },
  {
   "cell_type": "markdown",
   "metadata": {},
   "source": [
    "## Selection 0  Numerical value of gene determines fitness"
   ]
  },
  {
   "cell_type": "code",
   "execution_count": null,
   "metadata": {},
   "outputs": [],
   "source": [
    "# 0\n",
    "#  selection=0 gene value\n",
    "#  Note that sequences must differ for replication unless it is forced.\n",
    "#   \n",
    "nrun=1; ndisp=1000; nskip=0; niter=100;  # simulation time stepping parameters\n",
    "#nrun=1; ndisp=1; nskip=0; niter=1;      # single step\n",
    "nhist = 10                                # set to n to turn on histogram configurations every nth step\n",
    "nstat = 10                                # set to n to turn on statistics trace every nth step\n",
    "rulemod = runparams[0] = 1               # 0,1 whether to allow GoL rule modifications\n",
    "                                         # if 0, gene dynamics consistent with GoL still possible\n",
    "repscheme = runparams[1] = 0x3           # bits 0 to 13 code for binary options, 14-20 code for quadrant pairs,21-24 for allowed canonical 2-live nb configs \n",
    "                                         # value 0x11 is simply game of life provided survivalmask is 3\n",
    "selection = runparams[2] = 0             # fitness for 2 live neighbor rule : 0-6 see subgenelife.c code\n",
    "survivalmask = runparams[4] = 2          # survive mask for two (bit 1) and three (bit 0) live neighbours : GoL = 3\n",
    "birthmask = 1                            # birth mask for two (bit 1) and three (bit 0) live neighbours : GoL = 1\n",
    "overwritemask = runparams[3] = 3         # mask of 2 bits to overwrite instead of survival for 3(bit0) or 2(bit1) live nbs\n",
    "\n",
    "colorfunction = runparams[5] = 0         # color function 0(hash), ≥1(fnal), 2 nongolchg yellow, 3 notgolrul yellow\n",
    "initfield = runparams[6] = 200            # 1 init via 32x32 genepat.dat, n>1 init via nxn rand array\n",
    "nlog2pmut = simparams[0] = 8             # log2 gene mutation probability (0 or >56 means no mutation)\n",
    "initial1density = simparams[1] = 16384   # initial 1 density in GOL state\n",
    "                                         # 16384 = nearest to half of guaranteed C rand max value 32767 = 2**15 - 1\n",
    "initialrdensity = simparams[2] = 0       # initial density of random genes\n",
    "ncoding = simparams[3] = 0               # bits0-7 no of bits used to encode individual gene functions\n",
    "                                         # bits8-15 no of bits to encode masks for add2ndmask1st functions\n",
    "                                         # bits 16-23 number of planes used in selection modesl 10-12 \n",
    "startgenechoice = simparams[4] = 8       # initialize genes to startgene number 0-8 : 8 is random choice of 0-7\n",
    "\n",
    "genelife.initialize_planes(npoffsets)\n",
    "genelife.initialize(runparams,simparams)\n",
    "framenr = 0\n",
    "cnt=0\n",
    "show0()\n",
    "#step()\n",
    "run()"
   ]
  },
  {
   "cell_type": "markdown",
   "metadata": {},
   "source": [
    "## Selection 1 Number of 1s in gene determines fitness"
   ]
  },
  {
   "cell_type": "code",
   "execution_count": null,
   "metadata": {},
   "outputs": [],
   "source": [
    "# 1\n",
    "#  selection=1 number of ones determines fitness\n",
    "#  Note that sequences must differ in number of ones for replication unless it is forced.\n",
    "#  ncoding plays no role, system takes about 4-5000 steps to reach all ones sequence\n",
    "#  Color scheme: color gradient with colors going from black (no 1s) to white (all 1s)\n",
    "nrun=1; ndisp=1000; nskip=0; niter=100;  # simulation time stepping parameters\n",
    "#nrun=1; ndisp=1; nskip=0; niter=1;      # single step\n",
    "nhist = 0                                # set to n to turn on histogram configurations every nth step\n",
    "nstat = 0                                # set to n to turn on statistics trace every nth step\n",
    "rulemod = runparams[0] = 1               # 0,1 whether to allow GoL rule modifications\n",
    "repscheme = runparams[1] = 0x3           # bit 0,1 on allow selection in 3,2 live nb configs\n",
    "selection = runparams[2] = 1             # fitness for 2 live neighbor rule : 0-6 see subgenelife.c code\n",
    "overwritemask = runparams[3] = 3         # mask of 2 bits to overwrite instead of survival for 3(bit0) or 2(bit1) live nbs\n",
    "survivalmask = runparams[4] = 2          # survive mask for two (bit 1) and three (bit 0) live neighbours : GoL = 3\n",
    "colorfunction = runparams[5] = 1         # color function 0-8\n",
    "initfield = runparams[6] = 200            # 1 init via 32x32 genepat.dat, n>1 init via nxn rand array\n",
    "nlog2pmut = simparams[0] = 8             # log2 gene mutation probability (0 or >56 means no mutation)\n",
    "initial1density = simparams[1] = 16384   # initial 1 density in GOL state\n",
    "initialrdensity = simparams[2] = 0       # initial density of random genes\n",
    "ncoding = simparams[3] = 0              # no of bits used to encode valid connection functions 1-16\n",
    "startgenechoice = simparams[4] = 8       # initialize genes to startgene number 0-8 : 8 is random choice of 0-7\n",
    "\n",
    "genelife.initialize_planes(npoffsets)\n",
    "genelife.initialize(runparams,simparams)\n",
    "framenr = 0\n",
    "cnt=0\n",
    "show0()\n",
    "#step()\n",
    "run()"
   ]
  },
  {
   "cell_type": "markdown",
   "metadata": {},
   "source": [
    "## Selection 2 Not well-ordered (tournament) selection - scissors-stone-well-paper model"
   ]
  },
  {
   "cell_type": "code",
   "execution_count": null,
   "metadata": {},
   "outputs": [],
   "source": [
    "# 2\n",
    "#  selection=2 scissors-stone-well-paper\n",
    "#  Note that sequences must differ for replication unless it is forced.\n",
    "#  \n",
    "#  Color scheme: four different classes are red, green, blue and white\n",
    "nrun=1; ndisp=1000; nskip=0; niter=100;  # simulation time stepping parameters\n",
    "#nrun=1; ndisp=1; nskip=0; niter=1;      # single step\n",
    "nhist = 10                                # set to n to turn on histogram configurations every nth step\n",
    "nstat = 10                                # set to n to turn on statistics trace every nth step\n",
    "rulemod = runparams[0] = 1               # 0,1 whether to allow GoL rule modifications\n",
    "repscheme = runparams[1] = 0x3           # 0-1f: bit 0 on allow selection in 3 live nb configs, bit 1 on most difft vs 0 bit of canonical rotation\n",
    "selection = runparams[2] = 2             # fitness for 2 live neighbor rule : 0-6 see subgenelife.c code\n",
    "overwritemask = runparams[3] = 3         # mask of 2 bits to overwrite instead of survival for 3(bit0) or 2(bit1) live nbs\n",
    "survivalmask = runparams[4] = 0          # survive mask for two (bit 1) and three (bit 0) live neighbours : GoL = 3\n",
    "colorfunction = runparams[5] = 1         # color function 0-8\n",
    "initfield = runparams[6] = 100           # 1 init via 32x32 genepat.dat, n>1 init via nxn rand array\n",
    "nlog2pmut = simparams[0] = 8             # log2 gene mutation probability (0 or >56 means no mutation)\n",
    "initial1density = simparams[1] = 8192    # initial 1 density in GOL state\n",
    "initialrdensity = simparams[2] = 0       # initial density of random genes\n",
    "ncoding = simparams[3] = 0               # not used in selection==2\n",
    "startgenechoice = simparams[4] = 8       # initialize genes to startgene number 0-8 : 8 is random choice of 0-7\n",
    "\n",
    "genelife.initialize_planes(npoffsets)\n",
    "genelife.initialize(runparams,simparams)\n",
    "framenr = 0\n",
    "cnt=0\n",
    "show0()\n",
    "#step()\n",
    "run()"
   ]
  },
  {
   "cell_type": "markdown",
   "metadata": {},
   "source": [
    "## Selection 3 Cyclic not well-ordered selection for 4 species"
   ]
  },
  {
   "cell_type": "code",
   "execution_count": null,
   "metadata": {},
   "outputs": [],
   "source": [
    "# 3\n",
    "#  selection=3 scissors-stone-well-paper but only next color wins\n",
    "#  Note that sequences must differ for replication unless it is forced.\n",
    "#  \n",
    "#  Color scheme: four different classes are red, green, blue and white\n",
    "nrun=1; ndisp=1000; nskip=0; niter=100;  # simulation time stepping parameters\n",
    "#nrun=1; ndisp=1; nskip=0; niter=1;      # single step\n",
    "nhist = 0                                # set to n to turn on histogram configurations every nth step\n",
    "nstat = 0                                # set to n to turn on statistics trace every nth step\n",
    "rulemod = runparams[0] = 3               # 0,1 whether to allow GoL rule modifications\n",
    "repscheme = runparams[1] = 0x2ab         # 0-1f: bit 0 on allow selection in 3 live nb configs, bit 1 on most difft vs 0 bit of canonical rotation\n",
    "selection = runparams[2] = 3             # fitness for 2 live neighbor rule : 0-6 see subgenelife.c code\n",
    "overwritemask = runparams[3] = 0         # mask of 2 bits to overwrite instead of survival for 3(bit0) or 2(bit1) live nbs\n",
    "survivalmask = runparams[4] = 0          # survive mask for two (bit 1) and three (bit 0) live neighbours : GoL = 3\n",
    "colorfunction = runparams[5] = 1         # color function 0-8\n",
    "initfield = runparams[6] = 200            # 1 init via 32x32 genepat.dat, n>1 init via nxn rand array\n",
    "nlog2pmut = simparams[0] = 8             # log2 gene mutation probability (0 or >56 means no mutation)\n",
    "initial1density = simparams[1] = 16384   # initial 1 density in GOL state\n",
    "initialrdensity = simparams[2] = 0       # initial density of random genes\n",
    "ncoding = simparams[3] = 0               # not used in selection==2\n",
    "startgenechoice = simparams[4] = 8       # initialize genes to startgene number 0-8 : 8 is random choice of 0-7\n",
    "\n",
    "genelife.initialize_planes(npoffsets)\n",
    "genelife.initialize(runparams,simparams)\n",
    "framenr = 0\n",
    "cnt=0\n",
    "show0()\n",
    "#step()\n",
    "run()"
   ]
  },
  {
   "cell_type": "markdown",
   "metadata": {},
   "source": [
    "## Selection 4 Cooperative birth requiring two individuals with different gene functions"
   ]
  },
  {
   "cell_type": "code",
   "execution_count": null,
   "metadata": {},
   "outputs": [],
   "source": [
    "# 4\n",
    "#  selection=4 cooperative birth between near-0 and near-1 sequences with appropriate parameters for survival\n",
    "#  Note that since two different sequences that cannot mutate directly into oneanother are required, birth is difficult\n",
    "#  The system needs some non selective birth to proliferate : overwritemask 3\n",
    "#  For random start the ncoding value must be large, 28 or so.\n",
    "#  Color scheme: green near 0, read near 1, white neither. Near means within ncoding bits. \n",
    "nrun=1; ndisp=200; nskip=0; niter=100;   # simulation time stepping parameters : set nskip=800 for faster long time\n",
    "#nrun=1; ndisp=1; nskip=0; niter=1;      # single step\n",
    "nhist = 0                                # set to n to turn on histogram configurations every nth step\n",
    "nstat = 0                                # set to n to turn on statistics trace every nth step\n",
    "rulemod = runparams[0] = 1               # 0,1 whether to allow GoL rule modifications\n",
    "repscheme = runparams[1] = 0x03          # 0-1f: bit 0 on allow selection in 3 live nb configs, bit 1 on most difft vs 0 bit of canonical rotation\n",
    "selection = runparams[2] = 4             # fitness for 2 live neighbor rule : 0-6 see subgenelife.c code\n",
    "overwritemask = runparams[3] = 3         # mask of 2 bits to overwrite instead of survival for 3(bit0) or 2(bit1) live nbs\n",
    "survivalmask = runparams[4] = 2          # survive mask for two (bit 1) and three (bit 0) live neighbours : GoL = 3\n",
    "colorfunction = runparams[5] = 1         # color function 0-8\n",
    "initfield = runparams[6] = 200            # 1 init via 32x32 genepat.dat, n>1 init via nxn rand array\n",
    "nlog2pmut = simparams[0] = 7             # log2 gene mutation probability (0 or >56 means no mutation)\n",
    "initial1density = simparams[1] = 16384   # initial 1 density in GOL state\n",
    "initialrdensity = simparams[2] = 0       # initial density of random genes\n",
    "ncoding = simparams[3] = 12              # no of bits away from targets and each other allowed for match\n",
    "startgenechoice = simparams[4] = 8       # initialize genes to startgene number 0-8 : 8 is random choice of 0-7\n",
    "\n",
    "genelife.initialize_planes(npoffsets)\n",
    "genelife.initialize(runparams,simparams)\n",
    "framenr = 0\n",
    "cnt=0\n",
    "show0()\n",
    "#step()\n",
    "run()"
   ]
  },
  {
   "cell_type": "markdown",
   "metadata": {},
   "source": [
    "## Selection 5 Predator-prey model"
   ]
  },
  {
   "cell_type": "code",
   "execution_count": null,
   "metadata": {},
   "outputs": [],
   "source": [
    "# 5\n",
    "#  selection=5 with appropriate parameters for survival\n",
    "#  Note that since two different sequences that cannot mutate directly into oneanother are required, birth is difficult\n",
    "#  The system needs some non selective birth to proliferate : enforce birth with repscheme bits 3,4\n",
    "#  Predator and prey must be within ncoding bits of one another\n",
    "nrun=1; ndisp=200; nskip=800; niter=100; # simulation time stepping parameters\n",
    "#nrun=1; ndisp=1; nskip=0; niter=1;      # single step\n",
    "nhist = 0                                # set to n to turn on histogram configurations every nth step\n",
    "nstat = 0                                # set to n to turn on statistics trace every nth step\n",
    "rulemod = runparams[0] = 1               # 0,1 whether to allow GoL rule modifications\n",
    "repscheme = runparams[1] = 0x33          # 0-1f: bit 0 on allow selection in 3 live nb configs, bit 1 on most difft vs 0 bit of canonical rotation\n",
    "selection = runparams[2] = 5             # fitness for 2 live neighbor rule : 0-6 see subgenelife.c code\n",
    "overwritemask = runparams[3] = 3         # mask of 2 bits to overwrite instead of survival for 3(bit0) or 2(bit1) live nbs\n",
    "survivalmask = runparams[4] = 2          # survive mask for two (bit 1) and three (bit 0) live neighbours : GoL = 3\n",
    "colorfunction = runparams[5] = 1         # color function 0-8\n",
    "initfield = runparams[6] = 200            # 1 init via 32x32 genepat.dat, n>1 init via nxn rand array\n",
    "nlog2pmut = simparams[0] = 7             # log2 gene mutation probability (0 or >56 means no mutation)\n",
    "initial1density = simparams[1] = 16384   # initial 1 density in GOL state\n",
    "initialrdensity = simparams[2] = 0       # initial density of random genes\n",
    "ncoding = simparams[3] = 8               # no of bits used to encode valid connection functions 1-16\n",
    "startgenechoice = simparams[4] = 8       # initialize genes to startgene number 0-8 : 8 is random choice of 0-7\n",
    "\n",
    "genelife.initialize_planes(npoffsets)\n",
    "genelife.initialize(runparams,simparams)\n",
    "framenr = 0\n",
    "cnt=0\n",
    "show0()\n",
    "#step()\n",
    "run()"
   ]
  },
  {
   "cell_type": "markdown",
   "metadata": {},
   "source": [
    "## Selection 6 Constrained selection involving two targets and distance constraint"
   ]
  },
  {
   "cell_type": "code",
   "execution_count": null,
   "metadata": {},
   "outputs": [],
   "source": [
    "# 6\n",
    "#  selection=6 with appropriate parameters for survival\n",
    "#  in this model there are two target gene centres at all 0 sequence and the sequence with ncoding leading 1s\n",
    "#  birth occurs if the two sequences have different distances to each target and these are less than their mutual distance\n",
    "# the sequence which is closer to its target in selected as the ancestor for birth\n",
    "# the initial asymmetry was corrected by disallowing equal distances to the targets (a biassed choice was made)\n",
    "# one can enforce birth using repscheme, in which case the canonical rotation is used to maintain symmetry\n",
    "nrun=1; ndisp=200; nskip=0; niter=1;       # simulation time stepping parameters\n",
    "nhist = 0                                # set to n to turn on histogram configurations every nth step\n",
    "nstat = 0                                # set to n to turn on statistics trace every nth step\n",
    "rulemod = runparams[0] = 0               # 0,1 whether to allow GoL rule modifications\n",
    "repscheme = runparams[1] = 7             # for selection 10 or 11, repscheme gives number of planes in simulation (0->16)\n",
    "selection = runparams[2] = 6             # fitness for 2 live neighbor rule : 0-6 see subgenelife.c code\n",
    "overwritemask = runparams[3]= 0x0        # mask of 2 bits to overwrite instead of survival for 3(bit0) or 2(bit1) live nbs\n",
    "survivalmask = runparams[4] = 0x3        # selection 10,11: survival bit 0 determines if current plane used as well for nbs\n",
    "colorfunction = runparams[5] = 0         # color function 0-8\n",
    "initfield = runparams[6] = 150            # 1 init via 32x32 genepat.dat, n>1 init via nxn rand array\n",
    "nlog2pmut = simparams[0] = 8             # log2 gene mutation probability (0 or >56 means no mutation)\n",
    "initial1density = simparams[1] =  16384  # initial 1 density in GOL state\n",
    "initialrdensity = simparams[2] = 0       # initial density of random genes\n",
    "ncoding = simparams[3] = 0               # number of bits coding for functions\n",
    "startgenechoice = simparams[4] = 8       # initialize genes to startgene number 0-8 : 8 is random choice of 0-7\n",
    "\n",
    "genelife.initialize_planes(npoffsets)\n",
    "genelife.initialize(runparams,simparams)\n",
    "framenr = 0\n",
    "cnt=0\n",
    "show0()\n",
    "# step()\n",
    "run()"
   ]
  },
  {
   "cell_type": "markdown",
   "metadata": {},
   "source": [
    "## Selection 7 Neutral but different"
   ]
  },
  {
   "cell_type": "code",
   "execution_count": null,
   "metadata": {},
   "outputs": [],
   "source": [
    "# 7\n",
    "#  selection=7 with appropriate parameters for survival\n",
    "#  in this version selection is neutral, but fails if the sequences are the same\n",
    "nrun=1; ndisp=200; nskip=0; niter=1;       # simulation time stepping parameters\n",
    "nhist = 0                                # set to n to turn on histogram configurations every nth step\n",
    "nstat = 0                                # set to n to turn on statistics trace every nth step\n",
    "rulemod = runparams[0] = 1               # 0,1 whether to allow GoL rule modifications\n",
    "repscheme = runparams[1] = 3             # for selection 10 or 11, repscheme gives number of planes in simulation (0->16)\n",
    "selection = runparams[2] = 7             # fitness for 2 live neighbor rule : 0-6 see subgenelife.c code\n",
    "overwritemask = runparams[3]= 0x0        # mask of 2 bits to overwrite instead of survival for 3(bit0) or 2(bit1) live nbs\n",
    "survivalmask = runparams[4] = 0x3        # selection 10,11: survival bit 0 determines if current plane used as well for nbs\n",
    "colorfunction = runparams[5] = 0         # color function 0-8\n",
    "initfield = runparams[6] = 150            # 1 init via 32x32 genepat.dat, n>1 init via nxn rand array\n",
    "nlog2pmut = simparams[0] = 8             # log2 gene mutation probability (0 or >56 means no mutation)\n",
    "initial1density = simparams[1] =  16384  # initial 1 density in GOL state\n",
    "initialrdensity = simparams[2] = 0       # initial density of random genes\n",
    "ncoding = simparams[3] = 0               # number of bits coding for functions\n",
    "startgenechoice = simparams[4] = 8       # initialize genes to startgene number 0-8 : 8 is random choice of 0-7\n",
    "\n",
    "genelife.initialize_planes(npoffsets)\n",
    "genelife.initialize(runparams,simparams)\n",
    "framenr = 0\n",
    "cnt=0\n",
    "show0()\n",
    "# step()\n",
    "run()"
   ]
  },
  {
   "cell_type": "markdown",
   "metadata": {},
   "source": [
    "## Selection 8 Totalistic LUT encoded by gene"
   ]
  },
  {
   "cell_type": "code",
   "execution_count": null,
   "metadata": {},
   "outputs": [],
   "source": [
    "#  8 \n",
    "#  selection=8 LUT with appropriate parameters for survival\n",
    "#  this case uses the genes to encode the totalistic (s dept) rule tables for birth and survival\n",
    "#  birth is determined by the and of the live neighbour genes (bits 8-15 for ncoding=1) ie genecode\n",
    "#  survival is determined the and of the live neighbour genes (bits 0-8 for ncoding=1) ie genecode\n",
    "#  in an alternative version (see commented line in update_lut_sum) survival is by the central live neighbour gene\n",
    "#  ncoding may be set (1-7) to require more bits of gene be 1 to turn on a rule\n",
    "nrun=1; ndisp=100; nskip=0; niter=1;     # simulation time stepping parameters\n",
    "nhist = 0                                # set to n to turn on histogram configurations every nth step\n",
    "nstat = 0                                # set to n to turn on statistics trace every nth step\n",
    "rulemod = runparams[0] = 1               # 0,1 whether to allow GoL rule modifications\n",
    "                                         # with rulemod 1 2-live-nb birth, 3-live-nb non-birth & non-survival possible\n",
    "repscheme = runparams[1] = 0             # for selection 10 or 11, repscheme gives number of planes in simulation (0->16)\n",
    "                                         # 0-1f: bit 0 on allow selection in 3 live nb configs, bit 1 on most difft vs 0 bit of canonical rotation\n",
    "                                         # bit 2 on do 2nd-nb model, bit 3,4 on enforce birth for failed selection with s=3,2\n",
    "                                         # bit 5 on do position dept 2-live-nb birth \n",
    "                                         # bit 6 on for gene encoded 1st neighbour masking\n",
    "                                         # bit 7 on for check last state change not caused by non GoL rule\n",
    "                                         # bit 8 extend previous check to all neighbours of site\n",
    "                                         # bits 9-12 plus bit 5, chose only 1 of 4 canonical 2nb configs for birth\n",
    "                                         # for selection 9 (lut) repscheme only can be 0 (most difft) or 2 (first bit)\n",
    "selection = runparams[2] = 8             # fitness for 2 live neighbor rule : 0-6 see subgenelife.c code\n",
    "overwritemask = runparams[3] = 0         # mask of 2 bits to overwrite instead of survival for 3(bit0) or 2(bit1) live nbs\n",
    "                                         # for selection=9 this is the birth mask\n",
    "survivalmask = runparams[4] = 0x406      # selection 10,11: survival bit 0 determines if current plane used as well for nbs\n",
    "                                         #                  survival bit 1 determines if gol state 1 survives as in gol\n",
    "                                         # selection<8: survive mask for two (bit 1) and three (bit 0) live neighbours : GoL = 3\n",
    "                                         # for selection=8 this is the birth and survival mask\n",
    "                                         # for selection=9 32-bit survival mask\n",
    "colorfunction = runparams[5] = 0         # color function 0(hash), ≥1(fnal), 2 nongulstate or color gol planes, 3 notgolrul yellow\n",
    "                                         # 4 activities 5 genealogy steps 6 genealogy temporal 7 activity scaled colors\n",
    "initfield = runparams[6] = 150            # 1 init via 32x32 genepat.dat, n>1 init via nxn rand array\n",
    "nlog2pmut = simparams[0] = 8             # log2 gene mutation probability (0 or >56 means no mutation)\n",
    "initial1density = simparams[1] =  16384  # initial 1 density in GOL state\n",
    "                                         # 16384 = nearest to half of guaranteed C rand max value 32767 = 2**15 - 1\n",
    "initialrdensity = simparams[2] = 0       # initial density of random genes\n",
    "ncoding = simparams[3] = 0x1             # for selection 10, non zero value means grow plane community from 0\n",
    "                                         # otherwise (selection<10) no of bits used to encode valid connection functions 1-16\n",
    "                                         # for selection==8, lut, ncoding 1,2,3 bits per lut entry : 0 implies 3.\n",
    "startgenechoice = simparams[4] = 8       # initialize genes to startgene number 0-8 : 8 is random choice of 0-7\n",
    "\n",
    "genelife.initialize_planes(npoffsets)\n",
    "genelife.initialize(runparams,simparams)\n",
    "framenr = 0\n",
    "cnt=0\n",
    "show0()\n",
    "# step()\n",
    "run()"
   ]
  },
  {
   "cell_type": "markdown",
   "metadata": {},
   "source": [
    "## Selection 9 Canonical rotation LUT encoded by gene"
   ]
  },
  {
   "cell_type": "code",
   "execution_count": null,
   "metadata": {},
   "outputs": [],
   "source": [
    "# 9\n",
    "#  selection=9 LUT with appropriate parameters for survival\n",
    "#  this case uses the genes to encode the canonical rotation and s dept rule tables for birth and survival\n",
    "#  there are 1,1,4,7,10,7,4,1,1 canonical rotation masks for s=0-8. Only 32 cases s=2-6 are lut allowed non-zero.\n",
    "#  birth is determined by the and of the live neighbour genes (and 32 bits of overwritemask) ie genecode\n",
    "#  survival is determined the and of the live neighbour genes (and 32 bits of survivalmask) ie genecode\n",
    "#  ncoding not used : only space for 1 bit per lut entry\n",
    "#  this example allows only one of the 4 canonical rotations for s=2 to be gene activated for birth, otherwise <=GoL\n",
    "nrun=1; ndisp=100; nskip=0; niter=1;       # simulation time stepping parameters\n",
    "nhist = 0                                # set to n to turn on histogram configurations every nth step\n",
    "nstat = 0                                # set to n to turn on statistics trace every nth step\n",
    "rulemod = runparams[0] = 1               # 0,1 whether to allow GoL rule modifications\n",
    "                                         # with rulemod 1 2-live-nb birth, 3-live-nb non-birth & non-survival possible\n",
    "repscheme = runparams[1] = 0             # for selection 10 or 11, repscheme gives number of planes in simulation (0->16)\n",
    "                                         # 0-1f: bit 0 on allow selection in 3 live nb configs, bit 1 on most difft vs 0 bit of canonical rotation\n",
    "                                         # bit 2 on do 2nd-nb model, bit 3,4 on enforce birth for failed selection with s=3,2\n",
    "                                         # bit 5 on do position dept 2-live-nb birth \n",
    "                                         # bit 6 on for gene encoded 1st neighbour masking\n",
    "                                         # bit 7 on for check last state change not caused by non GoL rule\n",
    "                                         # bit 8 extend previous check to all neighbours of site\n",
    "                                         # bits 9-12 plus bit 5, chose only 1 of 4 canonical 2nb configs for birth\n",
    "                                         # for selection 9 (lut) repscheme only can be 0 (most difft) or 2 (first bit)\n",
    "selection = runparams[2] = 9             # fitness for 2 live neighbor rule : 0-6 see subgenelife.c code\n",
    "overwritemask = runparams[3]= 0x000007f8 # mask of 2 bits to overwrite instead of survival for 3(bit0) or 2(bit1) live nbs\n",
    "                                         # for selection=9 this is the birth mask\n",
    "survivalmask = runparams[4] = 0x000007ff # selection 10,11: survival bit 0 determines if current plane used as well for nbs\n",
    "                                         #                  survival bit 1 determines if gol state 1 survives as in gol\n",
    "                                         # selection<8: survive mask for two (bit 1) and three (bit 0) live neighbours : GoL = 3\n",
    "                                         # for selection=8 this is the birth and survival mask\n",
    "                                         # for selection=9 32-bit survival mask\n",
    "colorfunction = runparams[5] = 0         # color function 0(hash), ≥1(fnal), 2 nongulstate or color gol planes, 3 notgolrul yellow\n",
    "                                         # 4 activities 5 genealogy steps 6 genealogy temporal 7 activity scaled colors\n",
    "initfield = runparams[6] = 150            # 1 init via 32x32 genepat.dat, n>1 init via nxn rand array\n",
    "nlog2pmut = simparams[0] = 8             # log2 gene mutation probability (0 or >56 means no mutation)\n",
    "initial1density = simparams[1] =  16384  # initial 1 density in GOL state\n",
    "                                         # 16384 = nearest to half of guaranteed C rand max value 32767 = 2**15 - 1\n",
    "initialrdensity = simparams[2] = 0       # initial density of random genes\n",
    "ncoding = simparams[3] = 0               # for selection 10, non zero value means grow plane community from 0\n",
    "                                         # otherwise (selection<10) no of bits used to encode valid connection functions 1-16\n",
    "                                         # for selection==8, lut, ncoding 1,2,3 bits per lut entry : 0 implies 3.\n",
    "startgenechoice = simparams[4] = 8       # initialize genes to startgene number 0-8 : 8 is random choice of 0-7\n",
    "\n",
    "genelife.initialize_planes(npoffsets)\n",
    "genelife.initialize(runparams,simparams)\n",
    "framenr = 0\n",
    "cnt=0\n",
    "show0()\n",
    "# step()\n",
    "run()"
   ]
  },
  {
   "cell_type": "markdown",
   "metadata": {},
   "source": [
    "## Selection 10 GoL planes (2-16) coupled pairwise as specified by genes"
   ]
  },
  {
   "cell_type": "code",
   "execution_count": null,
   "metadata": {},
   "outputs": [],
   "source": [
    "# 10\n",
    "#  selection=10 with appropriate parameters for survival\n",
    "#  this model involves gene encoded coupling between up to 16 parallel planes of game of life : packed into 64-bit word\n",
    "#  the coupling makes bits on at most one other plane visible to first plane : locally dept on gene\n",
    "nrun=1; ndisp=100; nskip=0; niter=1;     # simulation time stepping parameters\n",
    "#nrun=1; ndisp=1; nskip=0; niter=1;      # single step\n",
    "nhist = 0                                # set to n to turn on histogram configurations every nth step\n",
    "nstat = 0                                # set to n to turn on statistics trace every nth step\n",
    "rulemod = runparams[0] = 1               # 0,1 whether to allow GoL rule modifications\n",
    "                                         # with rulemod 1 2-live-nb birth, 3-live-nb non-birth & non-survival possible\n",
    "repscheme = runparams[1] = 0x1b          # 0-1f: bit 0 on allow selection in 3 live nb configs, bit 1 on most difft vs 0 bit of canonical rotation\n",
    "                                         # bit 2 on do 2nd-nb model, bit 3,4 on enforce birth for failed selection with s=3,2\n",
    "                                         # bit 5 on do position dept 2-live-nb birth \n",
    "                                         # bit 6 on for gene encoded 1st neighbour masking\n",
    "                                         # bit 7 on for check last state change not caused by non GoL rule\n",
    "                                         # bit 8 extend previous check to all neighbours of site\n",
    "selection = runparams[2] = 10            # fitness for 2 live neighbor rule : 0-6 see subgenelife.c code\n",
    "overwritemask = runparams[3] = 0         # mask of 2 bits to overwrite instead of survival for 3(bit0) or 2(bit1) live nbs\n",
    "survivalmask = runparams[4] = 0          # survive mask for two (bit 1) and three (bit 0) live neighbours : GoL = 3\n",
    "colorfunction = runparams[5] = 0         # color function 0(hash), ≥1(fnal), 2 color combined gol states, 3 notgolrul yellow\n",
    "initfield = runparams[6] = 200            # 1 init via 32x32 genepat.dat, n>1 init via nxn rand array\n",
    "nlog2pmut = simparams[0] = 7             # log2 gene mutation probability (0 or >56 means no mutation)\n",
    "initial1density = simparams[1] = 16384   # initial 1 density in GOL state\n",
    "                                         # 16384 = nearest to half of guaranteed C rand max value 32767 = 2**15 - 1\n",
    "initialrdensity = simparams[2] = 32768   # initial density of random genes\n",
    "ncoding = simparams[3] = 0x100004        # no of bits used to encode valid connection functions 1-16\n",
    "startgenechoice = simparams[4] = 16      # initialize genes to startgene number 0-8 : 8 is random choice of 0-7\n",
    "\n",
    "genelife.initialize_planes(npoffsets)\n",
    "genelife.initialize(runparams,simparams)\n",
    "framenr = 0\n",
    "cnt=0\n",
    "show0()\n",
    "#step()\n",
    "run()"
   ]
  },
  {
   "cell_type": "markdown",
   "metadata": {},
   "source": [
    "## Selection 11 GoL planes (2-16) each coupled to 2 or 4 nearby planes as specified by genes"
   ]
  },
  {
   "cell_type": "code",
   "execution_count": null,
   "metadata": {},
   "outputs": [],
   "source": [
    "# 11\n",
    "# up to 16 parallel planes of GoL with coupling with genetically encoded subset of up to 4 nearest planes\n",
    "# in this case all 16 planes used repscheme 0\n",
    "nrun=1; ndisp=100; nskip=0; niter=1;     # simulation time stepping parameters\n",
    "#nrun=1; ndisp=1; nskip=0; niter=1;      # single step\n",
    "nhist = 0                                # set to n to turn on histogram configurations every nth step\n",
    "nstat = 0                                # set to n to turn on statistics trace every nth step\n",
    "rulemod = runparams[0] = 1               # 0,1 whether to allow GoL rule modifications\n",
    "                                         # with rulemod 1 2-live-nb birth, 3-live-nb non-birth & non-survival possible\n",
    "repscheme = runparams[1] = 0x1b          # 0-1f: bit 0 on allow selection in 3 live nb configs, bit 1 on most difft vs 0 bit of canonical rotation\n",
    "                                         # bit 2 on do 2nd-nb model, bit 3,4 on enforce birth for failed selection with s=3,2\n",
    "                                         # bit 5 on do position dept 2-live-nb birth \n",
    "                                         # bit 6 on for gene encoded 1st neighbour masking\n",
    "                                         # bit 7 on for check last state change not caused by non GoL rule\n",
    "                                         # bit 8 extend previous check to all neighbours of site\n",
    "selection = runparams[2] = 11            # fitness for 2 live neighbor rule : 0-6 see subgenelife.c code\n",
    "overwritemask = runparams[3] = 0         # mask of 2 bits to overwrite instead of survival for 3(bit0) or 2(bit1) live nbs\n",
    "survivalmask = runparams[4] = 0          # survive mask for two (bit 1) and three (bit 0) live neighbours : GoL = 3\n",
    "colorfunction = runparams[5] = 1         # color function 0(hash), ≥1(fnal), 2 color gol planes, 3 notgolrul yellow\n",
    "initfield = runparams[6] = 200            # 1 init via 32x32 genepat.dat, n>1 init via nxn rand array\n",
    "nlog2pmut = simparams[0] = 6             # log2 gene mutation probability (0 or >56 means no mutation)\n",
    "initial1density = simparams[1] =  16384  # initial 1 density in GOL state\n",
    "                                         # 16384 = nearest to half of guaranteed C rand max value 32767 = 2**15 - 1\n",
    "initialrdensity = simparams[2] = 0       # initial density of random genes\n",
    "ncoding = simparams[3] = 0x100000        # 16 planes also achieved with value 0\n",
    "startgenechoice = simparams[4] = 16      # initialize genes to startgene number 0-8 : 8 is random choice of 0-7\n",
    "\n",
    "genelife.initialize_planes(npoffsets)\n",
    "genelife.initialize(runparams,simparams)\n",
    "framenr = 0\n",
    "cnt=0\n",
    "show0()\n",
    "# step()\n",
    "run()"
   ]
  },
  {
   "cell_type": "markdown",
   "metadata": {},
   "source": [
    "## Selection 12 64-plane GoL with simple coupling"
   ]
  },
  {
   "cell_type": "code",
   "execution_count": null,
   "metadata": {},
   "outputs": [],
   "source": [
    "# 12\n",
    "# 64 copies of game of life computed in overlay and in parallel\n",
    "# for rulemod=0 uncoupeld copies of gol : need to set density of \n",
    "# first attempts to explore this model with coupling lead to over-proliferation\n",
    "# even when coupling only two specific planes specified by the genes\n",
    "# genes however are not yet proliferating : ie fixed and stationary\n",
    "nrun=1; ndisp=1000; nskip=0; niter=1;     # simulation time stepping parameters\n",
    "#nrun=1; ndisp=1; nskip=0; niter=1;      # single step\n",
    "nhist = 0                                # set to n to turn on histogram configurations every nth step\n",
    "nstat = 0                                # set to n to turn on statistics trace every nth step\n",
    "rulemod = runparams[0] = 1               # 0,1 whether to allow GoL rule modifications\n",
    "repscheme = runparams[1] = 0x11          # bit 0 0: pure 3D 1: gene coupled 2D-3D \n",
    "                                         # bit 1 : only use birth not survival from 2D GoL \n",
    "                                         # [bit 2 used for canonical bit decision as in other models]\n",
    "                                         # bit 4,5,6 specify subsets for 3D survival 56,67,6 instead of 567  \n",
    "selection = runparams[2] = 12            # selects this case with 64 planes\n",
    "overwritemask = runparams[3] = 0         # not used\n",
    "survivalmask = runparams[4] = 0          # not used\n",
    "colorfunction = runparams[5] = 2         # color function 0(hash), ≥1(fnal), 2 color gol planes, 3 notgolrul yellow\n",
    "initfield = runparams[6] = 200            # 1 init via 32x32 genepat.dat, n>1 init via nxn rand array\n",
    "nlog2pmut = simparams[0] = 7             # log2 gene mutation probability (0 or >56 means no mutation) : not yet used\n",
    "initial1density = simparams[1] =  4096   # initial 1 density in GOL state (in 3D initial density should be between 4096 and 8192 not 16384)\n",
    "                                         # 16384 = nearest to half of guaranteed C rand max value 32767 = 2**15 - 1\n",
    "initialrdensity = simparams[2] = 32768   # initial density of random genes\n",
    "ncoding = simparams[3] = 0x400400        # no of bit planes used is 64, ncoding 2 is 16 bits for genes\n",
    "startgenechoice = simparams[4] = 16      # initialize genes to startgene number 0-8 : 8 is random choice of 0-7\n",
    "\n",
    "genelife.initialize_planes(npoffsets)\n",
    "genelife.initialize(runparams,simparams)\n",
    "framenr = 0\n",
    "cnt=0\n",
    "show0(False)\n",
    "# step(None) # no counts printed\n",
    "run(True)"
   ]
  },
  {
   "cell_type": "markdown",
   "metadata": {},
   "source": [
    "## Selection 13 Coupling of two planes of GoL by gene specified matching between configurations"
   ]
  },
  {
   "cell_type": "code",
   "execution_count": null,
   "metadata": {},
   "outputs": [],
   "source": [
    "# 13\n",
    "nrun=1; ndisp=100; nskip=0; niter=1;     # simulation time stepping parameters\n",
    "#nrun=1; ndisp=1; nskip=0; niter=1;      # single step\n",
    "nhist = 0                                # set to n to turn on histogram configurations every nth step\n",
    "nstat = 0                                # set to n to turn on statistics trace every nth step\n",
    "rulemod = runparams[0] = 1               # 0,1 whether to allow GoL rule modifications\n",
    "                                         # with rulemod 1 2-live-nb birth, 3-live-nb non-birth & non-survival possible\n",
    "repscheme = runparams[1] = 0             # for selection 10 or 11, repscheme gives number of planes in simulation (0->16)\n",
    "                                         # 0-1f: bit 0 on allow selection in 3 live nb configs, bit 1 on most difft vs 0 bit of canonical rotation\n",
    "                                         # bit 2 on do 2nd-nb model, bit 3,4 on enforce birth for failed selection with s=3,2\n",
    "                                         # bit 5 on do position dept 2-live-nb birth \n",
    "                                         # bit 6 on for gene encoded 1st neighbour masking\n",
    "                                         # bit 7 on for check last state change not caused by non GoL rule\n",
    "                                         # bit 8 extend previous check to all neighbours of site\n",
    "                                         # bits 9-12 zusammen mit bit 5, chose only 1 of 4 canonical 2nb configs for birth\n",
    "selection = runparams[2] = 13            # fitness for 2 live neighbor rule : 0-6 see subgenelife.c code\n",
    "overwritemask = runparams[3] = 0         # mask of 2 bits to overwrite instead of survival for 3(bit0) or 2(bit1) live nbs\n",
    "survivalmask = runparams[4] = 3          # selection 10,11: survival bit 0 determines if current plane used as well for nbs\n",
    "                                         #                  survival bit 1 determines if gol state 1 survives as in gol\n",
    "                                         # selection<10: survive mask for two (bit 1) and three (bit 0) live neighbours : GoL = 3\n",
    "colorfunction = runparams[5] = 0         # color function 0(hash), ≥1(fnal), 2 nongulstate or color gol planes, 3 notgolrul yellow\n",
    "                                         # 4 activities 5 genealogy steps 6 genealogy temporal 7 activity scaled colors\n",
    "initfield = runparams[6] = 200            # 1 init via 32x32 genepat.dat, n>1 init via nxn rand array\n",
    "nlog2pmut = simparams[0] = 9             # log2 gene mutation probability (0 or >56 means no mutation)\n",
    "initial1density = simparams[1] =  16384  # initial 1 density in GOL state\n",
    "                                         # 16384 = nearest to half of guaranteed C rand max value 32767 = 2**15 - 1\n",
    "initialrdensity = simparams[2] = 32768   # initial density of random genes\n",
    "ncoding = simparams[3] = 0               # for selection 10, non zero value means grow plane community from 0\n",
    "                                         # otherwise (selection<10) no of bits used to encode valid connection functions 1-16\n",
    "startgenechoice = simparams[4] = 8       # initialize genes to startgene number 0-8 : 8 is random choice of 0-7\n",
    "\n",
    "genelife.initialize_planes(npoffsets)\n",
    "genelife.initialize(runparams,simparams)\n",
    "framenr = 0\n",
    "cnt=0\n",
    "show0(True)\n",
    "# step()\n",
    "run(True)"
   ]
  },
  {
   "cell_type": "code",
   "execution_count": null,
   "metadata": {},
   "outputs": [],
   "source": []
  }
 ],
 "metadata": {
  "celltoolbar": "Initialization Cell",
  "hide_input": false,
  "kernelspec": {
   "display_name": "Python 2",
   "language": "python",
   "name": "python2"
  },
  "language_info": {
   "codemirror_mode": {
    "name": "ipython",
    "version": 2
   },
   "file_extension": ".py",
   "mimetype": "text/x-python",
   "name": "python",
   "nbconvert_exporter": "python",
   "pygments_lexer": "ipython2",
   "version": "2.7.15"
  },
  "toc": {
   "base_numbering": 1,
   "nav_menu": {},
   "number_sections": true,
   "sideBar": true,
   "skip_h1_title": false,
   "title_cell": "Table of Contents",
   "title_sidebar": "Contents",
   "toc_cell": false,
   "toc_position": {
    "height": "calc(100% - 180px)",
    "left": "10px",
    "top": "150px",
    "width": "245.391px"
   },
   "toc_section_display": true,
   "toc_window_display": true
  }
 },
 "nbformat": 4,
 "nbformat_minor": 2
}
