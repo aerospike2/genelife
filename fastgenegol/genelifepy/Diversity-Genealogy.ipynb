{
 "cells": [
  {
   "cell_type": "markdown",
   "metadata": {},
   "source": [
    "## Initialize python imports, notebook window width,  and graphics window position\n",
    "Executed automatically on start or restart."
   ]
  },
  {
   "cell_type": "code",
   "execution_count": 1,
   "metadata": {},
   "outputs": [
    {
     "name": "stdout",
     "output_type": "stream",
     "text": [
      "Running with SDL version 2.0.9.\n"
     ]
    },
    {
     "data": {
      "text/html": [
       "<style>.container { width:100% !important; }</style>"
      ],
      "text/plain": [
       "<IPython.core.display.HTML object>"
      ]
     },
     "metadata": {},
     "output_type": "display_data"
    }
   ],
   "source": [
    "%gui osx\n",
    "import random as rand\n",
    "import numpy as np\n",
    "import genelife as g\n",
    "\n",
    "%matplotlib inline\n",
    "import matplotlib\n",
    "from matplotlib import pyplot as plt\n",
    "\n",
    "# \n",
    "from IPython.core.display import display, HTML\n",
    "display(HTML(\"<style>.container { width:100% !important; }</style>\"))     # sets input cells to use full window width\n",
    "\n",
    "from os import environ\n",
    "environ['SDL_VIDEO_WINDOW_POS'] = \"%d,%d\" % (1000,32)   # set position of pygame (SDL) video window (x,y) pixel coords, values work well on iMac\n",
    "\n",
    "from bayespy.nodes import Categorical, Dirichlet\n",
    "from bayespy.nodes import Beta\n",
    "from bayespy.nodes import Mixture, Bernoulli\n",
    "from bayespy.inference import VB  # variational Bayes inference engine\n",
    "import bayespy.plot as bpplt"
   ]
  },
  {
   "cell_type": "markdown",
   "metadata": {},
   "source": [
    "## Selection 11 Distance distinguishing LUT encoded by gene with variable length encoding"
   ]
  },
  {
   "cell_type": "code",
   "execution_count": 2,
   "metadata": {},
   "outputs": [
    {
     "name": "stderr",
     "output_type": "stream",
     "text": [
      "/Users/n/Projects/genelife/fastgenegol/genelifepy/genelife.py:404: ExperimentalWarning: 'pixels2d' is in an experimental state.\n",
      "  cgrid=sdl2.ext.pixels2d(surface)\n"
     ]
    }
   ],
   "source": [
    "# 11\n",
    "#  selection=11 LUT with appropriate parameters for survival\n",
    "#  this case uses the genes to encode the se (number of live edge-centred sites) and s dept rule tables for birth and survival\n",
    "#  a variable length encoding is used in the gene with 4+4 bits, 4-bits for the survival and birth s value as in 8, and 4 bits for the se value\n",
    "#  there are 1,2,3,4,5,4,3,2,1 configurations of se for s=0-8. Only 19 cases s=2-6 are lut allowed non-zero.\n",
    "#  birth is determined by the and of the live neighbour genes (and 19 bits of overwritemask) ie genecode\n",
    "#  survival is determined the and of the live neighbour genes (and 19 bits of survivalmask) ie genecode\n",
    "#  ncoding not used : only space for 1 bit per lut entry\n",
    "#  this example starts with only allowing GoL configurations : extend by adding more bits to survival and birth masks\n",
    "g.nrun=1; g.ndisp=1000; g.nskip=0; g.niter=1;# simulation time stepping parameters\n",
    "g.nhist = 0                                  # set to n to turn on histogram configurations every nth step\n",
    "g.nstat = 0                                  # set to n to turn on statistics trace every nth step\n",
    "g.rulemod = g.runparams[0] = 1               # 0,1 whether to allow GoL rule modifications\n",
    "                                             # with rulemod 1 2-live-nb birth, 3-live-nb non-birth & non-survival possible\n",
    "g.repscheme = g.runparams[1] = 0x0610        # repscheme bit 3 (val 0x8) determines whether random choice of ancestor amongst live neighbours\n",
    "                                             # repscheme mod 8 i.e. 0-7 determines selection scheme based on gene\n",
    "                                             # 0 minimum gene as value  # 1 maximum gene as value\n",
    "                                             # 2 minimum number of ones # 3 maximum number of ones\n",
    "                                             # 4 neutral selection # 5 neutral but different selection\n",
    "                                             # 6 penalty function -1 for a survival rule -2 for a birth rule  # 7 not allowed \n",
    "g.selection     = g.runparams[2] = 11        # fitness for 2 live neighbor rule : 0-6 see subgenelife.c code\n",
    "g.overwritemask = g.runparams[3] = 0xffff\n",
    "g.overwritemask = g.runparams[3] = 0x00\n",
    "g.birthmask    = g.runparams[7] = 0x000001e0 # for selection=10-13 this is the GoL birth mask\n",
    "g.birthmask    = g.runparams[7] = 0x000001e2 # for selection=10-13 this is the GoL birth mask\n",
    "g.birthmask    = g.runparams[7] = 0x000001e2 # for selection=10-13 this is the GoL birth mask\n",
    "g.birthmask    = g.runparams[4] = 0x0 # for selection=10-11 this is the GoL survival mask\n",
    "g.birthmask    = g.runparams[4] = 0x007fffff # for selection=10-11 this is the GoL survival mask\n",
    "g.survivalmask = g.runparams[4] = 0x000001fc # for selection=10-11 this is the GoL survival mask\n",
    "g.survivalmask = g.runparams[4] = 0x00000 # for selection=10-11 this is the GoL survival mask\n",
    "g.survivalmask = g.runparams[4] = 0x007fffff # for selection=10-11 this is the GoL survival mask\n",
    "\n",
    "\n",
    "\n",
    "g.colorfunction = g.runparams[5] = 0         # color function 0(hash), ≥1(fnal), 2 nongulstate or color gol planes, 3 notgolrul yellow\n",
    "                                             # 4 activities 5 genealogy steps 6 genealogy temporal 7 activity scaled colors\n",
    "g.initfield = g.runparams[6] = 100           # 1 init via 32x32 genepat.dat, n>1 init via nxn rand array\n",
    "g.nlog2pmut = g.simparams[0] = 8             # log2 gene mutation probability (0 or >56 means no mutation)\n",
    "g.initial1density = g.simparams[1] =  16384  # initial 1 density in GOL state\n",
    "                                             # 16384 = nearest to half of guaranteed C rand max value 32767 = 2**15 - 1\n",
    "g.initialrdensity = g.simparams[2] = 0       # initial density of random genes\n",
    "g.ncoding = g.simparams[3] = 1               # for selection 10, non zero value means grow plane community from 0\n",
    "                                             # otherwise (selection<10) no of bits used to encode valid connection functions 1-16\n",
    "                                             # for selection==8, lut, ncoding 1,2,3 bits per lut entry : 0 implies 3.\n",
    "g.startgenechoice = g.simparams[4] = 8       # initialize genes to startgene number 0-8 : 8 is random choice of 0-7\n",
    "\n",
    "g.genelife.initialize_planes(g.npoffsets)\n",
    "g.genelife.set_seed(2)\n",
    "g.genelife.initialize(g.runparams,g.simparams)\n",
    "g.framenr = 0\n",
    "g.cnt=0\n",
    "g.show0()\n",
    "# step()\n",
    "g.run(g.nrun, g.ndisp, g.nskip, g.niter, g.nhist, g.nstat, False)"
   ]
  },
  {
   "cell_type": "markdown",
   "metadata": {},
   "source": [
    "## get gene data"
   ]
  },
  {
   "cell_type": "code",
   "execution_count": 3,
   "metadata": {},
   "outputs": [
    {
     "name": "stdout",
     "output_type": "stream",
     "text": [
      "ngenes 7421\n",
      "      gene        firstancestor   popcount  firsttime lasttime lastextinctiontime nextinctions activity\n",
      "          bf3f27 fedcba9876543210      540        0      383             -1            0         129067\n",
      "          bf3f07           bf3f27        1        2      383            363            7             10\n",
      " 280000000bf3f27  200000000bf3f27      119       10      383             -1            0          37235\n",
      "         2bf3f27           bf3f27       34       14      383            342            7           5259\n",
      "4004000000bf3f27 4000000000bf3f27       79       78      383             -1            0          34203\n"
     ]
    }
   ],
   "source": [
    "maxngenes = 2000000\n",
    "# genedtype=[('popcount',c_uint32),('firsttime',c_uint32),('lasttime',c_uint32),('lastextinctiontime',c_int32),    #    3 unsigned 1 signed int 32 bits\n",
    "#            ('activity',c_uint32),('nextinctions',c_uint32),('gene',c_uint64),('firstancestor',c_uint64)]         #    2 unsigned 32 bit and 2 unsigned 64 bit int\n",
    "genelist = np.zeros(maxngenes,dtype=g.genelife.genedtype)\n",
    "ngenes=g.genelife.get_genes(genelist)\n",
    "# print(g.genelife.genedtype)\n",
    "print('ngenes',ngenes)\n",
    "print('      gene        firstancestor   popcount  firsttime lasttime lastextinctiontime nextinctions activity')\n",
    "curtime = g.genelife.get_curtime()\n",
    "for i in range(200):\n",
    "    if genelist[i]['lasttime'] == curtime:\n",
    "        foo = \"%16x %16x %8d %8d %8d %14d %12d %14d\" % \\\n",
    "        (genelist[i]['gene'], genelist[i]['firstancestor'], genelist[i]['popcount'],genelist[i]['firsttime'], genelist[i]['lasttime'],\n",
    "         genelist[i]['lastextinctiontime'], genelist[i]['nextinctions'], genelist[i]['activity'] )\n",
    "        print(foo)"
   ]
  },
  {
   "cell_type": "code",
   "execution_count": 4,
   "metadata": {},
   "outputs": [
    {
     "data": {
      "text/plain": [
       "7421"
      ]
     },
     "execution_count": 4,
     "metadata": {},
     "output_type": "execute_result"
    }
   ],
   "source": [
    "ngenes"
   ]
  },
  {
   "cell_type": "code",
   "execution_count": 5,
   "metadata": {},
   "outputs": [],
   "source": [
    "glive = [genelist[i] for i in range(len(genelist)) if genelist[i]['lasttime']==curtime]"
   ]
  },
  {
   "cell_type": "code",
   "execution_count": 6,
   "metadata": {},
   "outputs": [
    {
     "data": {
      "text/plain": [
       "1354"
      ]
     },
     "execution_count": 6,
     "metadata": {},
     "output_type": "execute_result"
    }
   ],
   "source": [
    "len(glive)"
   ]
  },
  {
   "cell_type": "code",
   "execution_count": 7,
   "metadata": {},
   "outputs": [
    {
     "data": {
      "image/png": "[encoded data removed]",
      "text/plain": [
       "<Figure size 432x288 with 1 Axes>"
      ]
     },
     "metadata": {
      "needs_background": "light"
     },
     "output_type": "display_data"
    }
   ],
   "source": [
    "act = [glive[i]['activity'] for i in range(len(glive))]\n",
    "plt.yscale('log', nonposy='clip')\n",
    "plt.hist(act,bins=50);"
   ]
  },
  {
   "cell_type": "code",
   "execution_count": 8,
   "metadata": {},
   "outputs": [],
   "source": [
    "gg = [glive[i]['gene'] for i in range(len(glive))]"
   ]
  },
  {
   "cell_type": "code",
   "execution_count": 9,
   "metadata": {},
   "outputs": [],
   "source": [
    "genes = [gg['gene'] for gg in glive]"
   ]
  },
  {
   "cell_type": "markdown",
   "metadata": {},
   "source": [
    "## get genealogy data"
   ]
  },
  {
   "cell_type": "code",
   "execution_count": 10,
   "metadata": {},
   "outputs": [],
   "source": [
    "gdepth = g.genelife.get_genealogydepth()\n",
    "nspecies = g.genelife.get_nspecies()\n",
    "gdat = np.zeros(gdepth*nspecies,dtype=g.genelife.c_uint64)\n",
    "mxdepth = g.genelife.get_genealogies(gdat)"
   ]
  },
  {
   "cell_type": "code",
   "execution_count": 11,
   "metadata": {},
   "outputs": [
    {
     "data": {
      "text/plain": [
       "27702"
      ]
     },
     "execution_count": 11,
     "metadata": {},
     "output_type": "execute_result"
    }
   ],
   "source": [
    "len(gdat)"
   ]
  },
  {
   "cell_type": "code",
   "execution_count": 12,
   "metadata": {},
   "outputs": [],
   "source": [
    "gdat.shape = (nspecies,gdepth)"
   ]
  },
  {
   "cell_type": "code",
   "execution_count": 13,
   "metadata": {},
   "outputs": [
    {
     "data": {
      "text/plain": [
       "1539"
      ]
     },
     "execution_count": 13,
     "metadata": {},
     "output_type": "execute_result"
    }
   ],
   "source": [
    "nspecies"
   ]
  },
  {
   "cell_type": "code",
   "execution_count": 14,
   "metadata": {},
   "outputs": [
    {
     "data": {
      "text/plain": [
       "['0x6080000000bf7f27',\n",
       " '0x6080000000bf3f27',\n",
       " '0x2080000000bf3f27',\n",
       " '0x20800000009f3f27',\n",
       " '0x800000009f3f27',\n",
       " '0x80000000bf3f27',\n",
       " '0xbf3f27',\n",
       " '0xfedcba9876543210',\n",
       " '0xfedcba9876543210',\n",
       " '0xfedcba9876543210',\n",
       " '0xfedcba9876543210',\n",
       " '0xfedcba9876543210',\n",
       " '0xfedcba9876543210',\n",
       " '0xfedcba9876543210',\n",
       " '0xfedcba9876543210',\n",
       " '0xfedcba9876543210',\n",
       " '0xfedcba9876543210',\n",
       " '0xfedcba9876543210']"
      ]
     },
     "execution_count": 14,
     "metadata": {},
     "output_type": "execute_result"
    }
   ],
   "source": [
    "idx = 1000; [hex(gdat[idx][i]) for i in range(len(gdat[idx]))]"
   ]
  },
  {
   "cell_type": "code",
   "execution_count": 15,
   "metadata": {},
   "outputs": [],
   "source": [
    "gdat = [[x for x in gdat[i] if x!= 0xfedcba9876543210] for i in range(len(gdat))]"
   ]
  },
  {
   "cell_type": "code",
   "execution_count": 16,
   "metadata": {},
   "outputs": [
    {
     "data": {
      "text/plain": [
       "[['0xbf3f27'],\n",
       " ['0xbf3f07', '0xbf3f27'],\n",
       " ['0x2000000bf3f27', '0xbf3f27'],\n",
       " ['0x280000000bf3f27', '0x200000000bf3f27', '0xbf3f27'],\n",
       " ['0x100000bf3f27', '0xbf3f27'],\n",
       " ['0x2bf3f27', '0xbf3f27'],\n",
       " ['0x4004000000bf3f27', '0x4000000000bf3f27', '0xbf3f27'],\n",
       " ['0x2800000009f3f27', '0x280000000bf3f27', '0x200000000bf3f27', '0xbf3f27'],\n",
       " ['0x800000009f3f27', '0x80000000bf3f27', '0xbf3f27'],\n",
       " ['0x10000bf3f27', '0x400010000bf3f27', '0x400000000bf3f27', '0xbf3f27'],\n",
       " ['0x1040100400bf3f27',\n",
       "  '0x40100400bf3f27',\n",
       "  '0x40100000bf3f27',\n",
       "  '0x40000000bf3f27',\n",
       "  '0xbf3f27'],\n",
       " ['0x8c00000000bf3f27',\n",
       "  '0x8800000000bf3f27',\n",
       "  '0x8000000000bf3f27',\n",
       "  '0xbf3f27'],\n",
       " ['0x3000000019f3f27',\n",
       "  '0x300000001bf3f27',\n",
       "  '0x100000001bf3f27',\n",
       "  '0x1bf3f27',\n",
       "  '0xbf3f27'],\n",
       " ['0x8004001008bf3f27',\n",
       "  '0x8004001000bf3f27',\n",
       "  '0x8004000000bf3f27',\n",
       "  '0x8000000000bf3f27',\n",
       "  '0xbf3f27'],\n",
       " ['0x6904400001bf3f27',\n",
       "  '0x4904400001bf3f27',\n",
       "  '0x4900400001bf3f27',\n",
       "  '0x4100400001bf3f27',\n",
       "  '0x100400001bf3f27',\n",
       "  '0x100000001bf3f27',\n",
       "  '0x1bf3f27',\n",
       "  '0xbf3f27'],\n",
       " ['0x1800000009f3f27', '0x800000009f3f27', '0x80000000bf3f27', '0xbf3f27'],\n",
       " ['0x800400009f3f27', '0x800000009f3f27', '0x80000000bf3f27', '0xbf3f27'],\n",
       " ['0x2800000089f3f27',\n",
       "  '0x2800000009f3f27',\n",
       "  '0x280000000bf3f27',\n",
       "  '0x200000000bf3f27',\n",
       "  '0xbf3f27'],\n",
       " ['0x1000002bf3f27', '0x2bf3f27', '0xbf3f27'],\n",
       " ['0x2800004009f3f27',\n",
       "  '0x2800000009f3f27',\n",
       "  '0x280000000bf3f27',\n",
       "  '0x200000000bf3f27',\n",
       "  '0xbf3f27']]"
      ]
     },
     "execution_count": 16,
     "metadata": {},
     "output_type": "execute_result"
    }
   ],
   "source": [
    "[[hex(x) for x in gdat[i]] for i in range(20)]"
   ]
  },
  {
   "cell_type": "code",
   "execution_count": 17,
   "metadata": {},
   "outputs": [
    {
     "data": {
      "text/plain": [
       "Text(0.5,1,'size of subpopulation vs. genealogy size')"
      ]
     },
     "execution_count": 17,
     "metadata": {},
     "output_type": "execute_result"
    },
    {
     "data": {
      "image/png": "[encoded data removed]",
      "text/plain": [
       "<Figure size 432x288 with 1 Axes>"
      ]
     },
     "metadata": {
      "needs_background": "light"
     },
     "output_type": "display_data"
    }
   ],
   "source": [
    "\n",
    "food = [len([i for i in range(len(gdat)) if len(gdat[i])==j]) for j in range(20)]\n",
    "plt.plot(food);\n",
    "plt.title('size of subpopulation vs. genealogy size')"
   ]
  },
  {
   "cell_type": "code",
   "execution_count": 19,
   "metadata": {},
   "outputs": [],
   "source": [
    "heads = [gdat[i][0] for i in range(len(gdat)) if len(gdat[i])>0]\n",
    "#heads2 = [gdat[i][2] for i in range(1,len(gdat)) if len(gdat[i])>0]\n",
    "tails = [gdat[i][len(gdat[i])-1] for i in range(len(gdat)) if len(gdat[i])>0]"
   ]
  },
  {
   "cell_type": "code",
   "execution_count": 33,
   "metadata": {},
   "outputs": [],
   "source": [
    "utails = list(set(tails))"
   ]
  },
  {
   "cell_type": "code",
   "execution_count": 37,
   "metadata": {},
   "outputs": [
    {
     "data": {
      "text/plain": [
       "['0x0', '0xbf3f27']"
      ]
     },
     "execution_count": 37,
     "metadata": {},
     "output_type": "execute_result"
    }
   ],
   "source": [
    "[hex(x) for x in utails]"
   ]
  },
  {
   "cell_type": "code",
   "execution_count": 21,
   "metadata": {},
   "outputs": [
    {
     "data": {
      "text/plain": [
       "(1539, 1354)"
      ]
     },
     "execution_count": 21,
     "metadata": {},
     "output_type": "execute_result"
    }
   ],
   "source": [
    "uheads = list(set(heads))\n",
    "(len(uheads),sum([uheads[i] in genes for i in range(len(uheads))]))"
   ]
  },
  {
   "cell_type": "code",
   "execution_count": 22,
   "metadata": {},
   "outputs": [
    {
     "data": {
      "text/plain": [
       "(1354, 1354)"
      ]
     },
     "execution_count": 22,
     "metadata": {},
     "output_type": "execute_result"
    }
   ],
   "source": [
    "(len(list(set(genes))),len(genes))"
   ]
  },
  {
   "cell_type": "code",
   "execution_count": 62,
   "metadata": {},
   "outputs": [
    {
     "data": {
      "text/plain": [
       "False"
      ]
     },
     "execution_count": 62,
     "metadata": {},
     "output_type": "execute_result"
    }
   ],
   "source": [
    "0x0 in genes"
   ]
  },
  {
   "cell_type": "code",
   "execution_count": null,
   "metadata": {},
   "outputs": [],
   "source": []
  }
 ],
 "metadata": {
  "celltoolbar": "Initialization Cell",
  "hide_input": false,
  "kernelspec": {
   "display_name": "Python 3",
   "language": "python",
   "name": "python3"
  },
  "language_info": {
   "codemirror_mode": {
    "name": "ipython",
    "version": 3
   },
   "file_extension": ".py",
   "mimetype": "text/x-python",
   "name": "python",
   "nbconvert_exporter": "python",
   "pygments_lexer": "ipython3",
   "version": "3.7.3"
  },
  "toc": {
   "nav_menu": {},
   "number_sections": true,
   "sideBar": true,
   "skip_h1_title": false,
   "title_cell": "Table of Contents",
   "title_sidebar": "Contents",
   "toc_cell": false,
   "toc_position": {
    "height": "855.2756958007812px",
    "left": "29.981616973876953px",
    "top": "116.36029052734375px",
    "width": "320.96875px"
   },
   "toc_section_display": true,
   "toc_window_display": true
  }
 },
 "nbformat": 4,
 "nbformat_minor": 2
}
