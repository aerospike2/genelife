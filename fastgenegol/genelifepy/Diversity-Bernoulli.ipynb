{
 "cells": [
  {
   "cell_type": "markdown",
   "metadata": {},
   "source": [
    "## Initialize python imports, notebook window width,  and graphics window position\n",
    "Executed automatically on start or restart."
   ]
  },
  {
   "cell_type": "code",
   "execution_count": 1,
   "metadata": {},
   "outputs": [
    {
     "name": "stdout",
     "output_type": "stream",
     "text": [
      "Running with SDL version 2.0.9.\n"
     ]
    },
    {
     "data": {
      "text/html": [
       "<style>.container { width:100% !important; }</style>"
      ],
      "text/plain": [
       "<IPython.core.display.HTML object>"
      ]
     },
     "metadata": {},
     "output_type": "display_data"
    }
   ],
   "source": [
    "%gui osx\n",
    "import random as rand\n",
    "import numpy as np\n",
    "import genelife as g\n",
    "\n",
    "%matplotlib inline\n",
    "import matplotlib\n",
    "from matplotlib import pyplot as plt\n",
    "\n",
    "# \n",
    "from IPython.core.display import display, HTML\n",
    "display(HTML(\"<style>.container { width:100% !important; }</style>\"))     # sets input cells to use full window width\n",
    "\n",
    "from os import environ\n",
    "environ['SDL_VIDEO_WINDOW_POS'] = \"%d,%d\" % (1000,32)   # set position of pygame (SDL) video window (x,y) pixel coords, values work well on iMac\n",
    "\n",
    "from bayespy.nodes import Categorical, Dirichlet\n",
    "from bayespy.nodes import Beta\n",
    "from bayespy.nodes import Mixture, Bernoulli\n",
    "from bayespy.inference import VB  # variational Bayes inference engine\n",
    "import bayespy.plot as bpplt"
   ]
  },
  {
   "cell_type": "markdown",
   "metadata": {},
   "source": [
    "## Selection 11 Distance distinguishing LUT encoded by gene with variable length encoding"
   ]
  },
  {
   "cell_type": "code",
   "execution_count": 2,
   "metadata": {},
   "outputs": [
    {
     "name": "stderr",
     "output_type": "stream",
     "text": [
      "/Users/n/Projects/genelife/fastgenegol/genelifepy/genelife.py:403: ExperimentalWarning: 'pixels2d' is in an experimental state.\n",
      "  cgrid=sdl2.ext.pixels2d(surface)\n"
     ]
    }
   ],
   "source": [
    "# 11\n",
    "#  selection=11 LUT with appropriate parameters for survival\n",
    "#  this case uses the genes to encode the se (number of live edge-centred sites) and s dept rule tables for birth and survival\n",
    "#  a variable length encoding is used in the gene with 4+4 bits, 4-bits for the survival and birth s value as in 8, and 4 bits for the se value\n",
    "#  there are 1,2,3,4,5,4,3,2,1 configurations of se for s=0-8. Only 19 cases s=2-6 are lut allowed non-zero.\n",
    "#  birth is determined by the and of the live neighbour genes (and 19 bits of overwritemask) ie genecode\n",
    "#  survival is determined the and of the live neighbour genes (and 19 bits of survivalmask) ie genecode\n",
    "#  ncoding not used : only space for 1 bit per lut entry\n",
    "#  this example starts with only allowing GoL configurations : extend by adding more bits to survival and birth masks\n",
    "g.nrun=1; g.ndisp=1000; g.nskip=0; g.niter=1;# simulation time stepping parameters\n",
    "g.nhist = 0                                  # set to n to turn on histogram configurations every nth step\n",
    "g.nstat = 0                                  # set to n to turn on statistics trace every nth step\n",
    "g.rulemod = g.runparams[0] = 1               # 0,1 whether to allow GoL rule modifications\n",
    "                                             # with rulemod 1 2-live-nb birth, 3-live-nb non-birth & non-survival possible\n",
    "g.repscheme = g.runparams[1] = 0x0610        # repscheme bit 3 (val 0x8) determines whether random choice of ancestor amongst live neighbours\n",
    "                                             # repscheme mod 8 i.e. 0-7 determines selection scheme based on gene\n",
    "                                             # 0 minimum gene as value  # 1 maximum gene as value\n",
    "                                             # 2 minimum number of ones # 3 maximum number of ones\n",
    "                                             # 4 neutral selection # 5 neutral but different selection\n",
    "                                             # 6 penalty function -1 for a survival rule -2 for a birth rule  # 7 not allowed \n",
    "g.selection     = g.runparams[2] = 11        # fitness for 2 live neighbor rule : 0-6 see subgenelife.c code\n",
    "g.overwritemask = g.runparams[3] = 0xffff\n",
    "g.overwritemask = g.runparams[3] = 0x00\n",
    "g.birthmask    = g.runparams[7] = 0x000001e0 # for selection=10-13 this is the GoL birth mask\n",
    "g.birthmask    = g.runparams[7] = 0x000001e2 # for selection=10-13 this is the GoL birth mask\n",
    "g.birthmask    = g.runparams[7] = 0x000001e2 # for selection=10-13 this is the GoL birth mask\n",
    "g.birthmask    = g.runparams[4] = 0x0 # for selection=10-11 this is the GoL survival mask\n",
    "g.birthmask    = g.runparams[4] = 0x007fffff # for selection=10-11 this is the GoL survival mask\n",
    "g.survivalmask = g.runparams[4] = 0x000001fc # for selection=10-11 this is the GoL survival mask\n",
    "g.survivalmask = g.runparams[4] = 0x00000 # for selection=10-11 this is the GoL survival mask\n",
    "g.survivalmask = g.runparams[4] = 0x007fffff # for selection=10-11 this is the GoL survival mask\n",
    "\n",
    "\n",
    "\n",
    "g.colorfunction = g.runparams[5] = 0         # color function 0(hash), ≥1(fnal), 2 nongulstate or color gol planes, 3 notgolrul yellow\n",
    "                                             # 4 activities 5 genealogy steps 6 genealogy temporal 7 activity scaled colors\n",
    "g.initfield = g.runparams[6] = 100           # 1 init via 32x32 genepat.dat, n>1 init via nxn rand array\n",
    "g.nlog2pmut = g.simparams[0] = 8             # log2 gene mutation probability (0 or >56 means no mutation)\n",
    "g.initial1density = g.simparams[1] =  16384  # initial 1 density in GOL state\n",
    "                                             # 16384 = nearest to half of guaranteed C rand max value 32767 = 2**15 - 1\n",
    "g.initialrdensity = g.simparams[2] = 0       # initial density of random genes\n",
    "g.ncoding = g.simparams[3] = 1               # for selection 10, non zero value means grow plane community from 0\n",
    "                                             # otherwise (selection<10) no of bits used to encode valid connection functions 1-16\n",
    "                                             # for selection==8, lut, ncoding 1,2,3 bits per lut entry : 0 implies 3.\n",
    "g.startgenechoice = g.simparams[4] = 8       # initialize genes to startgene number 0-8 : 8 is random choice of 0-7\n",
    "\n",
    "g.genelife.initialize_planes(g.npoffsets)\n",
    "g.genelife.set_seed(2)\n",
    "g.genelife.initialize(g.runparams,g.simparams)\n",
    "g.framenr = 0\n",
    "g.cnt=0\n",
    "g.show0()\n",
    "# step()\n",
    "g.run(g.nrun, g.ndisp, g.nskip, g.niter, g.nhist, g.nstat, False)"
   ]
  },
  {
   "cell_type": "markdown",
   "metadata": {},
   "source": [
    "## Get data from GoL gene lattice"
   ]
  },
  {
   "cell_type": "code",
   "execution_count": 3,
   "metadata": {},
   "outputs": [
    {
     "name": "stdout",
     "output_type": "stream",
     "text": [
      "ngenes 3901\n",
      "      gene        firstancestor   popcount  firsttime lasttime lastextinctiontime nextinctions activity\n",
      "          bf3f27 fedcba9876543210      328        0      324             -1            0         102316\n",
      "  80000000bf3f27           bf3f27       17        5      324             -1            0          34783\n",
      " 280000000bf3f27  200000000bf3f27       53       10      324             -1            0          32378\n",
      "9000400000bf3f27 1000400000bf3f27       70       39      324             44            2           1936\n",
      "4004000000bf3f27 4000000000bf3f27       90       78      324             -1            0          31447\n",
      "  82000000bf3f27   80000000bf3f27        6       95      324             -1            0          17550\n"
     ]
    }
   ],
   "source": [
    "maxngenes = 2000000\n",
    "# genedtype=[('popcount',c_uint32),('firsttime',c_uint32),('lasttime',c_uint32),('lastextinctiontime',c_int32),    #    3 unsigned 1 signed int 32 bits\n",
    "#            ('activity',c_uint32),('nextinctions',c_uint32),('gene',c_uint64),('firstancestor',c_uint64)]         #    2 unsigned 32 bit and 2 unsigned 64 bit int\n",
    "genelist = np.zeros(maxngenes,dtype=g.genelife.genedtype)\n",
    "ngenes=g.genelife.get_genes(genelist)\n",
    "# print(g.genelife.genedtype)\n",
    "print('ngenes',ngenes)\n",
    "print('      gene        firstancestor   popcount  firsttime lasttime lastextinctiontime nextinctions activity')\n",
    "curtime = g.genelife.get_curtime()\n",
    "for i in range(200):\n",
    "    if genelist[i]['lasttime'] == curtime:\n",
    "        foo = \"%16x %16x %8d %8d %8d %14d %12d %14d\" % \\\n",
    "        (genelist[i]['gene'], genelist[i]['firstancestor'], genelist[i]['popcount'],genelist[i]['firsttime'], genelist[i]['lasttime'],\n",
    "         genelist[i]['lastextinctiontime'], genelist[i]['nextinctions'], genelist[i]['activity'] )\n",
    "        print(foo)"
   ]
  },
  {
   "cell_type": "code",
   "execution_count": 4,
   "metadata": {},
   "outputs": [
    {
     "data": {
      "text/plain": [
       "3901"
      ]
     },
     "execution_count": 4,
     "metadata": {},
     "output_type": "execute_result"
    }
   ],
   "source": [
    "ngenes"
   ]
  },
  {
   "cell_type": "code",
   "execution_count": 5,
   "metadata": {},
   "outputs": [],
   "source": [
    "glive = [genelist[i] for i in range(len(genelist)) if genelist[i]['lasttime']==curtime]"
   ]
  },
  {
   "cell_type": "code",
   "execution_count": 6,
   "metadata": {},
   "outputs": [
    {
     "data": {
      "text/plain": [
       "824"
      ]
     },
     "execution_count": 6,
     "metadata": {},
     "output_type": "execute_result"
    }
   ],
   "source": [
    "len(glive)"
   ]
  },
  {
   "cell_type": "code",
   "execution_count": 7,
   "metadata": {},
   "outputs": [
    {
     "data": {
      "image/png": "[encoded data removed]",
      "text/plain": [
       "<Figure size 432x288 with 1 Axes>"
      ]
     },
     "metadata": {
      "needs_background": "light"
     },
     "output_type": "display_data"
    }
   ],
   "source": [
    "act = [glive[i]['activity'] for i in range(len(glive))]\n",
    "plt.yscale('log', nonposy='clip')\n",
    "plt.hist(act,bins=50);"
   ]
  },
  {
   "cell_type": "code",
   "execution_count": 9,
   "metadata": {},
   "outputs": [],
   "source": [
    "gg = [glive[i]['gene'] for i in range(len(glive))]"
   ]
  },
  {
   "cell_type": "code",
   "execution_count": 8,
   "metadata": {},
   "outputs": [],
   "source": [
    "dat = np.zeros(512*512,dtype=g.genelife.c_uint64)\n",
    "g.genelife.get_curgolg(dat)"
   ]
  },
  {
   "cell_type": "code",
   "execution_count": 9,
   "metadata": {},
   "outputs": [
    {
     "data": {
      "text/plain": [
       "34734"
      ]
     },
     "execution_count": 9,
     "metadata": {},
     "output_type": "execute_result"
    }
   ],
   "source": [
    "dat = [dat[i] for i in range(len(dat)) if dat[i]>0]\n",
    "len(dat)"
   ]
  },
  {
   "cell_type": "code",
   "execution_count": 10,
   "metadata": {},
   "outputs": [
    {
     "data": {
      "text/plain": [
       "940"
      ]
     },
     "execution_count": 10,
     "metadata": {},
     "output_type": "execute_result"
    }
   ],
   "source": [
    "dat = list(set(dat))\n",
    "len(dat)"
   ]
  },
  {
   "cell_type": "code",
   "execution_count": 11,
   "metadata": {},
   "outputs": [],
   "source": [
    "bdat = [bin(dat[i]) for i in range(len(dat))]\n",
    "ldat = [[int(x) for x in bdat[i][2:]] for i in range(len(bdat))]\n",
    "\n",
    "# pad front end with zeros\n",
    "lldat = [[0 for _ in range(64-len(ldat[i]))]+ldat[i] for i in range(len(ldat))]"
   ]
  },
  {
   "cell_type": "code",
   "execution_count": 12,
   "metadata": {},
   "outputs": [
    {
     "data": {
      "text/plain": [
       "940"
      ]
     },
     "execution_count": 12,
     "metadata": {},
     "output_type": "execute_result"
    }
   ],
   "source": [
    "len(lldat)"
   ]
  },
  {
   "cell_type": "code",
   "execution_count": 13,
   "metadata": {},
   "outputs": [
    {
     "name": "stdout",
     "output_type": "stream",
     "text": [
      "60 [1, 1, 0, 0, 1, 0, 0, 0, 0, 0, 0, 0, 0, 0, 0, 0, 0, 0, 0, 0, 0, 0, 0, 0, 0, 0, 0, 0, 0, 0, 0, 0, 0, 0, 0, 0, 1, 0, 1, 1, 1, 1, 1, 1, 0, 0, 1, 1, 1, 1, 1, 1, 0, 0, 1, 0, 0, 1, 1, 1]\n",
      "59 [1, 0, 1, 1, 0, 0, 0, 0, 0, 0, 0, 0, 0, 0, 0, 0, 0, 0, 0, 0, 0, 0, 0, 0, 0, 0, 0, 0, 0, 0, 0, 0, 0, 0, 0, 1, 0, 1, 1, 1, 1, 1, 1, 0, 0, 1, 1, 1, 1, 1, 1, 0, 0, 1, 0, 0, 1, 1, 1]\n",
      "59 [1, 0, 0, 1, 0, 0, 0, 0, 0, 1, 0, 0, 0, 0, 0, 0, 0, 0, 0, 0, 0, 0, 0, 0, 0, 0, 0, 0, 0, 0, 0, 1, 0, 0, 0, 1, 0, 1, 1, 1, 1, 1, 1, 0, 0, 1, 1, 1, 1, 1, 1, 0, 0, 1, 0, 0, 1, 1, 1]\n",
      "58 [1, 0, 1, 0, 0, 0, 0, 0, 0, 0, 0, 0, 0, 0, 1, 0, 1, 0, 0, 0, 0, 0, 0, 0, 0, 0, 0, 0, 0, 0, 0, 0, 0, 0, 1, 0, 1, 1, 1, 1, 1, 1, 0, 0, 1, 1, 1, 1, 1, 1, 0, 0, 1, 0, 0, 1, 1, 1]\n",
      "59 [1, 0, 0, 1, 0, 0, 0, 0, 1, 0, 0, 0, 0, 0, 0, 0, 0, 0, 0, 0, 0, 0, 0, 0, 0, 0, 0, 0, 0, 0, 0, 0, 0, 0, 0, 1, 0, 1, 1, 1, 1, 1, 1, 0, 0, 1, 1, 1, 1, 1, 1, 0, 0, 1, 0, 0, 1, 1, 1]\n",
      "59 [1, 0, 0, 1, 0, 0, 0, 0, 0, 0, 0, 0, 0, 0, 0, 0, 0, 0, 0, 0, 0, 0, 0, 0, 0, 0, 0, 0, 0, 0, 0, 0, 0, 0, 0, 1, 0, 1, 1, 1, 1, 1, 1, 0, 0, 1, 1, 1, 1, 1, 1, 0, 0, 1, 0, 0, 1, 1, 1]\n",
      "56 [1, 0, 0, 0, 0, 0, 0, 0, 1, 0, 0, 0, 0, 0, 1, 0, 0, 0, 0, 0, 0, 0, 0, 0, 0, 0, 0, 0, 0, 0, 0, 0, 1, 0, 1, 1, 1, 1, 1, 1, 0, 0, 1, 1, 1, 1, 1, 1, 0, 0, 1, 0, 0, 1, 1, 1]\n",
      "58 [1, 0, 1, 0, 0, 0, 0, 1, 0, 0, 0, 0, 0, 0, 0, 0, 1, 0, 0, 0, 0, 0, 0, 0, 0, 0, 0, 0, 0, 0, 0, 0, 0, 0, 1, 0, 1, 1, 1, 1, 1, 1, 0, 0, 1, 1, 1, 1, 1, 1, 0, 0, 1, 0, 0, 1, 1, 1]\n",
      "58 [1, 0, 1, 1, 0, 0, 0, 0, 0, 0, 0, 0, 0, 0, 0, 0, 1, 0, 0, 0, 0, 0, 0, 0, 0, 0, 0, 0, 0, 0, 0, 0, 0, 0, 1, 0, 1, 1, 1, 1, 1, 1, 0, 0, 1, 1, 1, 1, 1, 1, 0, 0, 1, 0, 0, 1, 1, 1]\n",
      "58 [1, 0, 1, 1, 0, 0, 0, 0, 0, 0, 0, 0, 0, 0, 0, 0, 0, 0, 0, 0, 0, 0, 0, 0, 0, 0, 0, 0, 0, 0, 0, 0, 0, 0, 1, 0, 1, 1, 1, 1, 1, 1, 0, 0, 1, 1, 1, 1, 1, 1, 0, 0, 1, 0, 0, 1, 1, 1]\n",
      "61 [1, 0, 1, 0, 1, 1, 0, 0, 0, 0, 0, 0, 0, 0, 0, 0, 0, 0, 0, 0, 0, 0, 0, 0, 0, 0, 0, 0, 0, 0, 0, 0, 0, 0, 0, 0, 0, 1, 0, 1, 1, 1, 1, 1, 1, 0, 0, 1, 1, 1, 1, 1, 1, 0, 0, 1, 0, 0, 1, 1, 1]\n",
      "58 [1, 0, 1, 0, 0, 0, 0, 0, 0, 0, 0, 0, 0, 0, 0, 0, 1, 0, 0, 0, 0, 0, 0, 0, 0, 0, 0, 0, 0, 0, 0, 0, 0, 0, 1, 0, 1, 1, 1, 1, 1, 1, 0, 0, 1, 1, 1, 1, 1, 1, 0, 0, 1, 0, 0, 1, 1, 1]\n",
      "24 [1, 0, 1, 1, 1, 1, 1, 1, 0, 0, 1, 1, 1, 1, 1, 1, 0, 0, 1, 0, 0, 1, 1, 1]\n",
      "64 [1, 0, 0, 0, 0, 0, 1, 1, 1, 0, 0, 0, 0, 0, 0, 0, 0, 0, 0, 0, 0, 0, 0, 0, 0, 0, 1, 0, 0, 0, 0, 0, 0, 0, 0, 0, 0, 0, 0, 0, 1, 0, 1, 1, 1, 1, 1, 1, 0, 0, 1, 1, 1, 1, 1, 1, 0, 0, 1, 0, 0, 0, 1, 1]\n",
      "58 [1, 0, 1, 0, 0, 1, 0, 1, 0, 0, 0, 0, 0, 0, 0, 0, 0, 0, 0, 0, 0, 0, 0, 0, 0, 0, 0, 0, 0, 0, 0, 0, 0, 0, 1, 0, 0, 1, 1, 1, 0, 1, 1, 0, 1, 1, 1, 1, 1, 1, 0, 0, 1, 0, 0, 1, 1, 1]\n",
      "58 [1, 0, 1, 0, 0, 0, 0, 0, 0, 0, 0, 0, 0, 0, 0, 0, 0, 0, 0, 0, 0, 1, 0, 0, 0, 0, 0, 0, 0, 0, 0, 0, 0, 0, 1, 0, 1, 1, 1, 1, 1, 1, 0, 0, 1, 1, 1, 1, 1, 1, 0, 0, 1, 0, 0, 1, 1, 1]\n",
      "60 [1, 0, 1, 0, 1, 0, 0, 0, 0, 0, 0, 0, 0, 0, 0, 0, 1, 0, 0, 0, 0, 0, 0, 0, 0, 0, 0, 0, 0, 0, 0, 0, 0, 0, 0, 0, 1, 0, 1, 1, 1, 1, 1, 1, 0, 0, 1, 1, 1, 1, 1, 1, 0, 0, 1, 0, 0, 1, 1, 1]\n",
      "64 [1, 1, 0, 0, 1, 0, 0, 0, 1, 0, 0, 0, 0, 0, 0, 0, 0, 0, 0, 0, 0, 0, 0, 0, 1, 0, 0, 0, 0, 0, 1, 0, 1, 0, 0, 1, 0, 0, 0, 0, 1, 0, 1, 1, 1, 1, 1, 1, 0, 0, 1, 1, 1, 1, 1, 1, 0, 0, 1, 0, 0, 1, 1, 1]\n",
      "64 [1, 1, 0, 0, 1, 0, 0, 0, 1, 1, 0, 0, 0, 0, 0, 0, 0, 0, 0, 0, 0, 0, 0, 0, 1, 0, 0, 0, 0, 0, 1, 0, 1, 0, 0, 1, 0, 0, 0, 0, 1, 0, 1, 1, 1, 1, 1, 1, 0, 0, 1, 1, 1, 1, 1, 1, 0, 0, 1, 0, 0, 1, 1, 1]\n",
      "64 [1, 1, 0, 0, 0, 0, 0, 0, 1, 1, 0, 0, 0, 0, 0, 0, 0, 0, 0, 0, 0, 0, 0, 0, 1, 0, 0, 0, 0, 0, 1, 0, 1, 0, 0, 1, 0, 0, 0, 0, 1, 0, 1, 1, 1, 1, 1, 1, 0, 0, 1, 1, 1, 1, 1, 1, 0, 0, 1, 0, 0, 1, 1, 1]\n"
     ]
    }
   ],
   "source": [
    "for i in range(20):\n",
    "    print(len(ldat[i]),ldat[i])"
   ]
  },
  {
   "cell_type": "code",
   "execution_count": 14,
   "metadata": {},
   "outputs": [],
   "source": [
    "foo = [len(ldat[i]) for i in range(len(ldat))]"
   ]
  },
  {
   "cell_type": "code",
   "execution_count": 15,
   "metadata": {},
   "outputs": [
    {
     "data": {
      "image/png": "[encoded data removed]",
      "text/plain": [
       "<Figure size 432x288 with 1 Axes>"
      ]
     },
     "metadata": {
      "needs_background": "light"
     },
     "output_type": "display_data"
    }
   ],
   "source": [
    "plt.yscale('log', nonposy='clip')\n",
    "plt.hist(foo,bins=40);"
   ]
  },
  {
   "cell_type": "markdown",
   "metadata": {},
   "source": [
    "## set up model"
   ]
  },
  {
   "cell_type": "code",
   "execution_count": 16,
   "metadata": {},
   "outputs": [],
   "source": [
    "N=len(lldat)\n",
    "D=64\n",
    "K=20\n",
    "\n",
    "# Z = categorical distribution for group assignments, Dirichlet prior.\n",
    "R = Dirichlet(K*[1e-5],\n",
    "              name='R')\n",
    "Z = Categorical(R,\n",
    "                plates=(N,1),\n",
    "                name='Z')\n",
    "# P = probabilities with beta prior\n",
    "P = Beta([0.5, 0.5],\n",
    "         plates=(D,K),\n",
    "         name='P')\n",
    "\n",
    "X = Mixture(Z, Bernoulli, P)"
   ]
  },
  {
   "cell_type": "code",
   "execution_count": 17,
   "metadata": {},
   "outputs": [
    {
     "name": "stdout",
     "output_type": "stream",
     "text": [
      "0.0007071495056152344\n"
     ]
    }
   ],
   "source": [
    "import time\n",
    "start = time.time()\n",
    "X=Mixture(Z,Bernoulli,P)\n",
    "print(time.time()-start)"
   ]
  },
  {
   "cell_type": "code",
   "execution_count": 18,
   "metadata": {},
   "outputs": [],
   "source": [
    "\n",
    "Q = VB(Z, R, X, P)\n",
    "P.initialize_from_random()\n",
    "X.observe(lldat)"
   ]
  },
  {
   "cell_type": "code",
   "execution_count": 19,
   "metadata": {},
   "outputs": [
    {
     "name": "stdout",
     "output_type": "stream",
     "text": [
      "Iteration 1: loglike=-1.590213e+04 (0.100 seconds)\n",
      "Iteration 2: loglike=-1.505432e+04 (0.061 seconds)\n",
      "Iteration 3: loglike=-1.446586e+04 (0.057 seconds)\n",
      "Iteration 4: loglike=-1.402980e+04 (0.057 seconds)\n",
      "Iteration 5: loglike=-1.384628e+04 (0.062 seconds)\n",
      "Iteration 6: loglike=-1.369857e+04 (0.057 seconds)\n",
      "Iteration 7: loglike=-1.360751e+04 (0.058 seconds)\n",
      "Iteration 8: loglike=-1.356481e+04 (0.056 seconds)\n",
      "Iteration 9: loglike=-1.354588e+04 (0.061 seconds)\n",
      "Iteration 10: loglike=-1.353280e+04 (0.059 seconds)\n",
      "Iteration 11: loglike=-1.352614e+04 (0.057 seconds)\n",
      "Iteration 12: loglike=-1.352368e+04 (0.057 seconds)\n",
      "Iteration 13: loglike=-1.352238e+04 (0.062 seconds)\n",
      "Iteration 14: loglike=-1.352133e+04 (0.056 seconds)\n",
      "Iteration 15: loglike=-1.352026e+04 (0.058 seconds)\n",
      "Iteration 16: loglike=-1.351885e+04 (0.056 seconds)\n",
      "Iteration 17: loglike=-1.351600e+04 (0.061 seconds)\n",
      "Iteration 18: loglike=-1.351259e+04 (0.058 seconds)\n",
      "Iteration 19: loglike=-1.350858e+04 (0.057 seconds)\n",
      "Iteration 20: loglike=-1.350271e+04 (0.056 seconds)\n",
      "Iteration 21: loglike=-1.349878e+04 (0.059 seconds)\n",
      "Iteration 22: loglike=-1.349757e+04 (0.060 seconds)\n",
      "Iteration 23: loglike=-1.349720e+04 (0.056 seconds)\n",
      "Iteration 24: loglike=-1.349702e+04 (0.057 seconds)\n",
      "Iteration 25: loglike=-1.349691e+04 (0.060 seconds)\n",
      "Converged at iteration 25.\n"
     ]
    }
   ],
   "source": [
    "Q.update(repeat = 1000)"
   ]
  },
  {
   "cell_type": "code",
   "execution_count": 23,
   "metadata": {},
   "outputs": [],
   "source": [
    "plt.rcParams['figure.figsize']=[8,10]"
   ]
  },
  {
   "cell_type": "code",
   "execution_count": 21,
   "metadata": {},
   "outputs": [
    {
     "data": {
      "image/png": "[encoded data removed]",
      "text/plain": [
       "<Figure size 360x576 with 1 Axes>"
      ]
     },
     "metadata": {},
     "output_type": "display_data"
    }
   ],
   "source": [
    "bpplt.hinton(R)"
   ]
  },
  {
   "cell_type": "code",
   "execution_count": 24,
   "metadata": {},
   "outputs": [
    {
     "data": {
      "image/png": "[encoded data removed]",
      "text/plain": [
       "<Figure size 576x720 with 1 Axes>"
      ]
     },
     "metadata": {},
     "output_type": "display_data"
    }
   ],
   "source": [
    "bpplt.hinton(P)"
   ]
  }
 ],
 "metadata": {
  "celltoolbar": "Initialization Cell",
  "hide_input": false,
  "kernelspec": {
   "display_name": "Python 3",
   "language": "python",
   "name": "python3"
  },
  "language_info": {
   "codemirror_mode": {
    "name": "ipython",
    "version": 3
   },
   "file_extension": ".py",
   "mimetype": "text/x-python",
   "name": "python",
   "nbconvert_exporter": "python",
   "pygments_lexer": "ipython3",
   "version": "3.7.3"
  },
  "toc": {
   "nav_menu": {},
   "number_sections": true,
   "sideBar": true,
   "skip_h1_title": false,
   "title_cell": "Table of Contents",
   "title_sidebar": "Contents",
   "toc_cell": false,
   "toc_position": {
    "height": "855.2756958007812px",
    "left": "29.981616973876953px",
    "top": "116.36029052734375px",
    "width": "320.96875px"
   },
   "toc_section_display": true,
   "toc_window_display": true
  }
 },
 "nbformat": 4,
 "nbformat_minor": 2
}
