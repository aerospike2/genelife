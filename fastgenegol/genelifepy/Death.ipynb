{
 "cells": [
  {
   "cell_type": "markdown",
   "metadata": {},
   "source": [
    "## Initialize python imports, notebook window width,  and graphics window position\n",
    "Executed automatically on start or restart."
   ]
  },
  {
   "cell_type": "code",
   "execution_count": 1,
   "metadata": {},
   "outputs": [
    {
     "name": "stdout",
     "output_type": "stream",
     "text": [
      "Running with SDL version 2.0.9.\n"
     ]
    },
    {
     "data": {
      "text/html": [
       "<style>.container { width:100% !important; }</style>"
      ],
      "text/plain": [
       "<IPython.core.display.HTML object>"
      ]
     },
     "metadata": {},
     "output_type": "display_data"
    }
   ],
   "source": [
    "%gui osx\n",
    "import random as rand\n",
    "import numpy as np\n",
    "import time\n",
    "import genelife as g\n",
    "\n",
    "%matplotlib inline\n",
    "import matplotlib\n",
    "from matplotlib import pyplot as plt\n",
    "\n",
    "# \n",
    "from IPython.core.display import display, HTML\n",
    "display(HTML(\"<style>.container { width:100% !important; }</style>\"))     # sets input cells to use full window width\n",
    "\n",
    "from os import environ\n",
    "environ['SDL_VIDEO_WINDOW_POS'] = \"%d,%d\" % (1000,32)   # set position of pygame (SDL) video window (x,y) pixel coords, values work well on iMac\n"
   ]
  },
  {
   "cell_type": "code",
   "execution_count": 2,
   "metadata": {},
   "outputs": [],
   "source": [
    "def set_death(rate,ver=3):   # ver=1: random ver=2: gol ver=3: death, ver=4: s-dependent death\n",
    "    if rate > 1:\n",
    "        rate = 1\n",
    "    if rate < 0:\n",
    "        rate = 0\n",
    "    rbackground = int(rate*32768)\n",
    "    # set_rbackground 2nd arg:  randomsoup (3 deletions only, 2 GoL gene, 1 random gene:\")\n",
    "    g.genelife.set_rbackground(rbackground,ver) # 4=> s-dependent"
   ]
  },
  {
   "cell_type": "markdown",
   "metadata": {},
   "source": [
    "## Selection 11 Distance distinguishing LUT encoded by gene with variable length encoding"
   ]
  },
  {
   "cell_type": "code",
   "execution_count": 4,
   "metadata": {},
   "outputs": [
    {
     "name": "stdout",
     "output_type": "stream",
     "text": [
      "step 187 vscrolling changed to  0\n"
     ]
    }
   ],
   "source": [
    "# 11\n",
    "#  selection=11 LUT with appropriate parameters for survival\n",
    "#  this case uses the genes to encode the se (number of live edge-centred sites) and s dept rule tables for birth and survival\n",
    "#  a variable length encoding is used in the gene with 4+4 bits, 4-bits for the survival and birth s value as in 8, and 4 bits for the se value\n",
    "#  there are 1,2,3,4,5,4,3,2,1 configurations of se for s=0-8. Only 19 cases s=2-6 are lut allowed non-zero.\n",
    "#  birth is determined by the and of the live neighbour genes (and 19 bits of overwritemask) ie genecode\n",
    "#  survival is determined the and of the live neighbour genes (and 19 bits of survivalmask) ie genecode\n",
    "#  ncoding not used : only space for 1 bit per lut entry\n",
    "#  this example starts with only allowing GoL configurations : extend by adding more bits to survival and birth masks\n",
    "g.nrun=1; g.ndisp=1000; g.nskip=0; g.niter=1;# simulation time stepping parameters\n",
    "g.nhist = 0                                  # set to n to turn on histogram configurations every nth step\n",
    "g.nstat = 0                                  # set to n to turn on statistics trace every nth step\n",
    "g.rulemod = g.runparams[0] = 5               # 0,1 whether to allow GoL rule modifications\n",
    "                                             # with rulemod 1 2-live-nb birth, 3-live-nb non-birth & non-survival possible\n",
    "g.repscheme = g.runparams[1] = 0x0610        # repscheme bit 3 (val 0x8) determines whether random choice of ancestor amongst live neighbours\n",
    "                                             # repscheme mod 8 i.e. 0-7 determines selection scheme based on gene\n",
    "                                             # 0 minimum gene as value  # 1 maximum gene as value\n",
    "                                             # 2 minimum number of ones # 3 maximum number of ones\n",
    "                                             # 4 neutral selection # 5 neutral but different selection\n",
    "                                             # 6 penalty function -1 for a survival rule -2 for a birth rule  # 7 not allowed \n",
    "g.selection     = g.runparams[2] = 11        # fitness for 2 live neighbor rule : 0-6 see subgenelife.c code\n",
    "g.overwritemask = g.runparams[3] = 0xffff\n",
    "g.overwritemask = g.runparams[3] = 0x00\n",
    "g.birthmask    = g.runparams[7] = 0x000001e0 # for selection=10-13 this is the GoL birth mask\n",
    "g.birthmask    = g.runparams[7] = 0x000001e2 # for selection=10-13 this is the GoL birth mask\n",
    "g.birthmask    = g.runparams[7] = 0x000001e2 # for selection=10-13 this is the GoL birth mask\n",
    "g.birthmask    = g.runparams[4] = 0x0 # for selection=10-11 this is the GoL birth mask\n",
    "g.birthmask    = g.runparams[4] = 0x007fffff # for selection=10-11 this is the GoL birth mask\n",
    "g.birthmask    = g.runparams[4] = 0x007fffff # for selection=10-11 this is the GoL birth mask\n",
    "g.birthmask    = g.runparams[4] = 0x007ffffc # for selection=10-11 this is the GoL birth mask\n",
    "\n",
    "g.survivalmask = g.runparams[4] = 0x000001fc # for selection=10-11 this is the GoL survival mask\n",
    "g.survivalmask = g.runparams[4] = 0x007fffff # for selection=10-11 this is the GoL survival mask\n",
    "g.survivalmask = g.runparams[4] = 0x00000 # for selection=10-11 this is the GoL survival mask\n",
    "\n",
    "\n",
    "\n",
    "\n",
    "g.colorfunction = g.runparams[5] = 0         # color function 0(hash), ≥1(fnal), 2 nongulstate or color gol planes, 3 notgolrul yellow\n",
    "                                             # 4 activities 5 genealogy steps 6 genealogy temporal 7 activity scaled colors\n",
    "g.initfield = g.runparams[6] = 200           # 1 init via 32x32 genepat.dat, n>1 init via nxn rand array\n",
    "g.nlog2pmut = g.simparams[0] = 8             # log2 gene mutation probability (0 or >56 means no mutation)\n",
    "g.initial1density = g.simparams[1] =  16384  # initial 1 density in GOL state\n",
    "                                             # 16384 = nearest to half of guaranteed C rand max value 32767 = 2**15 - 1\n",
    "g.initialrdensity = g.simparams[2] = 16384       # initial density of random genes\n",
    "g.ncoding = g.simparams[3] = 1               # for selection 10, non zero value means grow plane community from 0\n",
    "                                             # otherwise (selection<10) no of bits used to encode valid connection functions 1-16\n",
    "                                             # for selection==8, lut, ncoding 1,2,3 bits per lut entry : 0 implies 3.\n",
    "g.startgenechoice = g.simparams[4] = 8       # initialize genes to startgene number 0-8 : 8 is random choice of 0-7\n",
    "g.ranseed = g.simparams[5] = 2\n",
    "g.genelife.initialize_planes(g.npoffsets)\n",
    "g.genelife.initialize(g.runparams,g.simparams)\n",
    "g.framenr = 0\n",
    "g.cnt=0\n",
    "g.show0()\n",
    "# step()\n",
    "set_death(0.015)\n",
    "g.run(g.nrun, g.ndisp, g.nskip, g.niter, g.nhist, g.nstat, False)"
   ]
  },
  {
   "cell_type": "code",
   "execution_count": 7,
   "metadata": {},
   "outputs": [
    {
     "name": "stdout",
     "output_type": "stream",
     "text": [
      "step 1064 pixel data (250,249) gol 0000000000000000 gene 0000000000000000 status 0000000000000000\n",
      "step 1064 pixel data (250,249) gol 0000000000000000 gene 0000000000000000 status 0000000000000000\n"
     ]
    }
   ],
   "source": [
    "g.run(g.nrun, g.ndisp, g.nskip, g.niter, g.nhist, g.nstat, False,100)"
   ]
  },
  {
   "cell_type": "code",
   "execution_count": 1,
   "metadata": {},
   "outputs": [
    {
     "ename": "NameError",
     "evalue": "name 'np' is not defined",
     "output_type": "error",
     "traceback": [
      "\u001b[0;31m---------------------------------------------------------------------------\u001b[0m",
      "\u001b[0;31mNameError\u001b[0m                                 Traceback (most recent call last)",
      "\u001b[0;32m<ipython-input-1-2607cd34e0bf>\u001b[0m in \u001b[0;36m<module>\u001b[0;34m\u001b[0m\n\u001b[0;32m----> 1\u001b[0;31m \u001b[0mgol\u001b[0m \u001b[0;34m=\u001b[0m \u001b[0mnp\u001b[0m\u001b[0;34m.\u001b[0m\u001b[0mzeros\u001b[0m\u001b[0;34m(\u001b[0m\u001b[0mg\u001b[0m\u001b[0;34m.\u001b[0m\u001b[0mN2\u001b[0m\u001b[0;34m,\u001b[0m\u001b[0mnp\u001b[0m\u001b[0;34m.\u001b[0m\u001b[0muint64\u001b[0m\u001b[0;34m)\u001b[0m\u001b[0;34m\u001b[0m\u001b[0;34m\u001b[0m\u001b[0m\n\u001b[0m\u001b[1;32m      2\u001b[0m \u001b[0mgolg\u001b[0m \u001b[0;34m=\u001b[0m \u001b[0mnp\u001b[0m\u001b[0;34m.\u001b[0m\u001b[0mzeros\u001b[0m\u001b[0;34m(\u001b[0m\u001b[0mg\u001b[0m\u001b[0;34m.\u001b[0m\u001b[0mN2\u001b[0m\u001b[0;34m,\u001b[0m\u001b[0mnp\u001b[0m\u001b[0;34m.\u001b[0m\u001b[0muint64\u001b[0m\u001b[0;34m)\u001b[0m\u001b[0;34m\u001b[0m\u001b[0;34m\u001b[0m\u001b[0m\n\u001b[1;32m      3\u001b[0m \u001b[0mg\u001b[0m\u001b[0;34m.\u001b[0m\u001b[0mgenelife\u001b[0m\u001b[0;34m.\u001b[0m\u001b[0mget_curgol\u001b[0m\u001b[0;34m(\u001b[0m\u001b[0mgol\u001b[0m\u001b[0;34m)\u001b[0m\u001b[0;34m\u001b[0m\u001b[0;34m\u001b[0m\u001b[0m\n\u001b[1;32m      4\u001b[0m \u001b[0mg\u001b[0m\u001b[0;34m.\u001b[0m\u001b[0mgenelife\u001b[0m\u001b[0;34m.\u001b[0m\u001b[0mget_curgolg\u001b[0m\u001b[0;34m(\u001b[0m\u001b[0mgolg\u001b[0m\u001b[0;34m)\u001b[0m\u001b[0;34m\u001b[0m\u001b[0;34m\u001b[0m\u001b[0m\n",
      "\u001b[0;31mNameError\u001b[0m: name 'np' is not defined"
     ]
    }
   ],
   "source": [
    "gol = np.zeros(g.N2,np.uint64)\n",
    "golg = np.zeros(g.N2,np.uint64)\n",
    "g.genelife.get_curgol(gol)\n",
    "g.genelife.get_curgolg(golg)"
   ]
  },
  {
   "cell_type": "code",
   "execution_count": 4,
   "metadata": {},
   "outputs": [
    {
     "data": {
      "image/png": "[encoded data removed]",
      "text/plain": [
       "<Figure size 432x288 with 1 Axes>"
      ]
     },
     "metadata": {
      "needs_background": "light"
     },
     "output_type": "display_data"
    }
   ],
   "source": [
    "#g.run(g.nrun, g.ndisp, g.nskip, g.niter, g.nhist, g.nstat, False)\n",
    "shist=np.zeros(9,np.int32)\n",
    "g.genelife.get_shist(shist)\n",
    "bars = list(range(9))\n",
    "ypos = np.arange(len(bars))\n",
    "plt.bar(ypos,shist);"
   ]
  },
  {
   "cell_type": "code",
   "execution_count": 7,
   "metadata": {},
   "outputs": [
    {
     "data": {
      "image/png": "[encoded data removed]",
      "text/plain": [
       "<Figure size 432x288 with 1 Axes>"
      ]
     },
     "metadata": {
      "needs_background": "light"
     },
     "output_type": "display_data"
    }
   ],
   "source": [
    "#g.run(g.nrun, g.ndisp, g.nskip, g.niter, g.nhist, g.nstat, False)\n",
    "shist=np.zeros(9,np.int32)\n",
    "g.genelife.get_shist(shist)\n",
    "bars = list(range(9))\n",
    "ypos = np.arange(len(bars))\n",
    "plt.bar(ypos,shist);"
   ]
  },
  {
   "cell_type": "markdown",
   "metadata": {},
   "source": [
    "### old sec. 5.2"
   ]
  },
  {
   "cell_type": "code",
   "execution_count": null,
   "metadata": {},
   "outputs": [],
   "source": [
    "# 2\n",
    "#  selection=2 scissors-stone-well-paper\n",
    "#  Note that sequences must differ for replication unless it is forced.\n",
    "#  \n",
    "#  Color scheme: four different classes are red, green, blue and white\n",
    "g.nrun=1; g.ndisp=1000; g.nskip=0; g.niter=100;  # simulation time stepping parameters\n",
    "#nrun=1; ndisp=1; nskip=0; niter=1;         # single step\n",
    "g.nhist = 10                                # set to n to turn on histogram configurations every nth step\n",
    "g.nstat = 10                                # set to n to turn on statistics trace every nth step\n",
    "g.rulemod = g.runparams[0] = 1              # 0,1 whether to allow GoL rule modifications\n",
    "                                            # with rulemod 1 2-live-nb birth, 3-live-nb non-birth & non-survival possible\n",
    "g.repscheme = g.runparams[1] = 0x0002       # bits 0 to 20 code for mostly independent binary options\n",
    "g.selection = g.runparams[2] = 2            # fitness for 2 live neighbor rule : 0-6 see subgenelife.c code\n",
    "g.overwritemask = g.runparams[3] = 3        # mask of 2 bits to overwrite instead of survival for 3(bit0) or 2(bit1) live nbs\n",
    "g.survivalmask = g.runparams[4] = 0         # survive mask for two (bit 1) and three (bit 0) live neighbours : GoL = 3\n",
    "g.colorfunction = g.runparams[5] = 0        # color function 0(hash), ≥1(fnal), 2 nongolchg yellow, 3 notgolrul yellow\n",
    "g.initfield = g.runparams[6] = 100          # 1 init via 32x32 genepat.dat, n>1 init via nxn rand array\n",
    "g.nlog2pmut = g.simparams[0] = 8            # log2 gene mutation probability (0 or >56 means no mutation)\n",
    "g.initial1density = g.simparams[1] = 8192   # initial 1 density in GOL state\n",
    "                                            # 16384 = nearest to half of guaranteed C rand max value 32767 = 2**15 - 1\n",
    "g.initialrdensity = g.simparams[2] = 0          # initial density of random genes\n",
    "g.ncoding = g.simparams[3] = 0                  # no of bits used to encode valid connection functions 1-16\n",
    "g.startgenechoice = g.simparams[4] = 8          # initialize genes to startgene number 0-8 : 8 is random choice of 0-7\n",
    "\n",
    "g.genelife.initialize_planes(g.npoffsets)\n",
    "g.genelife.initialize(g.runparams,g.simparams)\n",
    "g.framenr = 0\n",
    "g.cnt=0\n",
    "g.show0(False)\n",
    "#g.step()\n",
    "set_death(0.015)\n",
    "g.run(g.nrun, g.ndisp, g.nskip, g.niter, g.nhist, g.nstat, False)"
   ]
  },
  {
   "cell_type": "markdown",
   "metadata": {},
   "source": [
    "## Reset for repeated runs"
   ]
  },
  {
   "cell_type": "code",
   "execution_count": null,
   "metadata": {},
   "outputs": [],
   "source": [
    "g.initfield = g.runparams[6] =   100 \n",
    "g.genelife.initialize(g.runparams,g.simparams)\n",
    "for i in range(300):\n",
    "    g.genelife.genelife_update(1, 0,0)\n",
    "    g.show0()"
   ]
  },
  {
   "cell_type": "code",
   "execution_count": 25,
   "metadata": {},
   "outputs": [],
   "source": [
    "g.genelife.set_stash()\n",
    "g.initfield = g.runparams[6] = -1   # use stashed vals"
   ]
  },
  {
   "cell_type": "code",
   "execution_count": 40,
   "metadata": {},
   "outputs": [
    {
     "name": "stdout",
     "output_type": "stream",
     "text": [
      "0\n",
      "1\n",
      "2\n",
      "3\n",
      "4\n",
      "5\n",
      "6\n",
      "7\n",
      "8\n",
      "9\n"
     ]
    }
   ],
   "source": [
    "\n",
    "for i in range(10):\n",
    "    g.genelife.initialize(g.runparams,g.simparams)\n",
    "    for j in range(50):\n",
    "        g.genelife.genelife_update(1, 0,0)\n",
    "        g.show0()\n",
    "    print(i)\n",
    "    #time.sleep(3)\n",
    "\n"
   ]
  },
  {
   "cell_type": "markdown",
   "metadata": {},
   "source": [
    "## Vary death rate"
   ]
  },
  {
   "cell_type": "code",
   "execution_count": 27,
   "metadata": {},
   "outputs": [],
   "source": [
    "g.genelife.set_stash()\n",
    "g.initfield = g.runparams[6] = -1   # use stashed vals"
   ]
  },
  {
   "cell_type": "markdown",
   "metadata": {},
   "source": [
    "#### Take a look...\n",
    "\n",
    "Let `deathrate` range between 0 and 1, using `set_death` to set the corresponding rbackground value.  \n",
    "\n",
    "In cell below note:\n",
    "* transition from all death to not all death happens between deathrate=0.8 and deathrate=0.4.\n",
    "* as deathrate is varied, specifically for much lower values, the death perturbation enables niches for new genomes / dynamics (e.g. static walls)\n",
    "* setting `g.colorfunction = g.runparams[5] = 4` yields activity waves.  deathrate=0.8 still generates plenty of waves.  maybe bug in death perturbation incrementing activity for dead stuff?"
   ]
  },
  {
   "cell_type": "code",
   "execution_count": 42,
   "metadata": {},
   "outputs": [
    {
     "name": "stdout",
     "output_type": "stream",
     "text": [
      "0 0.8\n",
      "1 0.4\n",
      "2 0.2\n",
      "3 0.1\n",
      "4 0.05\n",
      "5 0.025\n",
      "6 0.0125\n",
      "7 0.00625\n",
      "8 0.003125\n",
      "9 0.0015625\n"
     ]
    }
   ],
   "source": [
    "g.colorfunction = g.runparams[5] = 0         # color function 0(hash), ≥1(fnal), 2 nongulstate or color gol planes, 3 notgolrul yellow\n",
    "\n",
    "deathrate = 0.8\n",
    "for i in range(10):\n",
    "    g.genelife.initialize(g.runparams,g.simparams)\n",
    "    set_death(deathrate)\n",
    "    print(i,deathrate)\n",
    "    for j in range(200):\n",
    "        g.genelife.genelife_update(1, 0,0)\n",
    "        g.show0()\n",
    "    deathrate=deathrate/2\n",
    "    #time.sleep(3)"
   ]
  },
  {
   "cell_type": "markdown",
   "metadata": {},
   "source": [
    "## Death vs time\n",
    "\n",
    "Initialize for ~400 time steps..."
   ]
  },
  {
   "cell_type": "code",
   "execution_count": 4,
   "metadata": {},
   "outputs": [],
   "source": [
    "g.genelife.set_stash()\n",
    "g.initfield = g.runparams[6] = -1   # use stashed vals"
   ]
  },
  {
   "cell_type": "code",
   "execution_count": 10,
   "metadata": {},
   "outputs": [
    {
     "name": "stdout",
     "output_type": "stream",
     "text": [
      "0 0.8\n",
      "1 0.77\n",
      "2 0.74\n",
      "3 0.71\n",
      "4 0.6799999999999999\n",
      "5 0.6499999999999999\n",
      "6 0.6199999999999999\n",
      "7 0.5899999999999999\n",
      "8 0.5599999999999998\n",
      "9 0.5299999999999998\n"
     ]
    }
   ],
   "source": [
    "N = 200\n",
    "Ninc = 10\n",
    "dat = [[None for _ in range(N)] for __ in range(Ninc)]\n",
    "\n",
    "deathmx = 0.8\n",
    "deathmn = 0.5\n",
    "deathinc = (deathmx-deathmn)/Ninc\n",
    "deathrate = deathmx\n",
    "for i in range(Ninc):\n",
    "    g.genelife.initialize(g.runparams,g.simparams)\n",
    "    set_death(deathrate)\n",
    "    print(i,deathrate)\n",
    "    for j in range(N):\n",
    "        dat[i][j] = g.genelife.get_nlive()\n",
    "        g.genelife.genelife_update(1, 0,0)\n",
    "        g.show0()\n",
    "    deathrate = deathrate - deathinc\n"
   ]
  },
  {
   "cell_type": "code",
   "execution_count": 26,
   "metadata": {},
   "outputs": [
    {
     "data": {
      "image/png": "[encoded data removed]",
      "text/plain": [
       "<Figure size 432x288 with 1 Axes>"
      ]
     },
     "metadata": {
      "needs_background": "light"
     },
     "output_type": "display_data"
    }
   ],
   "source": [
    "xx = [deathmn+deathinc*i for i in range(len(dat))]\n",
    "for i in range(len(dat)):\n",
    "    plt.semilogy(dat[i],label=np.round(xx[i],3))\n",
    "plt.legend()\n",
    "plt.xlabel('time')\n",
    "plt.ylabel('N_live')\n",
    "plt.title('Live population vs. time for various deathrate')\n",
    "plt.show();"
   ]
  },
  {
   "cell_type": "markdown",
   "metadata": {},
   "source": [
    "\n",
    "Death threshold $d_{th} = $\n"
   ]
  },
  {
   "cell_type": "code",
   "execution_count": null,
   "metadata": {},
   "outputs": [],
   "source": []
  }
 ],
 "metadata": {
  "celltoolbar": "Initialization Cell",
  "hide_input": false,
  "kernelspec": {
   "display_name": "Python 3",
   "language": "python",
   "name": "python3"
  },
  "language_info": {
   "codemirror_mode": {
    "name": "ipython",
    "version": 3
   },
   "file_extension": ".py",
   "mimetype": "text/x-python",
   "name": "python",
   "nbconvert_exporter": "python",
   "pygments_lexer": "ipython3",
   "version": "3.7.4"
  },
  "toc": {
   "base_numbering": 1,
   "nav_menu": {},
   "number_sections": true,
   "sideBar": true,
   "skip_h1_title": false,
   "title_cell": "Table of Contents",
   "title_sidebar": "Contents",
   "toc_cell": false,
   "toc_position": {
    "height": "855.2756958007812px",
    "left": "29.981616973876953px",
    "top": "116.36029052734375px",
    "width": "165px"
   },
   "toc_section_display": true,
   "toc_window_display": true
  }
 },
 "nbformat": 4,
 "nbformat_minor": 2
}
