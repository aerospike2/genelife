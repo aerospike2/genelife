{
 "cells": [
  {
   "cell_type": "code",
   "execution_count": 1,
   "metadata": {
    "collapsed": true
   },
   "outputs": [],
   "source": [
    "from math import *\n",
    "from random import *\n",
    "import sys\n",
    "from time import sleep\n",
    "import collections\n",
    "import subprocess as sp\n",
    "import os\n",
    "from numpy import fromfile\n",
    "from numpy import sin,pi\n",
    "from os import system\n"
   ]
  },
  {
   "cell_type": "code",
   "execution_count": 95,
   "metadata": {
    "collapsed": true
   },
   "outputs": [],
   "source": [
    "from time import time"
   ]
  },
  {
   "cell_type": "code",
   "execution_count": 2,
   "metadata": {
    "collapsed": true
   },
   "outputs": [],
   "source": [
    "# actgenelife must be compiled with\n",
    "# cc -o actgenelife actgenelife.c\n",
    "\n",
    "proc = sp.Popen(\"actgenelife\",\n",
    "                shell=True,\n",
    "                stdout = sp.PIPE)"
   ]
  },
  {
   "cell_type": "code",
   "execution_count": 98,
   "metadata": {
    "collapsed": false
   },
   "outputs": [
    {
     "name": "stdout",
     "output_type": "stream",
     "text": [
      "0.0041545009613\n"
     ]
    }
   ],
   "source": [
    "# transient\n",
    "start = time()\n",
    "for i in range(100):\n",
    "    dat = proc.stdout.readline()\n",
    "print (time()-start)/100"
   ]
  },
  {
   "cell_type": "code",
   "execution_count": 100,
   "metadata": {
    "collapsed": false
   },
   "outputs": [
    {
     "name": "stdout",
     "output_type": "stream",
     "text": [
      "4.886084795\n"
     ]
    }
   ],
   "source": [
    "activity = {}\n",
    "dat = proc.stdout.readline()\n",
    "dat = dat.split()\n",
    "ldat = len(dat)\n",
    "fofo = range(0,ldat,2)          # swizzle data to graph: idx of beginning of each data chunk\n",
    "actinc = {}\n",
    "\n",
    "nsteps = 1000\n",
    "start = time()\n",
    "for j in range(nsteps):\n",
    "    dat = proc.stdout.readline()\n",
    "    dat = dat.split()\n",
    "    ldat = len(dat)\n",
    "    fofo = range(0,ldat,2)          # swizzle data to graph: idx of beginning of each data chunk\n",
    "    for i in range(len(fofo)):\n",
    "        mykey = dat[fofo[i]]\n",
    "        if mykey in activity:\n",
    "            if activity[mykey] != None:\n",
    "                activity[mykey] += int(dat[fofo[i]+1])\n",
    "            else:\n",
    "                activity[mykey] = int(dat[fofo[i]+1])\n",
    "        else:\n",
    "            activity[mykey] = int(dat[fofo[i]+1])\n",
    "        actinc[dat[fofo[i]]] = 1\n",
    "    dat = [(dat[fofo[i]],int(dat[fofo[i]+1])) for i in range(len(fofo))]\n",
    "\n",
    "print time()-start"
   ]
  },
  {
   "cell_type": "code",
   "execution_count": 94,
   "metadata": {
    "collapsed": false
   },
   "outputs": [
    {
     "data": {
      "text/plain": [
       "[('c36707cdef33eaa3', 23),\n",
       " ('2b33fd2427035260', 54),\n",
       " ('309053cacb0ded9f', 9),\n",
       " ('d7427ddce480b76a', 1),\n",
       " ('f55a27d0200c36e7', 8),\n",
       " ('8c987c6605fbc494', 21),\n",
       " ('eb6a45ac0d49b5df', 1),\n",
       " ('6cd6c0d0cd964f97', 24),\n",
       " ('5c33c33727e611df', 6),\n",
       " ('0', 61573)]"
      ]
     },
     "execution_count": 94,
     "metadata": {},
     "output_type": "execute_result"
    }
   ],
   "source": [
    "[(kk,activity[kk]) for kk in [activity.keys()[i] for i in range(10)]]\n"
   ]
  },
  {
   "cell_type": "code",
   "execution_count": null,
   "metadata": {
    "collapsed": true
   },
   "outputs": [],
   "source": []
  },
  {
   "cell_type": "code",
   "execution_count": 92,
   "metadata": {
    "collapsed": false
   },
   "outputs": [
    {
     "data": {
      "text/plain": [
       "[('0', 61573),\n",
       " ('adbbbd74cedeb95e', 105),\n",
       " ('373d7ed3d3405b6b', 104),\n",
       " ('7c9382a9595b2c36', 103),\n",
       " ('8a03804697210826', 97),\n",
       " ('daff77a50540baa0', 84),\n",
       " ('3e10db144766a929', 82),\n",
       " ('2b3c8c486c4291cb', 81),\n",
       " ('d08949992d90f09d', 81),\n",
       " ('a811ac0d5f7daff3', 71)]"
      ]
     },
     "execution_count": 92,
     "metadata": {},
     "output_type": "execute_result"
    }
   ],
   "source": [
    "[dat[i] for i in range(10)]"
   ]
  },
  {
   "cell_type": "code",
   "execution_count": 91,
   "metadata": {
    "collapsed": false
   },
   "outputs": [
    {
     "data": {
      "text/plain": [
       "['c36707cdef33eaa3',\n",
       " '2b33fd2427035260',\n",
       " '309053cacb0ded9f',\n",
       " 'd7427ddce480b76a',\n",
       " 'f55a27d0200c36e7',\n",
       " '8c987c6605fbc494',\n",
       " 'eb6a45ac0d49b5df',\n",
       " '6cd6c0d0cd964f97',\n",
       " '5c33c33727e611df',\n",
       " '0',\n",
       " '48e74057690b5878',\n",
       " '397e8005b698cd20',\n",
       " '2dd5f6d087cf7213',\n",
       " 'dfa5d9e41ddb96b2',\n",
       " 'fe1e9d8f8f6c6c49',\n",
       " '5bc3294f20e92c14',\n",
       " 'c98f6ab48604df2a',\n",
       " '2d32be26b110a97e',\n",
       " '314ba3ff41b2969f',\n",
       " '291c807e9f20a267']"
      ]
     },
     "execution_count": 91,
     "metadata": {},
     "output_type": "execute_result"
    }
   ],
   "source": [
    "[activity.keys()[i] for i in range(20)]"
   ]
  },
  {
   "cell_type": "code",
   "execution_count": 88,
   "metadata": {
    "collapsed": false
   },
   "outputs": [
    {
     "data": {
      "text/plain": [
       "[('0', '61511'),\n",
       " ('7c9382a9595b2c36', '139'),\n",
       " ('8a03804697210826', '112'),\n",
       " ('373d7ed3d3405b6b', '105'),\n",
       " ('adbbbd74cedeb95e', '105'),\n",
       " ('daff77a50540baa0', '79'),\n",
       " ('3e10db144766a929', '76'),\n",
       " ('656dfbe04e6e0325', '75'),\n",
       " ('a811ac0d5f7daff3', '73'),\n",
       " ('d08949992d90f09d', '73')]"
      ]
     },
     "execution_count": 88,
     "metadata": {},
     "output_type": "execute_result"
    }
   ],
   "source": [
    "dat = proc.stdout.readline()\n",
    "dat = dat.split()\n",
    "[(dat[i],dat[i+1]) for i in [fofo[j] for j in range(10)]]"
   ]
  },
  {
   "cell_type": "code",
   "execution_count": 77,
   "metadata": {
    "collapsed": false
   },
   "outputs": [
    {
     "ename": "IndexError",
     "evalue": "string index out of range",
     "output_type": "error",
     "traceback": [
      "\u001b[0;31m---------------------------------------------------------------------------\u001b[0m",
      "\u001b[0;31mIndexError\u001b[0m                                Traceback (most recent call last)",
      "\u001b[0;32m<ipython-input-77-a27433a69dba>\u001b[0m in \u001b[0;36m<module>\u001b[0;34m()\u001b[0m\n\u001b[0;32m----> 1\u001b[0;31m \u001b[0mcnts\u001b[0m \u001b[0;34m=\u001b[0m \u001b[0;34m[\u001b[0m\u001b[0mdat\u001b[0m\u001b[0;34m[\u001b[0m\u001b[0mi\u001b[0m\u001b[0;34m+\u001b[0m\u001b[0;36m1\u001b[0m\u001b[0;34m]\u001b[0m \u001b[0;32mfor\u001b[0m \u001b[0mi\u001b[0m \u001b[0;32min\u001b[0m \u001b[0mfofo\u001b[0m\u001b[0;34m]\u001b[0m\u001b[0;34m\u001b[0m\u001b[0m\n\u001b[0m\u001b[1;32m      2\u001b[0m \u001b[0mmax\u001b[0m\u001b[0;34m(\u001b[0m\u001b[0mcnts\u001b[0m\u001b[0;34m)\u001b[0m\u001b[0;34m\u001b[0m\u001b[0m\n",
      "\u001b[0;31mIndexError\u001b[0m: string index out of range"
     ]
    }
   ],
   "source": [
    "cnts = [dat[i+1] for i in fofo]\n",
    "max(cnts)"
   ]
  },
  {
   "cell_type": "code",
   "execution_count": 79,
   "metadata": {
    "collapsed": false
   },
   "outputs": [
    {
     "data": {
      "text/plain": [
       "7203"
      ]
     },
     "execution_count": 79,
     "metadata": {},
     "output_type": "execute_result"
    }
   ],
   "source": [
    "len(dat)"
   ]
  },
  {
   "cell_type": "code",
   "execution_count": 87,
   "metadata": {
    "collapsed": false
   },
   "outputs": [
    {
     "data": {
      "text/plain": [
       "'0  61605 7c9382a9595b2c36  120 373d7ed3d3405b6b  106 8a03804697210826  99 3e10db144766a929  88 adbbbd74cedeb95e  88 d08949992d90f09d  86 656dfbe04e6e0325  82 a811ac0d5f7daff3  73 2b3c8c486c4291cb  66 daff77a50540baa0  62 c5abf097c99b879b  59 c9cf6ab48604df2a  55 48e74057790b5878  51 97ff23eee5e87f2f  51 21df72b6dc848696  50 193f0da7c9c88a3f  48 4596c56c79361aea  48 b1f7b65cbb04a6f6  47 f50386a0fc65b120  46 2b33fd2427035260  44 39ef3ced0daee8ff  44 31e34ed5c2f5c15  42 52c86adf62991d05  42 e458747b5ccfc68e  42 599b8fceb322e3c2  41 575cc45dd727d7d  37 6cd6c0d0cd964fb7  37 31e34ed5c2f4c15  36 ab5767a16af1aace  36 55e449d0237435ef  35 fd20132fe46c04b2  35 f89e0fa501af121b  33 2d32be26b110a97e  32 309053cacb0dedbf  31 52c86adf62991c05  30 ab81cbf06f8cfc5b  30 2770aa99dc6dc166  29 314ba3ff41b2969f  28 d651338085c20f77  27 c961d840820c3fb  26 4c0d7b116b43f76b  26 1c68b6a09b01408a  25 720ede7064baf9a9  25 956d4d89813a1c6  24 83d18ad58117a314  24 9d57b4d9148b648e  24 ab5f67a16af1aace  24 50c2df010e0b8593  23 7167c5e740bde3b0  23 8c987c6605fbc494  23 7bea6ef3230d33  22 6cd6c0d0cd964f97  22 c7fb9abc90f3454  21 1cc4b27ff57baadd  21 2dd5f6d087cf7213  21 3a73060a85655430  21 8c6f98de1206ec75  20 62f50feccb5a5ae3  19 c36707cdef33eaa3  19 5c320a9522932e6d  18 d8ff77a50540baa0  18 6a6a6f9122f8133e  17 9de6ff74c542e59b  17 d1379dd706303742  17 293017b84d0faccd  16 bf1ae6ef4a401e61  16 1133224c29f22d44  15 383d29c0d65134ea  15 3e10db144766b929  15 7a747abd578816a2  15 90db1f3ac342b57b  15 951f684e03f8f102  15 f0adac73ac4efc8c  15 f55a27d0200c36e7  15 834d19b8738ffbad  14 e3ad61fbcce2ef67  14 ebea45ae0d49b5df  14 35cfe3a7eee04127  13 8347e041b6b16451  13 d08949993d90f09d  13 309053cacb0ded9f  12 4516c56c79361aea  12 4b44a550f2b34b8a  12 56d44622bc183bcb  12 672209f678c40daa  12 82b08eb82300f263  12 908c377e0bdbf127  12 a69e877f32e876bf  12 db779c11c684a650  12 c910179fa6eeaf0  11 52c8eadf62991d05  11 8ef7d15e5783f033  11 f4a9578dd52fc3bf  11 fe1e9d8b8f6c6c49  11 300ad9f573fd035  10 684367a3b97f790a  10 684367abb97f790a  10 8735f0dc395c267b  10 9fec37e8c9f62ae1  10 51e449d0237435ef  9 60f50feccb5a5ae3  9 6d200fd9c956c3d1  9 fd20132fe42c04b2  9 fe1e9d8b8f6c6c41  9 4961d840820c3fb  8 35cfe3a7eee24127  8 4568fe7592070384  8 48e74055790b5878  8 6291672a3c932bb0  8 6c0d7f8abcf0f57f  8 983abc28097fde41  8 aaa34af1671b9089  8 c5ab7097c99b879b  8 c5f91f32dfbfd734  8 fc60826dc21129d9  8 fd9ad23f3a444756  8 1c16a8a90148f623  7 1d8ebee80c633ec3  7 32c6996bbcf8555f  7 32c6996bbcf85d5f  7 397e8005b698cd20  7 3a73060a85655530  7 5cceb830c1e44928  7 6dfca5823b07ad12  7 8d57b4d9148b648e  7 92be295d9be2d359  7 96a7b9a13908b194  7 a1859bfaaa82658f  7 a24578944a667707  7 ba33d3f35e7b044a  7 c0babc6d0ec25029  7 23a931ec07fb2f43  6 2482bed9bcc3e7ed  6 314ba3df41b2969f  6 35f3b8997226f84d  6 52c86adf62991c45  6 5c33c33727e611df  6 5c911defb51f9f48  6 66223e95ec7b2826  6 7a74fabd578816a2  6 861a4510d91a85e4  6 90db1d3ac342b57b  6 92c20d8f7c36fe09  6 9d57b4d11483648e  6 9fec36e9c9f62ee1  6 9ff13d9215d944d9  6 a831ac0d5f7dafb3  6 b23e432bd954effa  6 b708a97beb7b3d3b  6 bd8e8b37c3be87af  6 c5abf097c89b879b  6 e45874fb5ccfc68e  6 fe813d32e93d2580  6 ff3dd9e9b3e94955  6 291c807e9f20a267  5 377d7ed3d3405b6b  5 527b88e6d97af5ab  5 76835d58c4645c74  5 8a038042d7210826  5 8adb092b923ffdd5  5 9d57b4d9148f648e  5 a2b5b5531bdcf50d  5 b721028c7b3c3f8e  5 c1551e7ed48a2a92  5 c25e4cefa0ca8838  5 c98f6ab48604df2a  5 d74a7ddce480b76a  5 ded4638b2742e47d  5 ebea47ae0d49b5df  5 f51386a0fc65b120  5 fae1917d1056b495  5 53f7f041784a976  4 b8e1d8885dfb871  4 c7db9abc90f3454  4 1777d239adec2195  4 19d4ef2754de6d86  4 2770aa99d46dc166  4 2c19b8e174966f4d  4 309153cacb0decbf  4 3408e5f44cde7a54  4 35cfe3a7eee04327  4 3e10db144766ab29  4 4ac86cd4d8643312  4 4fb356e95a0ad3ac  4 51b64da66fe38bd1  4 55e449d4237435ef  4 5963f287eeeacf5f  4 5ae7e8a9c1b13c91  4 5f7a69e0fd4a9bdf  4 6fd7564a0a3c7f7a  4 6fd7564b0a3c7f7a  4 7cd382a9595b2c36  4 7e9382a9595b2c36  4 861a4510c91a85e4  4 8b812dd08b0d07ff  4 904e2c7c1aba7b7f  4 98babc28097fde41  4 aa7daa6a05466d83  4 b3fa64810ae131b5  4 b75c32eb6784eab7  4 bd8a8b37c3be87af  4 effe555b9b00e0bc  4 effe6cdfe6050c28  4 f08949993d90f09d  4 f1d1a97e708d9740  4 f2f90e596946068c  4 fa5afdd4c2bfe429  4 fe1e9d8f8f6c6c49  4 fe5e9d8b8f6c6c49  4 956d0d89811a1c6  3 1d8ebec80c633ec3  3 32c6996bb8f8555f  3 3729fda68ce86c73  3 373d7ed3d3405b4b  3 3daf4f3c9b8c680c  3 48e74057690b5878  3 5bc3294f20e92c14  3 7daf4f3c9b8c680c  3 8300ad9f573fd135  3 842dbe8111c76cc2  3 90db1f32c342b57b  3 97ff23eee5e87f3f  3 a245789448667707  3 aca3898cb2763a1a  3 b4a0ab99c70fa579  3 c62d4fc07e8b244d  3 c9cf6bb48604df2a  3 dfa5d9e41ddb96b2  3 ef8d18337e4c0223  3 f4a95789d52fc3bf  3 fd22132fe42c04b2  3 18acaa09a850206  2 1ae0f1d3dacf914  2 1ae0f5d3dacf914  2 4961d840820d3fb  2 49a042b2e71b78e  2 49a042b2e73b78e  2 9ebe504b19bdd94  2 18b3e6a1aa1e5e1b  2 2831ac0d5f7dafb3  2 287b50697ba523dc  2 30c6996bbcf8555f  2 32626d003ba1c4bb  2 3708a97beb7b3d3b  2 3a73070a85655430  2 3e10db044766a929  2 45632507b8ebf8b1  2 456329f39f25308a  2 52c96adf62991d05  2 62f50feccb5a5ee3  2 65140049381c01d2  2 6770aa99dc6dc166  2 75a4d10b1fa17874  2 7ca78a73e25d722c  2 820cca4d24656c12  2 8ef7d15e5783f0b3  2 951f684e23f8f102  2 9531211d8afbe7f7  2 98ed56c757d32006  2 9bc4371963433d5d  2 9fec37e8c9762ae1  2 af95ec813e5ee8be  2 c5abd097c99b879b  2 d1179dd706303742  2 daff77a50548baa0  2 e1cd42e4ac327bac  2 f92df725cdcf015c  2 18acaa09e850206  1 1e9e504b19bdd94  1 300a99f573fd035  1 300ad9f5737d035  1 300ad9f573fd037  1 775cc45dd727d7d  1 108c377e03daf127  1 1133224c29f22d45  1 113322cc29f22d44  1 11b3224c29f22f44  1 12c45211584cc0cd  1 12d45211584cc0cd  1 1333224c29f22d44  1 1480e74d0aa0efdc  1 1480e74d1aa0efdc  1 1480e74d1bb0efdc  1 19ce41e9250df065  1 1db8f83c298d7e3c  1 28b1ac0d5f7dafb3  1 314ba3ff41b2869f  1 32c6996bbcfc5d5f  1 35cfe3a7eee64127  1 36626d003ba1c4bb  1 3c9382a9595b2c36  1 4cccb830c1e44928  1 51b64da66fe38bc1  1 527b88e6d97af5af  1 52c87adf62991c05  1 5cceb830c1e4492a  1 656dfbe24e6e0325  1 692f98b21514ae67  1 6a6a6f9122f8113e  1 6a7b6f9122f8133e  1 6ba838639ef5a099  1 6ba838639ef5a299  1 6baa38639ef5a299  1 6c27c01051a744ac  1 6fd7564a0a3c7f7e  1 70e63b3bd1ea76f1  1 74186154f48e2cbf  1 785aa2a50905edcf  1 83d18ad58137a314  1 86cfb15b64dfa3b9  1 8adb092b963ffdd5  1 8adb0b2b9237fdd5  1 8ef7d15e5783e0b3  1 8effd15e5783f033  1 93be78edc2b736b7  1 98ed54c757d32006  1 9bc4371923433d5d  1 9de6ff74c546e59b  1 a76732090c7589ed  1 a76732090c7d89ed  1 ab1767a16af5aace  1 ab5e67a16af1aace  1 ac6a1239b191def1  1 b370df6b8ab54dea  1 b761028c7b3c3f8e  1 c42456b9cce836bf  1 c42456b9dce836bf  1 c5abd097899b879b  1 c5f90f32dfbdd734  1 c5f91f72dfbfd734  1 c6095bbc5ca2ba7c  1 c98e6ab486049f2a  1 c98f6ab48604de2a  1 d08809992d90f09d  1 d08909992d80f09d  1 d08949892d90f19d  1 d089c9992d90f0b5  1 d137bdd706303742  1 d24370a4b587ec35  1 d651338085c20b77  1 d7427ddce480b76a  1 d7467ddce480b76a  1 d98c459c1dd8f46b  1 e1433b46c0a78fcc  1 e1cd42c4ac307bac  1 e458747b5ccfc6ce  1 ea9651370bc226cd  1 ea9651371be226cd  1 ea9e51371be026cd  1 eb6a45ac0d49b5df  1 ebca45ac0d49b5df  1 ebea45ac0d49b5df  1 f4a957a9d52fc3bf  1 f6813d32e93d2580  1 fe813d12e93d2580  1 fe813d32e97d2580  1 \\n'"
      ]
     },
     "execution_count": 87,
     "metadata": {},
     "output_type": "execute_result"
    }
   ],
   "source": [
    "dat"
   ]
  }
 ],
 "metadata": {
  "kernelspec": {
   "display_name": "Python 2",
   "language": "python",
   "name": "python2"
  },
  "language_info": {
   "codemirror_mode": {
    "name": "ipython",
    "version": 2
   },
   "file_extension": ".py",
   "mimetype": "text/x-python",
   "name": "python",
   "nbconvert_exporter": "python",
   "pygments_lexer": "ipython2",
   "version": "2.7.14"
  }
 },
 "nbformat": 4,
 "nbformat_minor": 2
}
