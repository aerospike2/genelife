{
 "cells": [
  {
   "cell_type": "code",
   "execution_count": 2,
   "metadata": {},
   "outputs": [],
   "source": [
    "from math import *\n",
    "from random import *\n",
    "import sys\n",
    "from time import sleep\n",
    "import collections\n",
    "import subprocess as sp\n",
    "import os\n",
    "from numpy import fromfile\n",
    "from numpy import sin,pi\n",
    "from os import system\n",
    "\n",
    "\n",
    "%matplotlib inline\n",
    "from matplotlib import pyplot as plt"
   ]
  },
  {
   "cell_type": "code",
   "execution_count": 65,
   "metadata": {},
   "outputs": [],
   "source": [
    "import numpy as np"
   ]
  },
  {
   "cell_type": "code",
   "execution_count": 3,
   "metadata": {},
   "outputs": [],
   "source": [
    "from time import time"
   ]
  },
  {
   "cell_type": "code",
   "execution_count": 23,
   "metadata": {},
   "outputs": [
    {
     "data": {
      "text/plain": [
       "'actgenelife 1 3 1 8 8 2 16384 32768'"
      ]
     },
     "execution_count": 23,
     "metadata": {},
     "output_type": "execute_result"
    }
   ],
   "source": [
    "params=[1,     # rulemod-0-1\n",
    "        3,     # repscheme=0-4\n",
    "        1,     # selection=0-2 \n",
    "        8,     # nlog2p0\n",
    "        8,     # nlog2pmut\n",
    "        2,     # nloglog2p1\n",
    "        16384, # initial1density\n",
    "        32768] # initialrdensity\n",
    "\n",
    "\n",
    "params = [str(x) for x in params]\n",
    "\n",
    "execstr = 'actgenelife '+' '.join(params)\n",
    "execstr"
   ]
  },
  {
   "cell_type": "code",
   "execution_count": 24,
   "metadata": {},
   "outputs": [],
   "source": [
    "# actgenelife must be compiled with\n",
    "# cc -o actgenelife actgenelife.c\n",
    "\n",
    "proc = sp.Popen(execstr,\n",
    "                shell=True,\n",
    "                stdout = sp.PIPE)"
   ]
  },
  {
   "cell_type": "code",
   "execution_count": 25,
   "metadata": {},
   "outputs": [
    {
     "name": "stdout",
     "output_type": "stream",
     "text": [
      "0.0263127207756\n"
     ]
    }
   ],
   "source": [
    "# transient\n",
    "start = time()\n",
    "for i in range(100):\n",
    "    dat = proc.stdout.readline()\n",
    "print (time()-start)/100"
   ]
  },
  {
   "cell_type": "code",
   "execution_count": 26,
   "metadata": {},
   "outputs": [],
   "source": [
    "activity = {}\n",
    "dat = proc.stdout.readline()\n",
    "dat = dat.split()\n",
    "ldat = len(dat)\n",
    "fofo = range(0,ldat,2)          # swizzle data to graph: idx of beginning of each data chunk\n",
    "actinc = {}"
   ]
  },
  {
   "cell_type": "code",
   "execution_count": 27,
   "metadata": {},
   "outputs": [
    {
     "name": "stdout",
     "output_type": "stream",
     "text": [
      "5.05202794075\n"
     ]
    }
   ],
   "source": [
    "nsteps = 1000\n",
    "start = time()\n",
    "for j in range(nsteps):\n",
    "    dat = proc.stdout.readline()\n",
    "    dat = dat.split()\n",
    "    ldat = len(dat)\n",
    "    fofo = range(0,ldat,2)          # swizzle data to graph: idx of beginning of each data chunk\n",
    "    for i in range(len(fofo)):\n",
    "        mykey = dat[fofo[i]]\n",
    "        if mykey in activity:\n",
    "            if activity[mykey] != None:\n",
    "                activity[mykey] += int(dat[fofo[i]+1])\n",
    "            else:\n",
    "                activity[mykey] = int(dat[fofo[i]+1])\n",
    "        else:\n",
    "            activity[mykey] = int(dat[fofo[i]+1])\n",
    "        actinc[dat[fofo[i]]] = 1\n",
    "    dat = [(dat[fofo[i]],int(dat[fofo[i]+1])) for i in range(len(fofo))]\n",
    "\n",
    "print time()-start"
   ]
  },
  {
   "cell_type": "code",
   "execution_count": 28,
   "metadata": {},
   "outputs": [
    {
     "data": {
      "text/plain": [
       "[('dd6ff2818d731f54', 1),\n",
       " ('fb21bd329065d12a', 1),\n",
       " ('b789f17d20f7b44d', 1),\n",
       " ('37e301d41ac4e3c6', 197),\n",
       " ('dbdb876c717a3021', 109),\n",
       " ('7d0cf3e0bda56606', 207),\n",
       " ('73289d2c80210789', 466),\n",
       " ('cb8c99d2160a2f08', 63),\n",
       " ('ca5e8dba27a3f3df', 1),\n",
       " ('9ce1644f168d5a05', 6)]"
      ]
     },
     "execution_count": 28,
     "metadata": {},
     "output_type": "execute_result"
    }
   ],
   "source": [
    "[(kk,activity[kk]) for kk in [activity.keys()[i] for i in range(10)]]\n"
   ]
  },
  {
   "cell_type": "code",
   "execution_count": 42,
   "metadata": {},
   "outputs": [],
   "source": [
    "def docount(act):\n",
    "    cnt = 0\n",
    "    for aa in act:\n",
    "        cnt = cnt+act[aa]\n",
    "    return(cnt)"
   ]
  },
  {
   "cell_type": "code",
   "execution_count": 43,
   "metadata": {},
   "outputs": [],
   "source": [
    "cnt = docount(activity)"
   ]
  },
  {
   "cell_type": "code",
   "execution_count": 44,
   "metadata": {},
   "outputs": [
    {
     "data": {
      "text/plain": [
       "65529790"
      ]
     },
     "execution_count": 44,
     "metadata": {},
     "output_type": "execute_result"
    }
   ],
   "source": [
    "\n"
   ]
  },
  {
   "cell_type": "code",
   "execution_count": 93,
   "metadata": {},
   "outputs": [],
   "source": [
    "\n",
    "def doact(params,nsteps = 1000, ntrans=200, niter = 4):\n",
    "\n",
    "    params = [str(x) for x in params]\n",
    "    execstr = 'actgenelife '+' '.join(params)\n",
    "    proc = sp.Popen(execstr,\n",
    "                    shell=True,\n",
    "                    stdout = sp.PIPE)\n",
    "    activity = {}\n",
    "    for i in range(ntrans):         # do the transient\n",
    "        dat = proc.stdout.readline()\n",
    "    totcnt = 0\n",
    "    cnt = []\n",
    "    delt = []\n",
    "    for k in range(niter):\n",
    "        for j in range(nsteps):\n",
    "            dat = proc.stdout.readline()\n",
    "            dat = dat.split()\n",
    "            ldat = len(dat)\n",
    "            fofo = range(0,ldat,2)          # swizzle data to graph: idx of beginning of each data chunk\n",
    "            for i in range(len(fofo)):\n",
    "                mykey = dat[fofo[i]]\n",
    "                if mykey in activity:\n",
    "                    if activity[mykey] != None:\n",
    "                        activity[mykey] += int(dat[fofo[i]+1])\n",
    "                    else:\n",
    "                        activity[mykey] = int(dat[fofo[i]+1])\n",
    "                else:\n",
    "                    activity[mykey] = int(dat[fofo[i]+1])\n",
    "                actinc[dat[fofo[i]]] = 1\n",
    "            dat = [(dat[fofo[i]],int(dat[fofo[i]+1])) for i in range(len(fofo))]\n",
    "        tmpcnt = totcnt\n",
    "        totcnt = docount(activity)\n",
    "        cnt = cnt + [totcnt-tmpcnt]  #totcnt-tmpcnt is total for this chunk\n",
    "        if k>0:\n",
    "            delt = delt + [cnt[k]-cnt[k-1]]\n",
    "        sys.stdout.write('\\r'+str(k)+' of '+ str(niter-1))\n",
    "    return(delt)"
   ]
  },
  {
   "cell_type": "code",
   "execution_count": 94,
   "metadata": {},
   "outputs": [
    {
     "data": {
      "text/plain": [
       "['0', '3', '1', '8', '8', '2', '16384', '32768']"
      ]
     },
     "execution_count": 94,
     "metadata": {},
     "output_type": "execute_result"
    }
   ],
   "source": [
    "params"
   ]
  },
  {
   "cell_type": "code",
   "execution_count": 95,
   "metadata": {},
   "outputs": [],
   "source": [
    "params[0] = '0'"
   ]
  },
  {
   "cell_type": "code",
   "execution_count": 96,
   "metadata": {},
   "outputs": [
    {
     "data": {
      "text/plain": [
       "['0', '3', '1', '8', '8', '2', '16384', '32768']"
      ]
     },
     "execution_count": 96,
     "metadata": {},
     "output_type": "execute_result"
    }
   ],
   "source": [
    "params"
   ]
  },
  {
   "cell_type": "markdown",
   "metadata": {},
   "source": [
    "Let $a^t$ be the activity profile at time $t$,\n",
    "$$\n",
    "a^t_c = \\sum_i \\delta(c,C^t_i)\n",
    "$$\n",
    "where $C^t_i =$ counts of the $i^{\\rm th}$ species.\n",
    "\n",
    "Then let $A^t$ be the total activity at time $t$,\n",
    "$$\n",
    "A^t = \\sum_c a^t_c\n",
    "$$\n",
    "and let $A^t_{\\delta t}$ be $A^t$ integrated over a time period $\\delta t$,\n",
    "$$\n",
    "A^t_{\\delta t} = \\sum_{u \\in \\{t-\\delta t , \\dots , t\\}} A^u\n",
    "$$\n",
    "We then ask how this total activity over a period $\\delta t$ changes from one period to another, by looking at\n",
    "$$\n",
    "\\Delta^t = A^t_{\\delta t} - A^{t-\\delta t}_{\\delta t}\n",
    "$$\n",
    "This may be interpreted as the \"new activity\".  If negative, the total activity per $\\delta t$ has decreased.\n",
    "\n",
    "The graphs below graph new activity $\\Delta^t$ vs. $t$, for $\\delta t = 200$."
   ]
  },
  {
   "cell_type": "markdown",
   "metadata": {},
   "source": [
    "## rulemod=0\n",
    "\n",
    "No affect of genes on dynamics.\n",
    "\n",
    "Activity dynamics due solely to gene replication / mutation events\n",
    "\n"
   ]
  },
  {
   "cell_type": "code",
   "execution_count": 111,
   "metadata": {},
   "outputs": [
    {
     "name": "stdout",
     "output_type": "stream",
     "text": [
      "24 of 24"
     ]
    },
    {
     "data": {
      "image/png": "[encoded data removed]",
      "text/plain": [
       "<matplotlib.figure.Figure at 0x112a36410>"
      ]
     },
     "metadata": {},
     "output_type": "display_data"
    }
   ],
   "source": [
    "params=[0,     # rulemod-0-1\n",
    "        3,     # repscheme=0-4\n",
    "        1,     # selection=0-2 \n",
    "        8,     # nlog2p0\n",
    "        8,     # nlog2pmut\n",
    "        2,     # nloglog2p1\n",
    "        16384, # initial1density\n",
    "        32768] # initialrdensity\n",
    "act = doact(params,nsteps=200,niter=25)\n",
    "xx = range(len(act))\n",
    "xx = [x*nsteps for x in xx]\n",
    "ww = [0.8*nsteps for x in xx]\n",
    "plt.bar(xx,act,ww);\n",
    "plt.ylabel(r'$Delta^t$')\n",
    "plt.xlabel(r'$t$')\n",
    "plt.show()"
   ]
  },
  {
   "cell_type": "code",
   "execution_count": 112,
   "metadata": {},
   "outputs": [],
   "source": [
    "def doplot(act):\n",
    "    xx = range(len(act))\n",
    "    xx = [x*nsteps for x in xx]\n",
    "    ww = [0.8*nsteps for x in xx]\n",
    "    plt.bar(xx,act,ww);\n",
    "    plt.ylabel(r'$\\Delta^t$')\n",
    "    plt.xlabel(r'$t$')\n",
    "    plt.show()"
   ]
  },
  {
   "cell_type": "code",
   "execution_count": 113,
   "metadata": {},
   "outputs": [
    {
     "name": "stdout",
     "output_type": "stream",
     "text": [
      "24 of 24"
     ]
    },
    {
     "data": {
      "image/png": "[encoded data removed]",
      "text/plain": [
       "<matplotlib.figure.Figure at 0x1116054d0>"
      ]
     },
     "metadata": {},
     "output_type": "display_data"
    }
   ],
   "source": [
    "params=[0,     # rulemod-0-1\n",
    "        3,     # repscheme=0-4\n",
    "        1,     # selection=0-2 \n",
    "        12,     # nlog2p0\n",
    "        12,     # nlog2pmut\n",
    "        2,     # nloglog2p1\n",
    "        16384, # initial1density\n",
    "        32768] # initialrdensity\n",
    "act = doact(params,nsteps=200,niter=25)\n",
    "doplot(act)"
   ]
  },
  {
   "cell_type": "markdown",
   "metadata": {},
   "source": [
    "### Sweep repscheme"
   ]
  },
  {
   "cell_type": "code",
   "execution_count": 102,
   "metadata": {},
   "outputs": [
    {
     "name": "stdout",
     "output_type": "stream",
     "text": [
      "24 of 24"
     ]
    },
    {
     "data": {
      "image/png": "[encoded data removed]",
      "text/plain": [
       "<matplotlib.figure.Figure at 0x110ee1350>"
      ]
     },
     "metadata": {},
     "output_type": "display_data"
    }
   ],
   "source": [
    "params=[1,     # rulemod-0-1\n",
    "        0,     # repscheme=0-4\n",
    "        1,     # selection=0-2 \n",
    "        12,     # nlog2p0\n",
    "        12,     # nlog2pmut\n",
    "        2,     # nloglog2p1\n",
    "        16384, # initial1density\n",
    "        32768] # initialrdensity\n",
    "act = doact(params,nsteps=200,niter=25)\n",
    "plt.bar(range(len(act)),act);"
   ]
  },
  {
   "cell_type": "code",
   "execution_count": 103,
   "metadata": {},
   "outputs": [
    {
     "name": "stdout",
     "output_type": "stream",
     "text": [
      "24 of 24"
     ]
    },
    {
     "data": {
      "image/png": "[encoded data removed]",
      "text/plain": [
       "<matplotlib.figure.Figure at 0x110c16090>"
      ]
     },
     "metadata": {},
     "output_type": "display_data"
    }
   ],
   "source": [
    "params=[1,     # rulemod-0-1\n",
    "        1,     # repscheme=0-4\n",
    "        1,     # selection=0-2 \n",
    "        12,     # nlog2p0\n",
    "        12,     # nlog2pmut\n",
    "        2,     # nloglog2p1\n",
    "        16384, # initial1density\n",
    "        32768] # initialrdensity\n",
    "act = doact(params,nsteps=200,niter=25)\n",
    "plt.bar(range(len(act)),act);"
   ]
  },
  {
   "cell_type": "code",
   "execution_count": 104,
   "metadata": {},
   "outputs": [
    {
     "name": "stdout",
     "output_type": "stream",
     "text": [
      "24 of 24"
     ]
    },
    {
     "data": {
      "image/png": "[encoded data removed]",
      "text/plain": [
       "<matplotlib.figure.Figure at 0x11100f610>"
      ]
     },
     "metadata": {},
     "output_type": "display_data"
    }
   ],
   "source": [
    "params=[1,     # rulemod-0-1\n",
    "        2,     # repscheme=0-4\n",
    "        1,     # selection=0-2 \n",
    "        12,     # nlog2p0\n",
    "        12,     # nlog2pmut\n",
    "        2,     # nloglog2p1\n",
    "        16384, # initial1density\n",
    "        32768] # initialrdensity\n",
    "act = doact(params,nsteps=200,niter=25)\n",
    "plt.bar(range(len(act)),act);"
   ]
  },
  {
   "cell_type": "code",
   "execution_count": 105,
   "metadata": {},
   "outputs": [
    {
     "name": "stdout",
     "output_type": "stream",
     "text": [
      "24 of 24"
     ]
    },
    {
     "data": {
      "image/png": "[encoded data removed]",
      "text/plain": [
       "<matplotlib.figure.Figure at 0x111071990>"
      ]
     },
     "metadata": {},
     "output_type": "display_data"
    }
   ],
   "source": [
    "params=[1,     # rulemod-0-1\n",
    "        3,     # repscheme=0-4\n",
    "        1,     # selection=0-2 \n",
    "        12,     # nlog2p0\n",
    "        12,     # nlog2pmut\n",
    "        2,     # nloglog2p1\n",
    "        16384, # initial1density\n",
    "        32768] # initialrdensity\n",
    "act = doact(params,nsteps=200,niter=25)\n",
    "plt.bar(range(len(act)),act);"
   ]
  },
  {
   "cell_type": "code",
   "execution_count": 106,
   "metadata": {},
   "outputs": [
    {
     "name": "stdout",
     "output_type": "stream",
     "text": [
      "24 of 24"
     ]
    },
    {
     "data": {
      "image/png": "[encoded data removed]",
      "text/plain": [
       "<matplotlib.figure.Figure at 0x110b0d2d0>"
      ]
     },
     "metadata": {},
     "output_type": "display_data"
    }
   ],
   "source": [
    "params=[1,     # rulemod-0-1\n",
    "        4,     # repscheme=0-4\n",
    "        1,     # selection=0-2 \n",
    "        12,     # nlog2p0\n",
    "        12,     # nlog2pmut\n",
    "        2,     # nloglog2p1\n",
    "        16384, # initial1density\n",
    "        32768] # initialrdensity\n",
    "act = doact(params,nsteps=200,niter=25)\n",
    "plt.bar(range(len(act)),act);"
   ]
  },
  {
   "cell_type": "code",
   "execution_count": null,
   "metadata": {},
   "outputs": [],
   "source": []
  }
 ],
 "metadata": {
  "kernelspec": {
   "display_name": "Python 2",
   "language": "python",
   "name": "python2"
  },
  "language_info": {
   "codemirror_mode": {
    "name": "ipython",
    "version": 2
   },
   "file_extension": ".py",
   "mimetype": "text/x-python",
   "name": "python",
   "nbconvert_exporter": "python",
   "pygments_lexer": "ipython2",
   "version": "2.7.15"
  }
 },
 "nbformat": 4,
 "nbformat_minor": 2
}
