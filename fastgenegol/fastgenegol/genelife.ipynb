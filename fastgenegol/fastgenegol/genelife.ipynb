{
 "cells": [
  {
   "cell_type": "code",
   "execution_count": 1,
   "metadata": {
    "collapsed": false
   },
   "outputs": [
    {
     "name": "stderr",
     "output_type": "stream",
     "text": [
      "/usr/local/lib/python2.7/site-packages/matplotlib/font_manager.py:273: UserWarning: Matplotlib is building the font cache using fc-list. This may take a moment.\n",
      "  warnings.warn('Matplotlib is building the font cache using fc-list. This may take a moment.')\n"
     ]
    }
   ],
   "source": [
    "from genelifeN import *"
   ]
  },
  {
   "cell_type": "code",
   "execution_count": 2,
   "metadata": {
    "collapsed": false
   },
   "outputs": [],
   "source": [
    "offsets = [[0,0,0],\n",
    "       [-1, 0, 0],\n",
    "       [-1, 1, 0],\n",
    "       [0, 1, 0],\n",
    "       [1, 1, 0],\n",
    "       [1, 0, 0],\n",
    "       [1, -1, 0],\n",
    "       [0, -1, 0],\n",
    "       [-1, -1, 0]]\n",
    "numHis = pow(2,len(offsets))\n",
    "histo=np.zeros(numHis,np.uint64)\n",
    "\n",
    "simparams = np.zeros(5,np.int32)    # 5 parameters passed to C\n",
    "nlog2p0   = simparams[0] = 8\n",
    "nlog2pmut = simparams[1] = 8\n",
    "selection = simparams[2] =  1            # values 0,1,2 allowed\n",
    "rule2mod  = simparams[3] =  1            # values 0,1 allowed\n",
    "initial1density = simparams[4] = 16384   # nearest to half of guaranteed C rand max value 32767 = 2**15 - 1\n"
   ]
  },
  {
   "cell_type": "code",
   "execution_count": 3,
   "metadata": {
    "collapsed": false
   },
   "outputs": [
    {
     "data": {
      "text/plain": [
       "7"
      ]
     },
     "execution_count": 3,
     "metadata": {},
     "output_type": "execute_result"
    }
   ],
   "source": [
    "log2N"
   ]
  },
  {
   "cell_type": "code",
   "execution_count": 4,
   "metadata": {
    "collapsed": false
   },
   "outputs": [],
   "source": [
    "flatoff =  [x for sublist in offsets for x in sublist]\n",
    "npoffsets = np.array(flatoff,np.int32)\n",
    "genelife.initialize_planes(npoffsets)"
   ]
  },
  {
   "cell_type": "code",
   "execution_count": 5,
   "metadata": {
    "collapsed": true
   },
   "outputs": [],
   "source": [
    "genelife.initialize(simparams)"
   ]
  },
  {
   "cell_type": "code",
   "execution_count": 6,
   "metadata": {
    "collapsed": true
   },
   "outputs": [],
   "source": [
    "genelife.initialize_genes(simparams)"
   ]
  },
  {
   "cell_type": "code",
   "execution_count": 7,
   "metadata": {
    "collapsed": true
   },
   "outputs": [],
   "source": [
    "nrun=1000; ndisp=100; niter=10\n",
    "fig, ax = plt.subplots()\n",
    "colorgrid(N)\n",
    "def update_anim(data):\n",
    "    global gol, cgrid\n",
    "    global golg\n",
    "    global log2N\n",
    "    global simparams\n",
    "    global cnt\n",
    "    cnt = cnt+1\n",
    "    if cnt % ndisp == 0:  # insert the non-displayed iterations\n",
    "        genelife.genelife_update(gol, golg, log2N, nrun, simparams,0)\n",
    "    genelife.genelife_update(gol, golg, log2N, 1, simparams,0)\n",
    "    colorgrid(N)\n",
    "    mat.set_data(cgrid)\n",
    "    return [mat]\n",
    "mat = ax.matshow(cgrid, cmap=my_cmap, vmin=0.01, vmax=257)  # was vmax = LEN+1\n",
    "ani = animation.FuncAnimation(fig, update_anim, interval=1,\n",
    "                              save_count=0, frames=niter*ndisp, repeat = False)\n",
    "plt.show()\n"
   ]
  },
  {
   "cell_type": "code",
   "execution_count": 12,
   "metadata": {
    "collapsed": false
   },
   "outputs": [],
   "source": [
    "genelife.genelife_update(gol, golg, log2N, 1000, simparams,1)"
   ]
  },
  {
   "cell_type": "code",
   "execution_count": 15,
   "metadata": {
    "collapsed": false
   },
   "outputs": [
    {
     "data": {
      "text/plain": [
       "512"
      ]
     },
     "execution_count": 15,
     "metadata": {},
     "output_type": "execute_result"
    }
   ],
   "source": []
  },
  {
   "cell_type": "code",
   "execution_count": 28,
   "metadata": {
    "collapsed": false
   },
   "outputs": [],
   "source": [
    "histo=np.zeros(pow(2,9),np.uint64)"
   ]
  },
  {
   "cell_type": "code",
   "execution_count": null,
   "metadata": {
    "collapsed": false
   },
   "outputs": [],
   "source": [
    "genelife.get_histo(histo)"
   ]
  },
  {
   "cell_type": "code",
   "execution_count": 27,
   "metadata": {
    "collapsed": false
   },
   "outputs": [
    {
     "data": {
      "text/plain": [
       "[0,\n",
       " 0,\n",
       " 0,\n",
       " 0,\n",
       " 0,\n",
       " 0,\n",
       " 0,\n",
       " 0,\n",
       " 0,\n",
       " 0,\n",
       " 0,\n",
       " 0,\n",
       " 0,\n",
       " 0,\n",
       " 0,\n",
       " 0,\n",
       " 0,\n",
       " 0,\n",
       " 0,\n",
       " 0,\n",
       " 0,\n",
       " 0,\n",
       " 0,\n",
       " 0,\n",
       " 0,\n",
       " 0,\n",
       " 0,\n",
       " 0,\n",
       " 0,\n",
       " 0,\n",
       " 0,\n",
       " 0,\n",
       " 0,\n",
       " 0,\n",
       " 0,\n",
       " 0,\n",
       " 0,\n",
       " 0,\n",
       " 0,\n",
       " 0,\n",
       " 0,\n",
       " 0,\n",
       " 0,\n",
       " 0,\n",
       " 0,\n",
       " 0,\n",
       " 0,\n",
       " 0,\n",
       " 0,\n",
       " 0,\n",
       " 0,\n",
       " 0,\n",
       " 0,\n",
       " 0,\n",
       " 0,\n",
       " 0,\n",
       " 0,\n",
       " 0,\n",
       " 0,\n",
       " 0,\n",
       " 0,\n",
       " 0,\n",
       " 0,\n",
       " 0,\n",
       " 0,\n",
       " 0,\n",
       " 0,\n",
       " 0,\n",
       " 0,\n",
       " 0,\n",
       " 0,\n",
       " 0,\n",
       " 0,\n",
       " 0,\n",
       " 0,\n",
       " 0,\n",
       " 0,\n",
       " 0,\n",
       " 0,\n",
       " 0,\n",
       " 0,\n",
       " 0,\n",
       " 0,\n",
       " 0,\n",
       " 0,\n",
       " 0,\n",
       " 0,\n",
       " 0,\n",
       " 0,\n",
       " 0,\n",
       " 0,\n",
       " 0,\n",
       " 0,\n",
       " 0,\n",
       " 0,\n",
       " 0,\n",
       " 0,\n",
       " 0,\n",
       " 0,\n",
       " 0,\n",
       " 0,\n",
       " 0,\n",
       " 0,\n",
       " 0,\n",
       " 0,\n",
       " 0,\n",
       " 0,\n",
       " 0,\n",
       " 0,\n",
       " 0,\n",
       " 0,\n",
       " 0,\n",
       " 0,\n",
       " 0,\n",
       " 0,\n",
       " 0,\n",
       " 0,\n",
       " 0,\n",
       " 0,\n",
       " 0,\n",
       " 0,\n",
       " 0,\n",
       " 0,\n",
       " 0,\n",
       " 0,\n",
       " 0,\n",
       " 0,\n",
       " 0,\n",
       " 1,\n",
       " 4356314112,\n",
       " 1661,\n",
       " 18446744073709551615,\n",
       " 8935142158919270400,\n",
       " 1544813862387713,\n",
       " 606578782647616380,\n",
       " 9007200783752327680,\n",
       " 2107763813777414,\n",
       " 1976517322919117412,\n",
       " 9007201909031009280,\n",
       " 960973221134342,\n",
       " 318066738648319869,\n",
       " 8214573949481680128,\n",
       " 417814510043321,\n",
       " 1331095755204592003,\n",
       " 7205761035880588288,\n",
       " 6269021114146029572,\n",
       " 388436571684124273,\n",
       " 9439546451056555008,\n",
       " 13146288828024553473,\n",
       " 1798804687902720,\n",
       " 108930822362367604,\n",
       " 417814577747712,\n",
       " 683422181668947818,\n",
       " 7638106600108418048,\n",
       " 8142518559685672967,\n",
       " 2379343723364570,\n",
       " 683702724922966396,\n",
       " 7710215768113773568,\n",
       " 2361754641367048,\n",
       " 681169445485283709,\n",
       " 7205762135392609280,\n",
       " 3206176081969162,\n",
       " 467248514557020028,\n",
       " 7205770935847125760,\n",
       " 3223768285380621,\n",
       " 7212514865041116028,\n",
       " 899875507038126095,\n",
       " 7206080950814800896,\n",
       " 6876345946406928,\n",
       " 1253127916783404924,\n",
       " 8935152028755000576,\n",
       " 3796613858983941,\n",
       " 1325184235383819644,\n",
       " 417814913039360,\n",
       " 464996723752701290,\n",
       " 8935143322856356864,\n",
       " 7950889638168887306,\n",
       " 402425567576071,\n",
       " 7638105500596599896,\n",
       " 149307082073112590,\n",
       " 106960518866045305,\n",
       " 7205776433338221312,\n",
       " 1262239625314324,\n",
       " 8935158651626877452,\n",
       " 3232564211023887,\n",
       " 1115768982847095915,\n",
       " 6021063113473024,\n",
       " 792647261133700119,\n",
       " 6302400910268191,\n",
       " 1187824468089640804,\n",
       " 9439545381610351104,\n",
       " 7205778551144185857,\n",
       " 4358464101154840,\n",
       " 108930912154030698,\n",
       " 425511025329152,\n",
       " 1115766809526538109,\n",
       " 4323473767038352384,\n",
       " 8142790705103925591,\n",
       " 611363651266806290,\n",
       " 8935150989408039424,\n",
       " 31028218561822730,\n",
       " 8358688003687348480,\n",
       " 425511024853007,\n",
       " 1901644987687240067,\n",
       " 72339100930620416,\n",
       " 5475945863540225,\n",
       " 106960578995556733,\n",
       " 8935161988783375104,\n",
       " 2369448369717266,\n",
       " 1260163515629596786,\n",
       " 7638125291809828352,\n",
       " 425511828586517,\n",
       " 1260163515629602930,\n",
       " 7638125291807206912,\n",
       " 425511509819413,\n",
       " 1332221199593414770,\n",
       " 8935166348175109632,\n",
       " 2951089234313234,\n",
       " 8214570651952881764,\n",
       " 6871948067078952,\n",
       " 8358770488549310595,\n",
       " 7445892768202777,\n",
       " 1259885128717435523,\n",
       " 7727380880821248,\n",
       " 180988420695261564,\n",
       " 7205780827090943232,\n",
       " 217142551527489584,\n",
       " 36873343986570108,\n",
       " 8935142133150743808,\n",
       " 9398625570127891,\n",
       " 227556399658331708,\n",
       " 8214577175003493380,\n",
       " 227556030307959588,\n",
       " 8214576148504407640,\n",
       " 8560797709763411,\n",
       " 180988617861112164,\n",
       " 8214574975981478912,\n",
       " 2951089368073043,\n",
       " 8358681381852684900,\n",
       " 417814962372639,\n",
       " 753231738284540291,\n",
       " 4323494554680065024,\n",
       " 2407736952863331961,\n",
       " 9439547550567857152,\n",
       " 1688382568165867522,\n",
       " 2932398089307136,\n",
       " 3486913115315215218,\n",
       " 6341069847297031424,\n",
       " 2551852145234152825,\n",
       " 6595244406963456,\n",
       " 8214577175003821060,\n",
       " 13620754356700098,\n",
       " 8959911851341125245,\n",
       " 2369448369717268,\n",
       " 34902993631706226,\n",
       " 8935165283025381888]"
      ]
     },
     "execution_count": 27,
     "metadata": {},
     "output_type": "execute_result"
    }
   ],
   "source": [
    "[histo[i] for i in [x+128 for x in range(256)]]"
   ]
  },
  {
   "cell_type": "code",
   "execution_count": 2,
   "metadata": {
    "collapsed": false
   },
   "outputs": [],
   "source": [
    "def foo():\n",
    "    global fofo\n",
    "    fofo = range(10)"
   ]
  },
  {
   "cell_type": "code",
   "execution_count": 3,
   "metadata": {
    "collapsed": true
   },
   "outputs": [],
   "source": [
    "foo()"
   ]
  },
  {
   "cell_type": "code",
   "execution_count": 4,
   "metadata": {
    "collapsed": false
   },
   "outputs": [
    {
     "data": {
      "text/plain": [
       "[0, 1, 2, 3, 4, 5, 6, 7, 8, 9]"
      ]
     },
     "execution_count": 4,
     "metadata": {},
     "output_type": "execute_result"
    }
   ],
   "source": [
    "fofo"
   ]
  },
  {
   "cell_type": "code",
   "execution_count": null,
   "metadata": {
    "collapsed": true
   },
   "outputs": [],
   "source": []
  }
 ],
 "metadata": {
  "kernelspec": {
   "display_name": "Python 2",
   "language": "python",
   "name": "python2"
  },
  "language_info": {
   "codemirror_mode": {
    "name": "ipython",
    "version": 2
   },
   "file_extension": ".py",
   "mimetype": "text/x-python",
   "name": "python",
   "nbconvert_exporter": "python",
   "pygments_lexer": "ipython2",
   "version": "2.7.12"
  }
 },
 "nbformat": 4,
 "nbformat_minor": 0
}
